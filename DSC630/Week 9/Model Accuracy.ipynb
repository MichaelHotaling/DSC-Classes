{
 "cells": [
  {
   "cell_type": "markdown",
   "metadata": {},
   "source": [
    "# Calculate Probability of a Model Ensemble\n",
    "\n",
    "Calculate the probability of a model ensemble that uses simple majority voting making an incorrect prediction in the following scenarios. (Hint: Understanding how to use the binomial distribution will be useful in answering this question.)\n",
    "- The ensemble contains 11 independent models, all of which have an error rate of 0.2.\n",
    "- The ensemble contains 11 independent models, all of which have an error rate of 0.49.\n",
    "- The ensemble contains 21 independent models, all of which have an error rate of 0.49.\n",
    "\n",
    "\n",
    "To tackle this problem, we will be utilizing the binomial distribution. The binomial distribution is used when there are two discrete outcomes for an experiment, in this case, a correct classification, or a misclassification. The binomial distribution is used to obtain the probability of observing x successful classification within n trials, with the probability of success on a single trial denoted by p. \n",
    "\n",
    "The formula for the binomial probability mass function is\n",
    "\n",
    "$$\n",
    "F(x;p,n) = \\binom{n}{x} (p)^x (1-p)^{(n-x)}\n",
    "$$\n",
    "\n",
    "where\n",
    "\n",
    "$$\n",
    "\\binom{n}{x} = \\frac{n!}{x!(n-x)!}\n",
    "$$\n",
    "\n",
    "For this particlar problem, we would like to calcualte the cumulative probability to obtain the likeihood of our model failing to classify based on 11 independent models. We are given the error rate for each model and we can establish the likeihood of the majority of the model reporting the wrong classification. We will be utilizing the binomial cumulative probability function for this assignment"
   ]
  },
  {
   "cell_type": "markdown",
   "metadata": {},
   "source": [
    "$$\n",
    "F(x;p,n) = \\sum_{i=0}^{x} \\binom{n}{i} (p)^i (1-p)^{(n-i)}\n",
    "$$\n",
    "\n",
    "\n",
    "We will be calculating the likelihood of a model classifying correctly by inputting the number minimum number of models required to pass into our our CDF, then subtracting the CDF from 1. This will result in the survival statistic for our model which will give us the probability of the model producing the incorrect prediction\n",
    "\n",
    "***"
   ]
  },
  {
   "cell_type": "code",
   "execution_count": 1,
   "metadata": {},
   "outputs": [],
   "source": [
    "# Loading Libraries\n",
    "import numpy as np\n",
    "import matplotlib.pyplot as plt\n",
    "from scipy.stats import binom"
   ]
  },
  {
   "cell_type": "markdown",
   "metadata": {},
   "source": [
    "\n",
    "## The ensemble contains 11 independent models, all of which have an error rate of 0.2."
   ]
  },
  {
   "cell_type": "code",
   "execution_count": 2,
   "metadata": {},
   "outputs": [],
   "source": [
    "# Establishing Parameters\n",
    "NUM_OF_MODELS = 11\n",
    "FAILURE_RATE = 0.2\n",
    "NUMBER_TO_PASS = NUM_OF_MODELS // 2"
   ]
  },
  {
   "cell_type": "code",
   "execution_count": 3,
   "metadata": {},
   "outputs": [
    {
     "name": "stdout",
     "output_type": "stream",
     "text": [
      "For an ensemble with 11 models, we need a minumum \n",
      "of 5 passes to have a successful classification\n"
     ]
    }
   ],
   "source": [
    "print(f\"For an ensemble with {NUM_OF_MODELS} models, we need a minumum \\n\\\n",
    "of {int(NUMBER_TO_PASS)} passes to have a successful classification\")"
   ]
  },
  {
   "cell_type": "code",
   "execution_count": 4,
   "metadata": {},
   "outputs": [
    {
     "name": "stdout",
     "output_type": "stream",
     "text": [
      "For an ensemble with 11 models with an error rate of 20% per model,\n",
      "the probability of getting 6 or more misclassifications is 1.1654%\n"
     ]
    }
   ],
   "source": [
    "prob = 1 - binom.cdf(k= NUMBER_TO_PASS, # \n",
    "              n = NUM_OF_MODELS, \n",
    "              p = FAILURE_RATE)\n",
    "\n",
    "print(f\"For an ensemble with {NUM_OF_MODELS} models with an error rate of {100*FAILURE_RATE:.0f}% per model,\\n\\\n",
    "the probability of getting {int(NUMBER_TO_PASS+1)} or more misclassifications is {prob*100:.4f}%\")"
   ]
  },
  {
   "cell_type": "code",
   "execution_count": 5,
   "metadata": {},
   "outputs": [],
   "source": [
    "sim = np.random.binomial(n = NUM_OF_MODELS, \n",
    "                         p = FAILURE_RATE, \n",
    "                         size = 1000000000)"
   ]
  },
  {
   "cell_type": "code",
   "execution_count": 6,
   "metadata": {},
   "outputs": [
    {
     "name": "stdout",
     "output_type": "stream",
     "text": [
      "Running a simulation with 1,000,000,000 trials, \n",
      "we can see that 1.1658% fail to classify correctly\n"
     ]
    }
   ],
   "source": [
    "print(f\"Running a simulation with 1,000,000,000 trials, \\n\\\n",
    "we can see that {100* np.mean(sim > NUMBER_TO_PASS):.4f}% fail to classify correctly\")"
   ]
  },
  {
   "cell_type": "code",
   "execution_count": 7,
   "metadata": {},
   "outputs": [
    {
     "data": {
      "image/png": "[encoded data removed]",
      "text/plain": [
       "<Figure size 432x288 with 1 Axes>"
      ]
     },
     "metadata": {
      "needs_background": "light"
     },
     "output_type": "display_data"
    }
   ],
   "source": [
    "plt.hist(sim, \n",
    "         density=True, \n",
    "         bins = np.arange(0,NUM_OF_MODELS+1)- 0.5, \n",
    "         edgecolor='black')\n",
    "plt.xticks(np.arange(0,NUM_OF_MODELS+1))\n",
    "plt.title(\"Distribution of Number of False Positives\")\n",
    "plt.show()"
   ]
  },
  {
   "cell_type": "code",
   "execution_count": 8,
   "metadata": {},
   "outputs": [
    {
     "data": {
      "image/png": "[encoded data removed]",
      "text/plain": [
       "<Figure size 432x288 with 1 Axes>"
      ]
     },
     "metadata": {
      "needs_background": "light"
     },
     "output_type": "display_data"
    }
   ],
   "source": [
    "plt.hist(sim, \n",
    "         density=True, \n",
    "         cumulative=True,\n",
    "         bins = np.arange(0,NUM_OF_MODELS+1)- 0.5, \n",
    "         edgecolor='black')\n",
    "plt.xticks(np.arange(0,NUM_OF_MODELS+1))\n",
    "plt.title(\"Cumulative Distribution of Number of False Positives\")\n",
    "plt.show()"
   ]
  },
  {
   "cell_type": "markdown",
   "metadata": {},
   "source": [
    "***"
   ]
  },
  {
   "cell_type": "markdown",
   "metadata": {},
   "source": [
    "\n",
    "## The ensemble contains 11 independent models, all of which have an error rate of 0.49."
   ]
  },
  {
   "cell_type": "code",
   "execution_count": 9,
   "metadata": {},
   "outputs": [],
   "source": [
    "# Establishing Parameters\n",
    "NUM_OF_MODELS = 11\n",
    "FAILURE_RATE = 0.49\n",
    "NUMBER_TO_PASS = NUM_OF_MODELS // 2"
   ]
  },
  {
   "cell_type": "code",
   "execution_count": 10,
   "metadata": {},
   "outputs": [
    {
     "name": "stdout",
     "output_type": "stream",
     "text": [
      "For an ensemble with 11 models, we need a minumum \n",
      "of 5 passes to have a successful classification\n"
     ]
    }
   ],
   "source": [
    "print(f\"For an ensemble with {NUM_OF_MODELS} models, we need a minumum \\n\\\n",
    "of {int(NUMBER_TO_PASS)} passes to have a successful classification\")"
   ]
  },
  {
   "cell_type": "code",
   "execution_count": 11,
   "metadata": {},
   "outputs": [
    {
     "name": "stdout",
     "output_type": "stream",
     "text": [
      "For an ensemble with 11 models with an error rate of 49% per model,\n",
      "the probability of getting 6 or more misclassifications is 47.2948%\n"
     ]
    }
   ],
   "source": [
    "prob = 1 - binom.cdf(k= NUMBER_TO_PASS, # \n",
    "              n = NUM_OF_MODELS, \n",
    "              p = FAILURE_RATE)\n",
    "\n",
    "print(f\"For an ensemble with {NUM_OF_MODELS} models with an error rate of {100*FAILURE_RATE:.0f}% per model,\\n\\\n",
    "the probability of getting {int(NUMBER_TO_PASS+1)} or more misclassifications is {prob*100:.4f}%\")"
   ]
  },
  {
   "cell_type": "code",
   "execution_count": 12,
   "metadata": {},
   "outputs": [],
   "source": [
    "sim = np.random.binomial(n = NUM_OF_MODELS, \n",
    "                         p = FAILURE_RATE, \n",
    "                         size = 1000000000)"
   ]
  },
  {
   "cell_type": "code",
   "execution_count": 13,
   "metadata": {},
   "outputs": [
    {
     "name": "stdout",
     "output_type": "stream",
     "text": [
      "Running a simulation with 1,000,000,000 trials, \n",
      "we can see that 47.2939% fail to classify correctly\n"
     ]
    }
   ],
   "source": [
    "print(f\"Running a simulation with 1,000,000,000 trials, \\n\\\n",
    "we can see that {100* np.mean(sim > NUMBER_TO_PASS):.4f}% fail to classify correctly\")"
   ]
  },
  {
   "cell_type": "code",
   "execution_count": 14,
   "metadata": {},
   "outputs": [
    {
     "data": {
      "image/png": "[encoded data removed]",
      "text/plain": [
       "<Figure size 432x288 with 1 Axes>"
      ]
     },
     "metadata": {
      "needs_background": "light"
     },
     "output_type": "display_data"
    }
   ],
   "source": [
    "plt.hist(sim, \n",
    "         density=True, \n",
    "         bins = np.arange(0,NUM_OF_MODELS+1)- 0.5, \n",
    "         edgecolor='black')\n",
    "plt.xticks(np.arange(0,NUM_OF_MODELS+1))\n",
    "plt.title(\"Distribution of Number of False Positives\")\n",
    "plt.show()"
   ]
  },
  {
   "cell_type": "code",
   "execution_count": 15,
   "metadata": {},
   "outputs": [
    {
     "data": {
      "image/png": "[encoded data removed]",
      "text/plain": [
       "<Figure size 432x288 with 1 Axes>"
      ]
     },
     "metadata": {
      "needs_background": "light"
     },
     "output_type": "display_data"
    }
   ],
   "source": [
    "plt.hist(sim, \n",
    "         density=True, \n",
    "         cumulative=True,\n",
    "         bins = np.arange(0,NUM_OF_MODELS+1)- 0.5, \n",
    "         edgecolor='black')\n",
    "plt.xticks(np.arange(0,NUM_OF_MODELS+1))\n",
    "plt.title(\"Cumulative Distribution of Number of False Positives\")\n",
    "plt.show()"
   ]
  },
  {
   "cell_type": "markdown",
   "metadata": {},
   "source": [
    "***"
   ]
  },
  {
   "cell_type": "markdown",
   "metadata": {},
   "source": [
    "\n",
    "## The ensemble contains 21 independent models, all of which have an error rate of 0.49."
   ]
  },
  {
   "cell_type": "code",
   "execution_count": 16,
   "metadata": {},
   "outputs": [],
   "source": [
    "# Establishing Parameters\n",
    "NUM_OF_MODELS = 21\n",
    "FAILURE_RATE = 0.49\n",
    "NUMBER_TO_PASS = NUM_OF_MODELS // 2"
   ]
  },
  {
   "cell_type": "code",
   "execution_count": 17,
   "metadata": {},
   "outputs": [
    {
     "name": "stdout",
     "output_type": "stream",
     "text": [
      "For an ensemble with 21 models, we need a minumum \n",
      "of 10 passes to have a successful classification\n"
     ]
    }
   ],
   "source": [
    "print(f\"For an ensemble with {NUM_OF_MODELS} models, we need a minumum \\n\\\n",
    "of {int(NUMBER_TO_PASS)} passes to have a successful classification\")"
   ]
  },
  {
   "cell_type": "code",
   "execution_count": 18,
   "metadata": {},
   "outputs": [
    {
     "name": "stdout",
     "output_type": "stream",
     "text": [
      "For an ensemble with 21 models with an error rate of 49% per model,\n",
      "the probability of getting 11 or more misclassifications is 46.3048%\n"
     ]
    }
   ],
   "source": [
    "prob = 1 - binom.cdf(k= NUMBER_TO_PASS, # \n",
    "              n = NUM_OF_MODELS, \n",
    "              p = FAILURE_RATE)\n",
    "\n",
    "print(f\"For an ensemble with {NUM_OF_MODELS} models with an error rate of {100*FAILURE_RATE:.0f}% per model,\\n\\\n",
    "the probability of getting {int(NUMBER_TO_PASS+1)} or more misclassifications is {prob*100:.4f}%\")"
   ]
  },
  {
   "cell_type": "code",
   "execution_count": 19,
   "metadata": {},
   "outputs": [],
   "source": [
    "sim = np.random.binomial(n = NUM_OF_MODELS, \n",
    "                         p = FAILURE_RATE, \n",
    "                         size = 1000000000)"
   ]
  },
  {
   "cell_type": "code",
   "execution_count": 20,
   "metadata": {},
   "outputs": [
    {
     "name": "stdout",
     "output_type": "stream",
     "text": [
      "Running a simulation with 1,000,000,000 trials, \n",
      "we can see that 46.3075% fail to classify correctly\n"
     ]
    }
   ],
   "source": [
    "print(f\"Running a simulation with 1,000,000,000 trials, \\n\\\n",
    "we can see that {100* np.mean(sim > NUMBER_TO_PASS):.4f}% fail to classify correctly\")"
   ]
  },
  {
   "cell_type": "code",
   "execution_count": 21,
   "metadata": {},
   "outputs": [
    {
     "data": {
      "image/png": "[encoded data removed]",
      "text/plain": [
       "<Figure size 432x288 with 1 Axes>"
      ]
     },
     "metadata": {
      "needs_background": "light"
     },
     "output_type": "display_data"
    }
   ],
   "source": [
    "plt.hist(sim, \n",
    "         density=True, \n",
    "         bins = np.arange(0,NUM_OF_MODELS+1)- 0.5, \n",
    "         edgecolor='black')\n",
    "plt.xticks(np.arange(0,NUM_OF_MODELS+1))\n",
    "plt.title(\"Distribution of Number of False Positives\")\n",
    "plt.show()"
   ]
  },
  {
   "cell_type": "code",
   "execution_count": 22,
   "metadata": {},
   "outputs": [
    {
     "data": {
      "image/png": "[encoded data removed]",
      "text/plain": [
       "<Figure size 432x288 with 1 Axes>"
      ]
     },
     "metadata": {
      "needs_background": "light"
     },
     "output_type": "display_data"
    }
   ],
   "source": [
    "plt.hist(sim, \n",
    "         density=True, \n",
    "         cumulative=True,\n",
    "         bins = np.arange(0,NUM_OF_MODELS+1)- 0.5, \n",
    "         edgecolor='black')\n",
    "plt.xticks(np.arange(0,NUM_OF_MODELS+1))\n",
    "plt.title(\"Cumulative Distribution of Number of False Positives\")\n",
    "plt.show()"
   ]
  }
 ],
 "metadata": {
  "kernelspec": {
   "display_name": "Python 3",
   "language": "python",
   "name": "python3"
  },
  "language_info": {
   "codemirror_mode": {
    "name": "ipython",
    "version": 3
   },
   "file_extension": ".py",
   "mimetype": "text/x-python",
   "name": "python",
   "nbconvert_exporter": "python",
   "pygments_lexer": "ipython3",
   "version": "3.8.5"
  }
 },
 "nbformat": 4,
 "nbformat_minor": 5
}
