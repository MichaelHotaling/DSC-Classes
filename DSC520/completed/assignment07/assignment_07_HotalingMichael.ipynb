{
 "cells": [
  {
   "cell_type": "markdown",
   "metadata": {},
   "source": [
    "### Assignment: ASSIGNMENT 7 <br> Name: Hotaling, Michaek <br> Date: 2020-10-06\n",
    "\n",
    "**Set the working directory to the root of your DSC 520 directory**\n",
    "\n",
    "\n"
   ]
  },
  {
   "cell_type": "code",
   "execution_count": 1,
   "metadata": {},
   "outputs": [],
   "source": [
    "setwd(\"..\")\n",
    "setwd(\"..\")"
   ]
  },
  {
   "cell_type": "markdown",
   "metadata": {},
   "source": [
    "**Load the `data/r4ds/heights.csv` to heights_df**"
   ]
  },
  {
   "cell_type": "code",
   "execution_count": 2,
   "metadata": {},
   "outputs": [],
   "source": [
    "heights_df <- read.csv(\"data/r4ds/heights.csv\")"
   ]
  },
  {
   "cell_type": "markdown",
   "metadata": {},
   "source": [
    "**Fit a linear model**"
   ]
  },
  {
   "cell_type": "code",
   "execution_count": 3,
   "metadata": {},
   "outputs": [],
   "source": [
    "earn_lm <-  lm(earn ~ ., data=heights_df)"
   ]
  },
  {
   "cell_type": "markdown",
   "metadata": {},
   "source": [
    "**View the summary of your model**"
   ]
  },
  {
   "cell_type": "code",
   "execution_count": 4,
   "metadata": {},
   "outputs": [
    {
     "data": {
      "text/plain": [
       "\n",
       "Call:\n",
       "lm(formula = earn ~ ., data = heights_df)\n",
       "\n",
       "Residuals:\n",
       "   Min     1Q Median     3Q    Max \n",
       "-39423  -9827  -2208   6157 158723 \n",
       "\n",
       "Coefficients:\n",
       "             Estimate Std. Error t value Pr(>|t|)    \n",
       "(Intercept)  -41478.4    12409.4  -3.342 0.000856 ***\n",
       "height          202.5      185.6   1.091 0.275420    \n",
       "sexmale       10325.6     1424.5   7.249 7.57e-13 ***\n",
       "ed             2768.4      209.9  13.190  < 2e-16 ***\n",
       "age             178.3       32.2   5.537 3.78e-08 ***\n",
       "racehispanic  -1414.3     2685.2  -0.527 0.598507    \n",
       "raceother       371.0     3837.0   0.097 0.922983    \n",
       "racewhite      2432.5     1723.9   1.411 0.158489    \n",
       "---\n",
       "Signif. codes:  0 '***' 0.001 '**' 0.01 '*' 0.05 '.' 0.1 ' ' 1\n",
       "\n",
       "Residual standard error: 17250 on 1184 degrees of freedom\n",
       "Multiple R-squared:  0.2199,\tAdjusted R-squared:  0.2153 \n",
       "F-statistic: 47.68 on 7 and 1184 DF,  p-value: < 2.2e-16\n"
      ]
     },
     "metadata": {},
     "output_type": "display_data"
    }
   ],
   "source": [
    "summary(earn_lm)"
   ]
  },
  {
   "cell_type": "code",
   "execution_count": 5,
   "metadata": {},
   "outputs": [
    {
     "data": {
      "text/html": [
       "<style>\n",
       ".dl-inline {width: auto; margin:0; padding: 0}\n",
       ".dl-inline>dt, .dl-inline>dd {float: none; width: auto; display: inline-block}\n",
       ".dl-inline>dt::after {content: \":\\0020\"; padding-right: .5ex}\n",
       ".dl-inline>dt:not(:first-of-type) {padding-left: .5ex}\n",
       "</style><dl class=dl-inline><dt>(Intercept)</dt><dd>-41478.4541949872</dd><dt>height</dt><dd>202.474960293216</dd><dt>sexmale</dt><dd>10325.5892844299</dd><dt>ed</dt><dd>2768.36001493043</dd><dt>age</dt><dd>178.303303289104</dd><dt>racehispanic</dt><dd>-1414.25599498203</dd><dt>raceother</dt><dd>371.024986070805</dd><dt>racewhite</dt><dd>2432.47979595706</dd></dl>\n"
      ],
      "text/latex": [
       "\\begin{description*}\n",
       "\\item[(Intercept)] -41478.4541949872\n",
       "\\item[height] 202.474960293216\n",
       "\\item[sexmale] 10325.5892844299\n",
       "\\item[ed] 2768.36001493043\n",
       "\\item[age] 178.303303289104\n",
       "\\item[racehispanic] -1414.25599498203\n",
       "\\item[raceother] 371.024986070805\n",
       "\\item[racewhite] 2432.47979595706\n",
       "\\end{description*}\n"
      ],
      "text/markdown": [
       "(Intercept)\n",
       ":   -41478.4541949872height\n",
       ":   202.474960293216sexmale\n",
       ":   10325.5892844299ed\n",
       ":   2768.36001493043age\n",
       ":   178.303303289104racehispanic\n",
       ":   -1414.25599498203raceother\n",
       ":   371.024986070805racewhite\n",
       ":   2432.47979595706\n",
       "\n"
      ],
      "text/plain": [
       " (Intercept)       height      sexmale           ed          age racehispanic \n",
       " -41478.4542     202.4750   10325.5893    2768.3600     178.3033   -1414.2560 \n",
       "   raceother    racewhite \n",
       "    371.0250    2432.4798 "
      ]
     },
     "metadata": {},
     "output_type": "display_data"
    },
    {
     "data": {
      "text/html": [
       "<style>\n",
       ".list-inline {list-style: none; margin:0; padding: 0}\n",
       ".list-inline>li {display: inline-block}\n",
       ".list-inline>li:not(:last-child)::after {content: \"\\00b7\"; padding: 0 .5ex}\n",
       "</style>\n",
       "<ol class=list-inline><li>-41478.4541949872</li><li>202.474960293216</li><li>10325.5892844299</li><li>2768.36001493043</li><li>178.303303289104</li><li>-1414.25599498203</li><li>371.024986070805</li><li>2432.47979595706</li></ol>\n"
      ],
      "text/latex": [
       "\\begin{enumerate*}\n",
       "\\item -41478.4541949872\n",
       "\\item 202.474960293216\n",
       "\\item 10325.5892844299\n",
       "\\item 2768.36001493043\n",
       "\\item 178.303303289104\n",
       "\\item -1414.25599498203\n",
       "\\item 371.024986070805\n",
       "\\item 2432.47979595706\n",
       "\\end{enumerate*}\n"
      ],
      "text/markdown": [
       "1. -41478.4541949872\n",
       "2. 202.474960293216\n",
       "3. 10325.5892844299\n",
       "4. 2768.36001493043\n",
       "5. 178.303303289104\n",
       "6. -1414.25599498203\n",
       "7. 371.024986070805\n",
       "8. 2432.47979595706\n",
       "\n",
       "\n"
      ],
      "text/plain": [
       "[1] -41478.4542    202.4750  10325.5893   2768.3600    178.3033  -1414.2560\n",
       "[7]    371.0250   2432.4798"
      ]
     },
     "metadata": {},
     "output_type": "display_data"
    }
   ],
   "source": [
    "coef_vector <- coefficients(earn_lm)\n",
    "coef_vector\n",
    "as.vector(coef_vector)"
   ]
  },
  {
   "cell_type": "code",
   "execution_count": 6,
   "metadata": {},
   "outputs": [],
   "source": [
    "predicted_df <- data.frame(\n",
    "  earn = predict(earn_lm),\n",
    "    ed=heights_df$ed,\n",
    "    race=heights_df$race, \n",
    "    height=heights_df$height,\n",
    "    age=heights_df$age, \n",
    "    sex=heights_df$sex)"
   ]
  },
  {
   "cell_type": "markdown",
   "metadata": {},
   "source": [
    "**Compute deviation (i.e. residuals)**"
   ]
  },
  {
   "cell_type": "code",
   "execution_count": 7,
   "metadata": {},
   "outputs": [
    {
     "data": {
      "text/html": [
       "23154.7734899329"
      ],
      "text/latex": [
       "23154.7734899329"
      ],
      "text/markdown": [
       "23154.7734899329"
      ],
      "text/plain": [
       "[1] 23154.77"
      ]
     },
     "metadata": {},
     "output_type": "display_data"
    }
   ],
   "source": [
    "mean_earn <- mean(heights_df$earn)\n",
    "mean_earn"
   ]
  },
  {
   "cell_type": "markdown",
   "metadata": {},
   "source": [
    "**Corrected Sum of Squares Total**\n"
   ]
  },
  {
   "cell_type": "code",
   "execution_count": 8,
   "metadata": {},
   "outputs": [
    {
     "data": {
      "text/html": [
       "451591883936.842"
      ],
      "text/latex": [
       "451591883936.842"
      ],
      "text/markdown": [
       "451591883936.842"
      ],
      "text/plain": [
       "[1] 451591883937"
      ]
     },
     "metadata": {},
     "output_type": "display_data"
    }
   ],
   "source": [
    "sst <-sum((mean_earn - heights_df$earn)^2)\n",
    "sst"
   ]
  },
  {
   "cell_type": "markdown",
   "metadata": {},
   "source": [
    "**Corrected Sum of Squares for Model**\n"
   ]
  },
  {
   "cell_type": "code",
   "execution_count": 9,
   "metadata": {},
   "outputs": [
    {
     "data": {
      "text/html": [
       "99302918656.5347"
      ],
      "text/latex": [
       "99302918656.5347"
      ],
      "text/markdown": [
       "99302918656.5347"
      ],
      "text/plain": [
       "[1] 99302918657"
      ]
     },
     "metadata": {},
     "output_type": "display_data"
    }
   ],
   "source": [
    "ssm <- sum((mean_earn - predicted_df$earn)^2)\n",
    "ssm"
   ]
  },
  {
   "cell_type": "markdown",
   "metadata": {},
   "source": [
    "**Residuals**\n"
   ]
  },
  {
   "cell_type": "code",
   "execution_count": 10,
   "metadata": {},
   "outputs": [
    {
     "data": {
      "text/html": [
       "<style>\n",
       ".list-inline {list-style: none; margin:0; padding: 0}\n",
       ".list-inline>li {display: inline-block}\n",
       ".list-inline>li:not(:last-child)::after {content: \"\\00b7\"; padding: 0 .5ex}\n",
       "</style>\n",
       "<ol class=list-inline><li>11333.8909405132</li><li>31140.9111880541</li><li>6698.09907938298</li><li>17810.1648513534</li><li>23192.6099733905</li><li>-11154.5994433177</li></ol>\n"
      ],
      "text/latex": [
       "\\begin{enumerate*}\n",
       "\\item 11333.8909405132\n",
       "\\item 31140.9111880541\n",
       "\\item 6698.09907938298\n",
       "\\item 17810.1648513534\n",
       "\\item 23192.6099733905\n",
       "\\item -11154.5994433177\n",
       "\\end{enumerate*}\n"
      ],
      "text/markdown": [
       "1. 11333.8909405132\n",
       "2. 31140.9111880541\n",
       "3. 6698.09907938298\n",
       "4. 17810.1648513534\n",
       "5. 23192.6099733905\n",
       "6. -11154.5994433177\n",
       "\n",
       "\n"
      ],
      "text/plain": [
       "[1]  11333.891  31140.911   6698.099  17810.165  23192.610 -11154.599"
      ]
     },
     "metadata": {},
     "output_type": "display_data"
    }
   ],
   "source": [
    "residuals <- heights_df$earn - predicted_df$earn\n",
    "head(residuals)"
   ]
  },
  {
   "cell_type": "markdown",
   "metadata": {},
   "source": [
    "**Sum of Squares for Error**\n"
   ]
  },
  {
   "cell_type": "code",
   "execution_count": 11,
   "metadata": {},
   "outputs": [
    {
     "data": {
      "text/html": [
       "352288965280.308"
      ],
      "text/latex": [
       "352288965280.308"
      ],
      "text/markdown": [
       "352288965280.308"
      ],
      "text/plain": [
       "[1] 3.52289e+11"
      ]
     },
     "metadata": {},
     "output_type": "display_data"
    }
   ],
   "source": [
    "sse <- sum(residuals^2)\n",
    "sse"
   ]
  },
  {
   "cell_type": "markdown",
   "metadata": {},
   "source": [
    "**R Squared**\n"
   ]
  },
  {
   "cell_type": "code",
   "execution_count": 12,
   "metadata": {},
   "outputs": [
    {
     "data": {
      "text/html": [
       "0.219895268690043"
      ],
      "text/latex": [
       "0.219895268690043"
      ],
      "text/markdown": [
       "0.219895268690043"
      ],
      "text/plain": [
       "[1] 0.2198953"
      ]
     },
     "metadata": {},
     "output_type": "display_data"
    }
   ],
   "source": [
    "r_squared <- ssm/sst\n",
    "r_squared"
   ]
  },
  {
   "cell_type": "markdown",
   "metadata": {},
   "source": [
    "**Number of observations**\n"
   ]
  },
  {
   "cell_type": "code",
   "execution_count": 13,
   "metadata": {},
   "outputs": [
    {
     "data": {
      "text/html": [
       "1192"
      ],
      "text/latex": [
       "1192"
      ],
      "text/markdown": [
       "1192"
      ],
      "text/plain": [
       "[1] 1192"
      ]
     },
     "metadata": {},
     "output_type": "display_data"
    }
   ],
   "source": [
    "n <- nrow(heights_df)\n",
    "n"
   ]
  },
  {
   "cell_type": "markdown",
   "metadata": {},
   "source": [
    "**Number of regression paramaters**\n"
   ]
  },
  {
   "cell_type": "code",
   "execution_count": 14,
   "metadata": {},
   "outputs": [
    {
     "data": {
      "text/html": [
       "8"
      ],
      "text/latex": [
       "8"
      ],
      "text/markdown": [
       "8"
      ],
      "text/plain": [
       "[1] 8"
      ]
     },
     "metadata": {},
     "output_type": "display_data"
    }
   ],
   "source": [
    "p <- 8\n",
    "p"
   ]
  },
  {
   "cell_type": "markdown",
   "metadata": {},
   "source": [
    "**Corrected Degrees of Freedom for Model**"
   ]
  },
  {
   "cell_type": "code",
   "execution_count": 15,
   "metadata": {},
   "outputs": [
    {
     "data": {
      "text/html": [
       "7"
      ],
      "text/latex": [
       "7"
      ],
      "text/markdown": [
       "7"
      ],
      "text/plain": [
       "[1] 7"
      ]
     },
     "metadata": {},
     "output_type": "display_data"
    }
   ],
   "source": [
    "dfm <- p - 1\n",
    "dfm"
   ]
  },
  {
   "cell_type": "markdown",
   "metadata": {},
   "source": [
    "**Degrees of Freedom for Error**"
   ]
  },
  {
   "cell_type": "code",
   "execution_count": 16,
   "metadata": {},
   "outputs": [
    {
     "data": {
      "text/html": [
       "1184"
      ],
      "text/latex": [
       "1184"
      ],
      "text/markdown": [
       "1184"
      ],
      "text/plain": [
       "[1] 1184"
      ]
     },
     "metadata": {},
     "output_type": "display_data"
    }
   ],
   "source": [
    "dfe <- n - p\n",
    "dfe"
   ]
  },
  {
   "cell_type": "markdown",
   "metadata": {},
   "source": [
    "**Mean of Squares for Model:   MSM = SSM / DFM**\n"
   ]
  },
  {
   "cell_type": "code",
   "execution_count": 17,
   "metadata": {},
   "outputs": [
    {
     "data": {
      "text/html": [
       "14186131236.6478"
      ],
      "text/latex": [
       "14186131236.6478"
      ],
      "text/markdown": [
       "14186131236.6478"
      ],
      "text/plain": [
       "[1] 14186131237"
      ]
     },
     "metadata": {},
     "output_type": "display_data"
    }
   ],
   "source": [
    "msm <- ssm / dfm\n",
    "msm"
   ]
  },
  {
   "cell_type": "markdown",
   "metadata": {},
   "source": [
    "**Corrected Degrees of Freedom Total:   DFT = n - 1**\n"
   ]
  },
  {
   "cell_type": "code",
   "execution_count": 18,
   "metadata": {},
   "outputs": [
    {
     "data": {
      "text/html": [
       "1191"
      ],
      "text/latex": [
       "1191"
      ],
      "text/markdown": [
       "1191"
      ],
      "text/plain": [
       "[1] 1191"
      ]
     },
     "metadata": {},
     "output_type": "display_data"
    }
   ],
   "source": [
    "dft <- n - 1\n",
    "dft"
   ]
  },
  {
   "cell_type": "markdown",
   "metadata": {},
   "source": [
    "**Mean of Squares for Error:   MSE = SSE / DFE**\n"
   ]
  },
  {
   "cell_type": "code",
   "execution_count": 19,
   "metadata": {},
   "outputs": [
    {
     "data": {
      "text/html": [
       "297541355.811071"
      ],
      "text/latex": [
       "297541355.811071"
      ],
      "text/markdown": [
       "297541355.811071"
      ],
      "text/plain": [
       "[1] 297541356"
      ]
     },
     "metadata": {},
     "output_type": "display_data"
    }
   ],
   "source": [
    "mse <- sse / dfe\n",
    "mse"
   ]
  },
  {
   "cell_type": "markdown",
   "metadata": {},
   "source": [
    "**Mean of Squares Total:   MST = SST / DFT**"
   ]
  },
  {
   "cell_type": "code",
   "execution_count": 20,
   "metadata": {},
   "outputs": [
    {
     "data": {
      "text/html": [
       "379170347.554024"
      ],
      "text/latex": [
       "379170347.554024"
      ],
      "text/markdown": [
       "379170347.554024"
      ],
      "text/plain": [
       "[1] 379170348"
      ]
     },
     "metadata": {},
     "output_type": "display_data"
    }
   ],
   "source": [
    "mst <- sst / dft\n",
    "mst"
   ]
  },
  {
   "cell_type": "markdown",
   "metadata": {},
   "source": [
    "**F Statistic**"
   ]
  },
  {
   "cell_type": "code",
   "execution_count": 21,
   "metadata": {},
   "outputs": [
    {
     "data": {
      "text/html": [
       "47.6778469936649"
      ],
      "text/latex": [
       "47.6778469936649"
      ],
      "text/markdown": [
       "47.6778469936649"
      ],
      "text/plain": [
       "[1] 47.67785"
      ]
     },
     "metadata": {},
     "output_type": "display_data"
    }
   ],
   "source": [
    "f_score <- msm/mse\n",
    "f_score"
   ]
  },
  {
   "cell_type": "markdown",
   "metadata": {},
   "source": [
    "**Adjusted R Squared R2 = 1 - (1 - R2)(n - 1) / (n - p)**\n"
   ]
  },
  {
   "cell_type": "code",
   "execution_count": 22,
   "metadata": {},
   "outputs": [
    {
     "data": {
      "text/html": [
       "0.215283163015069"
      ],
      "text/latex": [
       "0.215283163015069"
      ],
      "text/markdown": [
       "0.215283163015069"
      ],
      "text/plain": [
       "[1] 0.2152832"
      ]
     },
     "metadata": {},
     "output_type": "display_data"
    }
   ],
   "source": [
    "adjusted_r_squared <- 1 -(1 - r_squared)*(n - 1) / (n - p)\n",
    "adjusted_r_squared"
   ]
  }
 ],
 "metadata": {
  "kernelspec": {
   "display_name": "R",
   "language": "R",
   "name": "ir"
  },
  "language_info": {
   "codemirror_mode": "r",
   "file_extension": ".r",
   "mimetype": "text/x-r-source",
   "name": "R",
   "pygments_lexer": "r",
   "version": "3.6.1"
  }
 },
 "nbformat": 4,
 "nbformat_minor": 4
}
