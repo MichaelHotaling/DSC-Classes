{
 "cells": [
  {
   "cell_type": "markdown",
   "metadata": {},
   "source": [
    "Assignment 3\n",
    "<br> Hotaling, Michael\n",
    "<br> 2020-09-13\n",
    "<br> \n",
    "### Exersize 3: Test Scores\n",
    "Importing the data. If you've forked or cloned this repo, you should be able to run the code with no issues"
   ]
  },
  {
   "cell_type": "code",
   "execution_count": 1,
   "metadata": {},
   "outputs": [],
   "source": [
    "setwd(\"..\")\n",
    "setwd(\"..\")\n",
    "test_scores <- read.csv(\"data/scores.csv\")"
   ]
  },
  {
   "cell_type": "markdown",
   "metadata": {},
   "source": [
    "#### 1. What are the observational units in this study?\n",
    "<br> The observational units in this study would be the two different sections that the teacher taught; \n",
    "<br> One unit with a sports focused applications (Sports) and \n",
    "<br> One unit with a variety of applications (Regular)"
   ]
  },
  {
   "cell_type": "markdown",
   "metadata": {},
   "source": [
    "\n",
    "#### 2. Identify the variables mentioned in the narrative paragraph and determine which are categorical and quantitative?\n",
    "The dataframe contains three variables.\n",
    "<br> The first observation is `Count` which is a **quantitative** variable. After discussing it with a classmate, we established that count is the number of students that achieved the score in the `Score` column. \n",
    "<br> The second obseravation is `Score`, another **quantiative** variable which is the test scores from each group\n",
    "<br> The third observation is `Section`, a **categorical** variable which tells us which scores are associated with which class\n",
    "<br>\n",
    "<br> We can see the variables below using `str()` and `summary()`\n",
    "<br> We can also inspect the data structure by using `head()` and `tail()`"
   ]
  },
  {
   "cell_type": "code",
   "execution_count": 2,
   "metadata": {},
   "outputs": [
    {
     "name": "stdout",
     "output_type": "stream",
     "text": [
      "'data.frame':\t38 obs. of  3 variables:\n",
      " $ Count  : int  10 10 20 10 10 10 10 30 10 10 ...\n",
      " $ Score  : int  200 205 235 240 250 265 275 285 295 300 ...\n",
      " $ Section: Factor w/ 2 levels \"Regular\",\"Sports\": 2 2 2 2 2 1 1 2 1 1 ...\n"
     ]
    },
    {
     "data": {
      "text/plain": [
       "     Count           Score          Section  \n",
       " Min.   :10.00   Min.   :200.0   Regular:19  \n",
       " 1st Qu.:10.00   1st Qu.:300.0   Sports :19  \n",
       " Median :10.00   Median :322.5               \n",
       " Mean   :14.47   Mean   :317.5               \n",
       " 3rd Qu.:20.00   3rd Qu.:357.5               \n",
       " Max.   :30.00   Max.   :395.0               "
      ]
     },
     "metadata": {},
     "output_type": "display_data"
    },
    {
     "data": {
      "text/html": [
       "<table>\n",
       "<caption>A data.frame: 6 × 3</caption>\n",
       "<thead>\n",
       "\t<tr><th></th><th scope=col>Count</th><th scope=col>Score</th><th scope=col>Section</th></tr>\n",
       "\t<tr><th></th><th scope=col>&lt;int&gt;</th><th scope=col>&lt;int&gt;</th><th scope=col>&lt;fct&gt;</th></tr>\n",
       "</thead>\n",
       "<tbody>\n",
       "\t<tr><th scope=row>1</th><td>10</td><td>200</td><td>Sports </td></tr>\n",
       "\t<tr><th scope=row>2</th><td>10</td><td>205</td><td>Sports </td></tr>\n",
       "\t<tr><th scope=row>3</th><td>20</td><td>235</td><td>Sports </td></tr>\n",
       "\t<tr><th scope=row>4</th><td>10</td><td>240</td><td>Sports </td></tr>\n",
       "\t<tr><th scope=row>5</th><td>10</td><td>250</td><td>Sports </td></tr>\n",
       "\t<tr><th scope=row>6</th><td>10</td><td>265</td><td>Regular</td></tr>\n",
       "</tbody>\n",
       "</table>\n"
      ],
      "text/latex": [
       "A data.frame: 6 × 3\n",
       "\\begin{tabular}{r|lll}\n",
       "  & Count & Score & Section\\\\\n",
       "  & <int> & <int> & <fct>\\\\\n",
       "\\hline\n",
       "\t1 & 10 & 200 & Sports \\\\\n",
       "\t2 & 10 & 205 & Sports \\\\\n",
       "\t3 & 20 & 235 & Sports \\\\\n",
       "\t4 & 10 & 240 & Sports \\\\\n",
       "\t5 & 10 & 250 & Sports \\\\\n",
       "\t6 & 10 & 265 & Regular\\\\\n",
       "\\end{tabular}\n"
      ],
      "text/markdown": [
       "\n",
       "A data.frame: 6 × 3\n",
       "\n",
       "| <!--/--> | Count &lt;int&gt; | Score &lt;int&gt; | Section &lt;fct&gt; |\n",
       "|---|---|---|---|\n",
       "| 1 | 10 | 200 | Sports  |\n",
       "| 2 | 10 | 205 | Sports  |\n",
       "| 3 | 20 | 235 | Sports  |\n",
       "| 4 | 10 | 240 | Sports  |\n",
       "| 5 | 10 | 250 | Sports  |\n",
       "| 6 | 10 | 265 | Regular |\n",
       "\n"
      ],
      "text/plain": [
       "  Count Score Section\n",
       "1 10    200   Sports \n",
       "2 10    205   Sports \n",
       "3 20    235   Sports \n",
       "4 10    240   Sports \n",
       "5 10    250   Sports \n",
       "6 10    265   Regular"
      ]
     },
     "metadata": {},
     "output_type": "display_data"
    },
    {
     "data": {
      "text/html": [
       "<table>\n",
       "<caption>A data.frame: 6 × 3</caption>\n",
       "<thead>\n",
       "\t<tr><th></th><th scope=col>Count</th><th scope=col>Score</th><th scope=col>Section</th></tr>\n",
       "\t<tr><th></th><th scope=col>&lt;int&gt;</th><th scope=col>&lt;int&gt;</th><th scope=col>&lt;fct&gt;</th></tr>\n",
       "</thead>\n",
       "<tbody>\n",
       "\t<tr><th scope=row>33</th><td>10</td><td>370</td><td>Sports </td></tr>\n",
       "\t<tr><th scope=row>34</th><td>10</td><td>370</td><td>Regular</td></tr>\n",
       "\t<tr><th scope=row>35</th><td>20</td><td>375</td><td>Regular</td></tr>\n",
       "\t<tr><th scope=row>36</th><td>10</td><td>375</td><td>Sports </td></tr>\n",
       "\t<tr><th scope=row>37</th><td>20</td><td>380</td><td>Regular</td></tr>\n",
       "\t<tr><th scope=row>38</th><td>10</td><td>395</td><td>Sports </td></tr>\n",
       "</tbody>\n",
       "</table>\n"
      ],
      "text/latex": [
       "A data.frame: 6 × 3\n",
       "\\begin{tabular}{r|lll}\n",
       "  & Count & Score & Section\\\\\n",
       "  & <int> & <int> & <fct>\\\\\n",
       "\\hline\n",
       "\t33 & 10 & 370 & Sports \\\\\n",
       "\t34 & 10 & 370 & Regular\\\\\n",
       "\t35 & 20 & 375 & Regular\\\\\n",
       "\t36 & 10 & 375 & Sports \\\\\n",
       "\t37 & 20 & 380 & Regular\\\\\n",
       "\t38 & 10 & 395 & Sports \\\\\n",
       "\\end{tabular}\n"
      ],
      "text/markdown": [
       "\n",
       "A data.frame: 6 × 3\n",
       "\n",
       "| <!--/--> | Count &lt;int&gt; | Score &lt;int&gt; | Section &lt;fct&gt; |\n",
       "|---|---|---|---|\n",
       "| 33 | 10 | 370 | Sports  |\n",
       "| 34 | 10 | 370 | Regular |\n",
       "| 35 | 20 | 375 | Regular |\n",
       "| 36 | 10 | 375 | Sports  |\n",
       "| 37 | 20 | 380 | Regular |\n",
       "| 38 | 10 | 395 | Sports  |\n",
       "\n"
      ],
      "text/plain": [
       "   Count Score Section\n",
       "33 10    370   Sports \n",
       "34 10    370   Regular\n",
       "35 20    375   Regular\n",
       "36 10    375   Sports \n",
       "37 20    380   Regular\n",
       "38 10    395   Sports "
      ]
     },
     "metadata": {},
     "output_type": "display_data"
    }
   ],
   "source": [
    "str(test_scores)\n",
    "summary(test_scores)\n",
    "head(test_scores)\n",
    "tail(test_scores)"
   ]
  },
  {
   "cell_type": "markdown",
   "metadata": {},
   "source": [
    "To allow for more easier data manipulation, I'll ungroup the data based on the `Count` column. This will create a unique row for each student"
   ]
  },
  {
   "cell_type": "code",
   "execution_count": 3,
   "metadata": {
    "scrolled": false
   },
   "outputs": [
    {
     "data": {
      "text/plain": [
       "     Score          Section   \n",
       " Min.   :200.0   Regular:290  \n",
       " 1st Qu.:300.0   Sport  :260  \n",
       " Median :330.0                \n",
       " Mean   :321.7                \n",
       " 3rd Qu.:360.0                \n",
       " Max.   :395.0                "
      ]
     },
     "metadata": {},
     "output_type": "display_data"
    },
    {
     "name": "stdout",
     "output_type": "stream",
     "text": [
      "'data.frame':\t550 obs. of  2 variables:\n",
      " $ Score  : int  200 200 200 200 200 200 200 200 200 200 ...\n",
      " $ Section: Factor w/ 2 levels \"Regular\",\"Sport\": 2 2 2 2 2 2 2 2 2 2 ...\n"
     ]
    }
   ],
   "source": [
    "v <- do.call(\"c\", (mapply(rep, c(test_scores$Score, test_scores$Section), test_scores$Count)))\n",
    "\n",
    "df <- t(matrix(v, 2, byrow=T))\n",
    "\n",
    "colnames(df) <- c(\"Score\",\"Section\")\n",
    "df <- as.data.frame(df)\n",
    "\n",
    "section_changer <- function(section){\n",
    "  if (section == \"1\"){\n",
    "    return(\"Regular\")\n",
    "  }\n",
    "  else{\n",
    "    return(\"Sport\")\n",
    "  }\n",
    "}\n",
    "\n",
    "\n",
    "df$Section <- apply(df[,2, drop=F], 1, section_changer)\n",
    "df$Section <- as.factor(df$Section)\n",
    "\n",
    "summary(df)\n",
    "str(df)"
   ]
  },
  {
   "cell_type": "markdown",
   "metadata": {},
   "source": [
    "#### 3. Create one variable to hold a subset of your data set that contains only the Regular Section and one variable for the Sports Section."
   ]
  },
  {
   "cell_type": "code",
   "execution_count": 4,
   "metadata": {},
   "outputs": [
    {
     "data": {
      "text/plain": [
       "     Score        Section   \n",
       " Min.   :265   Regular:290  \n",
       " 1st Qu.:320   Sport  :  0  \n",
       " Median :335                \n",
       " Mean   :335                \n",
       " 3rd Qu.:360                \n",
       " Max.   :380                "
      ]
     },
     "metadata": {},
     "output_type": "display_data"
    },
    {
     "data": {
      "text/plain": [
       "     Score          Section   \n",
       " Min.   :200.0   Regular:  0  \n",
       " 1st Qu.:285.0   Sport  :260  \n",
       " Median :312.5                \n",
       " Mean   :306.9                \n",
       " 3rd Qu.:340.0                \n",
       " Max.   :395.0                "
      ]
     },
     "metadata": {},
     "output_type": "display_data"
    }
   ],
   "source": [
    "regular_students <- subset(df, Section == \"Regular\")\n",
    "sports_students <- subset(df, !Section == \"Regular\")\n",
    "\n",
    "\n",
    "summary(regular_students)\n",
    "summary(sports_students)"
   ]
  },
  {
   "cell_type": "markdown",
   "metadata": {},
   "source": [
    "#### 4. Use the Plot function to plot each Sections scores and the number of students achieving that score. <br>Use additional Plot Arguments to label the graph and give each axis an appropriate label. <br>Once you have produced your Plots answer the following questions:"
   ]
  },
  {
   "cell_type": "code",
   "execution_count": 5,
   "metadata": {
    "scrolled": false
   },
   "outputs": [
    {
     "name": "stderr",
     "output_type": "stream",
     "text": [
      "Warning message:\n",
      "\"package 'ggplot2' was built under R version 3.6.3\"Warning message:\n",
      "\"package 'dplyr' was built under R version 3.6.3\"\n",
      "Attaching package: 'dplyr'\n",
      "\n",
      "The following objects are masked from 'package:stats':\n",
      "\n",
      "    filter, lag\n",
      "\n",
      "The following objects are masked from 'package:base':\n",
      "\n",
      "    intersect, setdiff, setequal, union\n",
      "\n",
      "Warning message:\n",
      "\"Removed 4 rows containing missing values (geom_bar).\""
     ]
    },
    {
     "data": {
      "image/png": "[encoded data removed]",
      "text/plain": [
       "plot without title"
      ]
     },
     "metadata": {},
     "output_type": "display_data"
    },
    {
     "data": {
      "image/png": "[encoded data removed]",
      "text/plain": [
       "plot without title"
      ]
     },
     "metadata": {},
     "output_type": "display_data"
    },
    {
     "data": {
      "image/png": "[encoded data removed]",
      "text/plain": [
       "plot without title"
      ]
     },
     "metadata": {},
     "output_type": "display_data"
    },
    {
     "data": {
      "image/png": "[encoded data removed]",
      "text/plain": [
       "plot without title"
      ]
     },
     "metadata": {},
     "output_type": "display_data"
    }
   ],
   "source": [
    "library(ggplot2)\n",
    "library(dplyr)\n",
    "set.seed(520) # Setting seed for reproducibility\n",
    "\n",
    "theme_set(theme_classic())\n",
    "\n",
    "average_test_score <- df %>% summarize(avg = mean(Score)) %>% pull(avg)\n",
    "sports_test_score <- sports_students %>% summarize(avg = mean(Score)) %>% pull(avg)\n",
    "regular_test_score <- regular_students %>% summarize(avg = mean(Score)) %>% pull(avg)\n",
    "\n",
    "\n",
    "sports_low_scores <- as.numeric(count(subset(sports_students, Score < average_test_score)))\n",
    "regular_low_scores <- as.numeric(count(subset(regular_students, Score < average_test_score)))\n",
    "\n",
    "sports_high_scores <- as.numeric(count(subset(sports_students, Score > average_test_score)))\n",
    "regular_high_scores <- as.numeric(count(subset(regular_students, Score > average_test_score)))\n",
    "\n",
    "\n",
    "ggplot(data = df, aes(x = Score, fill = Section)) + \n",
    "geom_density(alpha = 0.2) + \n",
    "xlim(100,500) + \n",
    "ggtitle(\"Kernal Distribution of Grades by Section\")\n",
    "\n",
    "\n",
    "ggplot(data = df, aes(x = Score, fill = Section)) + \n",
    "geom_histogram(bins = 30, color = \"black\") + \n",
    "xlim(100,500) +\n",
    "ggtitle(\"Histogram of Grades by Section\")\n",
    "\n",
    "\n",
    "ggplot(data = df, aes(x = Section, y = Score)) + \n",
    "geom_boxplot(aes(color = Section)) +\n",
    "ggtitle(\"Boxplot of Grades Broken by Section\")\n",
    "\n",
    "ggplot(data = df, aes(x = Section, y = Score)) + \n",
    "geom_segment(aes(x = Section, xend = Section, y = mean(Score) , yend = average_test_score), size = 2) +\n",
    "geom_jitter(size =2, alpha = 0.25, width = 0.4, aes(color = Section)) +\n",
    "stat_summary(fun = mean, geom = \"point\", size = 3, aes(color = Section)) +\n",
    "geom_hline(aes(yintercept = average_test_score), color = \"gray20\", size = 0.6) +\n",
    "coord_flip() + \n",
    "annotate(\"text\", x = 1.5, y = average_test_score + 20, size = 2.8, color = \"grey20\", lineheight = 0.9, label = glue::glue(\"Average Score\\n for all Students: \\n {round(average_test_score)}\")) + \n",
    "annotate(\"text\", x = 2, y = sports_test_score - 20, size = 2.8, color = \"grey20\", lineheight = 0.9, label = glue::glue(\"Average Score for\\n Sports Students: \\n {round(sports_test_score)}\")) + \n",
    "annotate(\"text\", x = 1, y = regular_test_score + 25, size = 2.8, color = \"grey20\", lineheight = 0.9, label = glue::glue(\"Average Score for\\n Regular Students: \\n {round(regular_test_score)}\")) + \n",
    "annotate(\"text\", x = 2.2, y = average_test_score - 50, size = 2.8, color = \"grey20\", lineheight = 0.9, label = glue::glue(\"{round(sports_low_scores)} students in the \\n Sports Class performed \\nbelow average\")) +\n",
    "annotate(\"text\", x = 2.2, y = average_test_score + 50, size = 2.8, color = \"grey20\", lineheight = 0.9, label = glue::glue(\"{round(sports_high_scores)} students in the \\n Sports Class performed \\nabove average\")) +\n",
    "annotate(\"text\", x = 0.8, y = average_test_score - 50, size = 2.8, color = \"grey20\", lineheight = 0.9, label = glue::glue(\"{round(regular_low_scores)} students in the \\n Regular Class performed \\nbelow average\")) +\n",
    "annotate(\"text\", x = 0.8, y = average_test_score + 50, size = 2.8, color = \"grey20\", lineheight = 0.9, label = glue::glue(\"{round(regular_high_scores)} students in the \\n Regular Class performed \\nabove average\")) +\n",
    "ggtitle(\"Jitter Plot of Grades\")"
   ]
  },
  {
   "cell_type": "markdown",
   "metadata": {},
   "source": [
    "#### 4a. Comparing and contrasting the point distributions between the two section, looking at both tendency and consistency: Can you say that one section tended to score more points than the other? Justify and explain your answer.\n"
   ]
  },
  {
   "cell_type": "code",
   "execution_count": 6,
   "metadata": {},
   "outputs": [
    {
     "data": {
      "text/html": [
       "FALSE"
      ],
      "text/latex": [
       "FALSE"
      ],
      "text/markdown": [
       "FALSE"
      ],
      "text/plain": [
       "[1] FALSE"
      ]
     },
     "metadata": {},
     "output_type": "display_data"
    },
    {
     "data": {
      "text/html": [
       "FALSE"
      ],
      "text/latex": [
       "FALSE"
      ],
      "text/markdown": [
       "FALSE"
      ],
      "text/plain": [
       "[1] FALSE"
      ]
     },
     "metadata": {},
     "output_type": "display_data"
    }
   ],
   "source": [
    "median(sports_students$Score) > median(regular_students$Score)\n",
    "mean(sports_students$Score) > mean(regular_students$Score)"
   ]
  },
  {
   "cell_type": "markdown",
   "metadata": {},
   "source": [
    "\n",
    "Students in the sports section tend to, on average, score lower than the students in the regular class. However, there is a larger distribution of scores in the sports class, indicating less consistency. Having access to more data would be ideal in order for us to draw a more conclusive result"
   ]
  },
  {
   "cell_type": "markdown",
   "metadata": {},
   "source": [
    "#### 4b. Did every student in one section score more points than every student in the other section? If not, explain what a statistical tendency means in this context."
   ]
  },
  {
   "cell_type": "markdown",
   "metadata": {},
   "source": [
    "Definitely not. In fact, the highest score achieved by all the students was a achieved by several students in the sports section.  Many students from the sports class outperformed students from the regular class. Statistical tendency in this case uses the average and median scores to compare the students from each class. Students in the sports class can still achieve better scores than students in the regular class, but it is less likely to happen statistically"
   ]
  },
  {
   "cell_type": "markdown",
   "metadata": {},
   "source": [
    "#### 4c. What could be one additional variable that was not mentioned in the narrative that could be influencing the point distributions between the two sections?"
   ]
  },
  {
   "cell_type": "markdown",
   "metadata": {},
   "source": [
    "The sports group has about 5 clusters of students that didn't perform very well which is causing the average score to drop for the class. If we exclude those students from the group as outliers, we can see that the grades from both sections are almost perfectly matched. "
   ]
  },
  {
   "cell_type": "code",
   "execution_count": 7,
   "metadata": {
    "scrolled": false
   },
   "outputs": [
    {
     "data": {
      "text/plain": [
       "     Score          Section   \n",
       " Min.   :295.0   Regular:250  \n",
       " 1st Qu.:320.0   Sport  :  0  \n",
       " Median :335.0                \n",
       " Mean   :336.6                \n",
       " 3rd Qu.:360.0                \n",
       " Max.   :375.0                "
      ]
     },
     "metadata": {},
     "output_type": "display_data"
    },
    {
     "data": {
      "text/plain": [
       "     Score          Section   \n",
       " Min.   :300.0   Regular:  0  \n",
       " 1st Qu.:313.8   Sport  :160  \n",
       " Median :335.0                \n",
       " Mean   :335.3                \n",
       " 3rd Qu.:361.2                \n",
       " Max.   :375.0                "
      ]
     },
     "metadata": {},
     "output_type": "display_data"
    },
    {
     "name": "stderr",
     "output_type": "stream",
     "text": [
      "Warning message:\n",
      "\"Removed 4 rows containing missing values (geom_bar).\""
     ]
    },
    {
     "data": {
      "image/png": "[encoded data removed]",
      "text/plain": [
       "plot without title"
      ]
     },
     "metadata": {},
     "output_type": "display_data"
    },
    {
     "data": {
      "image/png": "[encoded data removed]",
      "text/plain": [
       "plot without title"
      ]
     },
     "metadata": {},
     "output_type": "display_data"
    },
    {
     "data": {
      "image/png": "[encoded data removed]",
      "text/plain": [
       "plot without title"
      ]
     },
     "metadata": {},
     "output_type": "display_data"
    },
    {
     "data": {
      "image/png": "[encoded data removed]",
      "text/plain": [
       "plot without title"
      ]
     },
     "metadata": {},
     "output_type": "display_data"
    }
   ],
   "source": [
    "test_scores2 <- subset(df, Score > 285 & Score  < 380)\n",
    "\n",
    "regular_students2 <- subset(test_scores2, !Section == \"Sport\")\n",
    "sports_students2 <- subset(test_scores2, Section == \"Sport\")\n",
    "\n",
    "summary(regular_students2)\n",
    "summary(sports_students2)\n",
    "\n",
    "average_test_score2 <- test_scores2 %>% summarize(avg = mean(Score)) %>% pull(avg)\n",
    "sports_test_score2 <- sports_students2 %>% summarize(avg = mean(Score)) %>% pull(avg)\n",
    "regular_test_score2<- regular_students2 %>% summarize(avg = mean(Score)) %>% pull(avg)\n",
    "\n",
    "\n",
    "sports_low_scores2 <- as.numeric(count(subset(sports_students, Score < average_test_score)))\n",
    "regular_low_scores2 <- as.numeric(count(subset(regular_students, Score < average_test_score)))\n",
    "\n",
    "sports_high_scores2 <- as.numeric(count(subset(sports_students, Score > average_test_score)))\n",
    "regular_high_scores2 <- as.numeric(count(subset(regular_students, Score > average_test_score)))\n",
    "\n",
    "ggplot(data = test_scores2, aes(x = Score, fill = Section)) + \n",
    "geom_density(alpha = 0.2) + \n",
    "xlim(100,500) + \n",
    "ggtitle(\"Kernal Distribution of Grades by Section (Removing Low Performing Students)\")\n",
    "\n",
    "\n",
    "ggplot(data = test_scores2, aes(x = Score, fill = Section)) + \n",
    "geom_histogram(bins = 30, color = \"black\") + \n",
    "xlim(100,500) +\n",
    "ggtitle(\"Histogram of Grades by Section (Removing Low Performing Students)\")\n",
    "\n",
    "\n",
    "ggplot(data = test_scores2, aes(x = Score, y = Section)) + \n",
    "geom_boxplot() +\n",
    "ggtitle(\"Boxplot of Grades Broken by Section (Removing Low Performing Students)\" )\n",
    "\n",
    "ggplot(data = test_scores2, aes(x = Section, y = Score)) + \n",
    "geom_segment(aes(x = Section, xend = Section, y = mean(Score) , yend = average_test_score2), size = 2) +\n",
    "geom_jitter(size =2, alpha = 0.25, width = 0.2, aes(color = Section)) +\n",
    "stat_summary(fun = mean, geom = \"point\", size = 3, aes(color = Section)) +\n",
    "geom_hline(aes(yintercept = average_test_score2), color = \"gray20\", size = 0.6) +\n",
    "coord_flip() + \n",
    "annotate(\"text\", x = 1.5, y = average_test_score2 + 20, size = 2.8, color = \"grey20\", lineheight = 0.9, label = glue::glue(\"Average Score\\n for all Students: \\n {round(average_test_score2)}\")) + \n",
    "annotate(\"text\", x = 2, y = sports_test_score2 - 20, size = 2.8, color = \"grey20\", lineheight = 0.9, label = glue::glue(\"Average Score for\\n Sports Students: \\n {round(sports_test_score2)}\")) + \n",
    "annotate(\"text\", x = 1, y = regular_test_score2 + 25, size = 2.8, color = \"grey20\", lineheight = 0.9, label = glue::glue(\"Average Score for\\n Regular Students: \\n {round(regular_test_score2)}\")) + \n",
    "ggtitle(\"Jitter Plot of Grades (Removing Low Performing Students)\")"
   ]
  },
  {
   "cell_type": "markdown",
   "metadata": {},
   "source": [
    "Not all students are equal. In this case, we cannot draw a conclusive decision whether or not these students in the sports focused class were able to achieve similar scores to students in the regular class due to the class structure or due to other unknown variables. It's possible that, due to the student inclination to take the sports based class, they were more occupied with extracurricular sports and were unable to study as much as the students in the Regular class. If we were able to add attributes to our dataset based on whether or not a student was enrolled in an extracurricular activity, we may be able to pinpoint the reasoning behind the poor score results.\n"
   ]
  },
  {
   "cell_type": "code",
   "execution_count": 2,
   "metadata": {},
   "outputs": [
    {
     "data": {
      "text/html": [
       "<table>\n",
       "<caption>A data.frame: 38 × 3</caption>\n",
       "<thead>\n",
       "\t<tr><th scope=col>Count</th><th scope=col>Score</th><th scope=col>Section</th></tr>\n",
       "\t<tr><th scope=col>&lt;int&gt;</th><th scope=col>&lt;int&gt;</th><th scope=col>&lt;fct&gt;</th></tr>\n",
       "</thead>\n",
       "<tbody>\n",
       "\t<tr><td>10</td><td>200</td><td>Sports </td></tr>\n",
       "\t<tr><td>10</td><td>205</td><td>Sports </td></tr>\n",
       "\t<tr><td>20</td><td>235</td><td>Sports </td></tr>\n",
       "\t<tr><td>10</td><td>240</td><td>Sports </td></tr>\n",
       "\t<tr><td>10</td><td>250</td><td>Sports </td></tr>\n",
       "\t<tr><td>10</td><td>265</td><td>Regular</td></tr>\n",
       "\t<tr><td>10</td><td>275</td><td>Regular</td></tr>\n",
       "\t<tr><td>30</td><td>285</td><td>Sports </td></tr>\n",
       "\t<tr><td>10</td><td>295</td><td>Regular</td></tr>\n",
       "\t<tr><td>10</td><td>300</td><td>Regular</td></tr>\n",
       "\t<tr><td>20</td><td>300</td><td>Sports </td></tr>\n",
       "\t<tr><td>10</td><td>305</td><td>Sports </td></tr>\n",
       "\t<tr><td>10</td><td>305</td><td>Regular</td></tr>\n",
       "\t<tr><td>10</td><td>310</td><td>Regular</td></tr>\n",
       "\t<tr><td>10</td><td>310</td><td>Sports </td></tr>\n",
       "\t<tr><td>20</td><td>320</td><td>Regular</td></tr>\n",
       "\t<tr><td>10</td><td>305</td><td>Regular</td></tr>\n",
       "\t<tr><td>10</td><td>315</td><td>Sports </td></tr>\n",
       "\t<tr><td>20</td><td>320</td><td>Regular</td></tr>\n",
       "\t<tr><td>10</td><td>325</td><td>Regular</td></tr>\n",
       "\t<tr><td>10</td><td>325</td><td>Sports </td></tr>\n",
       "\t<tr><td>20</td><td>330</td><td>Regular</td></tr>\n",
       "\t<tr><td>10</td><td>330</td><td>Sports </td></tr>\n",
       "\t<tr><td>30</td><td>335</td><td>Sports </td></tr>\n",
       "\t<tr><td>10</td><td>335</td><td>Regular</td></tr>\n",
       "\t<tr><td>20</td><td>340</td><td>Regular</td></tr>\n",
       "\t<tr><td>10</td><td>340</td><td>Sports </td></tr>\n",
       "\t<tr><td>30</td><td>350</td><td>Regular</td></tr>\n",
       "\t<tr><td>20</td><td>360</td><td>Regular</td></tr>\n",
       "\t<tr><td>10</td><td>360</td><td>Sports </td></tr>\n",
       "\t<tr><td>20</td><td>365</td><td>Regular</td></tr>\n",
       "\t<tr><td>20</td><td>365</td><td>Sports </td></tr>\n",
       "\t<tr><td>10</td><td>370</td><td>Sports </td></tr>\n",
       "\t<tr><td>10</td><td>370</td><td>Regular</td></tr>\n",
       "\t<tr><td>20</td><td>375</td><td>Regular</td></tr>\n",
       "\t<tr><td>10</td><td>375</td><td>Sports </td></tr>\n",
       "\t<tr><td>20</td><td>380</td><td>Regular</td></tr>\n",
       "\t<tr><td>10</td><td>395</td><td>Sports </td></tr>\n",
       "</tbody>\n",
       "</table>\n"
      ],
      "text/latex": [
       "A data.frame: 38 × 3\n",
       "\\begin{tabular}{lll}\n",
       " Count & Score & Section\\\\\n",
       " <int> & <int> & <fct>\\\\\n",
       "\\hline\n",
       "\t 10 & 200 & Sports \\\\\n",
       "\t 10 & 205 & Sports \\\\\n",
       "\t 20 & 235 & Sports \\\\\n",
       "\t 10 & 240 & Sports \\\\\n",
       "\t 10 & 250 & Sports \\\\\n",
       "\t 10 & 265 & Regular\\\\\n",
       "\t 10 & 275 & Regular\\\\\n",
       "\t 30 & 285 & Sports \\\\\n",
       "\t 10 & 295 & Regular\\\\\n",
       "\t 10 & 300 & Regular\\\\\n",
       "\t 20 & 300 & Sports \\\\\n",
       "\t 10 & 305 & Sports \\\\\n",
       "\t 10 & 305 & Regular\\\\\n",
       "\t 10 & 310 & Regular\\\\\n",
       "\t 10 & 310 & Sports \\\\\n",
       "\t 20 & 320 & Regular\\\\\n",
       "\t 10 & 305 & Regular\\\\\n",
       "\t 10 & 315 & Sports \\\\\n",
       "\t 20 & 320 & Regular\\\\\n",
       "\t 10 & 325 & Regular\\\\\n",
       "\t 10 & 325 & Sports \\\\\n",
       "\t 20 & 330 & Regular\\\\\n",
       "\t 10 & 330 & Sports \\\\\n",
       "\t 30 & 335 & Sports \\\\\n",
       "\t 10 & 335 & Regular\\\\\n",
       "\t 20 & 340 & Regular\\\\\n",
       "\t 10 & 340 & Sports \\\\\n",
       "\t 30 & 350 & Regular\\\\\n",
       "\t 20 & 360 & Regular\\\\\n",
       "\t 10 & 360 & Sports \\\\\n",
       "\t 20 & 365 & Regular\\\\\n",
       "\t 20 & 365 & Sports \\\\\n",
       "\t 10 & 370 & Sports \\\\\n",
       "\t 10 & 370 & Regular\\\\\n",
       "\t 20 & 375 & Regular\\\\\n",
       "\t 10 & 375 & Sports \\\\\n",
       "\t 20 & 380 & Regular\\\\\n",
       "\t 10 & 395 & Sports \\\\\n",
       "\\end{tabular}\n"
      ],
      "text/markdown": [
       "\n",
       "A data.frame: 38 × 3\n",
       "\n",
       "| Count &lt;int&gt; | Score &lt;int&gt; | Section &lt;fct&gt; |\n",
       "|---|---|---|\n",
       "| 10 | 200 | Sports  |\n",
       "| 10 | 205 | Sports  |\n",
       "| 20 | 235 | Sports  |\n",
       "| 10 | 240 | Sports  |\n",
       "| 10 | 250 | Sports  |\n",
       "| 10 | 265 | Regular |\n",
       "| 10 | 275 | Regular |\n",
       "| 30 | 285 | Sports  |\n",
       "| 10 | 295 | Regular |\n",
       "| 10 | 300 | Regular |\n",
       "| 20 | 300 | Sports  |\n",
       "| 10 | 305 | Sports  |\n",
       "| 10 | 305 | Regular |\n",
       "| 10 | 310 | Regular |\n",
       "| 10 | 310 | Sports  |\n",
       "| 20 | 320 | Regular |\n",
       "| 10 | 305 | Regular |\n",
       "| 10 | 315 | Sports  |\n",
       "| 20 | 320 | Regular |\n",
       "| 10 | 325 | Regular |\n",
       "| 10 | 325 | Sports  |\n",
       "| 20 | 330 | Regular |\n",
       "| 10 | 330 | Sports  |\n",
       "| 30 | 335 | Sports  |\n",
       "| 10 | 335 | Regular |\n",
       "| 20 | 340 | Regular |\n",
       "| 10 | 340 | Sports  |\n",
       "| 30 | 350 | Regular |\n",
       "| 20 | 360 | Regular |\n",
       "| 10 | 360 | Sports  |\n",
       "| 20 | 365 | Regular |\n",
       "| 20 | 365 | Sports  |\n",
       "| 10 | 370 | Sports  |\n",
       "| 10 | 370 | Regular |\n",
       "| 20 | 375 | Regular |\n",
       "| 10 | 375 | Sports  |\n",
       "| 20 | 380 | Regular |\n",
       "| 10 | 395 | Sports  |\n",
       "\n"
      ],
      "text/plain": [
       "   Count Score Section\n",
       "1  10    200   Sports \n",
       "2  10    205   Sports \n",
       "3  20    235   Sports \n",
       "4  10    240   Sports \n",
       "5  10    250   Sports \n",
       "6  10    265   Regular\n",
       "7  10    275   Regular\n",
       "8  30    285   Sports \n",
       "9  10    295   Regular\n",
       "10 10    300   Regular\n",
       "11 20    300   Sports \n",
       "12 10    305   Sports \n",
       "13 10    305   Regular\n",
       "14 10    310   Regular\n",
       "15 10    310   Sports \n",
       "16 20    320   Regular\n",
       "17 10    305   Regular\n",
       "18 10    315   Sports \n",
       "19 20    320   Regular\n",
       "20 10    325   Regular\n",
       "21 10    325   Sports \n",
       "22 20    330   Regular\n",
       "23 10    330   Sports \n",
       "24 30    335   Sports \n",
       "25 10    335   Regular\n",
       "26 20    340   Regular\n",
       "27 10    340   Sports \n",
       "28 30    350   Regular\n",
       "29 20    360   Regular\n",
       "30 10    360   Sports \n",
       "31 20    365   Regular\n",
       "32 20    365   Sports \n",
       "33 10    370   Sports \n",
       "34 10    370   Regular\n",
       "35 20    375   Regular\n",
       "36 10    375   Sports \n",
       "37 20    380   Regular\n",
       "38 10    395   Sports "
      ]
     },
     "metadata": {},
     "output_type": "display_data"
    }
   ],
   "source": [
    "test_scores"
   ]
  },
  {
   "cell_type": "code",
   "execution_count": null,
   "metadata": {},
   "outputs": [],
   "source": []
  }
 ],
 "metadata": {
  "kernelspec": {
   "display_name": "R",
   "language": "R",
   "name": "ir"
  },
  "language_info": {
   "codemirror_mode": "r",
   "file_extension": ".r",
   "mimetype": "text/x-r-source",
   "name": "R",
   "pygments_lexer": "r",
   "version": "3.6.1"
  }
 },
 "nbformat": 4,
 "nbformat_minor": 4
}
