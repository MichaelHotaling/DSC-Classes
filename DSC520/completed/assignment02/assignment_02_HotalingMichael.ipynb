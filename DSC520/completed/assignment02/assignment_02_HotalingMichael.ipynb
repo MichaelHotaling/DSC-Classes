{
 "cells": [
  {
   "cell_type": "markdown",
   "metadata": {},
   "source": [
    "#### Assignment: ASSIGNMENT 2 <br> Name: Hotaling, Michael <br> Date: 2020-08-31"
   ]
  },
  {
   "cell_type": "markdown",
   "metadata": {},
   "source": [
    "\n",
    "Check your current working directory using `getwd()`"
   ]
  },
  {
   "cell_type": "code",
   "execution_count": 1,
   "metadata": {},
   "outputs": [
    {
     "data": {
      "text/html": [
       "'C:/Users/MHotaling144186/Documents/dsc520'"
      ],
      "text/latex": [
       "'C:/Users/MHotaling144186/Documents/dsc520'"
      ],
      "text/markdown": [
       "'C:/Users/MHotaling144186/Documents/dsc520'"
      ],
      "text/plain": [
       "[1] \"C:/Users/MHotaling144186/Documents/dsc520\""
      ]
     },
     "metadata": {},
     "output_type": "display_data"
    }
   ],
   "source": [
    "setwd('..') \n",
    "setwd('..')\n",
    "getwd()"
   ]
  },
  {
   "cell_type": "markdown",
   "metadata": {},
   "source": [
    "List the contents of the working directory with the `dir()` function"
   ]
  },
  {
   "cell_type": "code",
   "execution_count": 2,
   "metadata": {},
   "outputs": [
    {
     "data": {
      "text/html": [
       "<style>\n",
       ".list-inline {list-style: none; margin:0; padding: 0}\n",
       ".list-inline>li {display: inline-block}\n",
       ".list-inline>li:not(:last-child)::after {content: \"\\00b7\"; padding: 0 .5ex}\n",
       "</style>\n",
       "<ol class=list-inline><li>'assignments'</li><li>'completed'</li><li>'data'</li><li>'dsc520.Rproj'</li><li>'LICENSE'</li><li>'README.md'</li><li>'RMarkdown.md'</li></ol>\n"
      ],
      "text/latex": [
       "\\begin{enumerate*}\n",
       "\\item 'assignments'\n",
       "\\item 'completed'\n",
       "\\item 'data'\n",
       "\\item 'dsc520.Rproj'\n",
       "\\item 'LICENSE'\n",
       "\\item 'README.md'\n",
       "\\item 'RMarkdown.md'\n",
       "\\end{enumerate*}\n"
      ],
      "text/markdown": [
       "1. 'assignments'\n",
       "2. 'completed'\n",
       "3. 'data'\n",
       "4. 'dsc520.Rproj'\n",
       "5. 'LICENSE'\n",
       "6. 'README.md'\n",
       "7. 'RMarkdown.md'\n",
       "\n",
       "\n"
      ],
      "text/plain": [
       "[1] \"assignments\"  \"completed\"    \"data\"         \"dsc520.Rproj\" \"LICENSE\"     \n",
       "[6] \"README.md\"    \"RMarkdown.md\""
      ]
     },
     "metadata": {},
     "output_type": "display_data"
    }
   ],
   "source": [
    "dir()"
   ]
  },
  {
   "cell_type": "markdown",
   "metadata": {},
   "source": [
    "If the current directory does not contain the `data` directory, set the working directory to project root folder (the folder should contain the `data` directory. <br>Use `setwd()` if needed"
   ]
  },
  {
   "cell_type": "code",
   "execution_count": 3,
   "metadata": {},
   "outputs": [],
   "source": [
    "# setwd(\"/data\")"
   ]
  },
  {
   "cell_type": "markdown",
   "metadata": {},
   "source": [
    "Load the file `data/tidynomicon/person.csv` to `person_df1` using `read.csv` <br>Examine the structure of `person_df1` using `str()`"
   ]
  },
  {
   "cell_type": "code",
   "execution_count": 4,
   "metadata": {},
   "outputs": [
    {
     "name": "stdout",
     "output_type": "stream",
     "text": [
      "'data.frame':\t5 obs. of  3 variables:\n",
      " $ person_id    : Factor w/ 5 levels \"danforth\",\"dyer\",..: 2 4 3 5 1\n",
      " $ personal_name: Factor w/ 4 levels \"Anderson\",\"Frank\",..: 4 2 1 3 2\n",
      " $ family_name  : Factor w/ 5 levels \"Danforth\",\"Dyer\",..: 2 4 3 5 1\n"
     ]
    }
   ],
   "source": [
    "person_df1 <- read.csv(\"data/tidynomicon/person.csv\")\n",
    "str(person_df1)\n",
    "# I'm running R version 3.6.2 (and I'm not going to upgrade since it will break my work scripts)\n",
    "# so my read.csv still defaults stringsAsFactors to TRUE. This has changed since 4.0.0"
   ]
  },
  {
   "cell_type": "markdown",
   "metadata": {},
   "source": [
    "R interpreted names as factors, which is not the behavior we want<br>Load the same file to person_df2 using `read.csv` and setting `stringsAsFactors` to `FALSE`<br>Examine the structure of `person_df2` using `str()`"
   ]
  },
  {
   "cell_type": "code",
   "execution_count": 5,
   "metadata": {},
   "outputs": [
    {
     "name": "stdout",
     "output_type": "stream",
     "text": [
      "'data.frame':\t5 obs. of  3 variables:\n",
      " $ person_id    : chr  \"dyer\" \"pb\" \"lake\" \"roe\" ...\n",
      " $ personal_name: chr  \"William\" \"Frank\" \"Anderson\" \"Valentina\" ...\n",
      " $ family_name  : chr  \"Dyer\" \"Pabodie\" \"Lake\" \"Roerich\" ...\n"
     ]
    }
   ],
   "source": [
    "person_df2 <- read.csv(\"data/tidynomicon/person.csv\", stringsAsFactors = FALSE)\n",
    "str(person_df2)"
   ]
  },
  {
   "cell_type": "markdown",
   "metadata": {},
   "source": [
    "Read the file `data/scores.csv` to `scores_df`\n",
    "<br>Display summary statistics using the `summary()` function"
   ]
  },
  {
   "cell_type": "code",
   "execution_count": 6,
   "metadata": {},
   "outputs": [
    {
     "data": {
      "text/plain": [
       "     Count           Score          Section  \n",
       " Min.   :10.00   Min.   :200.0   Regular:19  \n",
       " 1st Qu.:10.00   1st Qu.:300.0   Sports :19  \n",
       " Median :10.00   Median :322.5               \n",
       " Mean   :14.47   Mean   :317.5               \n",
       " 3rd Qu.:20.00   3rd Qu.:357.5               \n",
       " Max.   :30.00   Max.   :395.0               "
      ]
     },
     "metadata": {},
     "output_type": "display_data"
    }
   ],
   "source": [
    "scores_df <- read.csv(\"data/scores.csv\")\n",
    "summary(scores_df)"
   ]
  },
  {
   "cell_type": "markdown",
   "metadata": {},
   "source": [
    "Load the `readxl` library"
   ]
  },
  {
   "cell_type": "code",
   "execution_count": 7,
   "metadata": {},
   "outputs": [
    {
     "name": "stderr",
     "output_type": "stream",
     "text": [
      "Warning message:\n",
      "\"package 'readxl' was built under R version 3.6.3\""
     ]
    }
   ],
   "source": [
    "library(readxl)"
   ]
  },
  {
   "cell_type": "markdown",
   "metadata": {},
   "source": [
    "\n",
    "Using the excel_sheets() function from the `readxl` package, list the worksheets from the file `data/G04ResultsDetail2004-11-02.xls`"
   ]
  },
  {
   "cell_type": "code",
   "execution_count": 8,
   "metadata": {},
   "outputs": [
    {
     "data": {
      "text/html": [
       "<style>\n",
       ".list-inline {list-style: none; margin:0; padding: 0}\n",
       ".list-inline>li {display: inline-block}\n",
       ".list-inline>li:not(:last-child)::after {content: \"\\00b7\"; padding: 0 .5ex}\n",
       "</style>\n",
       "<ol class=list-inline><li>'Instructions'</li><li>'Voter Turnout'</li><li>'President'</li><li>'House of Rep'</li><li>'Co Clerk'</li><li>'Co Reg Deeds'</li><li>'Co Public Defender'</li><li>'Co Comm 1'</li><li>'Co Comm 3'</li><li>'Co Comm 5'</li><li>'Co Comm 7'</li><li>'St Bd of Ed 2'</li><li>'St Bd of Ed 4'</li><li>'Legislature 5'</li><li>'Legislature 7'</li><li>'Legislature 9'</li><li>'Legislature 11'</li><li>'Legislature 13'</li><li>'Legislature 23'</li><li>'Legislature 31'</li><li>'Legislature 39'</li><li>'MCC 1'</li><li>'MCC 2'</li><li>'MCC 3'</li><li>'MCC 4'</li><li>'OPPD'</li><li>'MUD'</li><li>'NRD 3'</li><li>'NRD 5'</li><li>'NRD 7'</li><li>'NRD 9'</li><li>'OPS 2'</li><li>'OPS 4'</li><li>'OPS 6'</li><li>'OPS 8'</li><li>'OPS 10'</li><li>'OPS 11'</li><li>'OPS 12'</li><li>'ESU 2'</li><li>'ESU 3'</li><li>'Arlington Sch 24'</li><li>'Bennington Sch 59'</li><li>'Elkhorn Sch 10'</li><li>'Fremont Sch 1'</li><li>'Ft Calhoun Sch 3'</li><li>'Gretna Sch 37'</li><li>'Millard Sch 17'</li><li>'Ralston Sch 54'</li><li>'Valley Sch 33'</li><li>'Waterloo Sch 11'</li><li>'Bennington Mayor'</li><li>'Elkhorn Mayor'</li><li>'Valley Mayor'</li><li>'Ralston Mayor'</li><li>'Ralston Library Bd'</li><li>'Bennington City Cnc 1'</li><li>'Bennington City Cnc 2'</li><li>'Elkhorn City Cnc A'</li><li>'Elkhorn City Cnc B'</li><li>'Elkhorn City Cnc C'</li><li>'Ralston City Cnc 1'</li><li>'Ralston City Cnc 2'</li><li>'Ralston City Cnc 6'</li><li>'Waterloo Bd Trustees'</li><li>'Valley City Cnc'</li><li>'Amendment 1'</li><li>'Amendment 2'</li><li>'Amendment 3'</li><li>'Amendment 4'</li><li>'Initiative 417'</li><li>'Initiative 418'</li><li>'Initiative 419'</li><li>'Initiative 420'</li></ol>\n"
      ],
      "text/latex": [
       "\\begin{enumerate*}\n",
       "\\item 'Instructions'\n",
       "\\item 'Voter Turnout'\n",
       "\\item 'President'\n",
       "\\item 'House of Rep'\n",
       "\\item 'Co Clerk'\n",
       "\\item 'Co Reg Deeds'\n",
       "\\item 'Co Public Defender'\n",
       "\\item 'Co Comm 1'\n",
       "\\item 'Co Comm 3'\n",
       "\\item 'Co Comm 5'\n",
       "\\item 'Co Comm 7'\n",
       "\\item 'St Bd of Ed 2'\n",
       "\\item 'St Bd of Ed 4'\n",
       "\\item 'Legislature 5'\n",
       "\\item 'Legislature 7'\n",
       "\\item 'Legislature 9'\n",
       "\\item 'Legislature 11'\n",
       "\\item 'Legislature 13'\n",
       "\\item 'Legislature 23'\n",
       "\\item 'Legislature 31'\n",
       "\\item 'Legislature 39'\n",
       "\\item 'MCC 1'\n",
       "\\item 'MCC 2'\n",
       "\\item 'MCC 3'\n",
       "\\item 'MCC 4'\n",
       "\\item 'OPPD'\n",
       "\\item 'MUD'\n",
       "\\item 'NRD 3'\n",
       "\\item 'NRD 5'\n",
       "\\item 'NRD 7'\n",
       "\\item 'NRD 9'\n",
       "\\item 'OPS 2'\n",
       "\\item 'OPS 4'\n",
       "\\item 'OPS 6'\n",
       "\\item 'OPS 8'\n",
       "\\item 'OPS 10'\n",
       "\\item 'OPS 11'\n",
       "\\item 'OPS 12'\n",
       "\\item 'ESU 2'\n",
       "\\item 'ESU 3'\n",
       "\\item 'Arlington Sch 24'\n",
       "\\item 'Bennington Sch 59'\n",
       "\\item 'Elkhorn Sch 10'\n",
       "\\item 'Fremont Sch 1'\n",
       "\\item 'Ft Calhoun Sch 3'\n",
       "\\item 'Gretna Sch 37'\n",
       "\\item 'Millard Sch 17'\n",
       "\\item 'Ralston Sch 54'\n",
       "\\item 'Valley Sch 33'\n",
       "\\item 'Waterloo Sch 11'\n",
       "\\item 'Bennington Mayor'\n",
       "\\item 'Elkhorn Mayor'\n",
       "\\item 'Valley Mayor'\n",
       "\\item 'Ralston Mayor'\n",
       "\\item 'Ralston Library Bd'\n",
       "\\item 'Bennington City Cnc 1'\n",
       "\\item 'Bennington City Cnc 2'\n",
       "\\item 'Elkhorn City Cnc A'\n",
       "\\item 'Elkhorn City Cnc B'\n",
       "\\item 'Elkhorn City Cnc C'\n",
       "\\item 'Ralston City Cnc 1'\n",
       "\\item 'Ralston City Cnc 2'\n",
       "\\item 'Ralston City Cnc 6'\n",
       "\\item 'Waterloo Bd Trustees'\n",
       "\\item 'Valley City Cnc'\n",
       "\\item 'Amendment 1'\n",
       "\\item 'Amendment 2'\n",
       "\\item 'Amendment 3'\n",
       "\\item 'Amendment 4'\n",
       "\\item 'Initiative 417'\n",
       "\\item 'Initiative 418'\n",
       "\\item 'Initiative 419'\n",
       "\\item 'Initiative 420'\n",
       "\\end{enumerate*}\n"
      ],
      "text/markdown": [
       "1. 'Instructions'\n",
       "2. 'Voter Turnout'\n",
       "3. 'President'\n",
       "4. 'House of Rep'\n",
       "5. 'Co Clerk'\n",
       "6. 'Co Reg Deeds'\n",
       "7. 'Co Public Defender'\n",
       "8. 'Co Comm 1'\n",
       "9. 'Co Comm 3'\n",
       "10. 'Co Comm 5'\n",
       "11. 'Co Comm 7'\n",
       "12. 'St Bd of Ed 2'\n",
       "13. 'St Bd of Ed 4'\n",
       "14. 'Legislature 5'\n",
       "15. 'Legislature 7'\n",
       "16. 'Legislature 9'\n",
       "17. 'Legislature 11'\n",
       "18. 'Legislature 13'\n",
       "19. 'Legislature 23'\n",
       "20. 'Legislature 31'\n",
       "21. 'Legislature 39'\n",
       "22. 'MCC 1'\n",
       "23. 'MCC 2'\n",
       "24. 'MCC 3'\n",
       "25. 'MCC 4'\n",
       "26. 'OPPD'\n",
       "27. 'MUD'\n",
       "28. 'NRD 3'\n",
       "29. 'NRD 5'\n",
       "30. 'NRD 7'\n",
       "31. 'NRD 9'\n",
       "32. 'OPS 2'\n",
       "33. 'OPS 4'\n",
       "34. 'OPS 6'\n",
       "35. 'OPS 8'\n",
       "36. 'OPS 10'\n",
       "37. 'OPS 11'\n",
       "38. 'OPS 12'\n",
       "39. 'ESU 2'\n",
       "40. 'ESU 3'\n",
       "41. 'Arlington Sch 24'\n",
       "42. 'Bennington Sch 59'\n",
       "43. 'Elkhorn Sch 10'\n",
       "44. 'Fremont Sch 1'\n",
       "45. 'Ft Calhoun Sch 3'\n",
       "46. 'Gretna Sch 37'\n",
       "47. 'Millard Sch 17'\n",
       "48. 'Ralston Sch 54'\n",
       "49. 'Valley Sch 33'\n",
       "50. 'Waterloo Sch 11'\n",
       "51. 'Bennington Mayor'\n",
       "52. 'Elkhorn Mayor'\n",
       "53. 'Valley Mayor'\n",
       "54. 'Ralston Mayor'\n",
       "55. 'Ralston Library Bd'\n",
       "56. 'Bennington City Cnc 1'\n",
       "57. 'Bennington City Cnc 2'\n",
       "58. 'Elkhorn City Cnc A'\n",
       "59. 'Elkhorn City Cnc B'\n",
       "60. 'Elkhorn City Cnc C'\n",
       "61. 'Ralston City Cnc 1'\n",
       "62. 'Ralston City Cnc 2'\n",
       "63. 'Ralston City Cnc 6'\n",
       "64. 'Waterloo Bd Trustees'\n",
       "65. 'Valley City Cnc'\n",
       "66. 'Amendment 1'\n",
       "67. 'Amendment 2'\n",
       "68. 'Amendment 3'\n",
       "69. 'Amendment 4'\n",
       "70. 'Initiative 417'\n",
       "71. 'Initiative 418'\n",
       "72. 'Initiative 419'\n",
       "73. 'Initiative 420'\n",
       "\n",
       "\n"
      ],
      "text/plain": [
       " [1] \"Instructions\"          \"Voter Turnout\"         \"President\"            \n",
       " [4] \"House of Rep\"          \"Co Clerk\"              \"Co Reg Deeds\"         \n",
       " [7] \"Co Public Defender\"    \"Co Comm 1\"             \"Co Comm 3\"            \n",
       "[10] \"Co Comm 5\"             \"Co Comm 7\"             \"St Bd of Ed 2\"        \n",
       "[13] \"St Bd of Ed 4\"         \"Legislature 5\"         \"Legislature 7\"        \n",
       "[16] \"Legislature 9\"         \"Legislature 11\"        \"Legislature 13\"       \n",
       "[19] \"Legislature 23\"        \"Legislature 31\"        \"Legislature 39\"       \n",
       "[22] \"MCC 1\"                 \"MCC 2\"                 \"MCC 3\"                \n",
       "[25] \"MCC 4\"                 \"OPPD\"                  \"MUD\"                  \n",
       "[28] \"NRD 3\"                 \"NRD 5\"                 \"NRD 7\"                \n",
       "[31] \"NRD 9\"                 \"OPS 2\"                 \"OPS 4\"                \n",
       "[34] \"OPS 6\"                 \"OPS 8\"                 \"OPS 10\"               \n",
       "[37] \"OPS 11\"                \"OPS 12\"                \"ESU 2\"                \n",
       "[40] \"ESU 3\"                 \"Arlington Sch 24\"      \"Bennington Sch 59\"    \n",
       "[43] \"Elkhorn Sch 10\"        \"Fremont Sch 1\"         \"Ft Calhoun Sch 3\"     \n",
       "[46] \"Gretna Sch 37\"         \"Millard Sch 17\"        \"Ralston Sch 54\"       \n",
       "[49] \"Valley Sch 33\"         \"Waterloo Sch 11\"       \"Bennington Mayor\"     \n",
       "[52] \"Elkhorn Mayor\"         \"Valley Mayor\"          \"Ralston Mayor\"        \n",
       "[55] \"Ralston Library Bd\"    \"Bennington City Cnc 1\" \"Bennington City Cnc 2\"\n",
       "[58] \"Elkhorn City Cnc A\"    \"Elkhorn City Cnc B\"    \"Elkhorn City Cnc C\"   \n",
       "[61] \"Ralston City Cnc 1\"    \"Ralston City Cnc 2\"    \"Ralston City Cnc 6\"   \n",
       "[64] \"Waterloo Bd Trustees\"  \"Valley City Cnc\"       \"Amendment 1\"          \n",
       "[67] \"Amendment 2\"           \"Amendment 3\"           \"Amendment 4\"          \n",
       "[70] \"Initiative 417\"        \"Initiative 418\"        \"Initiative 419\"       \n",
       "[73] \"Initiative 420\"       "
      ]
     },
     "metadata": {},
     "output_type": "display_data"
    }
   ],
   "source": [
    "excel_sheets(\"data/G04ResultsDetail2004-11-02.xls\")"
   ]
  },
  {
   "cell_type": "markdown",
   "metadata": {},
   "source": [
    "Using the `read_excel` function, read the Voter Turnout sheet from the `data/G04ResultsDetail2004-11-02.xls` <br>Assign the data to the `voter_turnout_df1`\n",
    "<br>The header is in the second row, so make sure to skip the first row\n",
    "<br>Examine the structure of `voter_turnout_df1` using `str()`"
   ]
  },
  {
   "cell_type": "code",
   "execution_count": 9,
   "metadata": {},
   "outputs": [
    {
     "name": "stdout",
     "output_type": "stream",
     "text": [
      "tibble [342 x 4] (S3: tbl_df/tbl/data.frame)\n",
      " $ Ward Precinct    : chr [1:342] \"01-01\" \"01-02\" \"01-03\" \"01-04\" ...\n",
      " $ Ballots Cast     : num [1:342] 421 443 705 827 527 323 358 410 440 500 ...\n",
      " $ Registered Voters: num [1:342] 678 691 1148 1308 978 ...\n",
      " $ Voter Turnout    : num [1:342] 0.621 0.641 0.614 0.632 0.539 ...\n"
     ]
    }
   ],
   "source": [
    "voter_turnout_df1 <- read_excel(\"data/G04ResultsDetail2004-11-02.xls\", sheet = \"Voter Turnout\", skip = 1)\n",
    "str(voter_turnout_df1)"
   ]
  },
  {
   "cell_type": "markdown",
   "metadata": {},
   "source": [
    "Using the `read_excel()` function, read the Voter Turnout sheet\n",
    "<br>from `data/G04ResultsDetail2004-11-02.xls`\n",
    "<br>Skip the first two rows and manually assign the columns using `col_names`\n",
    "<br>Use the names \"ward_precint\", \"ballots_cast\", \"registered_voters\", \"voter_turnout\"\n",
    "<br>Assign the data to the `voter_turnout_df2`\n",
    "<br>Examine the structure of `voter_turnout_df2` using `str()`"
   ]
  },
  {
   "cell_type": "code",
   "execution_count": 10,
   "metadata": {},
   "outputs": [
    {
     "name": "stdout",
     "output_type": "stream",
     "text": [
      "tibble [342 x 4] (S3: tbl_df/tbl/data.frame)\n",
      " $ ward_precint     : chr [1:342] \"01-01\" \"01-02\" \"01-03\" \"01-04\" ...\n",
      " $ ballots_cast     : num [1:342] 421 443 705 827 527 323 358 410 440 500 ...\n",
      " $ registered_voters: num [1:342] 678 691 1148 1308 978 ...\n",
      " $ voter_turnout    : num [1:342] 0.621 0.641 0.614 0.632 0.539 ...\n"
     ]
    }
   ],
   "source": [
    "voter_turnout_df2 <- read_excel(\"data/G04ResultsDetail2004-11-02.xls\", sheet = \"Voter Turnout\", col_names = c(\"ward_precint\", \"ballots_cast\", \"registered_voters\", \"voter_turnout\"),skip = 2)\n",
    "str(voter_turnout_df2)"
   ]
  },
  {
   "cell_type": "markdown",
   "metadata": {},
   "source": [
    "Load the `DBI` library"
   ]
  },
  {
   "cell_type": "code",
   "execution_count": 11,
   "metadata": {},
   "outputs": [],
   "source": [
    "# install.packages(\"DBI\")"
   ]
  },
  {
   "cell_type": "code",
   "execution_count": 12,
   "metadata": {},
   "outputs": [
    {
     "name": "stderr",
     "output_type": "stream",
     "text": [
      "Warning message:\n",
      "\"package 'DBI' was built under R version 3.6.3\""
     ]
    }
   ],
   "source": [
    "library(DBI)"
   ]
  },
  {
   "cell_type": "markdown",
   "metadata": {},
   "source": [
    "Create a database connection to `data/tidynomicon/example.db` using the dbConnect() function\n",
    "<br>The first argument is the database driver which in this case is `RSQLite::SQLite()`\n",
    "<br>The second argument is the path to the database file\n",
    "<br>Assign the connection to `db` variable"
   ]
  },
  {
   "cell_type": "code",
   "execution_count": 13,
   "metadata": {},
   "outputs": [],
   "source": [
    "# install.packages(\"RSQLite\") #  This package is required to use RSQLite as a database driver"
   ]
  },
  {
   "cell_type": "code",
   "execution_count": 14,
   "metadata": {},
   "outputs": [],
   "source": [
    "db <- dbConnect(RSQLite::SQLite(), \"data/tidynomicon/example.db\")"
   ]
  },
  {
   "cell_type": "markdown",
   "metadata": {},
   "source": [
    "Query the Person table using the `dbGetQuery` function and the\n",
    "<br>`SELECT * FROM PERSON;` SQL statement\n",
    "<br>Assign the result to the `person_df` variable\n",
    "<br>Use `head()` to look at the first few rows of the `person_df` dataframe"
   ]
  },
  {
   "cell_type": "code",
   "execution_count": 15,
   "metadata": {},
   "outputs": [
    {
     "data": {
      "text/html": [
       "<table>\n",
       "<caption>A data.frame: 5 × 3</caption>\n",
       "<thead>\n",
       "\t<tr><th></th><th scope=col>person_id</th><th scope=col>personal_name</th><th scope=col>family_name</th></tr>\n",
       "\t<tr><th></th><th scope=col>&lt;chr&gt;</th><th scope=col>&lt;chr&gt;</th><th scope=col>&lt;chr&gt;</th></tr>\n",
       "</thead>\n",
       "<tbody>\n",
       "\t<tr><th scope=row>1</th><td>dyer    </td><td>William  </td><td>Dyer    </td></tr>\n",
       "\t<tr><th scope=row>2</th><td>pb      </td><td>Frank    </td><td>Pabodie </td></tr>\n",
       "\t<tr><th scope=row>3</th><td>lake    </td><td>Anderson </td><td>Lake    </td></tr>\n",
       "\t<tr><th scope=row>4</th><td>roe     </td><td>Valentina</td><td>Roerich </td></tr>\n",
       "\t<tr><th scope=row>5</th><td>danforth</td><td>Frank    </td><td>Danforth</td></tr>\n",
       "</tbody>\n",
       "</table>\n"
      ],
      "text/latex": [
       "A data.frame: 5 × 3\n",
       "\\begin{tabular}{r|lll}\n",
       "  & person\\_id & personal\\_name & family\\_name\\\\\n",
       "  & <chr> & <chr> & <chr>\\\\\n",
       "\\hline\n",
       "\t1 & dyer     & William   & Dyer    \\\\\n",
       "\t2 & pb       & Frank     & Pabodie \\\\\n",
       "\t3 & lake     & Anderson  & Lake    \\\\\n",
       "\t4 & roe      & Valentina & Roerich \\\\\n",
       "\t5 & danforth & Frank     & Danforth\\\\\n",
       "\\end{tabular}\n"
      ],
      "text/markdown": [
       "\n",
       "A data.frame: 5 × 3\n",
       "\n",
       "| <!--/--> | person_id &lt;chr&gt; | personal_name &lt;chr&gt; | family_name &lt;chr&gt; |\n",
       "|---|---|---|---|\n",
       "| 1 | dyer     | William   | Dyer     |\n",
       "| 2 | pb       | Frank     | Pabodie  |\n",
       "| 3 | lake     | Anderson  | Lake     |\n",
       "| 4 | roe      | Valentina | Roerich  |\n",
       "| 5 | danforth | Frank     | Danforth |\n",
       "\n"
      ],
      "text/plain": [
       "  person_id personal_name family_name\n",
       "1 dyer      William       Dyer       \n",
       "2 pb        Frank         Pabodie    \n",
       "3 lake      Anderson      Lake       \n",
       "4 roe       Valentina     Roerich    \n",
       "5 danforth  Frank         Danforth   "
      ]
     },
     "metadata": {},
     "output_type": "display_data"
    }
   ],
   "source": [
    "person_df <- dbGetQuery(db,  \"SELECT * FROM PERSON\")\n",
    "head(person_df)"
   ]
  },
  {
   "cell_type": "markdown",
   "metadata": {},
   "source": [
    "List the tables using the `dbListTables()` function\n",
    "<br>Assign the result to the `table_names` variable"
   ]
  },
  {
   "cell_type": "code",
   "execution_count": 16,
   "metadata": {},
   "outputs": [],
   "source": [
    "table_names <- dbListTables(db)"
   ]
  },
  {
   "cell_type": "markdown",
   "metadata": {},
   "source": [
    "Read all of the tables at once using the `lapply` function and assign the result to the `tables` variable\n",
    "<br>`table_names`, `dbReadTable`, and `conn = db` as arguments\n",
    "<br>Print out the tables"
   ]
  },
  {
   "cell_type": "code",
   "execution_count": 17,
   "metadata": {},
   "outputs": [
    {
     "name": "stderr",
     "output_type": "stream",
     "text": [
      "Warning message in result_fetch(res@ptr, n = n):\n",
      "\"Column `reading`: mixed type, first seen values of type real, coercing other values of type string\""
     ]
    },
    {
     "name": "stdout",
     "output_type": "stream",
     "text": [
      "[[1]]\n",
      "   visit_id person_id quantity reading\n",
      "1       619      dyer      rad    9.82\n",
      "2       619      dyer      sal    0.13\n",
      "3       622      dyer      rad    7.80\n",
      "4       622      dyer      sal    0.09\n",
      "5       734        pb      rad    8.41\n",
      "6       734      lake      sal    0.05\n",
      "7       734        pb     temp  -21.50\n",
      "8       735        pb      rad    7.22\n",
      "9       735      <NA>      sal    0.06\n",
      "10      735      <NA>     temp  -26.00\n",
      "11      751        pb      rad    4.35\n",
      "12      751        pb     temp  -18.50\n",
      "13      751      lake      sal    0.00\n",
      "14      752      lake      rad    2.19\n",
      "15      752      lake      sal    0.09\n",
      "16      752      lake     temp  -16.00\n",
      "17      752       roe      sal   41.60\n",
      "18      837      lake      rad    1.46\n",
      "19      837      lake      sal    0.21\n",
      "20      837       roe      sal   22.50\n",
      "21      844       roe      rad   11.25\n",
      "\n",
      "[[2]]\n",
      "  person_id personal_name family_name\n",
      "1      dyer       William        Dyer\n",
      "2        pb         Frank     Pabodie\n",
      "3      lake      Anderson        Lake\n",
      "4       roe     Valentina     Roerich\n",
      "5  danforth         Frank    Danforth\n",
      "\n",
      "[[3]]\n",
      "  site_id latitude longitude\n",
      "1    DR-1   -49.85   -128.57\n",
      "2    DR-3   -47.15   -126.72\n",
      "3   MSK-4   -48.87   -123.40\n",
      "\n",
      "[[4]]\n",
      "  visit_id site_id visit_date\n",
      "1      619    DR-1 1927-02-08\n",
      "2      622    DR-1 1927-02-10\n",
      "3      734    DR-3 1930-01-07\n",
      "4      735    DR-3 1930-01-12\n",
      "5      751    DR-3 1930-02-26\n",
      "6      752    DR-3       <NA>\n",
      "7      837   MSK-4 1932-01-14\n",
      "8      844    DR-1 1932-03-22\n",
      "\n"
     ]
    }
   ],
   "source": [
    "tables <- lapply(conn = db, table_names, dbReadTable)\n",
    "print(tables)"
   ]
  },
  {
   "cell_type": "markdown",
   "metadata": {},
   "source": [
    "Use the `dbDisconnect` function to disconnect from the database\n"
   ]
  },
  {
   "cell_type": "code",
   "execution_count": 18,
   "metadata": {},
   "outputs": [],
   "source": [
    "dbDisconnect(db)"
   ]
  },
  {
   "cell_type": "markdown",
   "metadata": {},
   "source": [
    "Import the `jsonlite` library\n"
   ]
  },
  {
   "cell_type": "code",
   "execution_count": 19,
   "metadata": {},
   "outputs": [
    {
     "name": "stderr",
     "output_type": "stream",
     "text": [
      "Warning message:\n",
      "\"package 'jsonlite' was built under R version 3.6.2\""
     ]
    }
   ],
   "source": [
    "library(jsonlite)"
   ]
  },
  {
   "cell_type": "markdown",
   "metadata": {},
   "source": [
    "Convert the scores_df dataframe to JSON using the `toJSON()` function\n"
   ]
  },
  {
   "cell_type": "code",
   "execution_count": 20,
   "metadata": {},
   "outputs": [
    {
     "data": {
      "text/plain": [
       "[{\"Count\":10,\"Score\":200,\"Section\":\"Sports\"},{\"Count\":10,\"Score\":205,\"Section\":\"Sports\"},{\"Count\":20,\"Score\":235,\"Section\":\"Sports\"},{\"Count\":10,\"Score\":240,\"Section\":\"Sports\"},{\"Count\":10,\"Score\":250,\"Section\":\"Sports\"},{\"Count\":10,\"Score\":265,\"Section\":\"Regular\"},{\"Count\":10,\"Score\":275,\"Section\":\"Regular\"},{\"Count\":30,\"Score\":285,\"Section\":\"Sports\"},{\"Count\":10,\"Score\":295,\"Section\":\"Regular\"},{\"Count\":10,\"Score\":300,\"Section\":\"Regular\"},{\"Count\":20,\"Score\":300,\"Section\":\"Sports\"},{\"Count\":10,\"Score\":305,\"Section\":\"Sports\"},{\"Count\":10,\"Score\":305,\"Section\":\"Regular\"},{\"Count\":10,\"Score\":310,\"Section\":\"Regular\"},{\"Count\":10,\"Score\":310,\"Section\":\"Sports\"},{\"Count\":20,\"Score\":320,\"Section\":\"Regular\"},{\"Count\":10,\"Score\":305,\"Section\":\"Regular\"},{\"Count\":10,\"Score\":315,\"Section\":\"Sports\"},{\"Count\":20,\"Score\":320,\"Section\":\"Regular\"},{\"Count\":10,\"Score\":325,\"Section\":\"Regular\"},{\"Count\":10,\"Score\":325,\"Section\":\"Sports\"},{\"Count\":20,\"Score\":330,\"Section\":\"Regular\"},{\"Count\":10,\"Score\":330,\"Section\":\"Sports\"},{\"Count\":30,\"Score\":335,\"Section\":\"Sports\"},{\"Count\":10,\"Score\":335,\"Section\":\"Regular\"},{\"Count\":20,\"Score\":340,\"Section\":\"Regular\"},{\"Count\":10,\"Score\":340,\"Section\":\"Sports\"},{\"Count\":30,\"Score\":350,\"Section\":\"Regular\"},{\"Count\":20,\"Score\":360,\"Section\":\"Regular\"},{\"Count\":10,\"Score\":360,\"Section\":\"Sports\"},{\"Count\":20,\"Score\":365,\"Section\":\"Regular\"},{\"Count\":20,\"Score\":365,\"Section\":\"Sports\"},{\"Count\":10,\"Score\":370,\"Section\":\"Sports\"},{\"Count\":10,\"Score\":370,\"Section\":\"Regular\"},{\"Count\":20,\"Score\":375,\"Section\":\"Regular\"},{\"Count\":10,\"Score\":375,\"Section\":\"Sports\"},{\"Count\":20,\"Score\":380,\"Section\":\"Regular\"},{\"Count\":10,\"Score\":395,\"Section\":\"Sports\"}] "
      ]
     },
     "metadata": {},
     "output_type": "display_data"
    }
   ],
   "source": [
    "scores_df_json <- toJSON(scores_df)\n",
    "scores_df_json"
   ]
  },
  {
   "cell_type": "markdown",
   "metadata": {},
   "source": [
    "\n",
    "\n",
    "\n",
    "\n",
    "\n",
    "\n",
    "\n",
    "\n",
    "\n",
    "\n",
    "\n",
    "\n",
    "\n",
    "\n",
    "\n",
    "\n",
    "\n",
    "\n",
    "\n",
    "\n",
    "\n",
    "\n",
    "\n",
    "\n",
    "\n",
    "\n",
    "\n",
    "\n",
    "\n",
    "\n",
    "\n",
    "\n",
    "\n",
    "\n",
    "\n",
    "\n",
    "\n",
    "\n",
    "\n",
    "\n",
    "\n",
    "\n",
    "\n",
    "Convert the scores dataframe to JSON using the `toJSON()` function with the `pretty=TRUE` option\n"
   ]
  },
  {
   "cell_type": "code",
   "execution_count": 21,
   "metadata": {
    "scrolled": false
   },
   "outputs": [
    {
     "data": {
      "text/plain": [
       "[\n",
       "  {\n",
       "    \"Count\": 10,\n",
       "    \"Score\": 200,\n",
       "    \"Section\": \"Sports\"\n",
       "  },\n",
       "  {\n",
       "    \"Count\": 10,\n",
       "    \"Score\": 205,\n",
       "    \"Section\": \"Sports\"\n",
       "  },\n",
       "  {\n",
       "    \"Count\": 20,\n",
       "    \"Score\": 235,\n",
       "    \"Section\": \"Sports\"\n",
       "  },\n",
       "  {\n",
       "    \"Count\": 10,\n",
       "    \"Score\": 240,\n",
       "    \"Section\": \"Sports\"\n",
       "  },\n",
       "  {\n",
       "    \"Count\": 10,\n",
       "    \"Score\": 250,\n",
       "    \"Section\": \"Sports\"\n",
       "  },\n",
       "  {\n",
       "    \"Count\": 10,\n",
       "    \"Score\": 265,\n",
       "    \"Section\": \"Regular\"\n",
       "  },\n",
       "  {\n",
       "    \"Count\": 10,\n",
       "    \"Score\": 275,\n",
       "    \"Section\": \"Regular\"\n",
       "  },\n",
       "  {\n",
       "    \"Count\": 30,\n",
       "    \"Score\": 285,\n",
       "    \"Section\": \"Sports\"\n",
       "  },\n",
       "  {\n",
       "    \"Count\": 10,\n",
       "    \"Score\": 295,\n",
       "    \"Section\": \"Regular\"\n",
       "  },\n",
       "  {\n",
       "    \"Count\": 10,\n",
       "    \"Score\": 300,\n",
       "    \"Section\": \"Regular\"\n",
       "  },\n",
       "  {\n",
       "    \"Count\": 20,\n",
       "    \"Score\": 300,\n",
       "    \"Section\": \"Sports\"\n",
       "  },\n",
       "  {\n",
       "    \"Count\": 10,\n",
       "    \"Score\": 305,\n",
       "    \"Section\": \"Sports\"\n",
       "  },\n",
       "  {\n",
       "    \"Count\": 10,\n",
       "    \"Score\": 305,\n",
       "    \"Section\": \"Regular\"\n",
       "  },\n",
       "  {\n",
       "    \"Count\": 10,\n",
       "    \"Score\": 310,\n",
       "    \"Section\": \"Regular\"\n",
       "  },\n",
       "  {\n",
       "    \"Count\": 10,\n",
       "    \"Score\": 310,\n",
       "    \"Section\": \"Sports\"\n",
       "  },\n",
       "  {\n",
       "    \"Count\": 20,\n",
       "    \"Score\": 320,\n",
       "    \"Section\": \"Regular\"\n",
       "  },\n",
       "  {\n",
       "    \"Count\": 10,\n",
       "    \"Score\": 305,\n",
       "    \"Section\": \"Regular\"\n",
       "  },\n",
       "  {\n",
       "    \"Count\": 10,\n",
       "    \"Score\": 315,\n",
       "    \"Section\": \"Sports\"\n",
       "  },\n",
       "  {\n",
       "    \"Count\": 20,\n",
       "    \"Score\": 320,\n",
       "    \"Section\": \"Regular\"\n",
       "  },\n",
       "  {\n",
       "    \"Count\": 10,\n",
       "    \"Score\": 325,\n",
       "    \"Section\": \"Regular\"\n",
       "  },\n",
       "  {\n",
       "    \"Count\": 10,\n",
       "    \"Score\": 325,\n",
       "    \"Section\": \"Sports\"\n",
       "  },\n",
       "  {\n",
       "    \"Count\": 20,\n",
       "    \"Score\": 330,\n",
       "    \"Section\": \"Regular\"\n",
       "  },\n",
       "  {\n",
       "    \"Count\": 10,\n",
       "    \"Score\": 330,\n",
       "    \"Section\": \"Sports\"\n",
       "  },\n",
       "  {\n",
       "    \"Count\": 30,\n",
       "    \"Score\": 335,\n",
       "    \"Section\": \"Sports\"\n",
       "  },\n",
       "  {\n",
       "    \"Count\": 10,\n",
       "    \"Score\": 335,\n",
       "    \"Section\": \"Regular\"\n",
       "  },\n",
       "  {\n",
       "    \"Count\": 20,\n",
       "    \"Score\": 340,\n",
       "    \"Section\": \"Regular\"\n",
       "  },\n",
       "  {\n",
       "    \"Count\": 10,\n",
       "    \"Score\": 340,\n",
       "    \"Section\": \"Sports\"\n",
       "  },\n",
       "  {\n",
       "    \"Count\": 30,\n",
       "    \"Score\": 350,\n",
       "    \"Section\": \"Regular\"\n",
       "  },\n",
       "  {\n",
       "    \"Count\": 20,\n",
       "    \"Score\": 360,\n",
       "    \"Section\": \"Regular\"\n",
       "  },\n",
       "  {\n",
       "    \"Count\": 10,\n",
       "    \"Score\": 360,\n",
       "    \"Section\": \"Sports\"\n",
       "  },\n",
       "  {\n",
       "    \"Count\": 20,\n",
       "    \"Score\": 365,\n",
       "    \"Section\": \"Regular\"\n",
       "  },\n",
       "  {\n",
       "    \"Count\": 20,\n",
       "    \"Score\": 365,\n",
       "    \"Section\": \"Sports\"\n",
       "  },\n",
       "  {\n",
       "    \"Count\": 10,\n",
       "    \"Score\": 370,\n",
       "    \"Section\": \"Sports\"\n",
       "  },\n",
       "  {\n",
       "    \"Count\": 10,\n",
       "    \"Score\": 370,\n",
       "    \"Section\": \"Regular\"\n",
       "  },\n",
       "  {\n",
       "    \"Count\": 20,\n",
       "    \"Score\": 375,\n",
       "    \"Section\": \"Regular\"\n",
       "  },\n",
       "  {\n",
       "    \"Count\": 10,\n",
       "    \"Score\": 375,\n",
       "    \"Section\": \"Sports\"\n",
       "  },\n",
       "  {\n",
       "    \"Count\": 20,\n",
       "    \"Score\": 380,\n",
       "    \"Section\": \"Regular\"\n",
       "  },\n",
       "  {\n",
       "    \"Count\": 10,\n",
       "    \"Score\": 395,\n",
       "    \"Section\": \"Sports\"\n",
       "  }\n",
       "] "
      ]
     },
     "metadata": {},
     "output_type": "display_data"
    }
   ],
   "source": [
    "scores_df_json_pretty <- toJSON(scores_df, pretty = TRUE)\n",
    "scores_df_json_pretty"
   ]
  },
  {
   "cell_type": "code",
   "execution_count": null,
   "metadata": {},
   "outputs": [],
   "source": []
  }
 ],
 "metadata": {
  "kernelspec": {
   "display_name": "R",
   "language": "R",
   "name": "ir"
  },
  "language_info": {
   "codemirror_mode": "r",
   "file_extension": ".r",
   "mimetype": "text/x-r-source",
   "name": "R",
   "pygments_lexer": "r",
   "version": "3.6.1"
  }
 },
 "nbformat": 4,
 "nbformat_minor": 4
}
