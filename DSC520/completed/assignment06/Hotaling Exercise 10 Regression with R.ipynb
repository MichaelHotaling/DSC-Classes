{
 "cells": [
  {
   "cell_type": "markdown",
   "metadata": {},
   "source": [
    "### Assignment: ASSIGNMENT 6 <br> Name: Hotaling, Michael <br> Date: 2020-08-31\n"
   ]
  },
  {
   "cell_type": "code",
   "execution_count": 1,
   "metadata": {},
   "outputs": [],
   "source": [
    "setwd(\"..\")\n",
    "setwd(\"..\")"
   ]
  },
  {
   "cell_type": "markdown",
   "metadata": {},
   "source": [
    "**Load the `data/r4ds/heights.csv` to `heights_df`**\n"
   ]
  },
  {
   "cell_type": "code",
   "execution_count": 2,
   "metadata": {},
   "outputs": [
    {
     "data": {
      "text/html": [
       "<table>\n",
       "<caption>A data.frame: 6 × 6</caption>\n",
       "<thead>\n",
       "\t<tr><th></th><th scope=col>earn</th><th scope=col>height</th><th scope=col>sex</th><th scope=col>ed</th><th scope=col>age</th><th scope=col>race</th></tr>\n",
       "\t<tr><th></th><th scope=col>&lt;dbl&gt;</th><th scope=col>&lt;dbl&gt;</th><th scope=col>&lt;fct&gt;</th><th scope=col>&lt;int&gt;</th><th scope=col>&lt;int&gt;</th><th scope=col>&lt;fct&gt;</th></tr>\n",
       "</thead>\n",
       "<tbody>\n",
       "\t<tr><th scope=row>1</th><td>50000</td><td>74.42444</td><td>male  </td><td>16</td><td>45</td><td>white</td></tr>\n",
       "\t<tr><th scope=row>2</th><td>60000</td><td>65.53754</td><td>female</td><td>16</td><td>58</td><td>white</td></tr>\n",
       "\t<tr><th scope=row>3</th><td>30000</td><td>63.62920</td><td>female</td><td>16</td><td>29</td><td>white</td></tr>\n",
       "\t<tr><th scope=row>4</th><td>50000</td><td>63.10856</td><td>female</td><td>16</td><td>91</td><td>other</td></tr>\n",
       "\t<tr><th scope=row>5</th><td>51000</td><td>63.40248</td><td>female</td><td>17</td><td>39</td><td>white</td></tr>\n",
       "\t<tr><th scope=row>6</th><td> 9000</td><td>64.39951</td><td>female</td><td>15</td><td>26</td><td>white</td></tr>\n",
       "</tbody>\n",
       "</table>\n"
      ],
      "text/latex": [
       "A data.frame: 6 × 6\n",
       "\\begin{tabular}{r|llllll}\n",
       "  & earn & height & sex & ed & age & race\\\\\n",
       "  & <dbl> & <dbl> & <fct> & <int> & <int> & <fct>\\\\\n",
       "\\hline\n",
       "\t1 & 50000 & 74.42444 & male   & 16 & 45 & white\\\\\n",
       "\t2 & 60000 & 65.53754 & female & 16 & 58 & white\\\\\n",
       "\t3 & 30000 & 63.62920 & female & 16 & 29 & white\\\\\n",
       "\t4 & 50000 & 63.10856 & female & 16 & 91 & other\\\\\n",
       "\t5 & 51000 & 63.40248 & female & 17 & 39 & white\\\\\n",
       "\t6 &  9000 & 64.39951 & female & 15 & 26 & white\\\\\n",
       "\\end{tabular}\n"
      ],
      "text/markdown": [
       "\n",
       "A data.frame: 6 × 6\n",
       "\n",
       "| <!--/--> | earn &lt;dbl&gt; | height &lt;dbl&gt; | sex &lt;fct&gt; | ed &lt;int&gt; | age &lt;int&gt; | race &lt;fct&gt; |\n",
       "|---|---|---|---|---|---|---|\n",
       "| 1 | 50000 | 74.42444 | male   | 16 | 45 | white |\n",
       "| 2 | 60000 | 65.53754 | female | 16 | 58 | white |\n",
       "| 3 | 30000 | 63.62920 | female | 16 | 29 | white |\n",
       "| 4 | 50000 | 63.10856 | female | 16 | 91 | other |\n",
       "| 5 | 51000 | 63.40248 | female | 17 | 39 | white |\n",
       "| 6 |  9000 | 64.39951 | female | 15 | 26 | white |\n",
       "\n"
      ],
      "text/plain": [
       "  earn  height   sex    ed age race \n",
       "1 50000 74.42444 male   16 45  white\n",
       "2 60000 65.53754 female 16 58  white\n",
       "3 30000 63.62920 female 16 29  white\n",
       "4 50000 63.10856 female 16 91  other\n",
       "5 51000 63.40248 female 17 39  white\n",
       "6  9000 64.39951 female 15 26  white"
      ]
     },
     "metadata": {},
     "output_type": "display_data"
    }
   ],
   "source": [
    "heights_df <- read.csv(\"data/r4ds/heights.csv\")\n",
    "head(heights_df)"
   ]
  },
  {
   "cell_type": "markdown",
   "metadata": {},
   "source": [
    "**Load the ggplot2 library**"
   ]
  },
  {
   "cell_type": "code",
   "execution_count": 3,
   "metadata": {},
   "outputs": [
    {
     "name": "stderr",
     "output_type": "stream",
     "text": [
      "Warning message:\n",
      "\"package 'ggplot2' was built under R version 3.6.3\""
     ]
    }
   ],
   "source": [
    "library(ggplot2)"
   ]
  },
  {
   "cell_type": "markdown",
   "metadata": {},
   "source": [
    "**Fit a linear model using the `age` variable as the predictor and `earn` as the outcome**"
   ]
  },
  {
   "cell_type": "code",
   "execution_count": 4,
   "metadata": {},
   "outputs": [],
   "source": [
    "age_lm <-  lm(earn ~ age , data = heights_df)"
   ]
  },
  {
   "cell_type": "markdown",
   "metadata": {},
   "source": [
    "**View the summary of your model using `summary()`**\n"
   ]
  },
  {
   "cell_type": "code",
   "execution_count": 5,
   "metadata": {},
   "outputs": [
    {
     "data": {
      "text/plain": [
       "\n",
       "Call:\n",
       "lm(formula = earn ~ age, data = heights_df)\n",
       "\n",
       "Residuals:\n",
       "   Min     1Q Median     3Q    Max \n",
       "-25098 -12622  -3667   6883 177579 \n",
       "\n",
       "Coefficients:\n",
       "            Estimate Std. Error t value Pr(>|t|)    \n",
       "(Intercept) 19041.53    1571.26  12.119  < 2e-16 ***\n",
       "age            99.41      35.46   2.804  0.00514 ** \n",
       "---\n",
       "Signif. codes:  0 '***' 0.001 '**' 0.01 '*' 0.05 '.' 0.1 ' ' 1\n",
       "\n",
       "Residual standard error: 19420 on 1190 degrees of freedom\n",
       "Multiple R-squared:  0.006561,\tAdjusted R-squared:  0.005727 \n",
       "F-statistic:  7.86 on 1 and 1190 DF,  p-value: 0.005137\n"
      ]
     },
     "metadata": {},
     "output_type": "display_data"
    }
   ],
   "source": [
    "summary(age_lm)"
   ]
  },
  {
   "cell_type": "markdown",
   "metadata": {},
   "source": [
    "\n",
    "\n",
    "**Creating predictions using `predict()`**"
   ]
  },
  {
   "cell_type": "code",
   "execution_count": 6,
   "metadata": {},
   "outputs": [
    {
     "data": {
      "text/html": [
       "<table>\n",
       "<caption>A data.frame: 6 × 2</caption>\n",
       "<thead>\n",
       "\t<tr><th></th><th scope=col>earn</th><th scope=col>age</th></tr>\n",
       "\t<tr><th></th><th scope=col>&lt;dbl&gt;</th><th scope=col>&lt;int&gt;</th></tr>\n",
       "</thead>\n",
       "<tbody>\n",
       "\t<tr><th scope=row>1</th><td>23514.79</td><td>45</td></tr>\n",
       "\t<tr><th scope=row>2</th><td>24807.06</td><td>58</td></tr>\n",
       "\t<tr><th scope=row>3</th><td>21924.29</td><td>29</td></tr>\n",
       "\t<tr><th scope=row>4</th><td>28087.45</td><td>91</td></tr>\n",
       "\t<tr><th scope=row>5</th><td>22918.35</td><td>39</td></tr>\n",
       "\t<tr><th scope=row>6</th><td>21626.08</td><td>26</td></tr>\n",
       "</tbody>\n",
       "</table>\n"
      ],
      "text/latex": [
       "A data.frame: 6 × 2\n",
       "\\begin{tabular}{r|ll}\n",
       "  & earn & age\\\\\n",
       "  & <dbl> & <int>\\\\\n",
       "\\hline\n",
       "\t1 & 23514.79 & 45\\\\\n",
       "\t2 & 24807.06 & 58\\\\\n",
       "\t3 & 21924.29 & 29\\\\\n",
       "\t4 & 28087.45 & 91\\\\\n",
       "\t5 & 22918.35 & 39\\\\\n",
       "\t6 & 21626.08 & 26\\\\\n",
       "\\end{tabular}\n"
      ],
      "text/markdown": [
       "\n",
       "A data.frame: 6 × 2\n",
       "\n",
       "| <!--/--> | earn &lt;dbl&gt; | age &lt;int&gt; |\n",
       "|---|---|---|\n",
       "| 1 | 23514.79 | 45 |\n",
       "| 2 | 24807.06 | 58 |\n",
       "| 3 | 21924.29 | 29 |\n",
       "| 4 | 28087.45 | 91 |\n",
       "| 5 | 22918.35 | 39 |\n",
       "| 6 | 21626.08 | 26 |\n",
       "\n"
      ],
      "text/plain": [
       "  earn     age\n",
       "1 23514.79 45 \n",
       "2 24807.06 58 \n",
       "3 21924.29 29 \n",
       "4 28087.45 91 \n",
       "5 22918.35 39 \n",
       "6 21626.08 26 "
      ]
     },
     "metadata": {},
     "output_type": "display_data"
    }
   ],
   "source": [
    "age_predict_df <- data.frame(earn = predict(age_lm), age=heights_df$age)\n",
    "head(age_predict_df)"
   ]
  },
  {
   "cell_type": "markdown",
   "metadata": {},
   "source": [
    "**Plot the predictions against the original data**\n"
   ]
  },
  {
   "cell_type": "code",
   "execution_count": 7,
   "metadata": {},
   "outputs": [
    {
     "data": {
      "image/png": "[encoded data removed]",
      "text/plain": [
       "plot without title"
      ]
     },
     "metadata": {},
     "output_type": "display_data"
    }
   ],
   "source": [
    "ggplot(data = heights_df, aes(y = earn, x = age)) +\n",
    "geom_point(color='blue') +\n",
    "geom_line(color='red',data = age_predict_df, aes(y=earn, x=age), size = 2) + \n",
    "theme_bw()"
   ]
  },
  {
   "cell_type": "code",
   "execution_count": 8,
   "metadata": {},
   "outputs": [],
   "source": [
    "mean_earn <- mean(heights_df$earn)"
   ]
  },
  {
   "cell_type": "markdown",
   "metadata": {},
   "source": [
    "**Corrected Sum of Squares Total**"
   ]
  },
  {
   "cell_type": "code",
   "execution_count": 9,
   "metadata": {},
   "outputs": [
    {
     "data": {
      "text/html": [
       "451591883936.842"
      ],
      "text/latex": [
       "451591883936.842"
      ],
      "text/markdown": [
       "451591883936.842"
      ],
      "text/plain": [
       "[1] 451591883937"
      ]
     },
     "metadata": {},
     "output_type": "display_data"
    }
   ],
   "source": [
    "sst <- sum((mean_earn - heights_df$earn)^2)\n",
    "sst"
   ]
  },
  {
   "cell_type": "markdown",
   "metadata": {},
   "source": [
    "**Corrected Sum of Squares for Model**"
   ]
  },
  {
   "cell_type": "code",
   "execution_count": 10,
   "metadata": {},
   "outputs": [
    {
     "data": {
      "text/html": [
       "2963111899.85603"
      ],
      "text/latex": [
       "2963111899.85603"
      ],
      "text/markdown": [
       "2963111899.85603"
      ],
      "text/plain": [
       "[1] 2963111900"
      ]
     },
     "metadata": {},
     "output_type": "display_data"
    }
   ],
   "source": [
    "ssm <- sum((mean_earn - age_predict_df$earn)^2)\n",
    "ssm"
   ]
  },
  {
   "cell_type": "markdown",
   "metadata": {},
   "source": [
    "**Residuals**\n"
   ]
  },
  {
   "cell_type": "code",
   "execution_count": 11,
   "metadata": {},
   "outputs": [
    {
     "data": {
      "text/html": [
       "<style>\n",
       ".list-inline {list-style: none; margin:0; padding: 0}\n",
       ".list-inline>li {display: inline-block}\n",
       ".list-inline>li:not(:last-child)::after {content: \"\\00b7\"; padding: 0 .5ex}\n",
       "</style>\n",
       "<ol class=list-inline><li>26485.2141654208</li><li>35192.9391381706</li><li>8075.70650665184</li><li>21912.5486843815</li><li>28081.6487933824</li><li>-12626.0761793673</li></ol>\n"
      ],
      "text/latex": [
       "\\begin{enumerate*}\n",
       "\\item 26485.2141654208\n",
       "\\item 35192.9391381706\n",
       "\\item 8075.70650665184\n",
       "\\item 21912.5486843815\n",
       "\\item 28081.6487933824\n",
       "\\item -12626.0761793673\n",
       "\\end{enumerate*}\n"
      ],
      "text/markdown": [
       "1. 26485.2141654208\n",
       "2. 35192.9391381706\n",
       "3. 8075.70650665184\n",
       "4. 21912.5486843815\n",
       "5. 28081.6487933824\n",
       "6. -12626.0761793673\n",
       "\n",
       "\n"
      ],
      "text/plain": [
       "[1]  26485.214  35192.939   8075.707  21912.549  28081.649 -12626.076"
      ]
     },
     "metadata": {},
     "output_type": "display_data"
    }
   ],
   "source": [
    "residuals <- heights_df$earn - age_predict_df$earn\n",
    "head(residuals)"
   ]
  },
  {
   "cell_type": "markdown",
   "metadata": {},
   "source": [
    "**Sum of Squares for Error**\n"
   ]
  },
  {
   "cell_type": "code",
   "execution_count": 12,
   "metadata": {},
   "outputs": [
    {
     "data": {
      "text/html": [
       "448628772036.986"
      ],
      "text/latex": [
       "448628772036.986"
      ],
      "text/markdown": [
       "448628772036.986"
      ],
      "text/plain": [
       "[1] 448628772037"
      ]
     },
     "metadata": {},
     "output_type": "display_data"
    }
   ],
   "source": [
    "sse <- sum(residuals^2)\n",
    "sse"
   ]
  },
  {
   "cell_type": "markdown",
   "metadata": {},
   "source": [
    "**R Squared R^2 = SSM\\SST**\n",
    "\n"
   ]
  },
  {
   "cell_type": "code",
   "execution_count": 13,
   "metadata": {},
   "outputs": [
    {
     "data": {
      "text/html": [
       "0.00656148173883134"
      ],
      "text/latex": [
       "0.00656148173883134"
      ],
      "text/markdown": [
       "0.00656148173883134"
      ],
      "text/plain": [
       "[1] 0.006561482"
      ]
     },
     "metadata": {},
     "output_type": "display_data"
    }
   ],
   "source": [
    "r_squared <- ssm/sst\n",
    "r_squared"
   ]
  },
  {
   "cell_type": "markdown",
   "metadata": {},
   "source": [
    "**Number of observations**"
   ]
  },
  {
   "cell_type": "code",
   "execution_count": 14,
   "metadata": {},
   "outputs": [
    {
     "data": {
      "text/html": [
       "1192"
      ],
      "text/latex": [
       "1192"
      ],
      "text/markdown": [
       "1192"
      ],
      "text/plain": [
       "[1] 1192"
      ]
     },
     "metadata": {},
     "output_type": "display_data"
    }
   ],
   "source": [
    "n <- nrow(heights_df)\n",
    "n"
   ]
  },
  {
   "cell_type": "markdown",
   "metadata": {},
   "source": [
    "**Number of regression parameters**"
   ]
  },
  {
   "cell_type": "code",
   "execution_count": 15,
   "metadata": {},
   "outputs": [
    {
     "data": {
      "text/html": [
       "2"
      ],
      "text/latex": [
       "2"
      ],
      "text/markdown": [
       "2"
      ],
      "text/plain": [
       "[1] 2"
      ]
     },
     "metadata": {},
     "output_type": "display_data"
    }
   ],
   "source": [
    "p <- 2\n",
    "p"
   ]
  },
  {
   "cell_type": "markdown",
   "metadata": {},
   "source": [
    "**Corrected Degrees of Freedom for Model (p-1)**\n"
   ]
  },
  {
   "cell_type": "code",
   "execution_count": 16,
   "metadata": {},
   "outputs": [
    {
     "data": {
      "text/html": [
       "1"
      ],
      "text/latex": [
       "1"
      ],
      "text/markdown": [
       "1"
      ],
      "text/plain": [
       "[1] 1"
      ]
     },
     "metadata": {},
     "output_type": "display_data"
    }
   ],
   "source": [
    "dfm <- p - 1\n",
    "dfm"
   ]
  },
  {
   "cell_type": "markdown",
   "metadata": {},
   "source": [
    "**Degrees of Freedom for Error (n-p)**"
   ]
  },
  {
   "cell_type": "code",
   "execution_count": 17,
   "metadata": {},
   "outputs": [
    {
     "data": {
      "text/html": [
       "1190"
      ],
      "text/latex": [
       "1190"
      ],
      "text/markdown": [
       "1190"
      ],
      "text/plain": [
       "[1] 1190"
      ]
     },
     "metadata": {},
     "output_type": "display_data"
    }
   ],
   "source": [
    "dfe <- n - p\n",
    "dfe"
   ]
  },
  {
   "cell_type": "markdown",
   "metadata": {},
   "source": [
    "\n",
    "**Corrected Degrees of Freedom Total:   DFT = n - 1**\n"
   ]
  },
  {
   "cell_type": "code",
   "execution_count": 18,
   "metadata": {},
   "outputs": [
    {
     "data": {
      "text/html": [
       "1191"
      ],
      "text/latex": [
       "1191"
      ],
      "text/markdown": [
       "1191"
      ],
      "text/plain": [
       "[1] 1191"
      ]
     },
     "metadata": {},
     "output_type": "display_data"
    }
   ],
   "source": [
    "dft <- n - 1\n",
    "dft"
   ]
  },
  {
   "cell_type": "markdown",
   "metadata": {},
   "source": [
    "**Mean of Squares for Model:   MSM = SSM / DFM**\n"
   ]
  },
  {
   "cell_type": "code",
   "execution_count": 19,
   "metadata": {},
   "outputs": [
    {
     "data": {
      "text/html": [
       "2963111899.85603"
      ],
      "text/latex": [
       "2963111899.85603"
      ],
      "text/markdown": [
       "2963111899.85603"
      ],
      "text/plain": [
       "[1] 2963111900"
      ]
     },
     "metadata": {},
     "output_type": "display_data"
    }
   ],
   "source": [
    "msm <- ssm / dfm\n",
    "msm"
   ]
  },
  {
   "cell_type": "markdown",
   "metadata": {},
   "source": [
    "**Mean of Squares for Error:   MSE = SSE / DFE**"
   ]
  },
  {
   "cell_type": "code",
   "execution_count": 20,
   "metadata": {},
   "outputs": [
    {
     "data": {
      "text/html": [
       "376998968.098308"
      ],
      "text/latex": [
       "376998968.098308"
      ],
      "text/markdown": [
       "376998968.098308"
      ],
      "text/plain": [
       "[1] 376998968"
      ]
     },
     "metadata": {},
     "output_type": "display_data"
    }
   ],
   "source": [
    "mse <- sse / dfe\n",
    "mse"
   ]
  },
  {
   "cell_type": "markdown",
   "metadata": {},
   "source": [
    "**Mean of Squares Total:   MST = SST / DFT**\n"
   ]
  },
  {
   "cell_type": "code",
   "execution_count": 21,
   "metadata": {},
   "outputs": [
    {
     "data": {
      "text/html": [
       "379170347.554024"
      ],
      "text/latex": [
       "379170347.554024"
      ],
      "text/markdown": [
       "379170347.554024"
      ],
      "text/plain": [
       "[1] 379170348"
      ]
     },
     "metadata": {},
     "output_type": "display_data"
    }
   ],
   "source": [
    "mst <- sst / dft\n",
    "mst"
   ]
  },
  {
   "cell_type": "markdown",
   "metadata": {},
   "source": [
    "**F Statistic F = MSM/MSE**"
   ]
  },
  {
   "cell_type": "code",
   "execution_count": 22,
   "metadata": {},
   "outputs": [
    {
     "data": {
      "text/html": [
       "7.8597347754102"
      ],
      "text/latex": [
       "7.8597347754102"
      ],
      "text/markdown": [
       "7.8597347754102"
      ],
      "text/plain": [
       "[1] 7.859735"
      ]
     },
     "metadata": {},
     "output_type": "display_data"
    }
   ],
   "source": [
    "f_score <- msm/mse\n",
    "f_score"
   ]
  },
  {
   "cell_type": "markdown",
   "metadata": {},
   "source": [
    "**Adjusted R Squared R2 = 1 - (1 - R2)(n - 1) / (n - p)**"
   ]
  },
  {
   "cell_type": "code",
   "execution_count": 23,
   "metadata": {},
   "outputs": [
    {
     "data": {
      "text/html": [
       "0.00572665945457818"
      ],
      "text/latex": [
       "0.00572665945457818"
      ],
      "text/markdown": [
       "0.00572665945457818"
      ],
      "text/plain": [
       "[1] 0.005726659"
      ]
     },
     "metadata": {},
     "output_type": "display_data"
    }
   ],
   "source": [
    "adjusted_r_squared <- 1 -(1 - r_squared)*(n - 1) / (n - p)\n",
    "adjusted_r_squared"
   ]
  },
  {
   "cell_type": "markdown",
   "metadata": {},
   "source": [
    "**Calculate the p-value from the F distribution**"
   ]
  },
  {
   "cell_type": "code",
   "execution_count": 24,
   "metadata": {},
   "outputs": [
    {
     "data": {
      "text/html": [
       "0.00513682567133411"
      ],
      "text/latex": [
       "0.00513682567133411"
      ],
      "text/markdown": [
       "0.00513682567133411"
      ],
      "text/plain": [
       "[1] 0.005136826"
      ]
     },
     "metadata": {},
     "output_type": "display_data"
    }
   ],
   "source": [
    "p_value <- pf(f_score, dfm, dft, lower.tail=F)\n",
    "p_value"
   ]
  }
 ],
 "metadata": {
  "kernelspec": {
   "display_name": "R",
   "language": "R",
   "name": "ir"
  },
  "language_info": {
   "codemirror_mode": "r",
   "file_extension": ".r",
   "mimetype": "text/x-r-source",
   "name": "R",
   "pygments_lexer": "r",
   "version": "3.6.1"
  }
 },
 "nbformat": 4,
 "nbformat_minor": 4
}
