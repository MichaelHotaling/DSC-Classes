{
 "cells": [
  {
   "cell_type": "markdown",
   "metadata": {},
   "source": [
    "Assignment: ASSIGNMENT 1 <br>\n",
    "Name: Hotaling, Michael  <br>\n",
    "Date: 2020-08-30"
   ]
  },
  {
   "cell_type": "markdown",
   "metadata": {},
   "source": [
    "Create a numeric vector with the values of 3, 2, 1 using the `c()` function.\n",
    "Assign the value to a variable named `num_vector`\n",
    "Print the vector"
   ]
  },
  {
   "cell_type": "code",
   "execution_count": 1,
   "metadata": {},
   "outputs": [
    {
     "name": "stdout",
     "output_type": "stream",
     "text": [
      "[1] 3 2 1\n"
     ]
    }
   ],
   "source": [
    "num_vector <-c(3,2,1)\n",
    "print(num_vector)"
   ]
  },
  {
   "cell_type": "markdown",
   "metadata": {},
   "source": [
    "Create a character vector with the values of \"three\", \"two\", \"one\" \"using the `c()` function\n",
    "Assign the value to a variable named `char_vector`\n",
    "Print the vector"
   ]
  },
  {
   "cell_type": "code",
   "execution_count": 2,
   "metadata": {},
   "outputs": [
    {
     "name": "stdout",
     "output_type": "stream",
     "text": [
      "[1] \"three\" \"two\"   \"one\"  \n"
     ]
    }
   ],
   "source": [
    "char_vector <- c(\"three\",\"two\",\"one\")\n",
    "print(char_vector)"
   ]
  },
  {
   "cell_type": "markdown",
   "metadata": {},
   "source": [
    "Create a vector called `week1_sleep` representing how many hours slept each night of the week\n",
    "Use the values `6.1, 8.8, 7.7, 6.4, 6.2, 6.9, 6.6`"
   ]
  },
  {
   "cell_type": "code",
   "execution_count": 3,
   "metadata": {},
   "outputs": [
    {
     "name": "stdout",
     "output_type": "stream",
     "text": [
      "[1] 6.1 8.8 7.1 6.4 6.2 6.9 6.6\n"
     ]
    }
   ],
   "source": [
    "week1_sleep <- c(6.1, 8.8, 7.1, 6.4, 6.2, 6.9, 6.6)\n",
    "print(week1_sleep)"
   ]
  },
  {
   "cell_type": "markdown",
   "metadata": {},
   "source": [
    "Display the amount of sleep on Tuesday of week 1 by selecting the variable index\n"
   ]
  },
  {
   "cell_type": "code",
   "execution_count": 4,
   "metadata": {},
   "outputs": [
    {
     "data": {
      "text/html": [
       "7.1"
      ],
      "text/latex": [
       "7.1"
      ],
      "text/markdown": [
       "7.1"
      ],
      "text/plain": [
       "[1] 7.1"
      ]
     },
     "metadata": {},
     "output_type": "display_data"
    }
   ],
   "source": [
    "week1_sleep[3]  # Assuming the week starts with Sunday"
   ]
  },
  {
   "cell_type": "markdown",
   "metadata": {},
   "source": [
    "Create a vector called `week1_sleep_weekdays`\n",
    "Assign the weekday values using indice slicing"
   ]
  },
  {
   "cell_type": "code",
   "execution_count": 5,
   "metadata": {},
   "outputs": [
    {
     "name": "stdout",
     "output_type": "stream",
     "text": [
      "[1] 8.8 7.1 6.4 6.2 6.9\n"
     ]
    }
   ],
   "source": [
    "week1_sleep_weekdays <- week1_sleep[2:6]  # Assuming the week starts with Sunday\n",
    "print(week1_sleep_weekdays)"
   ]
  },
  {
   "cell_type": "markdown",
   "metadata": {},
   "source": [
    "Add the total hours slept in week one using the `sum` function\n",
    "Assign the value to variable `total_sleep_week1`"
   ]
  },
  {
   "cell_type": "code",
   "execution_count": 6,
   "metadata": {},
   "outputs": [
    {
     "data": {
      "text/html": [
       "48.1"
      ],
      "text/latex": [
       "48.1"
      ],
      "text/markdown": [
       "48.1"
      ],
      "text/plain": [
       "[1] 48.1"
      ]
     },
     "metadata": {},
     "output_type": "display_data"
    }
   ],
   "source": [
    "total_sleep_week1 <- sum(week1_sleep)\n",
    "total_sleep_week1"
   ]
  },
  {
   "cell_type": "markdown",
   "metadata": {},
   "source": [
    "Create a vector called `week2_sleep` representing how many hours slept each night of the week\n",
    "Use the values 7.1, 7.4, 7.9, 6.5, 8.1, 8.2, 8.9"
   ]
  },
  {
   "cell_type": "code",
   "execution_count": 7,
   "metadata": {},
   "outputs": [
    {
     "name": "stdout",
     "output_type": "stream",
     "text": [
      "[1] 7.1 7.4 7.9 6.5 8.1 8.2 8.9\n"
     ]
    }
   ],
   "source": [
    "week2_sleep <- c(7.1, 7.4, 7.9, 6.5, 8.1, 8.2, 8.9)\n",
    "print(week2_sleep)"
   ]
  },
  {
   "cell_type": "markdown",
   "metadata": {},
   "source": [
    "Add the total hours slept in week two using the sum function\n",
    "Assign the value to variable `total_sleep_week2`"
   ]
  },
  {
   "cell_type": "code",
   "execution_count": 8,
   "metadata": {},
   "outputs": [
    {
     "name": "stdout",
     "output_type": "stream",
     "text": [
      "[1] 54.1\n"
     ]
    }
   ],
   "source": [
    "total_sleep_week2 <- sum(week2_sleep)\n",
    "print(total_sleep_week2)"
   ]
  },
  {
   "cell_type": "markdown",
   "metadata": {},
   "source": [
    "\n",
    "Determine if the total sleep in week 1 is less than week 2 by using the `<` operator\n",
    "`"
   ]
  },
  {
   "cell_type": "code",
   "execution_count": 9,
   "metadata": {},
   "outputs": [
    {
     "data": {
      "text/html": [
       "TRUE"
      ],
      "text/latex": [
       "TRUE"
      ],
      "text/markdown": [
       "TRUE"
      ],
      "text/plain": [
       "[1] TRUE"
      ]
     },
     "metadata": {},
     "output_type": "display_data"
    }
   ],
   "source": [
    "total_sleep_week1 < total_sleep_week2"
   ]
  },
  {
   "cell_type": "markdown",
   "metadata": {},
   "source": [
    "Calculate the mean hours slept in week 1 using the `mean()` function"
   ]
  },
  {
   "cell_type": "code",
   "execution_count": 10,
   "metadata": {},
   "outputs": [
    {
     "data": {
      "text/html": [
       "6.87142857142857"
      ],
      "text/latex": [
       "6.87142857142857"
      ],
      "text/markdown": [
       "6.87142857142857"
      ],
      "text/plain": [
       "[1] 6.871429"
      ]
     },
     "metadata": {},
     "output_type": "display_data"
    }
   ],
   "source": [
    "mean(week1_sleep)"
   ]
  },
  {
   "cell_type": "markdown",
   "metadata": {},
   "source": [
    "Create a vector called `days` containing the days of the week.\n",
    "Start with Sunday and end with Saturday"
   ]
  },
  {
   "cell_type": "code",
   "execution_count": 11,
   "metadata": {},
   "outputs": [
    {
     "name": "stdout",
     "output_type": "stream",
     "text": [
      "[1] \"Sunday\"    \"Monday\"    \"Tuesday\"   \"Wednesday\" \"Thursday\"  \"Friday\"   \n",
      "[7] \"Saturday\" \n"
     ]
    }
   ],
   "source": [
    "\n",
    "days <- c(\"Sunday\", \"Monday\", \"Tuesday\", \"Wednesday\", \"Thursday\", \"Friday\", \"Saturday\")\n",
    "print(days)"
   ]
  },
  {
   "cell_type": "markdown",
   "metadata": {},
   "source": [
    "Assign the names of each day to `week1_sleep` and `week2_sleep` using the `names` function and `days` vector"
   ]
  },
  {
   "cell_type": "code",
   "execution_count": 12,
   "metadata": {},
   "outputs": [
    {
     "name": "stdout",
     "output_type": "stream",
     "text": [
      "   Sunday    Monday   Tuesday Wednesday  Thursday    Friday  Saturday \n",
      "      6.1       8.8       7.1       6.4       6.2       6.9       6.6 \n",
      "   Sunday    Monday   Tuesday Wednesday  Thursday    Friday  Saturday \n",
      "      7.1       7.4       7.9       6.5       8.1       8.2       8.9 \n"
     ]
    }
   ],
   "source": [
    "names(week1_sleep) <- days\n",
    "names(week2_sleep) <- days\n",
    "\n",
    "print(week1_sleep)\n",
    "print(week2_sleep)"
   ]
  },
  {
   "cell_type": "markdown",
   "metadata": {},
   "source": [
    "Display the amount of sleep on Tuesday of week 1 by selecting the variable name\n"
   ]
  },
  {
   "cell_type": "code",
   "execution_count": 13,
   "metadata": {},
   "outputs": [
    {
     "data": {
      "text/html": [
       "<strong>Tuesday:</strong> 7.1"
      ],
      "text/latex": [
       "\\textbf{Tuesday:} 7.1"
      ],
      "text/markdown": [
       "**Tuesday:** 7.1"
      ],
      "text/plain": [
       "Tuesday \n",
       "    7.1 "
      ]
     },
     "metadata": {},
     "output_type": "display_data"
    }
   ],
   "source": [
    "week1_sleep[\"Tuesday\"]"
   ]
  },
  {
   "cell_type": "markdown",
   "metadata": {},
   "source": [
    "Create vector called `weekdays` from the days vector"
   ]
  },
  {
   "cell_type": "code",
   "execution_count": 14,
   "metadata": {},
   "outputs": [
    {
     "name": "stdout",
     "output_type": "stream",
     "text": [
      "[1] \"Monday\"    \"Tuesday\"   \"Wednesday\" \"Thursday\"  \"Friday\"   \n"
     ]
    }
   ],
   "source": [
    "weekdays <- days[2:6]\n",
    "print(weekdays)"
   ]
  },
  {
   "cell_type": "markdown",
   "metadata": {},
   "source": [
    "Create vector called `weekends` containing Sunday and Saturday"
   ]
  },
  {
   "cell_type": "code",
   "execution_count": 15,
   "metadata": {},
   "outputs": [
    {
     "name": "stdout",
     "output_type": "stream",
     "text": [
      "[1] \"Sunday\"   \"Saturday\"\n"
     ]
    }
   ],
   "source": [
    "weekends <- days[-2:-6]\n",
    "print(weekends)"
   ]
  },
  {
   "cell_type": "markdown",
   "metadata": {},
   "source": [
    "Calculate the mean about sleep on weekdays for each week\n",
    "Assign the values to `weekdays1_mean` and `weekdays2_mean`"
   ]
  },
  {
   "cell_type": "code",
   "execution_count": 16,
   "metadata": {},
   "outputs": [
    {
     "name": "stdout",
     "output_type": "stream",
     "text": [
      "[1] 7.08\n",
      "[1] 7.62\n"
     ]
    }
   ],
   "source": [
    "weekdays1_mean <- mean(week1_sleep[weekdays])\n",
    "weekdays2_mean <- mean(week2_sleep[weekdays])\n",
    "\n",
    "print(weekdays1_mean)\n",
    "print(weekdays2_mean)"
   ]
  },
  {
   "cell_type": "markdown",
   "metadata": {},
   "source": [
    "Using the `weekdays1_mean` and `weekdays2_mean` variables, see if `weekdays1_mean` is greater than `weekdays2_mean` using the `>` operator"
   ]
  },
  {
   "cell_type": "code",
   "execution_count": 17,
   "metadata": {},
   "outputs": [
    {
     "data": {
      "text/html": [
       "FALSE"
      ],
      "text/latex": [
       "FALSE"
      ],
      "text/markdown": [
       "FALSE"
      ],
      "text/plain": [
       "[1] FALSE"
      ]
     },
     "metadata": {},
     "output_type": "display_data"
    }
   ],
   "source": [
    "weekdays1_mean > weekdays2_mean"
   ]
  },
  {
   "cell_type": "markdown",
   "metadata": {},
   "source": [
    "Determine how many days in week 1 had over 8 hours of sleep using the `>` operator"
   ]
  },
  {
   "cell_type": "code",
   "execution_count": 18,
   "metadata": {},
   "outputs": [
    {
     "data": {
      "text/html": [
       "<style>\n",
       ".dl-inline {width: auto; margin:0; padding: 0}\n",
       ".dl-inline>dt, .dl-inline>dd {float: none; width: auto; display: inline-block}\n",
       ".dl-inline>dt::after {content: \":\\0020\"; padding-right: .5ex}\n",
       ".dl-inline>dt:not(:first-of-type) {padding-left: .5ex}\n",
       "</style><dl class=dl-inline><dt>Sunday</dt><dd>FALSE</dd><dt>Monday</dt><dd>TRUE</dd><dt>Tuesday</dt><dd>FALSE</dd><dt>Wednesday</dt><dd>FALSE</dd><dt>Thursday</dt><dd>FALSE</dd><dt>Friday</dt><dd>FALSE</dd><dt>Saturday</dt><dd>FALSE</dd></dl>\n"
      ],
      "text/latex": [
       "\\begin{description*}\n",
       "\\item[Sunday] FALSE\n",
       "\\item[Monday] TRUE\n",
       "\\item[Tuesday] FALSE\n",
       "\\item[Wednesday] FALSE\n",
       "\\item[Thursday] FALSE\n",
       "\\item[Friday] FALSE\n",
       "\\item[Saturday] FALSE\n",
       "\\end{description*}\n"
      ],
      "text/markdown": [
       "Sunday\n",
       ":   FALSEMonday\n",
       ":   TRUETuesday\n",
       ":   FALSEWednesday\n",
       ":   FALSEThursday\n",
       ":   FALSEFriday\n",
       ":   FALSESaturday\n",
       ":   FALSE\n",
       "\n"
      ],
      "text/plain": [
       "   Sunday    Monday   Tuesday Wednesday  Thursday    Friday  Saturday \n",
       "    FALSE      TRUE     FALSE     FALSE     FALSE     FALSE     FALSE "
      ]
     },
     "metadata": {},
     "output_type": "display_data"
    }
   ],
   "source": [
    "week1_sleep > 8 "
   ]
  },
  {
   "cell_type": "markdown",
   "metadata": {},
   "source": [
    "Create a matrix from the following three vectors"
   ]
  },
  {
   "cell_type": "code",
   "execution_count": 19,
   "metadata": {},
   "outputs": [],
   "source": [
    "student01 <- c(100.0, 87.1)\n",
    "student02 <- c(77.2, 88.9)\n",
    "student03 <- c(66.3, 87.9)"
   ]
  },
  {
   "cell_type": "code",
   "execution_count": 20,
   "metadata": {},
   "outputs": [
    {
     "data": {
      "text/html": [
       "<table>\n",
       "<caption>A matrix: 3 × 2 of type dbl</caption>\n",
       "<tbody>\n",
       "\t<tr><th scope=row>student01</th><td>100.0</td><td>87.1</td></tr>\n",
       "\t<tr><th scope=row>student02</th><td> 77.2</td><td>88.9</td></tr>\n",
       "\t<tr><th scope=row>student03</th><td> 66.3</td><td>87.9</td></tr>\n",
       "</tbody>\n",
       "</table>\n"
      ],
      "text/latex": [
       "A matrix: 3 × 2 of type dbl\n",
       "\\begin{tabular}{r|ll}\n",
       "\tstudent01 & 100.0 & 87.1\\\\\n",
       "\tstudent02 &  77.2 & 88.9\\\\\n",
       "\tstudent03 &  66.3 & 87.9\\\\\n",
       "\\end{tabular}\n"
      ],
      "text/markdown": [
       "\n",
       "A matrix: 3 × 2 of type dbl\n",
       "\n",
       "| student01 | 100.0 | 87.1 |\n",
       "| student02 |  77.2 | 88.9 |\n",
       "| student03 |  66.3 | 87.9 |\n",
       "\n"
      ],
      "text/plain": [
       "          [,1]  [,2]\n",
       "student01 100.0 87.1\n",
       "student02  77.2 88.9\n",
       "student03  66.3 87.9"
      ]
     },
     "metadata": {},
     "output_type": "display_data"
    }
   ],
   "source": [
    "students_combined <- rbind(student01, student02, student03)\n",
    "grades <- matrix(students_combined, byrow = FALSE, nrow = 3)\n",
    "students_combined"
   ]
  },
  {
   "cell_type": "markdown",
   "metadata": {},
   "source": [
    "Add a new student row with `rbind()`"
   ]
  },
  {
   "cell_type": "code",
   "execution_count": 21,
   "metadata": {},
   "outputs": [],
   "source": [
    "student04 <- c(95.2, 94.1)"
   ]
  },
  {
   "cell_type": "code",
   "execution_count": 22,
   "metadata": {},
   "outputs": [
    {
     "data": {
      "text/html": [
       "<table>\n",
       "<caption>A matrix: 4 × 2 of type dbl</caption>\n",
       "<tbody>\n",
       "\t<tr><th scope=row></th><td>100.0</td><td>87.1</td></tr>\n",
       "\t<tr><th scope=row></th><td> 77.2</td><td>88.9</td></tr>\n",
       "\t<tr><th scope=row></th><td> 66.3</td><td>87.9</td></tr>\n",
       "\t<tr><th scope=row>student04</th><td> 95.2</td><td>94.1</td></tr>\n",
       "</tbody>\n",
       "</table>\n"
      ],
      "text/latex": [
       "A matrix: 4 × 2 of type dbl\n",
       "\\begin{tabular}{r|ll}\n",
       "\t & 100.0 & 87.1\\\\\n",
       "\t &  77.2 & 88.9\\\\\n",
       "\t &  66.3 & 87.9\\\\\n",
       "\tstudent04 &  95.2 & 94.1\\\\\n",
       "\\end{tabular}\n"
      ],
      "text/markdown": [
       "\n",
       "A matrix: 4 × 2 of type dbl\n",
       "\n",
       "| <!----> | 100.0 | 87.1 |\n",
       "| <!----> |  77.2 | 88.9 |\n",
       "| <!----> |  66.3 | 87.9 |\n",
       "| student04 |  95.2 | 94.1 |\n",
       "\n"
      ],
      "text/plain": [
       "          [,1]  [,2]\n",
       "          100.0 87.1\n",
       "           77.2 88.9\n",
       "           66.3 87.9\n",
       "student04  95.2 94.1"
      ]
     },
     "metadata": {},
     "output_type": "display_data"
    }
   ],
   "source": [
    "grades <- rbind(grades,student04)  # The names in matrices get erased when using rbind for some reason\n",
    "grades"
   ]
  },
  {
   "cell_type": "markdown",
   "metadata": {},
   "source": [
    "Add a new assignment column with `cbind()`\n"
   ]
  },
  {
   "cell_type": "code",
   "execution_count": 23,
   "metadata": {},
   "outputs": [],
   "source": [
    "assignment03 <- c(92.1, 84.3, 75.1, 97.8)"
   ]
  },
  {
   "cell_type": "code",
   "execution_count": 24,
   "metadata": {},
   "outputs": [
    {
     "data": {
      "text/html": [
       "<table>\n",
       "<caption>A matrix: 4 × 3 of type dbl</caption>\n",
       "<thead>\n",
       "\t<tr><th></th><th scope=col></th><th scope=col></th><th scope=col>assignment03</th></tr>\n",
       "</thead>\n",
       "<tbody>\n",
       "\t<tr><th scope=row></th><td>100.0</td><td>87.1</td><td>92.1</td></tr>\n",
       "\t<tr><th scope=row></th><td> 77.2</td><td>88.9</td><td>84.3</td></tr>\n",
       "\t<tr><th scope=row></th><td> 66.3</td><td>87.9</td><td>75.1</td></tr>\n",
       "\t<tr><th scope=row>student04</th><td> 95.2</td><td>94.1</td><td>97.8</td></tr>\n",
       "</tbody>\n",
       "</table>\n"
      ],
      "text/latex": [
       "A matrix: 4 × 3 of type dbl\n",
       "\\begin{tabular}{r|lll}\n",
       "  &  &  & assignment03\\\\\n",
       "\\hline\n",
       "\t & 100.0 & 87.1 & 92.1\\\\\n",
       "\t &  77.2 & 88.9 & 84.3\\\\\n",
       "\t &  66.3 & 87.9 & 75.1\\\\\n",
       "\tstudent04 &  95.2 & 94.1 & 97.8\\\\\n",
       "\\end{tabular}\n"
      ],
      "text/markdown": [
       "\n",
       "A matrix: 4 × 3 of type dbl\n",
       "\n",
       "| <!--/--> | <!----> | <!----> | assignment03 |\n",
       "|---|---|---|---|\n",
       "| <!----> | 100.0 | 87.1 | 92.1 |\n",
       "| <!----> |  77.2 | 88.9 | 84.3 |\n",
       "| <!----> |  66.3 | 87.9 | 75.1 |\n",
       "| student04 |  95.2 | 94.1 | 97.8 |\n",
       "\n"
      ],
      "text/plain": [
       "                     assignment03\n",
       "          100.0 87.1 92.1        \n",
       "           77.2 88.9 84.3        \n",
       "           66.3 87.9 75.1        \n",
       "student04  95.2 94.1 97.8        "
      ]
     },
     "metadata": {},
     "output_type": "display_data"
    }
   ],
   "source": [
    "grades <- cbind(grades, assignment03)\n",
    "grades"
   ]
  },
  {
   "cell_type": "markdown",
   "metadata": {},
   "source": [
    "Add the following names to columns and rows using `rownames()` and `colnames()`\n"
   ]
  },
  {
   "cell_type": "code",
   "execution_count": 25,
   "metadata": {},
   "outputs": [],
   "source": [
    "assignments <- c(\"Assignment 1\", \"Assignment 2\", \"Assignment 3\")\n",
    "students <- c(\"Florinda Baird\", \"Jinny Foss\", \"Lou Purvis\", \"Nola Maloney\")"
   ]
  },
  {
   "cell_type": "code",
   "execution_count": 26,
   "metadata": {},
   "outputs": [
    {
     "data": {
      "text/html": [
       "<table>\n",
       "<caption>A matrix: 4 × 3 of type dbl</caption>\n",
       "<thead>\n",
       "\t<tr><th></th><th scope=col>Assignment 1</th><th scope=col>Assignment 2</th><th scope=col>Assignment 3</th></tr>\n",
       "</thead>\n",
       "<tbody>\n",
       "\t<tr><th scope=row>Florinda Baird</th><td>100.0</td><td>87.1</td><td>92.1</td></tr>\n",
       "\t<tr><th scope=row>Jinny Foss</th><td> 77.2</td><td>88.9</td><td>84.3</td></tr>\n",
       "\t<tr><th scope=row>Lou Purvis</th><td> 66.3</td><td>87.9</td><td>75.1</td></tr>\n",
       "\t<tr><th scope=row>Nola Maloney</th><td> 95.2</td><td>94.1</td><td>97.8</td></tr>\n",
       "</tbody>\n",
       "</table>\n"
      ],
      "text/latex": [
       "A matrix: 4 × 3 of type dbl\n",
       "\\begin{tabular}{r|lll}\n",
       "  & Assignment 1 & Assignment 2 & Assignment 3\\\\\n",
       "\\hline\n",
       "\tFlorinda Baird & 100.0 & 87.1 & 92.1\\\\\n",
       "\tJinny Foss &  77.2 & 88.9 & 84.3\\\\\n",
       "\tLou Purvis &  66.3 & 87.9 & 75.1\\\\\n",
       "\tNola Maloney &  95.2 & 94.1 & 97.8\\\\\n",
       "\\end{tabular}\n"
      ],
      "text/markdown": [
       "\n",
       "A matrix: 4 × 3 of type dbl\n",
       "\n",
       "| <!--/--> | Assignment 1 | Assignment 2 | Assignment 3 |\n",
       "|---|---|---|---|\n",
       "| Florinda Baird | 100.0 | 87.1 | 92.1 |\n",
       "| Jinny Foss |  77.2 | 88.9 | 84.3 |\n",
       "| Lou Purvis |  66.3 | 87.9 | 75.1 |\n",
       "| Nola Maloney |  95.2 | 94.1 | 97.8 |\n",
       "\n"
      ],
      "text/plain": [
       "               Assignment 1 Assignment 2 Assignment 3\n",
       "Florinda Baird 100.0        87.1         92.1        \n",
       "Jinny Foss      77.2        88.9         84.3        \n",
       "Lou Purvis      66.3        87.9         75.1        \n",
       "Nola Maloney    95.2        94.1         97.8        "
      ]
     },
     "metadata": {},
     "output_type": "display_data"
    }
   ],
   "source": [
    "rownames(grades) <- students\n",
    "colnames(grades) <- assignments\n",
    "grades"
   ]
  },
  {
   "cell_type": "markdown",
   "metadata": {},
   "source": [
    "Total points for each assignment using `colSums()`\n"
   ]
  },
  {
   "cell_type": "code",
   "execution_count": 27,
   "metadata": {},
   "outputs": [
    {
     "data": {
      "text/html": [
       "<style>\n",
       ".dl-inline {width: auto; margin:0; padding: 0}\n",
       ".dl-inline>dt, .dl-inline>dd {float: none; width: auto; display: inline-block}\n",
       ".dl-inline>dt::after {content: \":\\0020\"; padding-right: .5ex}\n",
       ".dl-inline>dt:not(:first-of-type) {padding-left: .5ex}\n",
       "</style><dl class=dl-inline><dt>Assignment 1</dt><dd>338.7</dd><dt>Assignment 2</dt><dd>358</dd><dt>Assignment 3</dt><dd>349.3</dd></dl>\n"
      ],
      "text/latex": [
       "\\begin{description*}\n",
       "\\item[Assignment 1] 338.7\n",
       "\\item[Assignment 2] 358\n",
       "\\item[Assignment 3] 349.3\n",
       "\\end{description*}\n"
      ],
      "text/markdown": [
       "Assignment 1\n",
       ":   338.7Assignment 2\n",
       ":   358Assignment 3\n",
       ":   349.3\n",
       "\n"
      ],
      "text/plain": [
       "Assignment 1 Assignment 2 Assignment 3 \n",
       "       338.7        358.0        349.3 "
      ]
     },
     "metadata": {},
     "output_type": "display_data"
    }
   ],
   "source": [
    "colSums(grades)"
   ]
  },
  {
   "cell_type": "markdown",
   "metadata": {},
   "source": [
    "Total points for each student using `rowSums()`"
   ]
  },
  {
   "cell_type": "code",
   "execution_count": 28,
   "metadata": {},
   "outputs": [
    {
     "data": {
      "text/html": [
       "<style>\n",
       ".dl-inline {width: auto; margin:0; padding: 0}\n",
       ".dl-inline>dt, .dl-inline>dd {float: none; width: auto; display: inline-block}\n",
       ".dl-inline>dt::after {content: \":\\0020\"; padding-right: .5ex}\n",
       ".dl-inline>dt:not(:first-of-type) {padding-left: .5ex}\n",
       "</style><dl class=dl-inline><dt>Florinda Baird</dt><dd>279.2</dd><dt>Jinny Foss</dt><dd>250.4</dd><dt>Lou Purvis</dt><dd>229.3</dd><dt>Nola Maloney</dt><dd>287.1</dd></dl>\n"
      ],
      "text/latex": [
       "\\begin{description*}\n",
       "\\item[Florinda Baird] 279.2\n",
       "\\item[Jinny Foss] 250.4\n",
       "\\item[Lou Purvis] 229.3\n",
       "\\item[Nola Maloney] 287.1\n",
       "\\end{description*}\n"
      ],
      "text/markdown": [
       "Florinda Baird\n",
       ":   279.2Jinny Foss\n",
       ":   250.4Lou Purvis\n",
       ":   229.3Nola Maloney\n",
       ":   287.1\n",
       "\n"
      ],
      "text/plain": [
       "Florinda Baird     Jinny Foss     Lou Purvis   Nola Maloney \n",
       "         279.2          250.4          229.3          287.1 "
      ]
     },
     "metadata": {},
     "output_type": "display_data"
    }
   ],
   "source": [
    "rowSums(grades)"
   ]
  },
  {
   "cell_type": "markdown",
   "metadata": {},
   "source": [
    "Matrix with 10% and add it to grades"
   ]
  },
  {
   "cell_type": "code",
   "execution_count": 29,
   "metadata": {},
   "outputs": [
    {
     "data": {
      "text/html": [
       "<table>\n",
       "<caption>A matrix: 4 × 3 of type dbl</caption>\n",
       "<thead>\n",
       "\t<tr><th></th><th scope=col>Assignment 1</th><th scope=col>Assignment 2</th><th scope=col>Assignment 3</th></tr>\n",
       "</thead>\n",
       "<tbody>\n",
       "\t<tr><th scope=row>Florinda Baird</th><td>110.00</td><td> 95.81</td><td>101.31</td></tr>\n",
       "\t<tr><th scope=row>Jinny Foss</th><td> 84.92</td><td> 97.79</td><td> 92.73</td></tr>\n",
       "\t<tr><th scope=row>Lou Purvis</th><td> 72.93</td><td> 96.69</td><td> 82.61</td></tr>\n",
       "\t<tr><th scope=row>Nola Maloney</th><td>104.72</td><td>103.51</td><td>107.58</td></tr>\n",
       "</tbody>\n",
       "</table>\n"
      ],
      "text/latex": [
       "A matrix: 4 × 3 of type dbl\n",
       "\\begin{tabular}{r|lll}\n",
       "  & Assignment 1 & Assignment 2 & Assignment 3\\\\\n",
       "\\hline\n",
       "\tFlorinda Baird & 110.00 &  95.81 & 101.31\\\\\n",
       "\tJinny Foss &  84.92 &  97.79 &  92.73\\\\\n",
       "\tLou Purvis &  72.93 &  96.69 &  82.61\\\\\n",
       "\tNola Maloney & 104.72 & 103.51 & 107.58\\\\\n",
       "\\end{tabular}\n"
      ],
      "text/markdown": [
       "\n",
       "A matrix: 4 × 3 of type dbl\n",
       "\n",
       "| <!--/--> | Assignment 1 | Assignment 2 | Assignment 3 |\n",
       "|---|---|---|---|\n",
       "| Florinda Baird | 110.00 |  95.81 | 101.31 |\n",
       "| Jinny Foss |  84.92 |  97.79 |  92.73 |\n",
       "| Lou Purvis |  72.93 |  96.69 |  82.61 |\n",
       "| Nola Maloney | 104.72 | 103.51 | 107.58 |\n",
       "\n"
      ],
      "text/plain": [
       "               Assignment 1 Assignment 2 Assignment 3\n",
       "Florinda Baird 110.00        95.81       101.31      \n",
       "Jinny Foss      84.92        97.79        92.73      \n",
       "Lou Purvis      72.93        96.69        82.61      \n",
       "Nola Maloney   104.72       103.51       107.58      "
      ]
     },
     "metadata": {},
     "output_type": "display_data"
    }
   ],
   "source": [
    "weighted_grades <- grades * 0.1 + grades  # Wouldn't '* 1.1' be easier?\n",
    "weighted_grades"
   ]
  },
  {
   "cell_type": "markdown",
   "metadata": {},
   "source": [
    "Create a `factor` of book genres using the `genres_vector`. Assign the factor vector to `factor_genre_vector`\n",
    "\n"
   ]
  },
  {
   "cell_type": "code",
   "execution_count": 30,
   "metadata": {},
   "outputs": [
    {
     "data": {
      "text/html": [
       "<style>\n",
       ".list-inline {list-style: none; margin:0; padding: 0}\n",
       ".list-inline>li {display: inline-block}\n",
       ".list-inline>li:not(:last-child)::after {content: \"\\00b7\"; padding: 0 .5ex}\n",
       "</style>\n",
       "<ol class=list-inline><li>Fantasy</li><li>Sci-Fi</li><li>Sci-Fi</li><li>Mystery</li><li>Sci-Fi</li><li>Fantasy</li></ol>\n",
       "\n",
       "<details>\n",
       "\t<summary style=display:list-item;cursor:pointer>\n",
       "\t\t<strong>Levels</strong>:\n",
       "\t</summary>\n",
       "\t<style>\n",
       "\t.list-inline {list-style: none; margin:0; padding: 0}\n",
       "\t.list-inline>li {display: inline-block}\n",
       "\t.list-inline>li:not(:last-child)::after {content: \"\\00b7\"; padding: 0 .5ex}\n",
       "\t</style>\n",
       "\t<ol class=list-inline><li>'Fantasy'</li><li>'Mystery'</li><li>'Sci-Fi'</li></ol>\n",
       "</details>"
      ],
      "text/latex": [
       "\\begin{enumerate*}\n",
       "\\item Fantasy\n",
       "\\item Sci-Fi\n",
       "\\item Sci-Fi\n",
       "\\item Mystery\n",
       "\\item Sci-Fi\n",
       "\\item Fantasy\n",
       "\\end{enumerate*}\n",
       "\n",
       "\\emph{Levels}: \\begin{enumerate*}\n",
       "\\item 'Fantasy'\n",
       "\\item 'Mystery'\n",
       "\\item 'Sci-Fi'\n",
       "\\end{enumerate*}\n"
      ],
      "text/markdown": [
       "1. Fantasy\n",
       "2. Sci-Fi\n",
       "3. Sci-Fi\n",
       "4. Mystery\n",
       "5. Sci-Fi\n",
       "6. Fantasy\n",
       "\n",
       "\n",
       "\n",
       "**Levels**: 1. 'Fantasy'\n",
       "2. 'Mystery'\n",
       "3. 'Sci-Fi'\n",
       "\n",
       "\n"
      ],
      "text/plain": [
       "[1] Fantasy Sci-Fi  Sci-Fi  Mystery Sci-Fi  Fantasy\n",
       "Levels: Fantasy Mystery Sci-Fi"
      ]
     },
     "metadata": {},
     "output_type": "display_data"
    }
   ],
   "source": [
    "genres_vector <- c(\"Fantasy\", \"Sci-Fi\", \"Sci-Fi\", \"Mystery\", \"Sci-Fi\", \"Fantasy\")\n",
    "factor_genre_vector <- factor(genres_vector)\n",
    "factor_genre_vector"
   ]
  },
  {
   "cell_type": "markdown",
   "metadata": {},
   "source": [
    "Use the `summary()` function to print a summary of `factor_genre_vector`"
   ]
  },
  {
   "cell_type": "code",
   "execution_count": 31,
   "metadata": {},
   "outputs": [
    {
     "data": {
      "text/html": [
       "<style>\n",
       ".dl-inline {width: auto; margin:0; padding: 0}\n",
       ".dl-inline>dt, .dl-inline>dd {float: none; width: auto; display: inline-block}\n",
       ".dl-inline>dt::after {content: \":\\0020\"; padding-right: .5ex}\n",
       ".dl-inline>dt:not(:first-of-type) {padding-left: .5ex}\n",
       "</style><dl class=dl-inline><dt>Fantasy</dt><dd>2</dd><dt>Mystery</dt><dd>1</dd><dt>Sci-Fi</dt><dd>3</dd></dl>\n"
      ],
      "text/latex": [
       "\\begin{description*}\n",
       "\\item[Fantasy] 2\n",
       "\\item[Mystery] 1\n",
       "\\item[Sci-Fi] 3\n",
       "\\end{description*}\n"
      ],
      "text/markdown": [
       "Fantasy\n",
       ":   2Mystery\n",
       ":   1Sci-Fi\n",
       ":   3\n",
       "\n"
      ],
      "text/plain": [
       "Fantasy Mystery  Sci-Fi \n",
       "      2       1       3 "
      ]
     },
     "metadata": {},
     "output_type": "display_data"
    }
   ],
   "source": [
    "summary(factor_genre_vector)"
   ]
  },
  {
   "cell_type": "markdown",
   "metadata": {},
   "source": [
    "Create ordered factor of book recommendations using the `recommendations_vector`. \n",
    "`no` is the lowest and `yes` is the highest"
   ]
  },
  {
   "cell_type": "code",
   "execution_count": 32,
   "metadata": {},
   "outputs": [
    {
     "name": "stdout",
     "output_type": "stream",
     "text": [
      "[1] neutral no      no      neutral yes    \n",
      "Levels: no < neutral < yes\n"
     ]
    }
   ],
   "source": [
    "recommendations_vector <- c(\"neutral\", \"no\", \"no\", \"neutral\", \"yes\")\n",
    "factor_recommendations_vector <- factor(\n",
    "  recommendations_vector,\n",
    "  ordered = TRUE,\n",
    "  levels = c(\"no\", \"neutral\", \"yes\")\n",
    ")\n",
    "print(factor_recommendations_vector)"
   ]
  },
  {
   "cell_type": "markdown",
   "metadata": {},
   "source": [
    "Use the `summary()` function to print a summary of `factor_recommendations_vector`\n"
   ]
  },
  {
   "cell_type": "code",
   "execution_count": 33,
   "metadata": {},
   "outputs": [
    {
     "data": {
      "text/html": [
       "<style>\n",
       ".dl-inline {width: auto; margin:0; padding: 0}\n",
       ".dl-inline>dt, .dl-inline>dd {float: none; width: auto; display: inline-block}\n",
       ".dl-inline>dt::after {content: \":\\0020\"; padding-right: .5ex}\n",
       ".dl-inline>dt:not(:first-of-type) {padding-left: .5ex}\n",
       "</style><dl class=dl-inline><dt>no</dt><dd>2</dd><dt>neutral</dt><dd>2</dd><dt>yes</dt><dd>1</dd></dl>\n"
      ],
      "text/latex": [
       "\\begin{description*}\n",
       "\\item[no] 2\n",
       "\\item[neutral] 2\n",
       "\\item[yes] 1\n",
       "\\end{description*}\n"
      ],
      "text/markdown": [
       "no\n",
       ":   2neutral\n",
       ":   2yes\n",
       ":   1\n",
       "\n"
      ],
      "text/plain": [
       "     no neutral     yes \n",
       "      2       2       1 "
      ]
     },
     "metadata": {},
     "output_type": "display_data"
    }
   ],
   "source": [
    "summary(factor_recommendations_vector)"
   ]
  },
  {
   "cell_type": "markdown",
   "metadata": {},
   "source": [
    "Using the built-in `mtcars` dataset, view the first few rows using the `head()` function\n"
   ]
  },
  {
   "cell_type": "code",
   "execution_count": 34,
   "metadata": {},
   "outputs": [
    {
     "data": {
      "text/html": [
       "<table>\n",
       "<caption>A data.frame: 6 × 11</caption>\n",
       "<thead>\n",
       "\t<tr><th></th><th scope=col>mpg</th><th scope=col>cyl</th><th scope=col>disp</th><th scope=col>hp</th><th scope=col>drat</th><th scope=col>wt</th><th scope=col>qsec</th><th scope=col>vs</th><th scope=col>am</th><th scope=col>gear</th><th scope=col>carb</th></tr>\n",
       "\t<tr><th></th><th scope=col>&lt;dbl&gt;</th><th scope=col>&lt;dbl&gt;</th><th scope=col>&lt;dbl&gt;</th><th scope=col>&lt;dbl&gt;</th><th scope=col>&lt;dbl&gt;</th><th scope=col>&lt;dbl&gt;</th><th scope=col>&lt;dbl&gt;</th><th scope=col>&lt;dbl&gt;</th><th scope=col>&lt;dbl&gt;</th><th scope=col>&lt;dbl&gt;</th><th scope=col>&lt;dbl&gt;</th></tr>\n",
       "</thead>\n",
       "<tbody>\n",
       "\t<tr><th scope=row>Mazda RX4</th><td>21.0</td><td>6</td><td>160</td><td>110</td><td>3.90</td><td>2.620</td><td>16.46</td><td>0</td><td>1</td><td>4</td><td>4</td></tr>\n",
       "\t<tr><th scope=row>Mazda RX4 Wag</th><td>21.0</td><td>6</td><td>160</td><td>110</td><td>3.90</td><td>2.875</td><td>17.02</td><td>0</td><td>1</td><td>4</td><td>4</td></tr>\n",
       "\t<tr><th scope=row>Datsun 710</th><td>22.8</td><td>4</td><td>108</td><td> 93</td><td>3.85</td><td>2.320</td><td>18.61</td><td>1</td><td>1</td><td>4</td><td>1</td></tr>\n",
       "\t<tr><th scope=row>Hornet 4 Drive</th><td>21.4</td><td>6</td><td>258</td><td>110</td><td>3.08</td><td>3.215</td><td>19.44</td><td>1</td><td>0</td><td>3</td><td>1</td></tr>\n",
       "\t<tr><th scope=row>Hornet Sportabout</th><td>18.7</td><td>8</td><td>360</td><td>175</td><td>3.15</td><td>3.440</td><td>17.02</td><td>0</td><td>0</td><td>3</td><td>2</td></tr>\n",
       "\t<tr><th scope=row>Valiant</th><td>18.1</td><td>6</td><td>225</td><td>105</td><td>2.76</td><td>3.460</td><td>20.22</td><td>1</td><td>0</td><td>3</td><td>1</td></tr>\n",
       "</tbody>\n",
       "</table>\n"
      ],
      "text/latex": [
       "A data.frame: 6 × 11\n",
       "\\begin{tabular}{r|lllllllllll}\n",
       "  & mpg & cyl & disp & hp & drat & wt & qsec & vs & am & gear & carb\\\\\n",
       "  & <dbl> & <dbl> & <dbl> & <dbl> & <dbl> & <dbl> & <dbl> & <dbl> & <dbl> & <dbl> & <dbl>\\\\\n",
       "\\hline\n",
       "\tMazda RX4 & 21.0 & 6 & 160 & 110 & 3.90 & 2.620 & 16.46 & 0 & 1 & 4 & 4\\\\\n",
       "\tMazda RX4 Wag & 21.0 & 6 & 160 & 110 & 3.90 & 2.875 & 17.02 & 0 & 1 & 4 & 4\\\\\n",
       "\tDatsun 710 & 22.8 & 4 & 108 &  93 & 3.85 & 2.320 & 18.61 & 1 & 1 & 4 & 1\\\\\n",
       "\tHornet 4 Drive & 21.4 & 6 & 258 & 110 & 3.08 & 3.215 & 19.44 & 1 & 0 & 3 & 1\\\\\n",
       "\tHornet Sportabout & 18.7 & 8 & 360 & 175 & 3.15 & 3.440 & 17.02 & 0 & 0 & 3 & 2\\\\\n",
       "\tValiant & 18.1 & 6 & 225 & 105 & 2.76 & 3.460 & 20.22 & 1 & 0 & 3 & 1\\\\\n",
       "\\end{tabular}\n"
      ],
      "text/markdown": [
       "\n",
       "A data.frame: 6 × 11\n",
       "\n",
       "| <!--/--> | mpg &lt;dbl&gt; | cyl &lt;dbl&gt; | disp &lt;dbl&gt; | hp &lt;dbl&gt; | drat &lt;dbl&gt; | wt &lt;dbl&gt; | qsec &lt;dbl&gt; | vs &lt;dbl&gt; | am &lt;dbl&gt; | gear &lt;dbl&gt; | carb &lt;dbl&gt; |\n",
       "|---|---|---|---|---|---|---|---|---|---|---|---|\n",
       "| Mazda RX4 | 21.0 | 6 | 160 | 110 | 3.90 | 2.620 | 16.46 | 0 | 1 | 4 | 4 |\n",
       "| Mazda RX4 Wag | 21.0 | 6 | 160 | 110 | 3.90 | 2.875 | 17.02 | 0 | 1 | 4 | 4 |\n",
       "| Datsun 710 | 22.8 | 4 | 108 |  93 | 3.85 | 2.320 | 18.61 | 1 | 1 | 4 | 1 |\n",
       "| Hornet 4 Drive | 21.4 | 6 | 258 | 110 | 3.08 | 3.215 | 19.44 | 1 | 0 | 3 | 1 |\n",
       "| Hornet Sportabout | 18.7 | 8 | 360 | 175 | 3.15 | 3.440 | 17.02 | 0 | 0 | 3 | 2 |\n",
       "| Valiant | 18.1 | 6 | 225 | 105 | 2.76 | 3.460 | 20.22 | 1 | 0 | 3 | 1 |\n",
       "\n"
      ],
      "text/plain": [
       "                  mpg  cyl disp hp  drat wt    qsec  vs am gear carb\n",
       "Mazda RX4         21.0 6   160  110 3.90 2.620 16.46 0  1  4    4   \n",
       "Mazda RX4 Wag     21.0 6   160  110 3.90 2.875 17.02 0  1  4    4   \n",
       "Datsun 710        22.8 4   108   93 3.85 2.320 18.61 1  1  4    1   \n",
       "Hornet 4 Drive    21.4 6   258  110 3.08 3.215 19.44 1  0  3    1   \n",
       "Hornet Sportabout 18.7 8   360  175 3.15 3.440 17.02 0  0  3    2   \n",
       "Valiant           18.1 6   225  105 2.76 3.460 20.22 1  0  3    1   "
      ]
     },
     "metadata": {},
     "output_type": "display_data"
    }
   ],
   "source": [
    "head(mtcars)"
   ]
  },
  {
   "cell_type": "markdown",
   "metadata": {},
   "source": [
    "Using the built-in `mtcars` dataset, view the last few rows using the `tail()` function\n"
   ]
  },
  {
   "cell_type": "code",
   "execution_count": 35,
   "metadata": {},
   "outputs": [
    {
     "data": {
      "text/html": [
       "<table>\n",
       "<caption>A data.frame: 6 × 11</caption>\n",
       "<thead>\n",
       "\t<tr><th></th><th scope=col>mpg</th><th scope=col>cyl</th><th scope=col>disp</th><th scope=col>hp</th><th scope=col>drat</th><th scope=col>wt</th><th scope=col>qsec</th><th scope=col>vs</th><th scope=col>am</th><th scope=col>gear</th><th scope=col>carb</th></tr>\n",
       "\t<tr><th></th><th scope=col>&lt;dbl&gt;</th><th scope=col>&lt;dbl&gt;</th><th scope=col>&lt;dbl&gt;</th><th scope=col>&lt;dbl&gt;</th><th scope=col>&lt;dbl&gt;</th><th scope=col>&lt;dbl&gt;</th><th scope=col>&lt;dbl&gt;</th><th scope=col>&lt;dbl&gt;</th><th scope=col>&lt;dbl&gt;</th><th scope=col>&lt;dbl&gt;</th><th scope=col>&lt;dbl&gt;</th></tr>\n",
       "</thead>\n",
       "<tbody>\n",
       "\t<tr><th scope=row>Porsche 914-2</th><td>26.0</td><td>4</td><td>120.3</td><td> 91</td><td>4.43</td><td>2.140</td><td>16.7</td><td>0</td><td>1</td><td>5</td><td>2</td></tr>\n",
       "\t<tr><th scope=row>Lotus Europa</th><td>30.4</td><td>4</td><td> 95.1</td><td>113</td><td>3.77</td><td>1.513</td><td>16.9</td><td>1</td><td>1</td><td>5</td><td>2</td></tr>\n",
       "\t<tr><th scope=row>Ford Pantera L</th><td>15.8</td><td>8</td><td>351.0</td><td>264</td><td>4.22</td><td>3.170</td><td>14.5</td><td>0</td><td>1</td><td>5</td><td>4</td></tr>\n",
       "\t<tr><th scope=row>Ferrari Dino</th><td>19.7</td><td>6</td><td>145.0</td><td>175</td><td>3.62</td><td>2.770</td><td>15.5</td><td>0</td><td>1</td><td>5</td><td>6</td></tr>\n",
       "\t<tr><th scope=row>Maserati Bora</th><td>15.0</td><td>8</td><td>301.0</td><td>335</td><td>3.54</td><td>3.570</td><td>14.6</td><td>0</td><td>1</td><td>5</td><td>8</td></tr>\n",
       "\t<tr><th scope=row>Volvo 142E</th><td>21.4</td><td>4</td><td>121.0</td><td>109</td><td>4.11</td><td>2.780</td><td>18.6</td><td>1</td><td>1</td><td>4</td><td>2</td></tr>\n",
       "</tbody>\n",
       "</table>\n"
      ],
      "text/latex": [
       "A data.frame: 6 × 11\n",
       "\\begin{tabular}{r|lllllllllll}\n",
       "  & mpg & cyl & disp & hp & drat & wt & qsec & vs & am & gear & carb\\\\\n",
       "  & <dbl> & <dbl> & <dbl> & <dbl> & <dbl> & <dbl> & <dbl> & <dbl> & <dbl> & <dbl> & <dbl>\\\\\n",
       "\\hline\n",
       "\tPorsche 914-2 & 26.0 & 4 & 120.3 &  91 & 4.43 & 2.140 & 16.7 & 0 & 1 & 5 & 2\\\\\n",
       "\tLotus Europa & 30.4 & 4 &  95.1 & 113 & 3.77 & 1.513 & 16.9 & 1 & 1 & 5 & 2\\\\\n",
       "\tFord Pantera L & 15.8 & 8 & 351.0 & 264 & 4.22 & 3.170 & 14.5 & 0 & 1 & 5 & 4\\\\\n",
       "\tFerrari Dino & 19.7 & 6 & 145.0 & 175 & 3.62 & 2.770 & 15.5 & 0 & 1 & 5 & 6\\\\\n",
       "\tMaserati Bora & 15.0 & 8 & 301.0 & 335 & 3.54 & 3.570 & 14.6 & 0 & 1 & 5 & 8\\\\\n",
       "\tVolvo 142E & 21.4 & 4 & 121.0 & 109 & 4.11 & 2.780 & 18.6 & 1 & 1 & 4 & 2\\\\\n",
       "\\end{tabular}\n"
      ],
      "text/markdown": [
       "\n",
       "A data.frame: 6 × 11\n",
       "\n",
       "| <!--/--> | mpg &lt;dbl&gt; | cyl &lt;dbl&gt; | disp &lt;dbl&gt; | hp &lt;dbl&gt; | drat &lt;dbl&gt; | wt &lt;dbl&gt; | qsec &lt;dbl&gt; | vs &lt;dbl&gt; | am &lt;dbl&gt; | gear &lt;dbl&gt; | carb &lt;dbl&gt; |\n",
       "|---|---|---|---|---|---|---|---|---|---|---|---|\n",
       "| Porsche 914-2 | 26.0 | 4 | 120.3 |  91 | 4.43 | 2.140 | 16.7 | 0 | 1 | 5 | 2 |\n",
       "| Lotus Europa | 30.4 | 4 |  95.1 | 113 | 3.77 | 1.513 | 16.9 | 1 | 1 | 5 | 2 |\n",
       "| Ford Pantera L | 15.8 | 8 | 351.0 | 264 | 4.22 | 3.170 | 14.5 | 0 | 1 | 5 | 4 |\n",
       "| Ferrari Dino | 19.7 | 6 | 145.0 | 175 | 3.62 | 2.770 | 15.5 | 0 | 1 | 5 | 6 |\n",
       "| Maserati Bora | 15.0 | 8 | 301.0 | 335 | 3.54 | 3.570 | 14.6 | 0 | 1 | 5 | 8 |\n",
       "| Volvo 142E | 21.4 | 4 | 121.0 | 109 | 4.11 | 2.780 | 18.6 | 1 | 1 | 4 | 2 |\n",
       "\n"
      ],
      "text/plain": [
       "               mpg  cyl disp  hp  drat wt    qsec vs am gear carb\n",
       "Porsche 914-2  26.0 4   120.3  91 4.43 2.140 16.7 0  1  5    2   \n",
       "Lotus Europa   30.4 4    95.1 113 3.77 1.513 16.9 1  1  5    2   \n",
       "Ford Pantera L 15.8 8   351.0 264 4.22 3.170 14.5 0  1  5    4   \n",
       "Ferrari Dino   19.7 6   145.0 175 3.62 2.770 15.5 0  1  5    6   \n",
       "Maserati Bora  15.0 8   301.0 335 3.54 3.570 14.6 0  1  5    8   \n",
       "Volvo 142E     21.4 4   121.0 109 4.11 2.780 18.6 1  1  4    2   "
      ]
     },
     "metadata": {},
     "output_type": "display_data"
    }
   ],
   "source": [
    "tail(mtcars)"
   ]
  },
  {
   "cell_type": "markdown",
   "metadata": {},
   "source": [
    "Create a dataframe called `characters_df` using the following information from LOTR"
   ]
  },
  {
   "cell_type": "code",
   "execution_count": 36,
   "metadata": {},
   "outputs": [],
   "source": [
    "name <- c(\"Aragon\", \"Bilbo\", \"Frodo\", \"Galadriel\", \"Sam\", \"Gandalf\", \"Legolas\", \"Sauron\", \"Gollum\")\n",
    "race <- c(\"Men\", \"Hobbit\", \"Hobbit\", \"Elf\", \"Hobbit\", \"Maia\", \"Elf\", \"Maia\", \"Hobbit\")\n",
    "in_fellowship <- c(TRUE, FALSE, TRUE, FALSE, TRUE, TRUE, TRUE, FALSE, FALSE)\n",
    "ring_bearer <- c(FALSE, TRUE, TRUE, FALSE, TRUE, TRUE, FALSE, TRUE, TRUE)\n",
    "age <- c(88, 129, 51, 7000, 36, 2019, 2931, 7052, 589)"
   ]
  },
  {
   "cell_type": "code",
   "execution_count": 37,
   "metadata": {},
   "outputs": [
    {
     "name": "stdout",
     "output_type": "stream",
     "text": [
      "       name   race in_fellowship ring_bearer  age\n",
      "1    Aragon    Men          TRUE       FALSE   88\n",
      "2     Bilbo Hobbit         FALSE        TRUE  129\n",
      "3     Frodo Hobbit          TRUE        TRUE   51\n",
      "4 Galadriel    Elf         FALSE       FALSE 7000\n",
      "5       Sam Hobbit          TRUE        TRUE   36\n",
      "6   Gandalf   Maia          TRUE        TRUE 2019\n",
      "7   Legolas    Elf          TRUE       FALSE 2931\n",
      "8    Sauron   Maia         FALSE        TRUE 7052\n",
      "9    Gollum Hobbit         FALSE        TRUE  589\n"
     ]
    }
   ],
   "source": [
    "characters_df <- data.frame(name, race, in_fellowship, ring_bearer, age)\n",
    "print(characters_df)"
   ]
  },
  {
   "cell_type": "markdown",
   "metadata": {},
   "source": [
    "Sorting the `characters_df` by age using the `order` function and assign the result to the `sorted_characters_df`\n"
   ]
  },
  {
   "cell_type": "code",
   "execution_count": 38,
   "metadata": {},
   "outputs": [
    {
     "name": "stdout",
     "output_type": "stream",
     "text": [
      "       name   race in_fellowship ring_bearer  age\n",
      "8    Sauron   Maia         FALSE        TRUE 7052\n",
      "4 Galadriel    Elf         FALSE       FALSE 7000\n",
      "7   Legolas    Elf          TRUE       FALSE 2931\n",
      "6   Gandalf   Maia          TRUE        TRUE 2019\n",
      "9    Gollum Hobbit         FALSE        TRUE  589\n",
      "2     Bilbo Hobbit         FALSE        TRUE  129\n",
      "1    Aragon    Men          TRUE       FALSE   88\n",
      "3     Frodo Hobbit          TRUE        TRUE   51\n",
      "5       Sam Hobbit          TRUE        TRUE   36\n"
     ]
    }
   ],
   "source": [
    "sorted_characters_df <- characters_df[order(-age),]\n",
    "print(sorted_characters_df)"
   ]
  },
  {
   "cell_type": "markdown",
   "metadata": {},
   "source": [
    "Use `head()` to output the first few rows of `sorted_characters_df`"
   ]
  },
  {
   "cell_type": "code",
   "execution_count": 39,
   "metadata": {},
   "outputs": [
    {
     "name": "stdout",
     "output_type": "stream",
     "text": [
      "       name   race in_fellowship ring_bearer  age\n",
      "8    Sauron   Maia         FALSE        TRUE 7052\n",
      "4 Galadriel    Elf         FALSE       FALSE 7000\n",
      "7   Legolas    Elf          TRUE       FALSE 2931\n",
      "6   Gandalf   Maia          TRUE        TRUE 2019\n",
      "9    Gollum Hobbit         FALSE        TRUE  589\n",
      "2     Bilbo Hobbit         FALSE        TRUE  129\n"
     ]
    }
   ],
   "source": [
    "print(head(sorted_characters_df))"
   ]
  },
  {
   "cell_type": "markdown",
   "metadata": {},
   "source": [
    "Select all of the ring bearers from the dataframe and assign it to `ringbearers_df`"
   ]
  },
  {
   "cell_type": "code",
   "execution_count": 40,
   "metadata": {},
   "outputs": [
    {
     "name": "stdout",
     "output_type": "stream",
     "text": [
      "     name   race in_fellowship ring_bearer  age\n",
      "8  Sauron   Maia         FALSE        TRUE 7052\n",
      "6 Gandalf   Maia          TRUE        TRUE 2019\n",
      "9  Gollum Hobbit         FALSE        TRUE  589\n",
      "2   Bilbo Hobbit         FALSE        TRUE  129\n",
      "3   Frodo Hobbit          TRUE        TRUE   51\n",
      "5     Sam Hobbit          TRUE        TRUE   36\n"
     ]
    }
   ],
   "source": [
    "ringbearers_df <- characters_df[characters_df$ring_bearer == TRUE,]\n",
    "print(ringbearers_df)"
   ]
  },
  {
   "cell_type": "markdown",
   "metadata": {},
   "source": [
    "Use `head()` to output the first few rows of `ringbearers_df`\n"
   ]
  },
  {
   "cell_type": "code",
   "execution_count": 41,
   "metadata": {},
   "outputs": [
    {
     "name": "stdout",
     "output_type": "stream",
     "text": [
      "     name   race in_fellowship ring_bearer  age\n",
      "8  Sauron   Maia         FALSE        TRUE 7052\n",
      "6 Gandalf   Maia          TRUE        TRUE 2019\n",
      "9  Gollum Hobbit         FALSE        TRUE  589\n"
     ]
    }
   ],
   "source": [
    "print(head(ringbearers_df, 3))"
   ]
  }
 ],
 "metadata": {
  "kernelspec": {
   "display_name": "R",
   "language": "R",
   "name": "ir"
  },
  "language_info": {
   "codemirror_mode": "r",
   "file_extension": ".r",
   "mimetype": "text/x-r-source",
   "name": "R",
   "pygments_lexer": "r",
   "version": "3.6.1"
  }
 },
 "nbformat": 4,
 "nbformat_minor": 4
}
