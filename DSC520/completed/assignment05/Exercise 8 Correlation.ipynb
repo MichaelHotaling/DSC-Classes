{
 "cells": [
  {
   "cell_type": "markdown",
   "metadata": {},
   "source": [
    "### Assignment: ASSIGNMENT 5 <br>Name: Hotaling, Michael<br>Date: 2010-02-14"
   ]
  },
  {
   "cell_type": "code",
   "execution_count": 1,
   "metadata": {},
   "outputs": [
    {
     "name": "stderr",
     "output_type": "stream",
     "text": [
      "Warning message:\n",
      "\"package 'psych' was built under R version 3.6.3\"Warning message:\n",
      "\"package 'ggplot2' was built under R version 3.6.3\"\n",
      "Attaching package: 'ggplot2'\n",
      "\n",
      "The following objects are masked from 'package:psych':\n",
      "\n",
      "    %+%, alpha\n",
      "\n"
     ]
    }
   ],
   "source": [
    "library(psych)\n",
    "library(ggplot2)"
   ]
  },
  {
   "cell_type": "code",
   "execution_count": 2,
   "metadata": {},
   "outputs": [],
   "source": [
    "setwd(\"..\")\n",
    "setwd(\"..\")"
   ]
  },
  {
   "cell_type": "markdown",
   "metadata": {},
   "source": [
    "Load the `data/r4ds/heights.csv` to `heights_df`"
   ]
  },
  {
   "cell_type": "code",
   "execution_count": 3,
   "metadata": {},
   "outputs": [
    {
     "data": {
      "text/html": [
       "<table>\n",
       "<caption>A data.frame: 6 × 6</caption>\n",
       "<thead>\n",
       "\t<tr><th></th><th scope=col>earn</th><th scope=col>height</th><th scope=col>sex</th><th scope=col>ed</th><th scope=col>age</th><th scope=col>race</th></tr>\n",
       "\t<tr><th></th><th scope=col>&lt;dbl&gt;</th><th scope=col>&lt;dbl&gt;</th><th scope=col>&lt;fct&gt;</th><th scope=col>&lt;int&gt;</th><th scope=col>&lt;int&gt;</th><th scope=col>&lt;fct&gt;</th></tr>\n",
       "</thead>\n",
       "<tbody>\n",
       "\t<tr><th scope=row>1</th><td>50000</td><td>74.42444</td><td>male  </td><td>16</td><td>45</td><td>white</td></tr>\n",
       "\t<tr><th scope=row>2</th><td>60000</td><td>65.53754</td><td>female</td><td>16</td><td>58</td><td>white</td></tr>\n",
       "\t<tr><th scope=row>3</th><td>30000</td><td>63.62920</td><td>female</td><td>16</td><td>29</td><td>white</td></tr>\n",
       "\t<tr><th scope=row>4</th><td>50000</td><td>63.10856</td><td>female</td><td>16</td><td>91</td><td>other</td></tr>\n",
       "\t<tr><th scope=row>5</th><td>51000</td><td>63.40248</td><td>female</td><td>17</td><td>39</td><td>white</td></tr>\n",
       "\t<tr><th scope=row>6</th><td> 9000</td><td>64.39951</td><td>female</td><td>15</td><td>26</td><td>white</td></tr>\n",
       "</tbody>\n",
       "</table>\n"
      ],
      "text/latex": [
       "A data.frame: 6 × 6\n",
       "\\begin{tabular}{r|llllll}\n",
       "  & earn & height & sex & ed & age & race\\\\\n",
       "  & <dbl> & <dbl> & <fct> & <int> & <int> & <fct>\\\\\n",
       "\\hline\n",
       "\t1 & 50000 & 74.42444 & male   & 16 & 45 & white\\\\\n",
       "\t2 & 60000 & 65.53754 & female & 16 & 58 & white\\\\\n",
       "\t3 & 30000 & 63.62920 & female & 16 & 29 & white\\\\\n",
       "\t4 & 50000 & 63.10856 & female & 16 & 91 & other\\\\\n",
       "\t5 & 51000 & 63.40248 & female & 17 & 39 & white\\\\\n",
       "\t6 &  9000 & 64.39951 & female & 15 & 26 & white\\\\\n",
       "\\end{tabular}\n"
      ],
      "text/markdown": [
       "\n",
       "A data.frame: 6 × 6\n",
       "\n",
       "| <!--/--> | earn &lt;dbl&gt; | height &lt;dbl&gt; | sex &lt;fct&gt; | ed &lt;int&gt; | age &lt;int&gt; | race &lt;fct&gt; |\n",
       "|---|---|---|---|---|---|---|\n",
       "| 1 | 50000 | 74.42444 | male   | 16 | 45 | white |\n",
       "| 2 | 60000 | 65.53754 | female | 16 | 58 | white |\n",
       "| 3 | 30000 | 63.62920 | female | 16 | 29 | white |\n",
       "| 4 | 50000 | 63.10856 | female | 16 | 91 | other |\n",
       "| 5 | 51000 | 63.40248 | female | 17 | 39 | white |\n",
       "| 6 |  9000 | 64.39951 | female | 15 | 26 | white |\n",
       "\n"
      ],
      "text/plain": [
       "  earn  height   sex    ed age race \n",
       "1 50000 74.42444 male   16 45  white\n",
       "2 60000 65.53754 female 16 58  white\n",
       "3 30000 63.62920 female 16 29  white\n",
       "4 50000 63.10856 female 16 91  other\n",
       "5 51000 63.40248 female 17 39  white\n",
       "6  9000 64.39951 female 15 26  white"
      ]
     },
     "metadata": {},
     "output_type": "display_data"
    }
   ],
   "source": [
    "heights_df <- read.csv(\"data/r4ds/heights.csv\")\n",
    "head(heights_df)"
   ]
  },
  {
   "cell_type": "markdown",
   "metadata": {},
   "source": [
    "Using `cor()` compute correclation coefficients for<br>**height vs. earn**"
   ]
  },
  {
   "cell_type": "code",
   "execution_count": 4,
   "metadata": {},
   "outputs": [
    {
     "data": {
      "text/html": [
       "0.241848149549113"
      ],
      "text/latex": [
       "0.241848149549113"
      ],
      "text/markdown": [
       "0.241848149549113"
      ],
      "text/plain": [
       "[1] 0.2418481"
      ]
     },
     "metadata": {},
     "output_type": "display_data"
    }
   ],
   "source": [
    "cor(heights_df$height, heights_df$earn)"
   ]
  },
  {
   "cell_type": "markdown",
   "metadata": {},
   "source": [
    "**age vs. earn**"
   ]
  },
  {
   "cell_type": "code",
   "execution_count": 5,
   "metadata": {},
   "outputs": [
    {
     "data": {
      "text/html": [
       "0.0810029736419062"
      ],
      "text/latex": [
       "0.0810029736419062"
      ],
      "text/markdown": [
       "0.0810029736419062"
      ],
      "text/plain": [
       "[1] 0.08100297"
      ]
     },
     "metadata": {},
     "output_type": "display_data"
    }
   ],
   "source": [
    "cor(heights_df$age, heights_df$earn)"
   ]
  },
  {
   "cell_type": "markdown",
   "metadata": {},
   "source": [
    "**ed vs. earn**"
   ]
  },
  {
   "cell_type": "code",
   "execution_count": 6,
   "metadata": {},
   "outputs": [
    {
     "data": {
      "text/html": [
       "0.339976524689485"
      ],
      "text/latex": [
       "0.339976524689485"
      ],
      "text/markdown": [
       "0.339976524689485"
      ],
      "text/plain": [
       "[1] 0.3399765"
      ]
     },
     "metadata": {},
     "output_type": "display_data"
    }
   ],
   "source": [
    "cor(heights_df$ed, heights_df$earn)"
   ]
  },
  {
   "cell_type": "code",
   "execution_count": 7,
   "metadata": {},
   "outputs": [
    {
     "data": {
      "image/png": "[encoded data removed]",
      "text/plain": [
       "Plot with title \"Correlation plot\""
      ]
     },
     "metadata": {},
     "output_type": "display_data"
    }
   ],
   "source": [
    "cor.plot(subset(heights_df, \n",
    "                select = -c(sex, race)), \n",
    "         scale = FALSE, \n",
    "         diag = FALSE, \n",
    "         cex = 1)"
   ]
  },
  {
   "cell_type": "markdown",
   "metadata": {},
   "source": [
    "**Spurious correlation**\n",
    "\n",
    "The following is data on US spending on science, space, and technology in millions of today's dollars and suicides by hanging strangulation and suffocation for the years 1999 to 2009<br>Compute the correlation between these variables"
   ]
  },
  {
   "cell_type": "code",
   "execution_count": 8,
   "metadata": {},
   "outputs": [],
   "source": [
    "tech_spending <- c(18079, 18594, 19753, 20734, 20831, 23029, 23597, 23584, 25525, 27731, 29449)\n",
    "suicides <- c(5427, 5688, 6198, 6462, 6635, 7336, 7248, 7491, 8161, 8578, 9000)"
   ]
  },
  {
   "cell_type": "code",
   "execution_count": 9,
   "metadata": {},
   "outputs": [
    {
     "data": {
      "text/html": [
       "0.992081678553131"
      ],
      "text/latex": [
       "0.992081678553131"
      ],
      "text/markdown": [
       "0.992081678553131"
      ],
      "text/plain": [
       "[1] 0.9920817"
      ]
     },
     "metadata": {},
     "output_type": "display_data"
    }
   ],
   "source": [
    "cor(tech_spending, suicides)"
   ]
  },
  {
   "cell_type": "code",
   "execution_count": 19,
   "metadata": {
    "scrolled": false
   },
   "outputs": [
    {
     "data": {
      "image/png": "[encoded data removed]",
      "text/plain": [
       "plot without title"
      ]
     },
     "metadata": {},
     "output_type": "display_data"
    }
   ],
   "source": [
    "df2 <- data.frame(tech_spending, suicides)\n",
    "ggplot(data = df2, aes(x = tech_spending, y = suicides)) +\n",
    "geom_point() + \n",
    "geom_smooth(method = \"lm\", \n",
    "            formula = y ~ x, \n",
    "            color = 'red', \n",
    "            fill = \"red\", \n",
    "            alpha = 0.3, \n",
    "            level = 0.95) + \n",
    "xlab(\"Tech Spending ($M)\") + \n",
    "ylab(\"Number of Suicides\") + \n",
    "ggtitle(\"Spurious Correlation: US Tech Spending vs Yearly Suicides\") +\n",
    "theme_bw()"
   ]
  },
  {
   "cell_type": "code",
   "execution_count": 11,
   "metadata": {},
   "outputs": [],
   "source": [
    "lm_model <- lm(suicides ~ tech_spending, df2)"
   ]
  },
  {
   "cell_type": "code",
   "execution_count": 12,
   "metadata": {},
   "outputs": [
    {
     "data": {
      "text/plain": [
       "\n",
       "Call:\n",
       "lm(formula = suicides ~ tech_spending, data = df2)\n",
       "\n",
       "Residuals:\n",
       "     Min       1Q   Median       3Q      Max \n",
       "-204.964 -107.248   -0.204  140.020  200.611 \n",
       "\n",
       "Coefficients:\n",
       "              Estimate Std. Error t value Pr(>|t|)    \n",
       "(Intercept)   -21.4897   304.5154  -0.071    0.945    \n",
       "tech_spending   0.3127     0.0132  23.697 2.02e-09 ***\n",
       "---\n",
       "Signif. codes:  0 '***' 0.001 '**' 0.01 '*' 0.05 '.' 0.1 ' ' 1\n",
       "\n",
       "Residual standard error: 153.1 on 9 degrees of freedom\n",
       "Multiple R-squared:  0.9842,\tAdjusted R-squared:  0.9825 \n",
       "F-statistic: 561.6 on 1 and 9 DF,  p-value: 2.025e-09\n"
      ]
     },
     "metadata": {},
     "output_type": "display_data"
    }
   ],
   "source": [
    "summary(lm_model)"
   ]
  }
 ],
 "metadata": {
  "kernelspec": {
   "display_name": "R",
   "language": "R",
   "name": "ir"
  },
  "language_info": {
   "codemirror_mode": "r",
   "file_extension": ".r",
   "mimetype": "text/x-r-source",
   "name": "R",
   "pygments_lexer": "r",
   "version": "3.6.1"
  }
 },
 "nbformat": 4,
 "nbformat_minor": 4
}
