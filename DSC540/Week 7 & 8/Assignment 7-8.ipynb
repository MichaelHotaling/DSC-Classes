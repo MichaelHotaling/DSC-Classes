{
 "cells": [
  {
   "cell_type": "markdown",
   "metadata": {},
   "source": [
    "Michael Hotaling<br>2/3/2020<br>DSC540\n",
    "# Week 7/8 Assignment <br> So Much Candy, Seriously."
   ]
  },
  {
   "cell_type": "code",
   "execution_count": 1,
   "metadata": {},
   "outputs": [],
   "source": [
    "import pandas as pd\n",
    "import matplotlib.pyplot as plt\n",
    "import re\n",
    "import missingno as mn"
   ]
  },
  {
   "cell_type": "markdown",
   "metadata": {},
   "source": [
    "We can first start with importing the dataset using pandas."
   ]
  },
  {
   "cell_type": "code",
   "execution_count": 2,
   "metadata": {},
   "outputs": [
    {
     "data": {
      "text/html": [
       "<div>\n",
       "<style scoped>\n",
       "    .dataframe tbody tr th:only-of-type {\n",
       "        vertical-align: middle;\n",
       "    }\n",
       "\n",
       "    .dataframe tbody tr th {\n",
       "        vertical-align: top;\n",
       "    }\n",
       "\n",
       "    .dataframe thead th {\n",
       "        text-align: right;\n",
       "    }\n",
       "</style>\n",
       "<table border=\"1\" class=\"dataframe\">\n",
       "  <thead>\n",
       "    <tr style=\"text-align: right;\">\n",
       "      <th></th>\n",
       "      <th>Internal ID</th>\n",
       "      <th>Q1: GOING OUT?</th>\n",
       "      <th>Q2: GENDER</th>\n",
       "      <th>Q3: AGE</th>\n",
       "      <th>Q4: COUNTRY</th>\n",
       "      <th>Q5: STATE, PROVINCE, COUNTY, ETC</th>\n",
       "      <th>Q6 | 100 Grand Bar</th>\n",
       "      <th>Q6 | Anonymous brown globs that come in black and orange wrappers\\t(a.k.a. Mary Janes)</th>\n",
       "      <th>Q6 | Any full-sized candy bar</th>\n",
       "      <th>Q6 | Black Jacks</th>\n",
       "      <th>...</th>\n",
       "      <th>Q8: DESPAIR OTHER</th>\n",
       "      <th>Q9: OTHER COMMENTS</th>\n",
       "      <th>Q10: DRESS</th>\n",
       "      <th>Unnamed: 113</th>\n",
       "      <th>Q11: DAY</th>\n",
       "      <th>Q12: MEDIA [Daily Dish]</th>\n",
       "      <th>Q12: MEDIA [Science]</th>\n",
       "      <th>Q12: MEDIA [ESPN]</th>\n",
       "      <th>Q12: MEDIA [Yahoo]</th>\n",
       "      <th>Click Coordinates (x, y)</th>\n",
       "    </tr>\n",
       "  </thead>\n",
       "  <tbody>\n",
       "    <tr>\n",
       "      <th>0</th>\n",
       "      <td>90258773</td>\n",
       "      <td>NaN</td>\n",
       "      <td>NaN</td>\n",
       "      <td>NaN</td>\n",
       "      <td>NaN</td>\n",
       "      <td>NaN</td>\n",
       "      <td>NaN</td>\n",
       "      <td>NaN</td>\n",
       "      <td>NaN</td>\n",
       "      <td>NaN</td>\n",
       "      <td>...</td>\n",
       "      <td>NaN</td>\n",
       "      <td>NaN</td>\n",
       "      <td>NaN</td>\n",
       "      <td>NaN</td>\n",
       "      <td>NaN</td>\n",
       "      <td>NaN</td>\n",
       "      <td>NaN</td>\n",
       "      <td>NaN</td>\n",
       "      <td>NaN</td>\n",
       "      <td>NaN</td>\n",
       "    </tr>\n",
       "    <tr>\n",
       "      <th>1</th>\n",
       "      <td>90272821</td>\n",
       "      <td>No</td>\n",
       "      <td>Male</td>\n",
       "      <td>44</td>\n",
       "      <td>USA</td>\n",
       "      <td>NM</td>\n",
       "      <td>MEH</td>\n",
       "      <td>DESPAIR</td>\n",
       "      <td>JOY</td>\n",
       "      <td>MEH</td>\n",
       "      <td>...</td>\n",
       "      <td>NaN</td>\n",
       "      <td>Bottom line is Twix is really the only candy w...</td>\n",
       "      <td>White and gold</td>\n",
       "      <td>NaN</td>\n",
       "      <td>Sunday</td>\n",
       "      <td>NaN</td>\n",
       "      <td>1.0</td>\n",
       "      <td>NaN</td>\n",
       "      <td>NaN</td>\n",
       "      <td>(84, 25)</td>\n",
       "    </tr>\n",
       "    <tr>\n",
       "      <th>2</th>\n",
       "      <td>90272829</td>\n",
       "      <td>NaN</td>\n",
       "      <td>Male</td>\n",
       "      <td>49</td>\n",
       "      <td>USA</td>\n",
       "      <td>Virginia</td>\n",
       "      <td>NaN</td>\n",
       "      <td>NaN</td>\n",
       "      <td>NaN</td>\n",
       "      <td>NaN</td>\n",
       "      <td>...</td>\n",
       "      <td>NaN</td>\n",
       "      <td>NaN</td>\n",
       "      <td>NaN</td>\n",
       "      <td>NaN</td>\n",
       "      <td>NaN</td>\n",
       "      <td>NaN</td>\n",
       "      <td>NaN</td>\n",
       "      <td>NaN</td>\n",
       "      <td>NaN</td>\n",
       "      <td>NaN</td>\n",
       "    </tr>\n",
       "    <tr>\n",
       "      <th>3</th>\n",
       "      <td>90272840</td>\n",
       "      <td>No</td>\n",
       "      <td>Male</td>\n",
       "      <td>40</td>\n",
       "      <td>us</td>\n",
       "      <td>or</td>\n",
       "      <td>MEH</td>\n",
       "      <td>DESPAIR</td>\n",
       "      <td>JOY</td>\n",
       "      <td>MEH</td>\n",
       "      <td>...</td>\n",
       "      <td>NaN</td>\n",
       "      <td>Raisins can go to hell</td>\n",
       "      <td>White and gold</td>\n",
       "      <td>NaN</td>\n",
       "      <td>Sunday</td>\n",
       "      <td>NaN</td>\n",
       "      <td>1.0</td>\n",
       "      <td>NaN</td>\n",
       "      <td>NaN</td>\n",
       "      <td>(75, 23)</td>\n",
       "    </tr>\n",
       "    <tr>\n",
       "      <th>4</th>\n",
       "      <td>90272841</td>\n",
       "      <td>No</td>\n",
       "      <td>Male</td>\n",
       "      <td>23</td>\n",
       "      <td>usa</td>\n",
       "      <td>exton pa</td>\n",
       "      <td>JOY</td>\n",
       "      <td>DESPAIR</td>\n",
       "      <td>JOY</td>\n",
       "      <td>DESPAIR</td>\n",
       "      <td>...</td>\n",
       "      <td>NaN</td>\n",
       "      <td>NaN</td>\n",
       "      <td>White and gold</td>\n",
       "      <td>NaN</td>\n",
       "      <td>Friday</td>\n",
       "      <td>NaN</td>\n",
       "      <td>1.0</td>\n",
       "      <td>NaN</td>\n",
       "      <td>NaN</td>\n",
       "      <td>(70, 10)</td>\n",
       "    </tr>\n",
       "  </tbody>\n",
       "</table>\n",
       "<p>5 rows × 120 columns</p>\n",
       "</div>"
      ],
      "text/plain": [
       "   Internal ID Q1: GOING OUT? Q2: GENDER Q3: AGE Q4: COUNTRY  \\\n",
       "0     90258773            NaN        NaN     NaN         NaN   \n",
       "1     90272821             No       Male      44        USA    \n",
       "2     90272829            NaN       Male      49         USA   \n",
       "3     90272840             No       Male      40          us   \n",
       "4     90272841             No       Male      23         usa   \n",
       "\n",
       "  Q5: STATE, PROVINCE, COUNTY, ETC Q6 | 100 Grand Bar  \\\n",
       "0                              NaN                NaN   \n",
       "1                               NM                MEH   \n",
       "2                         Virginia                NaN   \n",
       "3                               or                MEH   \n",
       "4                         exton pa                JOY   \n",
       "\n",
       "  Q6 | Anonymous brown globs that come in black and orange wrappers\\t(a.k.a. Mary Janes)  \\\n",
       "0                                                NaN                                       \n",
       "1                                            DESPAIR                                       \n",
       "2                                                NaN                                       \n",
       "3                                            DESPAIR                                       \n",
       "4                                            DESPAIR                                       \n",
       "\n",
       "  Q6 | Any full-sized candy bar Q6 | Black Jacks  ... Q8: DESPAIR OTHER  \\\n",
       "0                           NaN              NaN  ...               NaN   \n",
       "1                           JOY              MEH  ...               NaN   \n",
       "2                           NaN              NaN  ...               NaN   \n",
       "3                           JOY              MEH  ...               NaN   \n",
       "4                           JOY          DESPAIR  ...               NaN   \n",
       "\n",
       "                                  Q9: OTHER COMMENTS      Q10: DRESS  \\\n",
       "0                                                NaN             NaN   \n",
       "1  Bottom line is Twix is really the only candy w...  White and gold   \n",
       "2                                                NaN             NaN   \n",
       "3                             Raisins can go to hell  White and gold   \n",
       "4                                                NaN  White and gold   \n",
       "\n",
       "  Unnamed: 113 Q11: DAY Q12: MEDIA [Daily Dish] Q12: MEDIA [Science]  \\\n",
       "0          NaN      NaN                     NaN                  NaN   \n",
       "1          NaN   Sunday                     NaN                  1.0   \n",
       "2          NaN      NaN                     NaN                  NaN   \n",
       "3          NaN   Sunday                     NaN                  1.0   \n",
       "4          NaN   Friday                     NaN                  1.0   \n",
       "\n",
       "  Q12: MEDIA [ESPN] Q12: MEDIA [Yahoo] Click Coordinates (x, y)  \n",
       "0               NaN                NaN                      NaN  \n",
       "1               NaN                NaN                 (84, 25)  \n",
       "2               NaN                NaN                      NaN  \n",
       "3               NaN                NaN                 (75, 23)  \n",
       "4               NaN                NaN                 (70, 10)  \n",
       "\n",
       "[5 rows x 120 columns]"
      ]
     },
     "execution_count": 2,
     "metadata": {},
     "output_type": "execute_result"
    }
   ],
   "source": [
    "df = pd.read_csv(\"candyhierarchy2017.csv\", encoding='latin-1')\n",
    "df.head()"
   ]
  },
  {
   "cell_type": "markdown",
   "metadata": {},
   "source": [
    "## Chapter 7\n",
    "### Filter Out Missing Data\n",
    "We can check to see which rows have missing data visually using `missingno`"
   ]
  },
  {
   "cell_type": "code",
   "execution_count": 3,
   "metadata": {},
   "outputs": [
    {
     "data": {
      "image/png": "[encoded data removed]",
      "text/plain": [
       "<Figure size 1800x720 with 2 Axes>"
      ]
     },
     "metadata": {
      "needs_background": "light"
     },
     "output_type": "display_data"
    }
   ],
   "source": [
    "mn.matrix(df);"
   ]
  },
  {
   "cell_type": "markdown",
   "metadata": {},
   "source": [
    "We can see here that we have a lot of missing data for several rows and columns. "
   ]
  },
  {
   "cell_type": "markdown",
   "metadata": {},
   "source": [
    "Next, we can check to see which columsn have the most NAs. We can drop the columns that seem to be outliers based on that information"
   ]
  },
  {
   "cell_type": "code",
   "execution_count": 4,
   "metadata": {
    "scrolled": false
   },
   "outputs": [
    {
     "data": {
      "text/plain": [
       "<AxesSubplot:>"
      ]
     },
     "execution_count": 4,
     "metadata": {},
     "output_type": "execute_result"
    },
    {
     "data": {
      "image/png": "[encoded data removed]",
      "text/plain": [
       "<Figure size 1152x648 with 1 Axes>"
      ]
     },
     "metadata": {
      "needs_background": "light"
     },
     "output_type": "display_data"
    }
   ],
   "source": [
    "df.isna().sum().sort_values().tail(30).plot(kind='barh', figsize=(16,9))"
   ]
  },
  {
   "cell_type": "markdown",
   "metadata": {},
   "source": [
    "We can see that we have 7 columns with a significantly larger amount of NaN values than the other columns. We can drop those columns the same as we did the previous"
   ]
  },
  {
   "cell_type": "code",
   "execution_count": 5,
   "metadata": {},
   "outputs": [
    {
     "name": "stdout",
     "output_type": "stream",
     "text": [
      "Dropping Q7: JOY OTHER Column\n",
      "Dropping Q8: DESPAIR OTHER Column\n",
      "Dropping Q9: OTHER COMMENTS Column\n",
      "Dropping Q12: MEDIA [ESPN] Column\n",
      "Dropping Q12: MEDIA [Daily Dish] Column\n",
      "Dropping Q12: MEDIA [Yahoo] Column\n",
      "Dropping Unnamed: 113 Column\n"
     ]
    }
   ],
   "source": [
    "# Iteratively go over the columns with the most NaN values and drop them\n",
    "for i in df.isna().sum().sort_values().tail(7).index:\n",
    "    print(f\"Dropping {i} Column\")\n",
    "    df.drop([i], axis = 1, inplace=True)"
   ]
  },
  {
   "cell_type": "markdown",
   "metadata": {},
   "source": [
    "### Filling in Missing Data\n",
    "We have a few columns that contain can be simplified, such as the gender column."
   ]
  },
  {
   "cell_type": "code",
   "execution_count": 6,
   "metadata": {},
   "outputs": [
    {
     "data": {
      "text/plain": [
       "Male                  1467\n",
       "Female                 839\n",
       "I'd rather not say      83\n",
       "NaN                     41\n",
       "Other                   30\n",
       "Name: Q2: GENDER, dtype: int64"
      ]
     },
     "execution_count": 6,
     "metadata": {},
     "output_type": "execute_result"
    }
   ],
   "source": [
    "df['Q2: GENDER'].value_counts(dropna=False)"
   ]
  },
  {
   "cell_type": "markdown",
   "metadata": {},
   "source": [
    "We can convert the NaN entries into an 'I'd Rather Not Say' value since NaN values would imply the user wouldn't submit their gender information"
   ]
  },
  {
   "cell_type": "code",
   "execution_count": 7,
   "metadata": {},
   "outputs": [
    {
     "data": {
      "text/plain": [
       "Male                  1467\n",
       "Female                 839\n",
       "I'd rather not say     124\n",
       "Other                   30\n",
       "Name: Q2: GENDER, dtype: int64"
      ]
     },
     "execution_count": 7,
     "metadata": {},
     "output_type": "execute_result"
    }
   ],
   "source": [
    "df['Q2: GENDER'] = df['Q2: GENDER'].fillna(value=\"I'd rather not say\")\n",
    "df['Q2: GENDER'].value_counts(dropna=False)"
   ]
  },
  {
   "cell_type": "markdown",
   "metadata": {},
   "source": [
    "### Checking for Duplicates\n",
    "There are no duplicated columns"
   ]
  },
  {
   "cell_type": "code",
   "execution_count": 8,
   "metadata": {},
   "outputs": [
    {
     "data": {
      "text/html": [
       "<div>\n",
       "<style scoped>\n",
       "    .dataframe tbody tr th:only-of-type {\n",
       "        vertical-align: middle;\n",
       "    }\n",
       "\n",
       "    .dataframe tbody tr th {\n",
       "        vertical-align: top;\n",
       "    }\n",
       "\n",
       "    .dataframe thead th {\n",
       "        text-align: right;\n",
       "    }\n",
       "</style>\n",
       "<table border=\"1\" class=\"dataframe\">\n",
       "  <thead>\n",
       "    <tr style=\"text-align: right;\">\n",
       "      <th></th>\n",
       "      <th>Internal ID</th>\n",
       "      <th>Q1: GOING OUT?</th>\n",
       "      <th>Q2: GENDER</th>\n",
       "      <th>Q3: AGE</th>\n",
       "      <th>Q4: COUNTRY</th>\n",
       "      <th>Q5: STATE, PROVINCE, COUNTY, ETC</th>\n",
       "      <th>Q6 | 100 Grand Bar</th>\n",
       "      <th>Q6 | Anonymous brown globs that come in black and orange wrappers\\t(a.k.a. Mary Janes)</th>\n",
       "      <th>Q6 | Any full-sized candy bar</th>\n",
       "      <th>Q6 | Black Jacks</th>\n",
       "      <th>...</th>\n",
       "      <th>Q6 | Vials of pure high fructose corn syrup, for main-lining into your vein</th>\n",
       "      <th>Q6 | Vicodin</th>\n",
       "      <th>Q6 | Whatchamacallit Bars</th>\n",
       "      <th>Q6 | White Bread</th>\n",
       "      <th>Q6 | Whole Wheat anything</th>\n",
       "      <th>Q6 | York Peppermint Patties</th>\n",
       "      <th>Q10: DRESS</th>\n",
       "      <th>Q11: DAY</th>\n",
       "      <th>Q12: MEDIA [Science]</th>\n",
       "      <th>Click Coordinates (x, y)</th>\n",
       "    </tr>\n",
       "  </thead>\n",
       "  <tbody>\n",
       "  </tbody>\n",
       "</table>\n",
       "<p>0 rows × 113 columns</p>\n",
       "</div>"
      ],
      "text/plain": [
       "Empty DataFrame\n",
       "Columns: [Internal ID, Q1: GOING OUT?, Q2: GENDER, Q3: AGE, Q4: COUNTRY, Q5: STATE, PROVINCE, COUNTY, ETC, Q6 | 100 Grand Bar, Q6 | Anonymous brown globs that come in black and orange wrappers\t(a.k.a. Mary Janes), Q6 | Any full-sized candy bar, Q6 | Black Jacks, Q6 | Bonkers (the candy), Q6 | Bonkers (the board game), Q6 | Bottle Caps, Q6 | Box'o'Raisins, Q6 | Broken glow stick, Q6 | Butterfinger, Q6 | Cadbury Creme Eggs, Q6 | Candy Corn, Q6 | Candy that is clearly just the stuff given out for free at restaurants, Q6 | Caramellos, Q6 | Cash, or other forms of legal tender, Q6 | Chardonnay, Q6 | Chick-o-Sticks (we donÕt know what that is), Q6 | Chiclets, Q6 | Coffee Crisp, Q6 | Creepy Religious comics/Chick Tracts, Q6 | Dental paraphenalia, Q6 | Dots, Q6 | Dove Bars, Q6 | Fuzzy Peaches, Q6 | Generic Brand Acetaminophen, Q6 | Glow sticks, Q6 | Goo Goo Clusters, Q6 | Good N' Plenty, Q6 | Gum from baseball cards, Q6 | Gummy Bears straight up, Q6 | Hard Candy, Q6 | Healthy Fruit, Q6 | Heath Bar, Q6 | Hershey's Dark Chocolate, Q6 | HersheyÕs Milk Chocolate, Q6 | Hershey's Kisses, Q6 | Hugs (actual physical hugs), Q6 | Jolly Rancher (bad flavor), Q6 | Jolly Ranchers (good flavor), Q6 | JoyJoy (Mit Iodine!), Q6 | Junior Mints, Q6 | Senior Mints, Q6 | Kale smoothie, Q6 | Kinder Happy Hippo, Q6 | Kit Kat, Q6 | LaffyTaffy, Q6 | LemonHeads, Q6 | Licorice (not black), Q6 | Licorice (yes black), Q6 | Lindt Truffle, Q6 | Lollipops, Q6 | Mars, Q6 | Maynards, Q6 | Mike and Ike, Q6 | Milk Duds, Q6 | Milky Way, Q6 | Regular M&Ms, Q6 | Peanut M&MÕs, Q6 | Blue M&M's, Q6 | Red M&M's, Q6 | Green Party M&M's, Q6 | Independent M&M's, Q6 | Abstained from M&M'ing., Q6 | Minibags of chips, Q6 | Mint Kisses, Q6 | Mint Juleps, Q6 | Mr. Goodbar, Q6 | Necco Wafers, Q6 | Nerds, Q6 | Nestle Crunch, Q6 | Now'n'Laters, Q6 | Peeps, Q6 | Pencils, Q6 | Pixy Stix, Q6 | Real Housewives of Orange County Season 9 Blue-Ray, Q6 | ReeseÕs Peanut Butter Cups, Q6 | Reese's Pieces, Q6 | Reggie Jackson Bar, Q6 | Rolos, Q6 | Sandwich-sized bags filled with BooBerry Crunch, Q6 | Skittles, Q6 | Smarties (American), Q6 | Smarties (Commonwealth), Q6 | Snickers, Q6 | Sourpatch Kids (i.e. abominations of nature), Q6 | Spotted Dick, Q6 | Starburst, Q6 | Sweet Tarts, Q6 | Swedish Fish, Q6 | Sweetums (a friend to diabetes), Q6 | Take 5, Q6 | Tic Tacs, Q6 | Those odd marshmallow circus peanut things, Q6 | Three Musketeers, ...]\n",
       "Index: []\n",
       "\n",
       "[0 rows x 113 columns]"
      ]
     },
     "execution_count": 8,
     "metadata": {},
     "output_type": "execute_result"
    }
   ],
   "source": [
    "df[df.duplicated()]"
   ]
  },
  {
   "cell_type": "markdown",
   "metadata": {},
   "source": [
    "## Chapter 8\n"
   ]
  },
  {
   "cell_type": "markdown",
   "metadata": {},
   "source": [
    "### Reshape the Data"
   ]
  },
  {
   "cell_type": "code",
   "execution_count": 9,
   "metadata": {},
   "outputs": [],
   "source": [
    "# Creating a list of columns I want to keep after resturcturing\n",
    "keep_columns = []\n",
    "for i in df.columns:\n",
    "    if i[0:2] != \"Q6\":\n",
    "        keep_columns.append(i)"
   ]
  },
  {
   "cell_type": "code",
   "execution_count": 10,
   "metadata": {},
   "outputs": [
    {
     "data": {
      "text/html": [
       "<div>\n",
       "<style scoped>\n",
       "    .dataframe tbody tr th:only-of-type {\n",
       "        vertical-align: middle;\n",
       "    }\n",
       "\n",
       "    .dataframe tbody tr th {\n",
       "        vertical-align: top;\n",
       "    }\n",
       "\n",
       "    .dataframe thead th {\n",
       "        text-align: right;\n",
       "    }\n",
       "</style>\n",
       "<table border=\"1\" class=\"dataframe\">\n",
       "  <thead>\n",
       "    <tr style=\"text-align: right;\">\n",
       "      <th></th>\n",
       "      <th>Internal ID</th>\n",
       "      <th>Q1: GOING OUT?</th>\n",
       "      <th>Q2: GENDER</th>\n",
       "      <th>Q3: AGE</th>\n",
       "      <th>Q4: COUNTRY</th>\n",
       "      <th>Q5: STATE, PROVINCE, COUNTY, ETC</th>\n",
       "      <th>Q10: DRESS</th>\n",
       "      <th>Q11: DAY</th>\n",
       "      <th>Q12: MEDIA [Science]</th>\n",
       "      <th>Click Coordinates (x, y)</th>\n",
       "      <th>CANDY</th>\n",
       "      <th>RATING</th>\n",
       "    </tr>\n",
       "  </thead>\n",
       "  <tbody>\n",
       "    <tr>\n",
       "      <th>1</th>\n",
       "      <td>90272821</td>\n",
       "      <td>No</td>\n",
       "      <td>Male</td>\n",
       "      <td>44</td>\n",
       "      <td>USA</td>\n",
       "      <td>NM</td>\n",
       "      <td>White and gold</td>\n",
       "      <td>Sunday</td>\n",
       "      <td>1.0</td>\n",
       "      <td>(84, 25)</td>\n",
       "      <td>100 Grand Bar</td>\n",
       "      <td>MEH</td>\n",
       "    </tr>\n",
       "    <tr>\n",
       "      <th>3</th>\n",
       "      <td>90272840</td>\n",
       "      <td>No</td>\n",
       "      <td>Male</td>\n",
       "      <td>40</td>\n",
       "      <td>us</td>\n",
       "      <td>or</td>\n",
       "      <td>White and gold</td>\n",
       "      <td>Sunday</td>\n",
       "      <td>1.0</td>\n",
       "      <td>(75, 23)</td>\n",
       "      <td>100 Grand Bar</td>\n",
       "      <td>MEH</td>\n",
       "    </tr>\n",
       "    <tr>\n",
       "      <th>4</th>\n",
       "      <td>90272841</td>\n",
       "      <td>No</td>\n",
       "      <td>Male</td>\n",
       "      <td>23</td>\n",
       "      <td>usa</td>\n",
       "      <td>exton pa</td>\n",
       "      <td>White and gold</td>\n",
       "      <td>Friday</td>\n",
       "      <td>1.0</td>\n",
       "      <td>(70, 10)</td>\n",
       "      <td>100 Grand Bar</td>\n",
       "      <td>JOY</td>\n",
       "    </tr>\n",
       "    <tr>\n",
       "      <th>5</th>\n",
       "      <td>90272852</td>\n",
       "      <td>No</td>\n",
       "      <td>Male</td>\n",
       "      <td>NaN</td>\n",
       "      <td>NaN</td>\n",
       "      <td>NaN</td>\n",
       "      <td>NaN</td>\n",
       "      <td>NaN</td>\n",
       "      <td>1.0</td>\n",
       "      <td>(75, 23)</td>\n",
       "      <td>100 Grand Bar</td>\n",
       "      <td>JOY</td>\n",
       "    </tr>\n",
       "    <tr>\n",
       "      <th>7</th>\n",
       "      <td>90272854</td>\n",
       "      <td>No</td>\n",
       "      <td>Male</td>\n",
       "      <td>33</td>\n",
       "      <td>canada</td>\n",
       "      <td>ontario</td>\n",
       "      <td>Blue and black</td>\n",
       "      <td>Friday</td>\n",
       "      <td>1.0</td>\n",
       "      <td>(55, 5)</td>\n",
       "      <td>100 Grand Bar</td>\n",
       "      <td>JOY</td>\n",
       "    </tr>\n",
       "    <tr>\n",
       "      <th>...</th>\n",
       "      <td>...</td>\n",
       "      <td>...</td>\n",
       "      <td>...</td>\n",
       "      <td>...</td>\n",
       "      <td>...</td>\n",
       "      <td>...</td>\n",
       "      <td>...</td>\n",
       "      <td>...</td>\n",
       "      <td>...</td>\n",
       "      <td>...</td>\n",
       "      <td>...</td>\n",
       "      <td>...</td>\n",
       "    </tr>\n",
       "    <tr>\n",
       "      <th>253374</th>\n",
       "      <td>90314022</td>\n",
       "      <td>No</td>\n",
       "      <td>Female</td>\n",
       "      <td>26</td>\n",
       "      <td>USA</td>\n",
       "      <td>Michigan</td>\n",
       "      <td>White and gold</td>\n",
       "      <td>Friday</td>\n",
       "      <td>1.0</td>\n",
       "      <td>(68, 39)</td>\n",
       "      <td>York Peppermint Patties</td>\n",
       "      <td>JOY</td>\n",
       "    </tr>\n",
       "    <tr>\n",
       "      <th>253375</th>\n",
       "      <td>90314359</td>\n",
       "      <td>No</td>\n",
       "      <td>Male</td>\n",
       "      <td>24</td>\n",
       "      <td>USA</td>\n",
       "      <td>MD</td>\n",
       "      <td>White and gold</td>\n",
       "      <td>Friday</td>\n",
       "      <td>NaN</td>\n",
       "      <td>NaN</td>\n",
       "      <td>York Peppermint Patties</td>\n",
       "      <td>MEH</td>\n",
       "    </tr>\n",
       "    <tr>\n",
       "      <th>253376</th>\n",
       "      <td>90314580</td>\n",
       "      <td>No</td>\n",
       "      <td>Female</td>\n",
       "      <td>33</td>\n",
       "      <td>USA</td>\n",
       "      <td>New York</td>\n",
       "      <td>Blue and black</td>\n",
       "      <td>Friday</td>\n",
       "      <td>1.0</td>\n",
       "      <td>(70, 26)</td>\n",
       "      <td>York Peppermint Patties</td>\n",
       "      <td>JOY</td>\n",
       "    </tr>\n",
       "    <tr>\n",
       "      <th>253377</th>\n",
       "      <td>90314634</td>\n",
       "      <td>No</td>\n",
       "      <td>Female</td>\n",
       "      <td>26</td>\n",
       "      <td>USA</td>\n",
       "      <td>Tennessee</td>\n",
       "      <td>Blue and black</td>\n",
       "      <td>Friday</td>\n",
       "      <td>1.0</td>\n",
       "      <td>(67, 35)</td>\n",
       "      <td>York Peppermint Patties</td>\n",
       "      <td>MEH</td>\n",
       "    </tr>\n",
       "    <tr>\n",
       "      <th>253379</th>\n",
       "      <td>90314802</td>\n",
       "      <td>No</td>\n",
       "      <td>Female</td>\n",
       "      <td>66</td>\n",
       "      <td>usa</td>\n",
       "      <td>Pennsylvania</td>\n",
       "      <td>White and gold</td>\n",
       "      <td>Sunday</td>\n",
       "      <td>NaN</td>\n",
       "      <td>(19, 26)</td>\n",
       "      <td>York Peppermint Patties</td>\n",
       "      <td>JOY</td>\n",
       "    </tr>\n",
       "  </tbody>\n",
       "</table>\n",
       "<p>175555 rows × 12 columns</p>\n",
       "</div>"
      ],
      "text/plain": [
       "        Internal ID Q1: GOING OUT? Q2: GENDER Q3: AGE Q4: COUNTRY  \\\n",
       "1          90272821             No       Male      44        USA    \n",
       "3          90272840             No       Male      40          us   \n",
       "4          90272841             No       Male      23         usa   \n",
       "5          90272852             No       Male     NaN         NaN   \n",
       "7          90272854             No       Male      33      canada   \n",
       "...             ...            ...        ...     ...         ...   \n",
       "253374     90314022             No     Female      26         USA   \n",
       "253375     90314359             No       Male      24         USA   \n",
       "253376     90314580             No     Female      33         USA   \n",
       "253377     90314634             No     Female      26        USA    \n",
       "253379     90314802             No     Female      66         usa   \n",
       "\n",
       "       Q5: STATE, PROVINCE, COUNTY, ETC      Q10: DRESS Q11: DAY  \\\n",
       "1                                    NM  White and gold   Sunday   \n",
       "3                                    or  White and gold   Sunday   \n",
       "4                              exton pa  White and gold   Friday   \n",
       "5                                   NaN             NaN      NaN   \n",
       "7                               ontario  Blue and black   Friday   \n",
       "...                                 ...             ...      ...   \n",
       "253374                         Michigan  White and gold   Friday   \n",
       "253375                               MD  White and gold   Friday   \n",
       "253376                         New York  Blue and black   Friday   \n",
       "253377                        Tennessee  Blue and black   Friday   \n",
       "253379                     Pennsylvania  White and gold   Sunday   \n",
       "\n",
       "        Q12: MEDIA [Science] Click Coordinates (x, y)  \\\n",
       "1                        1.0                 (84, 25)   \n",
       "3                        1.0                 (75, 23)   \n",
       "4                        1.0                 (70, 10)   \n",
       "5                        1.0                 (75, 23)   \n",
       "7                        1.0                  (55, 5)   \n",
       "...                      ...                      ...   \n",
       "253374                   1.0                 (68, 39)   \n",
       "253375                   NaN                      NaN   \n",
       "253376                   1.0                 (70, 26)   \n",
       "253377                   1.0                 (67, 35)   \n",
       "253379                   NaN                 (19, 26)   \n",
       "\n",
       "                          CANDY RATING  \n",
       "1                 100 Grand Bar    MEH  \n",
       "3                 100 Grand Bar    MEH  \n",
       "4                 100 Grand Bar    JOY  \n",
       "5                 100 Grand Bar    JOY  \n",
       "7                 100 Grand Bar    JOY  \n",
       "...                         ...    ...  \n",
       "253374  York Peppermint Patties    JOY  \n",
       "253375  York Peppermint Patties    MEH  \n",
       "253376  York Peppermint Patties    JOY  \n",
       "253377  York Peppermint Patties    MEH  \n",
       "253379  York Peppermint Patties    JOY  \n",
       "\n",
       "[175555 rows x 12 columns]"
      ]
     },
     "execution_count": 10,
     "metadata": {},
     "output_type": "execute_result"
    }
   ],
   "source": [
    "# Using melt to reorganize the data \n",
    "df_melt = df.melt(id_vars=keep_columns, var_name = 'CANDY', value_name=\"RATING\" )\n",
    "\n",
    "# Dropping the 'Q6 | ' \n",
    "df_melt['CANDY'] = df_melt['CANDY'].apply(lambda x: x[5::])\n",
    "\n",
    "# Dropping rows with Rating == NaN\n",
    "df_melt = df_melt[~df_melt['RATING'].isna()]\n",
    "df_melt"
   ]
  },
  {
   "cell_type": "code",
   "execution_count": 11,
   "metadata": {},
   "outputs": [
    {
     "data": {
      "text/plain": [
       "<AxesSubplot:>"
      ]
     },
     "execution_count": 11,
     "metadata": {},
     "output_type": "execute_result"
    },
    {
     "data": {
      "image/png": "[encoded data removed]",
      "text/plain": [
       "<Figure size 1800x720 with 2 Axes>"
      ]
     },
     "metadata": {
      "needs_background": "light"
     },
     "output_type": "display_data"
    }
   ],
   "source": [
    "# Visual check of NaN values ofter cleaning\n",
    "mn.matrix(df_melt)"
   ]
  },
  {
   "cell_type": "markdown",
   "metadata": {},
   "source": [
    "### Create hierarchical index\n",
    "We can create a Hierarchical Indexes in pandas using .`set_index` and specifying the values we'd like to have set as the index.\n",
    "\n",
    "I just chose the two columns I created since it seems like they are the most important"
   ]
  },
  {
   "cell_type": "code",
   "execution_count": 12,
   "metadata": {},
   "outputs": [
    {
     "data": {
      "text/html": [
       "<div>\n",
       "<style scoped>\n",
       "    .dataframe tbody tr th:only-of-type {\n",
       "        vertical-align: middle;\n",
       "    }\n",
       "\n",
       "    .dataframe tbody tr th {\n",
       "        vertical-align: top;\n",
       "    }\n",
       "\n",
       "    .dataframe thead th {\n",
       "        text-align: right;\n",
       "    }\n",
       "</style>\n",
       "<table border=\"1\" class=\"dataframe\">\n",
       "  <thead>\n",
       "    <tr style=\"text-align: right;\">\n",
       "      <th></th>\n",
       "      <th></th>\n",
       "      <th>Internal ID</th>\n",
       "      <th>Q1: GOING OUT?</th>\n",
       "      <th>Q2: GENDER</th>\n",
       "      <th>Q3: AGE</th>\n",
       "      <th>Q4: COUNTRY</th>\n",
       "      <th>Q5: STATE, PROVINCE, COUNTY, ETC</th>\n",
       "      <th>Q10: DRESS</th>\n",
       "      <th>Q11: DAY</th>\n",
       "      <th>Q12: MEDIA [Science]</th>\n",
       "      <th>Click Coordinates (x, y)</th>\n",
       "    </tr>\n",
       "    <tr>\n",
       "      <th>CANDY</th>\n",
       "      <th>RATING</th>\n",
       "      <th></th>\n",
       "      <th></th>\n",
       "      <th></th>\n",
       "      <th></th>\n",
       "      <th></th>\n",
       "      <th></th>\n",
       "      <th></th>\n",
       "      <th></th>\n",
       "      <th></th>\n",
       "      <th></th>\n",
       "    </tr>\n",
       "  </thead>\n",
       "  <tbody>\n",
       "    <tr>\n",
       "      <th rowspan=\"5\" valign=\"top\">100 Grand Bar</th>\n",
       "      <th>MEH</th>\n",
       "      <td>90272821</td>\n",
       "      <td>No</td>\n",
       "      <td>Male</td>\n",
       "      <td>44</td>\n",
       "      <td>USA</td>\n",
       "      <td>NM</td>\n",
       "      <td>White and gold</td>\n",
       "      <td>Sunday</td>\n",
       "      <td>1.0</td>\n",
       "      <td>(84, 25)</td>\n",
       "    </tr>\n",
       "    <tr>\n",
       "      <th>MEH</th>\n",
       "      <td>90272840</td>\n",
       "      <td>No</td>\n",
       "      <td>Male</td>\n",
       "      <td>40</td>\n",
       "      <td>us</td>\n",
       "      <td>or</td>\n",
       "      <td>White and gold</td>\n",
       "      <td>Sunday</td>\n",
       "      <td>1.0</td>\n",
       "      <td>(75, 23)</td>\n",
       "    </tr>\n",
       "    <tr>\n",
       "      <th>JOY</th>\n",
       "      <td>90272841</td>\n",
       "      <td>No</td>\n",
       "      <td>Male</td>\n",
       "      <td>23</td>\n",
       "      <td>usa</td>\n",
       "      <td>exton pa</td>\n",
       "      <td>White and gold</td>\n",
       "      <td>Friday</td>\n",
       "      <td>1.0</td>\n",
       "      <td>(70, 10)</td>\n",
       "    </tr>\n",
       "    <tr>\n",
       "      <th>JOY</th>\n",
       "      <td>90272852</td>\n",
       "      <td>No</td>\n",
       "      <td>Male</td>\n",
       "      <td>NaN</td>\n",
       "      <td>NaN</td>\n",
       "      <td>NaN</td>\n",
       "      <td>NaN</td>\n",
       "      <td>NaN</td>\n",
       "      <td>1.0</td>\n",
       "      <td>(75, 23)</td>\n",
       "    </tr>\n",
       "    <tr>\n",
       "      <th>JOY</th>\n",
       "      <td>90272854</td>\n",
       "      <td>No</td>\n",
       "      <td>Male</td>\n",
       "      <td>33</td>\n",
       "      <td>canada</td>\n",
       "      <td>ontario</td>\n",
       "      <td>Blue and black</td>\n",
       "      <td>Friday</td>\n",
       "      <td>1.0</td>\n",
       "      <td>(55, 5)</td>\n",
       "    </tr>\n",
       "    <tr>\n",
       "      <th>...</th>\n",
       "      <th>...</th>\n",
       "      <td>...</td>\n",
       "      <td>...</td>\n",
       "      <td>...</td>\n",
       "      <td>...</td>\n",
       "      <td>...</td>\n",
       "      <td>...</td>\n",
       "      <td>...</td>\n",
       "      <td>...</td>\n",
       "      <td>...</td>\n",
       "      <td>...</td>\n",
       "    </tr>\n",
       "    <tr>\n",
       "      <th rowspan=\"5\" valign=\"top\">York Peppermint Patties</th>\n",
       "      <th>JOY</th>\n",
       "      <td>90314022</td>\n",
       "      <td>No</td>\n",
       "      <td>Female</td>\n",
       "      <td>26</td>\n",
       "      <td>USA</td>\n",
       "      <td>Michigan</td>\n",
       "      <td>White and gold</td>\n",
       "      <td>Friday</td>\n",
       "      <td>1.0</td>\n",
       "      <td>(68, 39)</td>\n",
       "    </tr>\n",
       "    <tr>\n",
       "      <th>MEH</th>\n",
       "      <td>90314359</td>\n",
       "      <td>No</td>\n",
       "      <td>Male</td>\n",
       "      <td>24</td>\n",
       "      <td>USA</td>\n",
       "      <td>MD</td>\n",
       "      <td>White and gold</td>\n",
       "      <td>Friday</td>\n",
       "      <td>NaN</td>\n",
       "      <td>NaN</td>\n",
       "    </tr>\n",
       "    <tr>\n",
       "      <th>JOY</th>\n",
       "      <td>90314580</td>\n",
       "      <td>No</td>\n",
       "      <td>Female</td>\n",
       "      <td>33</td>\n",
       "      <td>USA</td>\n",
       "      <td>New York</td>\n",
       "      <td>Blue and black</td>\n",
       "      <td>Friday</td>\n",
       "      <td>1.0</td>\n",
       "      <td>(70, 26)</td>\n",
       "    </tr>\n",
       "    <tr>\n",
       "      <th>MEH</th>\n",
       "      <td>90314634</td>\n",
       "      <td>No</td>\n",
       "      <td>Female</td>\n",
       "      <td>26</td>\n",
       "      <td>USA</td>\n",
       "      <td>Tennessee</td>\n",
       "      <td>Blue and black</td>\n",
       "      <td>Friday</td>\n",
       "      <td>1.0</td>\n",
       "      <td>(67, 35)</td>\n",
       "    </tr>\n",
       "    <tr>\n",
       "      <th>JOY</th>\n",
       "      <td>90314802</td>\n",
       "      <td>No</td>\n",
       "      <td>Female</td>\n",
       "      <td>66</td>\n",
       "      <td>usa</td>\n",
       "      <td>Pennsylvania</td>\n",
       "      <td>White and gold</td>\n",
       "      <td>Sunday</td>\n",
       "      <td>NaN</td>\n",
       "      <td>(19, 26)</td>\n",
       "    </tr>\n",
       "  </tbody>\n",
       "</table>\n",
       "<p>175555 rows × 10 columns</p>\n",
       "</div>"
      ],
      "text/plain": [
       "                                Internal ID Q1: GOING OUT? Q2: GENDER Q3: AGE  \\\n",
       "CANDY                   RATING                                                  \n",
       "100 Grand Bar           MEH        90272821             No       Male      44   \n",
       "                        MEH        90272840             No       Male      40   \n",
       "                        JOY        90272841             No       Male      23   \n",
       "                        JOY        90272852             No       Male     NaN   \n",
       "                        JOY        90272854             No       Male      33   \n",
       "...                                     ...            ...        ...     ...   \n",
       "York Peppermint Patties JOY        90314022             No     Female      26   \n",
       "                        MEH        90314359             No       Male      24   \n",
       "                        JOY        90314580             No     Female      33   \n",
       "                        MEH        90314634             No     Female      26   \n",
       "                        JOY        90314802             No     Female      66   \n",
       "\n",
       "                               Q4: COUNTRY Q5: STATE, PROVINCE, COUNTY, ETC  \\\n",
       "CANDY                   RATING                                                \n",
       "100 Grand Bar           MEH           USA                                NM   \n",
       "                        MEH             us                               or   \n",
       "                        JOY            usa                         exton pa   \n",
       "                        JOY            NaN                              NaN   \n",
       "                        JOY         canada                          ontario   \n",
       "...                                    ...                              ...   \n",
       "York Peppermint Patties JOY            USA                         Michigan   \n",
       "                        MEH            USA                               MD   \n",
       "                        JOY            USA                         New York   \n",
       "                        MEH           USA                         Tennessee   \n",
       "                        JOY            usa                     Pennsylvania   \n",
       "\n",
       "                                    Q10: DRESS Q11: DAY  Q12: MEDIA [Science]  \\\n",
       "CANDY                   RATING                                                  \n",
       "100 Grand Bar           MEH     White and gold   Sunday                   1.0   \n",
       "                        MEH     White and gold   Sunday                   1.0   \n",
       "                        JOY     White and gold   Friday                   1.0   \n",
       "                        JOY                NaN      NaN                   1.0   \n",
       "                        JOY     Blue and black   Friday                   1.0   \n",
       "...                                        ...      ...                   ...   \n",
       "York Peppermint Patties JOY     White and gold   Friday                   1.0   \n",
       "                        MEH     White and gold   Friday                   NaN   \n",
       "                        JOY     Blue and black   Friday                   1.0   \n",
       "                        MEH     Blue and black   Friday                   1.0   \n",
       "                        JOY     White and gold   Sunday                   NaN   \n",
       "\n",
       "                               Click Coordinates (x, y)  \n",
       "CANDY                   RATING                           \n",
       "100 Grand Bar           MEH                    (84, 25)  \n",
       "                        MEH                    (75, 23)  \n",
       "                        JOY                    (70, 10)  \n",
       "                        JOY                    (75, 23)  \n",
       "                        JOY                     (55, 5)  \n",
       "...                                                 ...  \n",
       "York Peppermint Patties JOY                    (68, 39)  \n",
       "                        MEH                         NaN  \n",
       "                        JOY                    (70, 26)  \n",
       "                        MEH                    (67, 35)  \n",
       "                        JOY                    (19, 26)  \n",
       "\n",
       "[175555 rows x 10 columns]"
      ]
     },
     "execution_count": 12,
     "metadata": {},
     "output_type": "execute_result"
    }
   ],
   "source": [
    "df_melt.set_index(['CANDY','RATING'])"
   ]
  },
  {
   "cell_type": "markdown",
   "metadata": {},
   "source": [
    "We can use `melt` to combine all the different candy columns into one column. "
   ]
  },
  {
   "cell_type": "markdown",
   "metadata": {},
   "source": [
    "## Chapter 10\n",
    "### Grouping with Index Levels"
   ]
  },
  {
   "cell_type": "markdown",
   "metadata": {},
   "source": [
    "Now that we've added each candy bar to each column, we can set it as an index value and groupby that value."
   ]
  },
  {
   "cell_type": "code",
   "execution_count": 13,
   "metadata": {},
   "outputs": [
    {
     "data": {
      "text/html": [
       "<div>\n",
       "<style scoped>\n",
       "    .dataframe tbody tr th:only-of-type {\n",
       "        vertical-align: middle;\n",
       "    }\n",
       "\n",
       "    .dataframe tbody tr th {\n",
       "        vertical-align: top;\n",
       "    }\n",
       "\n",
       "    .dataframe thead th {\n",
       "        text-align: right;\n",
       "    }\n",
       "</style>\n",
       "<table border=\"1\" class=\"dataframe\">\n",
       "  <thead>\n",
       "    <tr style=\"text-align: right;\">\n",
       "      <th></th>\n",
       "      <th></th>\n",
       "      <th>count</th>\n",
       "    </tr>\n",
       "    <tr>\n",
       "      <th>CANDY</th>\n",
       "      <th>RATING</th>\n",
       "      <th></th>\n",
       "    </tr>\n",
       "  </thead>\n",
       "  <tbody>\n",
       "    <tr>\n",
       "      <th>Broken glow stick</th>\n",
       "      <th>DESPAIR</th>\n",
       "      <td>1625.0</td>\n",
       "    </tr>\n",
       "    <tr>\n",
       "      <th>Any full-sized candy bar</th>\n",
       "      <th>JOY</th>\n",
       "      <td>1559.0</td>\n",
       "    </tr>\n",
       "    <tr>\n",
       "      <th>ReeseÕs Peanut Butter Cups</th>\n",
       "      <th>JOY</th>\n",
       "      <td>1498.0</td>\n",
       "    </tr>\n",
       "    <tr>\n",
       "      <th>Real Housewives of Orange County Season 9 Blue-Ray</th>\n",
       "      <th>DESPAIR</th>\n",
       "      <td>1480.0</td>\n",
       "    </tr>\n",
       "    <tr>\n",
       "      <th>Gum from baseball cards</th>\n",
       "      <th>DESPAIR</th>\n",
       "      <td>1462.0</td>\n",
       "    </tr>\n",
       "    <tr>\n",
       "      <th>...</th>\n",
       "      <th>...</th>\n",
       "      <td>...</td>\n",
       "    </tr>\n",
       "    <tr>\n",
       "      <th>White Bread</th>\n",
       "      <th>JOY</th>\n",
       "      <td>44.0</td>\n",
       "    </tr>\n",
       "    <tr>\n",
       "      <th>Gum from baseball cards</th>\n",
       "      <th>JOY</th>\n",
       "      <td>44.0</td>\n",
       "    </tr>\n",
       "    <tr>\n",
       "      <th>Candy that is clearly just the stuff given out for free at restaurants</th>\n",
       "      <th>JOY</th>\n",
       "      <td>39.0</td>\n",
       "    </tr>\n",
       "    <tr>\n",
       "      <th>Broken glow stick</th>\n",
       "      <th>JOY</th>\n",
       "      <td>24.0</td>\n",
       "    </tr>\n",
       "    <tr>\n",
       "      <th>Any full-sized candy bar</th>\n",
       "      <th>DESPAIR</th>\n",
       "      <td>17.0</td>\n",
       "    </tr>\n",
       "  </tbody>\n",
       "</table>\n",
       "<p>309 rows × 1 columns</p>\n",
       "</div>"
      ],
      "text/plain": [
       "                                                             count\n",
       "CANDY                                              RATING         \n",
       "Broken glow stick                                  DESPAIR  1625.0\n",
       "Any full-sized candy bar                           JOY      1559.0\n",
       "ReeseÕs Peanut Butter Cups                         JOY      1498.0\n",
       "Real Housewives of Orange County Season 9 Blue-Ray DESPAIR  1480.0\n",
       "Gum from baseball cards                            DESPAIR  1462.0\n",
       "...                                                            ...\n",
       "White Bread                                        JOY        44.0\n",
       "Gum from baseball cards                            JOY        44.0\n",
       "Candy that is clearly just the stuff given out ... JOY        39.0\n",
       "Broken glow stick                                  JOY        24.0\n",
       "Any full-sized candy bar                           DESPAIR    17.0\n",
       "\n",
       "[309 rows x 1 columns]"
      ]
     },
     "execution_count": 13,
     "metadata": {},
     "output_type": "execute_result"
    }
   ],
   "source": [
    "# This shows us some summary statistics based on the type of candy \n",
    "pd.DataFrame(df_melt.set_index(['CANDY','RATING']).groupby(level = ['CANDY','RATING']).describe()['Internal ID']['count']).sort_values(by='count', ascending=False)"
   ]
  },
  {
   "cell_type": "markdown",
   "metadata": {},
   "source": [
    "### Grouping with Functions"
   ]
  },
  {
   "cell_type": "code",
   "execution_count": 14,
   "metadata": {},
   "outputs": [
    {
     "data": {
      "text/html": [
       "<div>\n",
       "<style scoped>\n",
       "    .dataframe tbody tr th:only-of-type {\n",
       "        vertical-align: middle;\n",
       "    }\n",
       "\n",
       "    .dataframe tbody tr th {\n",
       "        vertical-align: top;\n",
       "    }\n",
       "\n",
       "    .dataframe thead th {\n",
       "        text-align: right;\n",
       "    }\n",
       "</style>\n",
       "<table border=\"1\" class=\"dataframe\">\n",
       "  <thead>\n",
       "    <tr style=\"text-align: right;\">\n",
       "      <th></th>\n",
       "      <th></th>\n",
       "      <th>0</th>\n",
       "    </tr>\n",
       "    <tr>\n",
       "      <th>CANDY</th>\n",
       "      <th>RATING</th>\n",
       "      <th></th>\n",
       "    </tr>\n",
       "  </thead>\n",
       "  <tbody>\n",
       "    <tr>\n",
       "      <th rowspan=\"3\" valign=\"top\">100 Grand Bar</th>\n",
       "      <th>DESPAIR</th>\n",
       "      <td>85</td>\n",
       "    </tr>\n",
       "    <tr>\n",
       "      <th>JOY</th>\n",
       "      <td>873</td>\n",
       "    </tr>\n",
       "    <tr>\n",
       "      <th>MEH</th>\n",
       "      <td>755</td>\n",
       "    </tr>\n",
       "    <tr>\n",
       "      <th rowspan=\"2\" valign=\"top\">Abstained from M&amp;M'ing.</th>\n",
       "      <th>DESPAIR</th>\n",
       "      <td>693</td>\n",
       "    </tr>\n",
       "    <tr>\n",
       "      <th>JOY</th>\n",
       "      <td>218</td>\n",
       "    </tr>\n",
       "    <tr>\n",
       "      <th>...</th>\n",
       "      <th>...</th>\n",
       "      <td>...</td>\n",
       "    </tr>\n",
       "    <tr>\n",
       "      <th rowspan=\"2\" valign=\"top\">Whole Wheat anything</th>\n",
       "      <th>DESPAIR</th>\n",
       "      <td>1289</td>\n",
       "    </tr>\n",
       "    <tr>\n",
       "      <th>MEH</th>\n",
       "      <td>307</td>\n",
       "    </tr>\n",
       "    <tr>\n",
       "      <th rowspan=\"3\" valign=\"top\">York Peppermint Patties</th>\n",
       "      <th>JOY</th>\n",
       "      <td>1105</td>\n",
       "    </tr>\n",
       "    <tr>\n",
       "      <th>DESPAIR</th>\n",
       "      <td>232</td>\n",
       "    </tr>\n",
       "    <tr>\n",
       "      <th>MEH</th>\n",
       "      <td>418</td>\n",
       "    </tr>\n",
       "  </tbody>\n",
       "</table>\n",
       "<p>309 rows × 1 columns</p>\n",
       "</div>"
      ],
      "text/plain": [
       "                                    0\n",
       "CANDY                   RATING       \n",
       "100 Grand Bar           DESPAIR    85\n",
       "                        JOY       873\n",
       "                        MEH       755\n",
       "Abstained from M&M'ing. DESPAIR   693\n",
       "                        JOY       218\n",
       "...                               ...\n",
       "Whole Wheat anything    DESPAIR  1289\n",
       "                        MEH       307\n",
       "York Peppermint Patties JOY      1105\n",
       "                        DESPAIR   232\n",
       "                        MEH       418\n",
       "\n",
       "[309 rows x 1 columns]"
      ]
     },
     "execution_count": 14,
     "metadata": {},
     "output_type": "execute_result"
    }
   ],
   "source": [
    "# Using the size function\n",
    "pd.DataFrame(df_melt.groupby(['CANDY','RATING']).size()).sort_values('CANDY', ascending=True)"
   ]
  },
  {
   "cell_type": "markdown",
   "metadata": {},
   "source": [
    "## Chapter 11"
   ]
  },
  {
   "cell_type": "markdown",
   "metadata": {},
   "source": [
    "\n",
    "### Convert between string and date time\n",
    "There is no time series data in this dataset, so I'll just generate some of my own\n"
   ]
  },
  {
   "cell_type": "code",
   "execution_count": 15,
   "metadata": {},
   "outputs": [
    {
     "name": "stdout",
     "output_type": "stream",
     "text": [
      "['5/17/1991', '2/8/2000', '2/20/2014', '3/5/2003', '3/10/1992', '8/2/2005', '8/2/1995', '11/25/1994', '5/14/2018', '8/8/1993', '1/17/1995', '2/2/1993', '10/15/2012', '11/1/1995', '5/13/2012', '12/8/2000', '1/19/2020', '7/27/2020', '7/23/2014', '8/16/2017', '9/26/2012', '2/12/2021', '10/13/1995', '9/22/2017', '12/23/2001', '7/24/2003', '11/27/2020', '7/28/2020', '6/28/1998', '10/22/2016', '7/2/2019', '9/11/2003', '8/7/2001', '12/28/2021', '1/16/2005', '2/23/2014', '8/8/1994', '8/8/2012', '10/22/2005', '8/25/2005', '5/7/2019', '9/24/2017', '8/20/2021', '6/15/1998', '6/28/2017', '2/10/2001', '12/9/2012', '12/1/2019', '1/18/2015', '9/3/2018']\n",
      "<class 'str'>\n"
     ]
    }
   ],
   "source": [
    "import numpy as np\n",
    "\n",
    "years = np.random.randint(low = 1990,high = 2022, size = 50)\n",
    "months = np.random.randint(low = 1,high = 13, size = 50)\n",
    "days = np.random.randint(low = 1, high = 29, size = 50) # Had to lower days to 28 total days since Feb kept messing up\n",
    "\n",
    "dates = []\n",
    "for month, day, year in zip(months, days, years):\n",
    "    dates.append(f\"{month}/{day}/{year}\")\n",
    "print(dates)\n",
    "print(type(dates[0]))"
   ]
  },
  {
   "cell_type": "code",
   "execution_count": 16,
   "metadata": {},
   "outputs": [
    {
     "data": {
      "text/plain": [
       "DatetimeIndex(['1991-05-17', '2000-02-08', '2014-02-20', '2003-03-05',\n",
       "               '1992-03-10', '2005-08-02', '1995-08-02', '1994-11-25',\n",
       "               '2018-05-14', '1993-08-08', '1995-01-17', '1993-02-02',\n",
       "               '2012-10-15', '1995-11-01', '2012-05-13', '2000-12-08',\n",
       "               '2020-01-19', '2020-07-27', '2014-07-23', '2017-08-16',\n",
       "               '2012-09-26', '2021-02-12', '1995-10-13', '2017-09-22',\n",
       "               '2001-12-23', '2003-07-24', '2020-11-27', '2020-07-28',\n",
       "               '1998-06-28', '2016-10-22', '2019-07-02', '2003-09-11',\n",
       "               '2001-08-07', '2021-12-28', '2005-01-16', '2014-02-23',\n",
       "               '1994-08-08', '2012-08-08', '2005-10-22', '2005-08-25',\n",
       "               '2019-05-07', '2017-09-24', '2021-08-20', '1998-06-15',\n",
       "               '2017-06-28', '2001-02-10', '2012-12-09', '2019-12-01',\n",
       "               '2015-01-18', '2018-09-03'],\n",
       "              dtype='datetime64[ns]', freq=None)"
      ]
     },
     "execution_count": 16,
     "metadata": {},
     "output_type": "execute_result"
    }
   ],
   "source": [
    "pd.to_datetime(dates)"
   ]
  },
  {
   "cell_type": "markdown",
   "metadata": {},
   "source": [
    "### Generate date range"
   ]
  },
  {
   "cell_type": "code",
   "execution_count": 17,
   "metadata": {},
   "outputs": [],
   "source": [
    "from datetime import date"
   ]
  },
  {
   "cell_type": "code",
   "execution_count": 18,
   "metadata": {},
   "outputs": [
    {
     "data": {
      "text/plain": [
       "DatetimeIndex(['2020-01-01', '2020-01-02', '2020-01-03', '2020-01-04',\n",
       "               '2020-01-05', '2020-01-06', '2020-01-07', '2020-01-08',\n",
       "               '2020-01-09', '2020-01-10',\n",
       "               ...\n",
       "               '2021-01-29', '2021-01-30', '2021-01-31', '2021-02-01',\n",
       "               '2021-02-02', '2021-02-03', '2021-02-04', '2021-02-05',\n",
       "               '2021-02-06', '2021-02-07'],\n",
       "              dtype='datetime64[ns]', length=404, freq='D')"
      ]
     },
     "execution_count": 18,
     "metadata": {},
     "output_type": "execute_result"
    }
   ],
   "source": [
    "dates = pd.date_range('2020-01-01',date.today())\n",
    "dates"
   ]
  },
  {
   "cell_type": "markdown",
   "metadata": {},
   "source": [
    "\n",
    "### Frequencies and date offsets"
   ]
  },
  {
   "cell_type": "code",
   "execution_count": 19,
   "metadata": {},
   "outputs": [
    {
     "data": {
      "text/plain": [
       "DatetimeIndex(['2020-01-01 09:30:00', '2020-01-02 09:30:00',\n",
       "               '2020-01-03 09:30:00', '2020-01-04 09:30:00',\n",
       "               '2020-01-05 09:30:00', '2020-01-06 09:30:00',\n",
       "               '2020-01-07 09:30:00', '2020-01-08 09:30:00',\n",
       "               '2020-01-09 09:30:00', '2020-01-10 09:30:00',\n",
       "               ...\n",
       "               '2021-01-29 09:30:00', '2021-01-30 09:30:00',\n",
       "               '2021-01-31 09:30:00', '2021-02-01 09:30:00',\n",
       "               '2021-02-02 09:30:00', '2021-02-03 09:30:00',\n",
       "               '2021-02-04 09:30:00', '2021-02-05 09:30:00',\n",
       "               '2021-02-06 09:30:00', '2021-02-07 09:30:00'],\n",
       "              dtype='datetime64[ns]', length=404, freq='D')"
      ]
     },
     "execution_count": 19,
     "metadata": {},
     "output_type": "execute_result"
    }
   ],
   "source": [
    "from pandas.tseries.offsets import Hour, Minute\n",
    "\n",
    "nine_hours = Hour(9)\n",
    "thirty_minutes = Minute(30)\n",
    "\n",
    "dates = dates+nine_hours+thirty_minutes\n",
    "dates"
   ]
  },
  {
   "cell_type": "markdown",
   "metadata": {},
   "source": [
    "### Convert timestamps to periods and back"
   ]
  },
  {
   "cell_type": "code",
   "execution_count": 20,
   "metadata": {},
   "outputs": [
    {
     "data": {
      "text/plain": [
       "0      2019-12-30/2020-01-05\n",
       "1      2019-12-30/2020-01-05\n",
       "2      2019-12-30/2020-01-05\n",
       "3      2019-12-30/2020-01-05\n",
       "4      2019-12-30/2020-01-05\n",
       "               ...          \n",
       "399    2021-02-01/2021-02-07\n",
       "400    2021-02-01/2021-02-07\n",
       "401    2021-02-01/2021-02-07\n",
       "402    2021-02-01/2021-02-07\n",
       "403    2021-02-01/2021-02-07\n",
       "Length: 404, dtype: period[W-SUN]"
      ]
     },
     "execution_count": 20,
     "metadata": {},
     "output_type": "execute_result"
    }
   ],
   "source": [
    "period = pd.Series(dates).dt.to_period('W')\n",
    "period"
   ]
  },
  {
   "cell_type": "code",
   "execution_count": 21,
   "metadata": {},
   "outputs": [
    {
     "data": {
      "text/plain": [
       "0     2020-01-05 23:59:59.999999999\n",
       "1     2020-01-05 23:59:59.999999999\n",
       "2     2020-01-05 23:59:59.999999999\n",
       "3     2020-01-05 23:59:59.999999999\n",
       "4     2020-01-05 23:59:59.999999999\n",
       "                   ...             \n",
       "399   2021-02-07 23:59:59.999999999\n",
       "400   2021-02-07 23:59:59.999999999\n",
       "401   2021-02-07 23:59:59.999999999\n",
       "402   2021-02-07 23:59:59.999999999\n",
       "403   2021-02-07 23:59:59.999999999\n",
       "Length: 404, dtype: datetime64[ns]"
      ]
     },
     "execution_count": 21,
     "metadata": {},
     "output_type": "execute_result"
    }
   ],
   "source": [
    "period.dt.to_timestamp(how='end')"
   ]
  }
 ],
 "metadata": {
  "kernelspec": {
   "display_name": "Python 3",
   "language": "python",
   "name": "python3"
  },
  "language_info": {
   "codemirror_mode": {
    "name": "ipython",
    "version": 3
   },
   "file_extension": ".py",
   "mimetype": "text/x-python",
   "name": "python",
   "nbconvert_exporter": "python",
   "pygments_lexer": "ipython3",
   "version": "3.8.5"
  }
 },
 "nbformat": 4,
 "nbformat_minor": 4
}
