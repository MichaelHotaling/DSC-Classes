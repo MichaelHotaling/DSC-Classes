{
 "cells": [
  {
   "cell_type": "markdown",
   "metadata": {},
   "source": [
    "DSC550<br>\n",
    "1/14/2021<br>\n",
    "Michael Hotaling"
   ]
  },
  {
   "cell_type": "markdown",
   "metadata": {},
   "source": [
    "# Case Study:  Testing  Hypothesis\n",
    "\n",
    "### Hypothesis:  Articles about Climate Change are more likely to be published by \"Liberal\" sources\n",
    "\n",
    "NOTE: This case study is not complete!  We are only using the first part of it to practice Graphic Analytics.\n"
   ]
  },
  {
   "cell_type": "code",
   "execution_count": 1,
   "metadata": {},
   "outputs": [],
   "source": [
    "# Importing the required libraries\n",
    "import pandas as pd\n",
    "import numpy as np\n",
    "import string\n",
    "import re\n",
    "import matplotlib.pyplot as plt"
   ]
  },
  {
   "cell_type": "markdown",
   "metadata": {},
   "source": [
    "### **Step 1:  Load data into a dataframe**"
   ]
  },
  {
   "cell_type": "code",
   "execution_count": 2,
   "metadata": {},
   "outputs": [
    {
     "data": {
      "text/html": [
       "<div>\n",
       "<style scoped>\n",
       "    .dataframe tbody tr th:only-of-type {\n",
       "        vertical-align: middle;\n",
       "    }\n",
       "\n",
       "    .dataframe tbody tr th {\n",
       "        vertical-align: top;\n",
       "    }\n",
       "\n",
       "    .dataframe thead th {\n",
       "        text-align: right;\n",
       "    }\n",
       "</style>\n",
       "<table border=\"1\" class=\"dataframe\">\n",
       "  <thead>\n",
       "    <tr style=\"text-align: right;\">\n",
       "      <th></th>\n",
       "      <th>id</th>\n",
       "      <th>title</th>\n",
       "      <th>publication</th>\n",
       "      <th>author</th>\n",
       "      <th>date</th>\n",
       "      <th>year</th>\n",
       "      <th>month</th>\n",
       "      <th>url</th>\n",
       "      <th>content</th>\n",
       "    </tr>\n",
       "  </thead>\n",
       "  <tbody>\n",
       "    <tr>\n",
       "      <th>0</th>\n",
       "      <td>17283</td>\n",
       "      <td>House Republicans Fret About Winning Their Hea...</td>\n",
       "      <td>New York Times</td>\n",
       "      <td>Carl Hulse</td>\n",
       "      <td>2016-12-31</td>\n",
       "      <td>2016.0</td>\n",
       "      <td>12.0</td>\n",
       "      <td>NaN</td>\n",
       "      <td>WASHINGTON  —   Congressional Republicans have...</td>\n",
       "    </tr>\n",
       "    <tr>\n",
       "      <th>1</th>\n",
       "      <td>17284</td>\n",
       "      <td>Rift Between Officers and Residents as Killing...</td>\n",
       "      <td>New York Times</td>\n",
       "      <td>Benjamin Mueller and Al Baker</td>\n",
       "      <td>2017-06-19</td>\n",
       "      <td>2017.0</td>\n",
       "      <td>6.0</td>\n",
       "      <td>NaN</td>\n",
       "      <td>After the bullet shells get counted, the blood...</td>\n",
       "    </tr>\n",
       "    <tr>\n",
       "      <th>2</th>\n",
       "      <td>17285</td>\n",
       "      <td>Tyrus Wong, ‘Bambi’ Artist Thwarted by Racial ...</td>\n",
       "      <td>New York Times</td>\n",
       "      <td>Margalit Fox</td>\n",
       "      <td>2017-01-06</td>\n",
       "      <td>2017.0</td>\n",
       "      <td>1.0</td>\n",
       "      <td>NaN</td>\n",
       "      <td>When Walt Disney’s “Bambi” opened in 1942, cri...</td>\n",
       "    </tr>\n",
       "    <tr>\n",
       "      <th>3</th>\n",
       "      <td>17286</td>\n",
       "      <td>Among Deaths in 2016, a Heavy Toll in Pop Musi...</td>\n",
       "      <td>New York Times</td>\n",
       "      <td>William McDonald</td>\n",
       "      <td>2017-04-10</td>\n",
       "      <td>2017.0</td>\n",
       "      <td>4.0</td>\n",
       "      <td>NaN</td>\n",
       "      <td>Death may be the great equalizer, but it isn’t...</td>\n",
       "    </tr>\n",
       "    <tr>\n",
       "      <th>4</th>\n",
       "      <td>17287</td>\n",
       "      <td>Kim Jong-un Says North Korea Is Preparing to T...</td>\n",
       "      <td>New York Times</td>\n",
       "      <td>Choe Sang-Hun</td>\n",
       "      <td>2017-01-02</td>\n",
       "      <td>2017.0</td>\n",
       "      <td>1.0</td>\n",
       "      <td>NaN</td>\n",
       "      <td>SEOUL, South Korea  —   North Korea’s leader, ...</td>\n",
       "    </tr>\n",
       "  </tbody>\n",
       "</table>\n",
       "</div>"
      ],
      "text/plain": [
       "      id                                              title     publication  \\\n",
       "0  17283  House Republicans Fret About Winning Their Hea...  New York Times   \n",
       "1  17284  Rift Between Officers and Residents as Killing...  New York Times   \n",
       "2  17285  Tyrus Wong, ‘Bambi’ Artist Thwarted by Racial ...  New York Times   \n",
       "3  17286  Among Deaths in 2016, a Heavy Toll in Pop Musi...  New York Times   \n",
       "4  17287  Kim Jong-un Says North Korea Is Preparing to T...  New York Times   \n",
       "\n",
       "                          author        date    year  month  url  \\\n",
       "0                     Carl Hulse  2016-12-31  2016.0   12.0  NaN   \n",
       "1  Benjamin Mueller and Al Baker  2017-06-19  2017.0    6.0  NaN   \n",
       "2                   Margalit Fox  2017-01-06  2017.0    1.0  NaN   \n",
       "3               William McDonald  2017-04-10  2017.0    4.0  NaN   \n",
       "4                  Choe Sang-Hun  2017-01-02  2017.0    1.0  NaN   \n",
       "\n",
       "                                             content  \n",
       "0  WASHINGTON  —   Congressional Republicans have...  \n",
       "1  After the bullet shells get counted, the blood...  \n",
       "2  When Walt Disney’s “Bambi” opened in 1942, cri...  \n",
       "3  Death may be the great equalizer, but it isn’t...  \n",
       "4  SEOUL, South Korea  —   North Korea’s leader, ...  "
      ]
     },
     "execution_count": 2,
     "metadata": {},
     "output_type": "execute_result"
    }
   ],
   "source": [
    "addr1 = \"articles1.csv\"\n",
    "articles = pd.read_csv(addr1, index_col=0)\n",
    "articles.head()"
   ]
  },
  {
   "cell_type": "markdown",
   "metadata": {},
   "source": [
    "### **Step 2:  Check the dimension of the table/look at the data**"
   ]
  },
  {
   "cell_type": "code",
   "execution_count": 3,
   "metadata": {},
   "outputs": [
    {
     "name": "stdout",
     "output_type": "stream",
     "text": [
      "This dataset has 50000 rows and 9 columns\n"
     ]
    }
   ],
   "source": [
    "print(\"This dataset has {} rows and {} columns\".format(articles.shape[0], articles.shape[1]))"
   ]
  },
  {
   "cell_type": "markdown",
   "metadata": {},
   "source": [
    "**What type of variables are in the table?**"
   ]
  },
  {
   "cell_type": "code",
   "execution_count": 4,
   "metadata": {},
   "outputs": [
    {
     "name": "stdout",
     "output_type": "stream",
     "text": [
      "Describe Data\n"
     ]
    },
    {
     "data": {
      "text/html": [
       "<div>\n",
       "<style scoped>\n",
       "    .dataframe tbody tr th:only-of-type {\n",
       "        vertical-align: middle;\n",
       "    }\n",
       "\n",
       "    .dataframe tbody tr th {\n",
       "        vertical-align: top;\n",
       "    }\n",
       "\n",
       "    .dataframe thead th {\n",
       "        text-align: right;\n",
       "    }\n",
       "</style>\n",
       "<table border=\"1\" class=\"dataframe\">\n",
       "  <thead>\n",
       "    <tr style=\"text-align: right;\">\n",
       "      <th></th>\n",
       "      <th>id</th>\n",
       "      <th>year</th>\n",
       "      <th>month</th>\n",
       "      <th>url</th>\n",
       "    </tr>\n",
       "  </thead>\n",
       "  <tbody>\n",
       "    <tr>\n",
       "      <th>count</th>\n",
       "      <td>50000.000000</td>\n",
       "      <td>50000.000000</td>\n",
       "      <td>50000.000000</td>\n",
       "      <td>0.0</td>\n",
       "    </tr>\n",
       "    <tr>\n",
       "      <th>mean</th>\n",
       "      <td>44432.454800</td>\n",
       "      <td>2016.273700</td>\n",
       "      <td>5.508940</td>\n",
       "      <td>NaN</td>\n",
       "    </tr>\n",
       "    <tr>\n",
       "      <th>std</th>\n",
       "      <td>15773.615179</td>\n",
       "      <td>0.634694</td>\n",
       "      <td>3.333062</td>\n",
       "      <td>NaN</td>\n",
       "    </tr>\n",
       "    <tr>\n",
       "      <th>min</th>\n",
       "      <td>17283.000000</td>\n",
       "      <td>2011.000000</td>\n",
       "      <td>1.000000</td>\n",
       "      <td>NaN</td>\n",
       "    </tr>\n",
       "    <tr>\n",
       "      <th>25%</th>\n",
       "      <td>31236.750000</td>\n",
       "      <td>2016.000000</td>\n",
       "      <td>3.000000</td>\n",
       "      <td>NaN</td>\n",
       "    </tr>\n",
       "    <tr>\n",
       "      <th>50%</th>\n",
       "      <td>43757.500000</td>\n",
       "      <td>2016.000000</td>\n",
       "      <td>5.000000</td>\n",
       "      <td>NaN</td>\n",
       "    </tr>\n",
       "    <tr>\n",
       "      <th>75%</th>\n",
       "      <td>57479.250000</td>\n",
       "      <td>2017.000000</td>\n",
       "      <td>8.000000</td>\n",
       "      <td>NaN</td>\n",
       "    </tr>\n",
       "    <tr>\n",
       "      <th>max</th>\n",
       "      <td>73469.000000</td>\n",
       "      <td>2017.000000</td>\n",
       "      <td>12.000000</td>\n",
       "      <td>NaN</td>\n",
       "    </tr>\n",
       "  </tbody>\n",
       "</table>\n",
       "</div>"
      ],
      "text/plain": [
       "                 id          year         month  url\n",
       "count  50000.000000  50000.000000  50000.000000  0.0\n",
       "mean   44432.454800   2016.273700      5.508940  NaN\n",
       "std    15773.615179      0.634694      3.333062  NaN\n",
       "min    17283.000000   2011.000000      1.000000  NaN\n",
       "25%    31236.750000   2016.000000      3.000000  NaN\n",
       "50%    43757.500000   2016.000000      5.000000  NaN\n",
       "75%    57479.250000   2017.000000      8.000000  NaN\n",
       "max    73469.000000   2017.000000     12.000000  NaN"
      ]
     },
     "execution_count": 4,
     "metadata": {},
     "output_type": "execute_result"
    }
   ],
   "source": [
    "print(\"Describe Data\")\n",
    "articles.describe()"
   ]
  },
  {
   "cell_type": "code",
   "execution_count": 5,
   "metadata": {},
   "outputs": [
    {
     "name": "stdout",
     "output_type": "stream",
     "text": [
      "Summarized Data\n"
     ]
    },
    {
     "data": {
      "text/html": [
       "<div>\n",
       "<style scoped>\n",
       "    .dataframe tbody tr th:only-of-type {\n",
       "        vertical-align: middle;\n",
       "    }\n",
       "\n",
       "    .dataframe tbody tr th {\n",
       "        vertical-align: top;\n",
       "    }\n",
       "\n",
       "    .dataframe thead th {\n",
       "        text-align: right;\n",
       "    }\n",
       "</style>\n",
       "<table border=\"1\" class=\"dataframe\">\n",
       "  <thead>\n",
       "    <tr style=\"text-align: right;\">\n",
       "      <th></th>\n",
       "      <th>title</th>\n",
       "      <th>publication</th>\n",
       "      <th>author</th>\n",
       "      <th>date</th>\n",
       "      <th>content</th>\n",
       "    </tr>\n",
       "  </thead>\n",
       "  <tbody>\n",
       "    <tr>\n",
       "      <th>count</th>\n",
       "      <td>50000</td>\n",
       "      <td>50000</td>\n",
       "      <td>43694</td>\n",
       "      <td>50000</td>\n",
       "      <td>50000</td>\n",
       "    </tr>\n",
       "    <tr>\n",
       "      <th>unique</th>\n",
       "      <td>49920</td>\n",
       "      <td>5</td>\n",
       "      <td>3603</td>\n",
       "      <td>983</td>\n",
       "      <td>49888</td>\n",
       "    </tr>\n",
       "    <tr>\n",
       "      <th>top</th>\n",
       "      <td>The 10 most important things in the world righ...</td>\n",
       "      <td>Breitbart</td>\n",
       "      <td>Breitbart News</td>\n",
       "      <td>2016-08-22</td>\n",
       "      <td>advertisement</td>\n",
       "    </tr>\n",
       "    <tr>\n",
       "      <th>freq</th>\n",
       "      <td>7</td>\n",
       "      <td>23781</td>\n",
       "      <td>1559</td>\n",
       "      <td>221</td>\n",
       "      <td>42</td>\n",
       "    </tr>\n",
       "  </tbody>\n",
       "</table>\n",
       "</div>"
      ],
      "text/plain": [
       "                                                    title publication  \\\n",
       "count                                               50000       50000   \n",
       "unique                                              49920           5   \n",
       "top     The 10 most important things in the world righ...   Breitbart   \n",
       "freq                                                    7       23781   \n",
       "\n",
       "                author        date        content  \n",
       "count            43694       50000          50000  \n",
       "unique            3603         983          49888  \n",
       "top     Breitbart News  2016-08-22  advertisement  \n",
       "freq              1559         221             42  "
      ]
     },
     "execution_count": 5,
     "metadata": {},
     "output_type": "execute_result"
    }
   ],
   "source": [
    "print(\"Summarized Data\")\n",
    "articles.describe(include=['O'])"
   ]
  },
  {
   "cell_type": "markdown",
   "metadata": {},
   "source": [
    "The dataframe contains information about news articles. The information we have available is the title of the article, the date it was published, the authors name, which publication company it originated from, and the contents of the article in a string"
   ]
  },
  {
   "cell_type": "markdown",
   "metadata": {},
   "source": [
    "**Display length of data**\n",
    "\n",
    "This is the same number as the number of rows in our dataframe\n"
   ]
  },
  {
   "cell_type": "code",
   "execution_count": 6,
   "metadata": {},
   "outputs": [
    {
     "data": {
      "text/plain": [
       "50000"
      ]
     },
     "execution_count": 6,
     "metadata": {},
     "output_type": "execute_result"
    }
   ],
   "source": [
    "len(articles)"
   ]
  },
  {
   "cell_type": "markdown",
   "metadata": {},
   "source": [
    "**Display publishers (publications)**\n"
   ]
  },
  {
   "cell_type": "code",
   "execution_count": 7,
   "metadata": {},
   "outputs": [
    {
     "data": {
      "text/plain": [
       "['New York Times', 'Breitbart', 'CNN', 'Business Insider', 'Atlantic']"
      ]
     },
     "execution_count": 7,
     "metadata": {},
     "output_type": "execute_result"
    }
   ],
   "source": [
    "[i for i in articles['publication'].unique()]"
   ]
  },
  {
   "cell_type": "markdown",
   "metadata": {},
   "source": [
    "**Display min, max of years published**\n"
   ]
  },
  {
   "cell_type": "code",
   "execution_count": 8,
   "metadata": {},
   "outputs": [
    {
     "name": "stdout",
     "output_type": "stream",
     "text": [
      "2011.0\n",
      "2017.0\n"
     ]
    }
   ],
   "source": [
    "print(articles['year'].min())\n",
    "print(articles['year'].max())"
   ]
  },
  {
   "cell_type": "markdown",
   "metadata": {},
   "source": [
    "**Display how many articles from each year**\n"
   ]
  },
  {
   "cell_type": "code",
   "execution_count": 9,
   "metadata": {},
   "outputs": [
    {
     "data": {
      "text/plain": [
       "2011.0        1\n",
       "2012.0       26\n",
       "2013.0      212\n",
       "2014.0       76\n",
       "2015.0     3326\n",
       "2016.0    28451\n",
       "2017.0    17908\n",
       "Name: year, dtype: int64"
      ]
     },
     "execution_count": 9,
     "metadata": {},
     "output_type": "execute_result"
    }
   ],
   "source": [
    "articles['year'].value_counts().sort_index()"
   ]
  },
  {
   "cell_type": "markdown",
   "metadata": {},
   "source": [
    "### Step 3:  Create some bar charts to show articles\n",
    "**Display bar chart of articles sorted by Publication Name**\n"
   ]
  },
  {
   "cell_type": "code",
   "execution_count": 10,
   "metadata": {},
   "outputs": [
    {
     "data": {
      "image/png": "[encoded data removed]",
      "text/plain": [
       "<Figure size 1152x648 with 1 Axes>"
      ]
     },
     "metadata": {
      "needs_background": "light"
     },
     "output_type": "display_data"
    }
   ],
   "source": [
    "ax = articles['publication'].value_counts().sort_index(ascending=True).plot(kind='bar', fontsize=14, figsize=(16,9))\n",
    "ax.set_title('Article Publication\\nSorted by Publication Name', fontsize=20)\n",
    "ax.set_xlabel('Publication', fontsize=18)\n",
    "ax.set_ylabel('Count', fontsize=18);\n",
    "plt.show()"
   ]
  },
  {
   "cell_type": "markdown",
   "metadata": {},
   "source": [
    "**Display bar chart of articles sorted by counts**\n"
   ]
  },
  {
   "cell_type": "code",
   "execution_count": 11,
   "metadata": {},
   "outputs": [
    {
     "data": {
      "image/png": "[encoded data removed]",
      "text/plain": [
       "<Figure size 1152x648 with 1 Axes>"
      ]
     },
     "metadata": {
      "needs_background": "light"
     },
     "output_type": "display_data"
    }
   ],
   "source": [
    "ax = articles['publication'].value_counts().sort_values(ascending=False).plot(kind='bar', fontsize=14, figsize=(16,9))\n",
    "ax.set_title('Article Publication\\nSorted by Count\\n', fontsize=20)\n",
    "ax.set_xlabel('Publication', fontsize=18)\n",
    "ax.set_ylabel('Count', fontsize=18);\n",
    "plt.show()"
   ]
  },
  {
   "cell_type": "markdown",
   "metadata": {},
   "source": [
    "###  Step 4:  Clean text:  No punctuation and all lowercase"
   ]
  },
  {
   "cell_type": "code",
   "execution_count": 12,
   "metadata": {},
   "outputs": [],
   "source": [
    "def clean_text(article):\n",
    "    \"\"\"Removes punctuation and converts all characters to lowercase\"\"\"\n",
    "    clean1 = re.sub(r'['+string.punctuation + '’—”'+']', \"\", article.lower())\n",
    "    return re.sub(r'\\W+', ' ', clean1)"
   ]
  },
  {
   "cell_type": "code",
   "execution_count": 13,
   "metadata": {},
   "outputs": [],
   "source": [
    "# Using apply to convert the content into a tokenized clean version for our corpus\n",
    "articles['tokenized'] = articles['content'].apply(clean_text)"
   ]
  },
  {
   "cell_type": "code",
   "execution_count": 14,
   "metadata": {},
   "outputs": [
    {
     "name": "stdout",
     "output_type": "stream",
     "text": [
      "for the past five years solar and wind energy have exploded in popularity in the united states since the election of donald trump energy analysts have been trying to figure out if that trend will continue some analysts argue that the trend is irreversible the cost of solar and wind power are falling ...\n"
     ]
    }
   ],
   "source": [
    "# Randomly select an article to show all captitalization and punctuation was removed\n",
    "print(articles['tokenized'].values[np.random.randint(0,50001)][:300],\"...\")"
   ]
  },
  {
   "cell_type": "markdown",
   "metadata": {},
   "source": [
    "**Look at mean, min, max article lengths**"
   ]
  },
  {
   "cell_type": "code",
   "execution_count": 15,
   "metadata": {},
   "outputs": [
    {
     "name": "stdout",
     "output_type": "stream",
     "text": [
      "Mean: 636.26046\n",
      "Standard Deviation: 644.8566193362504\n",
      "Min: 0\n",
      "Max: 24736\n"
     ]
    }
   ],
   "source": [
    "articles['num_words'] = articles['tokenized'].apply(lambda x: len(x.split()))\n",
    "print(\"Mean:\",articles['num_words'].mean())\n",
    "print(\"Standard Deviation:\",articles['num_words'].std())\n",
    "print(\"Min:\",articles['num_words'].min())\n",
    "print(\"Max:\",articles['num_words'].max())"
   ]
  },
  {
   "cell_type": "markdown",
   "metadata": {},
   "source": [
    "### Step 5:  Remove articles with no words"
   ]
  },
  {
   "cell_type": "code",
   "execution_count": 16,
   "metadata": {
    "scrolled": false
   },
   "outputs": [
    {
     "data": {
      "text/html": [
       "<div>\n",
       "<style scoped>\n",
       "    .dataframe tbody tr th:only-of-type {\n",
       "        vertical-align: middle;\n",
       "    }\n",
       "\n",
       "    .dataframe tbody tr th {\n",
       "        vertical-align: top;\n",
       "    }\n",
       "\n",
       "    .dataframe thead th {\n",
       "        text-align: right;\n",
       "    }\n",
       "</style>\n",
       "<table border=\"1\" class=\"dataframe\">\n",
       "  <thead>\n",
       "    <tr style=\"text-align: right;\">\n",
       "      <th></th>\n",
       "      <th>id</th>\n",
       "      <th>title</th>\n",
       "      <th>publication</th>\n",
       "      <th>author</th>\n",
       "      <th>date</th>\n",
       "      <th>year</th>\n",
       "      <th>month</th>\n",
       "      <th>url</th>\n",
       "      <th>content</th>\n",
       "      <th>tokenized</th>\n",
       "      <th>num_words</th>\n",
       "    </tr>\n",
       "  </thead>\n",
       "  <tbody>\n",
       "    <tr>\n",
       "      <th>41452</th>\n",
       "      <td>60381</td>\n",
       "      <td>Wonders of the universe</td>\n",
       "      <td>CNN</td>\n",
       "      <td>NaN</td>\n",
       "      <td>2014-01-10</td>\n",
       "      <td>2014.0</td>\n",
       "      <td>1.0</td>\n",
       "      <td>NaN</td>\n",
       "      <td></td>\n",
       "      <td></td>\n",
       "      <td>0</td>\n",
       "    </tr>\n",
       "    <tr>\n",
       "      <th>41809</th>\n",
       "      <td>60745</td>\n",
       "      <td>The week in 32 photos</td>\n",
       "      <td>CNN</td>\n",
       "      <td>NaN</td>\n",
       "      <td>2015-01-23</td>\n",
       "      <td>2015.0</td>\n",
       "      <td>1.0</td>\n",
       "      <td>NaN</td>\n",
       "      <td></td>\n",
       "      <td></td>\n",
       "      <td>0</td>\n",
       "    </tr>\n",
       "    <tr>\n",
       "      <th>44395</th>\n",
       "      <td>63359</td>\n",
       "      <td>Enchanting waterfront murals painted while bal...</td>\n",
       "      <td>CNN</td>\n",
       "      <td>Jacopo Prisco</td>\n",
       "      <td>2015-06-01</td>\n",
       "      <td>2015.0</td>\n",
       "      <td>6.0</td>\n",
       "      <td>NaN</td>\n",
       "      <td></td>\n",
       "      <td></td>\n",
       "      <td>0</td>\n",
       "    </tr>\n",
       "    <tr>\n",
       "      <th>46201</th>\n",
       "      <td>65236</td>\n",
       "      <td>We tried KFC’s latest take on a trendy regiona...</td>\n",
       "      <td>Business Insider</td>\n",
       "      <td>NaN</td>\n",
       "      <td>2017-01-26</td>\n",
       "      <td>2017.0</td>\n",
       "      <td>1.0</td>\n",
       "      <td>NaN</td>\n",
       "      <td>’’ ’’ ’’ ’’ ’’ ’’ ’’ ’’ ’’ ’ ’ ’ ’ ’’ ’’</td>\n",
       "      <td></td>\n",
       "      <td>0</td>\n",
       "    </tr>\n",
       "    <tr>\n",
       "      <th>46251</th>\n",
       "      <td>65296</td>\n",
       "      <td>PAPA JOHN’S CEO: America is on a path to becom...</td>\n",
       "      <td>Business Insider</td>\n",
       "      <td>NaN</td>\n",
       "      <td>2017-01-30</td>\n",
       "      <td>2017.0</td>\n",
       "      <td>1.0</td>\n",
       "      <td>NaN</td>\n",
       "      <td>’’ ’’ ’’ ’’ ’’ ’’ ’’ ’’ ’’ ’’ ’’ ’’ ’’ ’’ ’’</td>\n",
       "      <td></td>\n",
       "      <td>0</td>\n",
       "    </tr>\n",
       "    <tr>\n",
       "      <th>...</th>\n",
       "      <td>...</td>\n",
       "      <td>...</td>\n",
       "      <td>...</td>\n",
       "      <td>...</td>\n",
       "      <td>...</td>\n",
       "      <td>...</td>\n",
       "      <td>...</td>\n",
       "      <td>...</td>\n",
       "      <td>...</td>\n",
       "      <td>...</td>\n",
       "      <td>...</td>\n",
       "    </tr>\n",
       "    <tr>\n",
       "      <th>51131</th>\n",
       "      <td>70925</td>\n",
       "      <td>Real estate prices could drop by 5%</td>\n",
       "      <td>Business Insider</td>\n",
       "      <td>NaN</td>\n",
       "      <td>2016-08-05</td>\n",
       "      <td>2016.0</td>\n",
       "      <td>8.0</td>\n",
       "      <td>NaN</td>\n",
       "      <td>’  ’ ’  ’ ’     ’</td>\n",
       "      <td></td>\n",
       "      <td>0</td>\n",
       "    </tr>\n",
       "    <tr>\n",
       "      <th>51139</th>\n",
       "      <td>70933</td>\n",
       "      <td>Any of these 7 gadgets will make your desk a m...</td>\n",
       "      <td>Business Insider</td>\n",
       "      <td>NaN</td>\n",
       "      <td>2016-08-05</td>\n",
       "      <td>2016.0</td>\n",
       "      <td>8.0</td>\n",
       "      <td>NaN</td>\n",
       "      <td>’’ ’’ ’’ ’ ’ ’’ ’’ ’’ ’’ ’’ ’’ ’’ ’ ’ ’ ’</td>\n",
       "      <td></td>\n",
       "      <td>0</td>\n",
       "    </tr>\n",
       "    <tr>\n",
       "      <th>51712</th>\n",
       "      <td>71588</td>\n",
       "      <td>Robots are invading big box stores and want to...</td>\n",
       "      <td>Business Insider</td>\n",
       "      <td>Dan Bobkoff</td>\n",
       "      <td>2016-09-15</td>\n",
       "      <td>2016.0</td>\n",
       "      <td>9.0</td>\n",
       "      <td>NaN</td>\n",
       "      <td>’’</td>\n",
       "      <td></td>\n",
       "      <td>0</td>\n",
       "    </tr>\n",
       "    <tr>\n",
       "      <th>51775</th>\n",
       "      <td>71661</td>\n",
       "      <td>’It’s like everything’s being dumbed-down’: Ma...</td>\n",
       "      <td>Business Insider</td>\n",
       "      <td>Allan Smith</td>\n",
       "      <td>2016-09-21</td>\n",
       "      <td>2016.0</td>\n",
       "      <td>9.0</td>\n",
       "      <td>NaN</td>\n",
       "      <td>’  ’ ’  ’ ’  ’ ’  ’ ’  ’ ’  ’ ’  ’ ’  ’ ’  ’ ’...</td>\n",
       "      <td></td>\n",
       "      <td>0</td>\n",
       "    </tr>\n",
       "    <tr>\n",
       "      <th>52610</th>\n",
       "      <td>72615</td>\n",
       "      <td>Alphabet’s Chairman has an interesting positio...</td>\n",
       "      <td>Business Insider</td>\n",
       "      <td>NaN</td>\n",
       "      <td>2016-11-21</td>\n",
       "      <td>2016.0</td>\n",
       "      <td>11.0</td>\n",
       "      <td>NaN</td>\n",
       "      <td>’  ’ ’  ’ ’  ’ ’  ’ ’          ’ ’  ’ ’    ’ ’...</td>\n",
       "      <td></td>\n",
       "      <td>0</td>\n",
       "    </tr>\n",
       "  </tbody>\n",
       "</table>\n",
       "<p>65 rows × 11 columns</p>\n",
       "</div>"
      ],
      "text/plain": [
       "          id                                              title  \\\n",
       "41452  60381                            Wonders of the universe   \n",
       "41809  60745                              The week in 32 photos   \n",
       "44395  63359  Enchanting waterfront murals painted while bal...   \n",
       "46201  65236  We tried KFC’s latest take on a trendy regiona...   \n",
       "46251  65296  PAPA JOHN’S CEO: America is on a path to becom...   \n",
       "...      ...                                                ...   \n",
       "51131  70925                Real estate prices could drop by 5%   \n",
       "51139  70933  Any of these 7 gadgets will make your desk a m...   \n",
       "51712  71588  Robots are invading big box stores and want to...   \n",
       "51775  71661  ’It’s like everything’s being dumbed-down’: Ma...   \n",
       "52610  72615  Alphabet’s Chairman has an interesting positio...   \n",
       "\n",
       "            publication          author        date    year  month  url  \\\n",
       "41452               CNN             NaN  2014-01-10  2014.0    1.0  NaN   \n",
       "41809               CNN             NaN  2015-01-23  2015.0    1.0  NaN   \n",
       "44395               CNN   Jacopo Prisco  2015-06-01  2015.0    6.0  NaN   \n",
       "46201  Business Insider             NaN  2017-01-26  2017.0    1.0  NaN   \n",
       "46251  Business Insider             NaN  2017-01-30  2017.0    1.0  NaN   \n",
       "...                 ...             ...         ...     ...    ...  ...   \n",
       "51131  Business Insider             NaN  2016-08-05  2016.0    8.0  NaN   \n",
       "51139  Business Insider             NaN  2016-08-05  2016.0    8.0  NaN   \n",
       "51712  Business Insider     Dan Bobkoff  2016-09-15  2016.0    9.0  NaN   \n",
       "51775  Business Insider     Allan Smith  2016-09-21  2016.0    9.0  NaN   \n",
       "52610  Business Insider             NaN  2016-11-21  2016.0   11.0  NaN   \n",
       "\n",
       "                                                 content tokenized  num_words  \n",
       "41452                                                                       0  \n",
       "41809                                                                       0  \n",
       "44395                                                                       0  \n",
       "46201           ’’ ’’ ’’ ’’ ’’ ’’ ’’ ’’ ’’ ’ ’ ’ ’ ’’ ’’                    0  \n",
       "46251       ’’ ’’ ’’ ’’ ’’ ’’ ’’ ’’ ’’ ’’ ’’ ’’ ’’ ’’ ’’                    0  \n",
       "...                                                  ...       ...        ...  \n",
       "51131                                  ’  ’ ’  ’ ’     ’                    0  \n",
       "51139          ’’ ’’ ’’ ’ ’ ’’ ’’ ’’ ’’ ’’ ’’ ’’ ’ ’ ’ ’                    0  \n",
       "51712                                                 ’’                    0  \n",
       "51775  ’  ’ ’  ’ ’  ’ ’  ’ ’  ’ ’  ’ ’  ’ ’  ’ ’  ’ ’...                    0  \n",
       "52610  ’  ’ ’  ’ ’  ’ ’  ’ ’          ’ ’  ’ ’    ’ ’...                    0  \n",
       "\n",
       "[65 rows x 11 columns]"
      ]
     },
     "execution_count": 16,
     "metadata": {},
     "output_type": "execute_result"
    }
   ],
   "source": [
    "articles[articles['num_words'] == 0]"
   ]
  },
  {
   "cell_type": "code",
   "execution_count": 17,
   "metadata": {},
   "outputs": [],
   "source": [
    "articles = articles[articles['num_words'] != 0]"
   ]
  },
  {
   "cell_type": "code",
   "execution_count": 18,
   "metadata": {},
   "outputs": [
    {
     "name": "stdout",
     "output_type": "stream",
     "text": [
      "Mean: 637.0886752778612\n",
      "Standard Deviation: 644.867202579528\n",
      "Min: 1\n",
      "Max: 24736\n"
     ]
    }
   ],
   "source": [
    "# Checking the new mean, min, and stdev\n",
    "print(\"Mean:\",articles['num_words'].mean())\n",
    "print(\"Standard Deviation:\",articles['num_words'].std())\n",
    "print(\"Min:\",articles['num_words'].min())\n",
    "print(\"Max:\",articles['num_words'].max())"
   ]
  },
  {
   "cell_type": "markdown",
   "metadata": {},
   "source": [
    "### Step 6:  Check for Outliers:  show bar graph of outliers"
   ]
  },
  {
   "cell_type": "code",
   "execution_count": 19,
   "metadata": {
    "scrolled": false
   },
   "outputs": [
    {
     "data": {
      "image/png": "[encoded data removed]",
      "text/plain": [
       "<Figure size 864x720 with 1 Axes>"
      ]
     },
     "metadata": {
      "needs_background": "light"
     },
     "output_type": "display_data"
    }
   ],
   "source": [
    "articles['num_words'].plot(kind='hist', bins=50, fontsize=14, figsize=(12,10))\n",
    "plt.title('Article Length in Words\\n', fontsize=20)\n",
    "plt.ylabel('Frequency', fontsize=18)\n",
    "# plt.yscale('log')\n",
    "plt.xlabel('Number of Words', fontsize=18);\n",
    "plt.show()"
   ]
  },
  {
   "cell_type": "code",
   "execution_count": 20,
   "metadata": {},
   "outputs": [
    {
     "data": {
      "image/png": "[encoded data removed]",
      "text/plain": [
       "<Figure size 864x720 with 1 Axes>"
      ]
     },
     "metadata": {
      "needs_background": "light"
     },
     "output_type": "display_data"
    }
   ],
   "source": [
    "articles['num_words'].plot(kind='hist', bins=50, fontsize=14, figsize=(12,10))\n",
    "plt.title('Article Length in Words\\nusing logscale', fontsize=20)\n",
    "plt.ylabel('Frequency', fontsize=18)\n",
    "plt.yscale('log')\n",
    "plt.xlabel('Number of Words', fontsize=18);\n",
    "plt.show()"
   ]
  },
  {
   "cell_type": "code",
   "execution_count": 21,
   "metadata": {},
   "outputs": [
    {
     "data": {
      "text/html": [
       "<div>\n",
       "<style scoped>\n",
       "    .dataframe tbody tr th:only-of-type {\n",
       "        vertical-align: middle;\n",
       "    }\n",
       "\n",
       "    .dataframe tbody tr th {\n",
       "        vertical-align: top;\n",
       "    }\n",
       "\n",
       "    .dataframe thead th {\n",
       "        text-align: right;\n",
       "    }\n",
       "</style>\n",
       "<table border=\"1\" class=\"dataframe\">\n",
       "  <thead>\n",
       "    <tr style=\"text-align: right;\">\n",
       "      <th></th>\n",
       "      <th>id</th>\n",
       "      <th>title</th>\n",
       "      <th>publication</th>\n",
       "      <th>author</th>\n",
       "      <th>date</th>\n",
       "      <th>year</th>\n",
       "      <th>month</th>\n",
       "      <th>url</th>\n",
       "      <th>content</th>\n",
       "      <th>tokenized</th>\n",
       "      <th>num_words</th>\n",
       "    </tr>\n",
       "  </thead>\n",
       "  <tbody>\n",
       "    <tr>\n",
       "      <th>1162</th>\n",
       "      <td>18600</td>\n",
       "      <td>Full Transcript and Video: Trump News Conferen...</td>\n",
       "      <td>New York Times</td>\n",
       "      <td>NaN</td>\n",
       "      <td>2017-02-17</td>\n",
       "      <td>2017.0</td>\n",
       "      <td>2.0</td>\n",
       "      <td>NaN</td>\n",
       "      <td>President Trump on Thursday announced his new ...</td>\n",
       "      <td>president trump on thursday announced his new ...</td>\n",
       "      <td>13783</td>\n",
       "    </tr>\n",
       "    <tr>\n",
       "      <th>6407</th>\n",
       "      <td>24673</td>\n",
       "      <td>The Great A.I. Awakening - The New York Times</td>\n",
       "      <td>New York Times</td>\n",
       "      <td>Gideon Lewis-Kraus</td>\n",
       "      <td>2017-04-08</td>\n",
       "      <td>2017.0</td>\n",
       "      <td>4.0</td>\n",
       "      <td>NaN</td>\n",
       "      <td>Late one Friday night in early November, Jun R...</td>\n",
       "      <td>late one friday night in early november jun re...</td>\n",
       "      <td>14432</td>\n",
       "    </tr>\n",
       "    <tr>\n",
       "      <th>7174</th>\n",
       "      <td>25704</td>\n",
       "      <td>The Fighter - The New York Times</td>\n",
       "      <td>New York Times</td>\n",
       "      <td>C. J. Chivers</td>\n",
       "      <td>2017-04-10</td>\n",
       "      <td>2017.0</td>\n",
       "      <td>4.0</td>\n",
       "      <td>NaN</td>\n",
       "      <td>Sam Siatta was deep in a tequila haze, so stag...</td>\n",
       "      <td>sam siatta was deep in a tequila haze so stagg...</td>\n",
       "      <td>16979</td>\n",
       "    </tr>\n",
       "    <tr>\n",
       "      <th>17535</th>\n",
       "      <td>36274</td>\n",
       "      <td>***Horse Race LiveWire*** 2 Days to South Caro...</td>\n",
       "      <td>Breitbart</td>\n",
       "      <td>Breitbart News</td>\n",
       "      <td>2016-02-16</td>\n",
       "      <td>2016.0</td>\n",
       "      <td>2.0</td>\n",
       "      <td>NaN</td>\n",
       "      <td>Welcome to Breitbart News’s daily live updates...</td>\n",
       "      <td>welcome to breitbart newss daily live updates ...</td>\n",
       "      <td>24736</td>\n",
       "    </tr>\n",
       "    <tr>\n",
       "      <th>22226</th>\n",
       "      <td>40973</td>\n",
       "      <td>***Horse Race LiveWire*** Nevada Votes: Trump ...</td>\n",
       "      <td>Breitbart</td>\n",
       "      <td>Breitbart News</td>\n",
       "      <td>2016-02-23</td>\n",
       "      <td>2016.0</td>\n",
       "      <td>2.0</td>\n",
       "      <td>NaN</td>\n",
       "      <td>Welcome to Breitbart News’s daily live updates...</td>\n",
       "      <td>welcome to breitbart newss daily live updates ...</td>\n",
       "      <td>19144</td>\n",
       "    </tr>\n",
       "    <tr>\n",
       "      <th>32940</th>\n",
       "      <td>51752</td>\n",
       "      <td>Full transcript: President Donald Trump’s news...</td>\n",
       "      <td>CNN</td>\n",
       "      <td>NaN</td>\n",
       "      <td>2017-02-16</td>\n",
       "      <td>2017.0</td>\n",
       "      <td>2.0</td>\n",
       "      <td>NaN</td>\n",
       "      <td>PRESIDENT DONALD TRUMP HOLDS A NEWS CONFERENCE...</td>\n",
       "      <td>president donald trump holds a news conference...</td>\n",
       "      <td>13758</td>\n",
       "    </tr>\n",
       "  </tbody>\n",
       "</table>\n",
       "</div>"
      ],
      "text/plain": [
       "          id                                              title  \\\n",
       "1162   18600  Full Transcript and Video: Trump News Conferen...   \n",
       "6407   24673      The Great A.I. Awakening - The New York Times   \n",
       "7174   25704                   The Fighter - The New York Times   \n",
       "17535  36274  ***Horse Race LiveWire*** 2 Days to South Caro...   \n",
       "22226  40973  ***Horse Race LiveWire*** Nevada Votes: Trump ...   \n",
       "32940  51752  Full transcript: President Donald Trump’s news...   \n",
       "\n",
       "          publication              author        date    year  month  url  \\\n",
       "1162   New York Times                 NaN  2017-02-17  2017.0    2.0  NaN   \n",
       "6407   New York Times  Gideon Lewis-Kraus  2017-04-08  2017.0    4.0  NaN   \n",
       "7174   New York Times       C. J. Chivers  2017-04-10  2017.0    4.0  NaN   \n",
       "17535       Breitbart      Breitbart News  2016-02-16  2016.0    2.0  NaN   \n",
       "22226       Breitbart      Breitbart News  2016-02-23  2016.0    2.0  NaN   \n",
       "32940             CNN                 NaN  2017-02-16  2017.0    2.0  NaN   \n",
       "\n",
       "                                                 content  \\\n",
       "1162   President Trump on Thursday announced his new ...   \n",
       "6407   Late one Friday night in early November, Jun R...   \n",
       "7174   Sam Siatta was deep in a tequila haze, so stag...   \n",
       "17535  Welcome to Breitbart News’s daily live updates...   \n",
       "22226  Welcome to Breitbart News’s daily live updates...   \n",
       "32940  PRESIDENT DONALD TRUMP HOLDS A NEWS CONFERENCE...   \n",
       "\n",
       "                                               tokenized  num_words  \n",
       "1162   president trump on thursday announced his new ...      13783  \n",
       "6407   late one friday night in early november jun re...      14432  \n",
       "7174   sam siatta was deep in a tequila haze so stagg...      16979  \n",
       "17535  welcome to breitbart newss daily live updates ...      24736  \n",
       "22226  welcome to breitbart newss daily live updates ...      19144  \n",
       "32940  president donald trump holds a news conference...      13758  "
      ]
     },
     "execution_count": 21,
     "metadata": {},
     "output_type": "execute_result"
    }
   ],
   "source": [
    "articles[articles['num_words'] > 12500]"
   ]
  }
 ],
 "metadata": {
  "kernelspec": {
   "display_name": "Python 3",
   "language": "python",
   "name": "python3"
  },
  "language_info": {
   "codemirror_mode": {
    "name": "ipython",
    "version": 3
   },
   "file_extension": ".py",
   "mimetype": "text/x-python",
   "name": "python",
   "nbconvert_exporter": "python",
   "pygments_lexer": "ipython3",
   "version": "3.8.5"
  }
 },
 "nbformat": 4,
 "nbformat_minor": 4
}
