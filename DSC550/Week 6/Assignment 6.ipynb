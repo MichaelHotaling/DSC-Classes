{
 "cells": [
  {
   "cell_type": "markdown",
   "metadata": {},
   "source": [
    "DSC550<br>\n",
    "1/14/2021<br>\n",
    "Michael Hotaling"
   ]
  },
  {
   "cell_type": "markdown",
   "metadata": {},
   "source": [
    "# Titanic Tutorial Part 1: Graphics Analysis"
   ]
  },
  {
   "cell_type": "code",
   "execution_count": 1,
   "metadata": {},
   "outputs": [],
   "source": [
    "import pandas as pd\n",
    "import numpy as np\n",
    "import warnings\n",
    "warnings.filterwarnings('ignore')"
   ]
  },
  {
   "cell_type": "markdown",
   "metadata": {},
   "source": [
    "### Step 1:  Load the data from the “train.csv” file into a DataFrame.\n"
   ]
  },
  {
   "cell_type": "code",
   "execution_count": 2,
   "metadata": {},
   "outputs": [],
   "source": [
    "data = pd.read_csv(\"train.csv\")"
   ]
  },
  {
   "cell_type": "markdown",
   "metadata": {},
   "source": [
    "### Step 2:\tDisplay the dimensions of the file (so you’ll have a good idea the amount of data you are working with.)\n"
   ]
  },
  {
   "cell_type": "code",
   "execution_count": 3,
   "metadata": {},
   "outputs": [
    {
     "name": "stdout",
     "output_type": "stream",
     "text": [
      "There are 891 rows and 12 columns in this dataframe\n"
     ]
    }
   ],
   "source": [
    "print(\"There are {} rows and {} columns in this dataframe\".format(data.shape[0], data.shape[1]))"
   ]
  },
  {
   "cell_type": "markdown",
   "metadata": {},
   "source": [
    "###  Step 3: Display the first 5 rows of data so you can see the column headings and the type of data for each column."
   ]
  },
  {
   "cell_type": "markdown",
   "metadata": {},
   "source": [
    "- Notice that Survived is represented as a 1 or 0\n",
    "- Notice that missing data is represented as “NaN”\n",
    "- The Survived variable will be the “target” and the other variables will be the “features”\n"
   ]
  },
  {
   "cell_type": "code",
   "execution_count": 4,
   "metadata": {},
   "outputs": [
    {
     "data": {
      "text/html": [
       "<div>\n",
       "<style scoped>\n",
       "    .dataframe tbody tr th:only-of-type {\n",
       "        vertical-align: middle;\n",
       "    }\n",
       "\n",
       "    .dataframe tbody tr th {\n",
       "        vertical-align: top;\n",
       "    }\n",
       "\n",
       "    .dataframe thead th {\n",
       "        text-align: right;\n",
       "    }\n",
       "</style>\n",
       "<table border=\"1\" class=\"dataframe\">\n",
       "  <thead>\n",
       "    <tr style=\"text-align: right;\">\n",
       "      <th></th>\n",
       "      <th>PassengerId</th>\n",
       "      <th>Survived</th>\n",
       "      <th>Pclass</th>\n",
       "      <th>Name</th>\n",
       "      <th>Sex</th>\n",
       "      <th>Age</th>\n",
       "      <th>SibSp</th>\n",
       "      <th>Parch</th>\n",
       "      <th>Ticket</th>\n",
       "      <th>Fare</th>\n",
       "      <th>Cabin</th>\n",
       "      <th>Embarked</th>\n",
       "    </tr>\n",
       "  </thead>\n",
       "  <tbody>\n",
       "    <tr>\n",
       "      <th>0</th>\n",
       "      <td>1</td>\n",
       "      <td>0</td>\n",
       "      <td>3</td>\n",
       "      <td>Braund, Mr. Owen Harris</td>\n",
       "      <td>male</td>\n",
       "      <td>22.0</td>\n",
       "      <td>1</td>\n",
       "      <td>0</td>\n",
       "      <td>A/5 21171</td>\n",
       "      <td>7.2500</td>\n",
       "      <td>NaN</td>\n",
       "      <td>S</td>\n",
       "    </tr>\n",
       "    <tr>\n",
       "      <th>1</th>\n",
       "      <td>2</td>\n",
       "      <td>1</td>\n",
       "      <td>1</td>\n",
       "      <td>Cumings, Mrs. John Bradley (Florence Briggs Th...</td>\n",
       "      <td>female</td>\n",
       "      <td>38.0</td>\n",
       "      <td>1</td>\n",
       "      <td>0</td>\n",
       "      <td>PC 17599</td>\n",
       "      <td>71.2833</td>\n",
       "      <td>C85</td>\n",
       "      <td>C</td>\n",
       "    </tr>\n",
       "    <tr>\n",
       "      <th>2</th>\n",
       "      <td>3</td>\n",
       "      <td>1</td>\n",
       "      <td>3</td>\n",
       "      <td>Heikkinen, Miss. Laina</td>\n",
       "      <td>female</td>\n",
       "      <td>26.0</td>\n",
       "      <td>0</td>\n",
       "      <td>0</td>\n",
       "      <td>STON/O2. 3101282</td>\n",
       "      <td>7.9250</td>\n",
       "      <td>NaN</td>\n",
       "      <td>S</td>\n",
       "    </tr>\n",
       "    <tr>\n",
       "      <th>3</th>\n",
       "      <td>4</td>\n",
       "      <td>1</td>\n",
       "      <td>1</td>\n",
       "      <td>Futrelle, Mrs. Jacques Heath (Lily May Peel)</td>\n",
       "      <td>female</td>\n",
       "      <td>35.0</td>\n",
       "      <td>1</td>\n",
       "      <td>0</td>\n",
       "      <td>113803</td>\n",
       "      <td>53.1000</td>\n",
       "      <td>C123</td>\n",
       "      <td>S</td>\n",
       "    </tr>\n",
       "    <tr>\n",
       "      <th>4</th>\n",
       "      <td>5</td>\n",
       "      <td>0</td>\n",
       "      <td>3</td>\n",
       "      <td>Allen, Mr. William Henry</td>\n",
       "      <td>male</td>\n",
       "      <td>35.0</td>\n",
       "      <td>0</td>\n",
       "      <td>0</td>\n",
       "      <td>373450</td>\n",
       "      <td>8.0500</td>\n",
       "      <td>NaN</td>\n",
       "      <td>S</td>\n",
       "    </tr>\n",
       "  </tbody>\n",
       "</table>\n",
       "</div>"
      ],
      "text/plain": [
       "   PassengerId  Survived  Pclass  \\\n",
       "0            1         0       3   \n",
       "1            2         1       1   \n",
       "2            3         1       3   \n",
       "3            4         1       1   \n",
       "4            5         0       3   \n",
       "\n",
       "                                                Name     Sex   Age  SibSp  \\\n",
       "0                            Braund, Mr. Owen Harris    male  22.0      1   \n",
       "1  Cumings, Mrs. John Bradley (Florence Briggs Th...  female  38.0      1   \n",
       "2                             Heikkinen, Miss. Laina  female  26.0      0   \n",
       "3       Futrelle, Mrs. Jacques Heath (Lily May Peel)  female  35.0      1   \n",
       "4                           Allen, Mr. William Henry    male  35.0      0   \n",
       "\n",
       "   Parch            Ticket     Fare Cabin Embarked  \n",
       "0      0         A/5 21171   7.2500   NaN        S  \n",
       "1      0          PC 17599  71.2833   C85        C  \n",
       "2      0  STON/O2. 3101282   7.9250   NaN        S  \n",
       "3      0            113803  53.1000  C123        S  \n",
       "4      0            373450   8.0500   NaN        S  "
      ]
     },
     "execution_count": 4,
     "metadata": {},
     "output_type": "execute_result"
    }
   ],
   "source": [
    "data.head()"
   ]
  },
  {
   "cell_type": "markdown",
   "metadata": {},
   "source": [
    "### Step 4:\tThink about some questions that might help you predict who will survive:\n",
    "- What do the variables look like? For example, are they numerical or categorical data. If they are numerical, what are their distribution; if they are categorical, how many are they in different categories?\n",
    "\n",
    "| Variable    | Definition                                      | Key                                                                                |\n",
    "|-------------|-------------------------------------------------|------------------------------------------------------------------------------------|\n",
    "| PassengerID |                                                 |                                                                                    |\n",
    "| Survived    | Survival                                        | 0 = No, 1 = Yes                                                                    |\n",
    "| Pclass      | Ticket class                                    | 1 = 1st Class, 2 = 2nd Class, 3 = 3rd Class                                        |\n",
    "| Name        | Name of the Passenger                           |                                                                                    |\n",
    "| Sex         | Sex                                             |                                                                                    |\n",
    "| Age         | Age in Years                                    | Age is a fractional if less than 1. If age is estimated, it is in the form of xx.5 |\n",
    "| SibSp       | Number of siblings / spouses aboard the Titanic | brother, sister, stepbrother, stepsister, husband, wife                            |\n",
    "| Parch       | Number of parents / children aboard the Titanic | mother, father, daughter, son, stepdaughter, stepson                               |\n",
    "| Ticket      | Ticket Number                                   |                                                                                    |\n",
    "| Fare        | Passenger Fare                                  |                                                                                    |\n",
    "| Cabin       | Cabin Number                                    |                                                                                    |\n",
    "| Embarked    | Port of Embarkation                             | C = Cherbourg, Q = Queenstown, S = Southampton                                     |                                       |\n",
    "\n",
    "\n",
    "- Are the numerical variables correlated?"
   ]
  },
  {
   "cell_type": "code",
   "execution_count": 5,
   "metadata": {},
   "outputs": [
    {
     "data": {
      "text/html": [
       "<style  type=\"text/css\" >\n",
       "#T_b2d55f4d_5ab7_11eb_8cdd_803049142908row0_col0,#T_b2d55f4d_5ab7_11eb_8cdd_803049142908row1_col1,#T_b2d55f4d_5ab7_11eb_8cdd_803049142908row2_col2,#T_b2d55f4d_5ab7_11eb_8cdd_803049142908row3_col3,#T_b2d55f4d_5ab7_11eb_8cdd_803049142908row4_col4,#T_b2d55f4d_5ab7_11eb_8cdd_803049142908row5_col5,#T_b2d55f4d_5ab7_11eb_8cdd_803049142908row6_col6{\n",
       "            background-color:  #b40426;\n",
       "            color:  #f1f1f1;\n",
       "        }#T_b2d55f4d_5ab7_11eb_8cdd_803049142908row0_col1{\n",
       "            background-color:  #8caffe;\n",
       "            color:  #000000;\n",
       "        }#T_b2d55f4d_5ab7_11eb_8cdd_803049142908row0_col2{\n",
       "            background-color:  #a9c6fd;\n",
       "            color:  #000000;\n",
       "        }#T_b2d55f4d_5ab7_11eb_8cdd_803049142908row0_col3{\n",
       "            background-color:  #9dbdff;\n",
       "            color:  #000000;\n",
       "        }#T_b2d55f4d_5ab7_11eb_8cdd_803049142908row0_col4,#T_b2d55f4d_5ab7_11eb_8cdd_803049142908row3_col1{\n",
       "            background-color:  #799cf8;\n",
       "            color:  #000000;\n",
       "        }#T_b2d55f4d_5ab7_11eb_8cdd_803049142908row0_col5{\n",
       "            background-color:  #6c8ff1;\n",
       "            color:  #000000;\n",
       "        }#T_b2d55f4d_5ab7_11eb_8cdd_803049142908row0_col6{\n",
       "            background-color:  #b3cdfb;\n",
       "            color:  #000000;\n",
       "        }#T_b2d55f4d_5ab7_11eb_8cdd_803049142908row1_col0{\n",
       "            background-color:  #4961d2;\n",
       "            color:  #f1f1f1;\n",
       "        }#T_b2d55f4d_5ab7_11eb_8cdd_803049142908row1_col2{\n",
       "            background-color:  #6485ec;\n",
       "            color:  #000000;\n",
       "        }#T_b2d55f4d_5ab7_11eb_8cdd_803049142908row1_col3{\n",
       "            background-color:  #80a3fa;\n",
       "            color:  #000000;\n",
       "        }#T_b2d55f4d_5ab7_11eb_8cdd_803049142908row1_col4{\n",
       "            background-color:  #7ea1fa;\n",
       "            color:  #000000;\n",
       "        }#T_b2d55f4d_5ab7_11eb_8cdd_803049142908row1_col5{\n",
       "            background-color:  #85a8fc;\n",
       "            color:  #000000;\n",
       "        }#T_b2d55f4d_5ab7_11eb_8cdd_803049142908row1_col6{\n",
       "            background-color:  #e2dad5;\n",
       "            color:  #000000;\n",
       "        }#T_b2d55f4d_5ab7_11eb_8cdd_803049142908row2_col0{\n",
       "            background-color:  #4055c8;\n",
       "            color:  #f1f1f1;\n",
       "        }#T_b2d55f4d_5ab7_11eb_8cdd_803049142908row2_col1,#T_b2d55f4d_5ab7_11eb_8cdd_803049142908row2_col3,#T_b2d55f4d_5ab7_11eb_8cdd_803049142908row2_col6,#T_b2d55f4d_5ab7_11eb_8cdd_803049142908row3_col4,#T_b2d55f4d_5ab7_11eb_8cdd_803049142908row3_col5,#T_b2d55f4d_5ab7_11eb_8cdd_803049142908row4_col0,#T_b2d55f4d_5ab7_11eb_8cdd_803049142908row6_col2{\n",
       "            background-color:  #3b4cc0;\n",
       "            color:  #f1f1f1;\n",
       "        }#T_b2d55f4d_5ab7_11eb_8cdd_803049142908row2_col4{\n",
       "            background-color:  #9ebeff;\n",
       "            color:  #000000;\n",
       "        }#T_b2d55f4d_5ab7_11eb_8cdd_803049142908row2_col5{\n",
       "            background-color:  #7295f4;\n",
       "            color:  #000000;\n",
       "        }#T_b2d55f4d_5ab7_11eb_8cdd_803049142908row3_col0{\n",
       "            background-color:  #5572df;\n",
       "            color:  #000000;\n",
       "        }#T_b2d55f4d_5ab7_11eb_8cdd_803049142908row3_col2{\n",
       "            background-color:  #5e7de7;\n",
       "            color:  #000000;\n",
       "        }#T_b2d55f4d_5ab7_11eb_8cdd_803049142908row3_col6{\n",
       "            background-color:  #c5d6f2;\n",
       "            color:  #000000;\n",
       "        }#T_b2d55f4d_5ab7_11eb_8cdd_803049142908row4_col1{\n",
       "            background-color:  #84a7fc;\n",
       "            color:  #000000;\n",
       "        }#T_b2d55f4d_5ab7_11eb_8cdd_803049142908row4_col2{\n",
       "            background-color:  #c3d5f4;\n",
       "            color:  #000000;\n",
       "        }#T_b2d55f4d_5ab7_11eb_8cdd_803049142908row4_col3{\n",
       "            background-color:  #485fd1;\n",
       "            color:  #f1f1f1;\n",
       "        }#T_b2d55f4d_5ab7_11eb_8cdd_803049142908row4_col5{\n",
       "            background-color:  #dfdbd9;\n",
       "            color:  #000000;\n",
       "        }#T_b2d55f4d_5ab7_11eb_8cdd_803049142908row4_col6{\n",
       "            background-color:  #d2dbe8;\n",
       "            color:  #000000;\n",
       "        }#T_b2d55f4d_5ab7_11eb_8cdd_803049142908row5_col0{\n",
       "            background-color:  #4a63d3;\n",
       "            color:  #f1f1f1;\n",
       "        }#T_b2d55f4d_5ab7_11eb_8cdd_803049142908row5_col1{\n",
       "            background-color:  #a3c2fe;\n",
       "            color:  #000000;\n",
       "        }#T_b2d55f4d_5ab7_11eb_8cdd_803049142908row5_col2{\n",
       "            background-color:  #b5cdfa;\n",
       "            color:  #000000;\n",
       "        }#T_b2d55f4d_5ab7_11eb_8cdd_803049142908row5_col3{\n",
       "            background-color:  #6384eb;\n",
       "            color:  #000000;\n",
       "        }#T_b2d55f4d_5ab7_11eb_8cdd_803049142908row5_col4{\n",
       "            background-color:  #ead5c9;\n",
       "            color:  #000000;\n",
       "        }#T_b2d55f4d_5ab7_11eb_8cdd_803049142908row5_col6{\n",
       "            background-color:  #dbdcde;\n",
       "            color:  #000000;\n",
       "        }#T_b2d55f4d_5ab7_11eb_8cdd_803049142908row6_col0{\n",
       "            background-color:  #4e68d8;\n",
       "            color:  #000000;\n",
       "        }#T_b2d55f4d_5ab7_11eb_8cdd_803049142908row6_col1{\n",
       "            background-color:  #cdd9ec;\n",
       "            color:  #000000;\n",
       "        }#T_b2d55f4d_5ab7_11eb_8cdd_803049142908row6_col3{\n",
       "            background-color:  #abc8fd;\n",
       "            color:  #000000;\n",
       "        }#T_b2d55f4d_5ab7_11eb_8cdd_803049142908row6_col4{\n",
       "            background-color:  #b2ccfb;\n",
       "            color:  #000000;\n",
       "        }#T_b2d55f4d_5ab7_11eb_8cdd_803049142908row6_col5{\n",
       "            background-color:  #adc9fd;\n",
       "            color:  #000000;\n",
       "        }</style><table id=\"T_b2d55f4d_5ab7_11eb_8cdd_803049142908\" ><thead>    <tr>        <th class=\"blank level0\" ></th>        <th class=\"col_heading level0 col0\" >PassengerId</th>        <th class=\"col_heading level0 col1\" >Survived</th>        <th class=\"col_heading level0 col2\" >Pclass</th>        <th class=\"col_heading level0 col3\" >Age</th>        <th class=\"col_heading level0 col4\" >SibSp</th>        <th class=\"col_heading level0 col5\" >Parch</th>        <th class=\"col_heading level0 col6\" >Fare</th>    </tr></thead><tbody>\n",
       "                <tr>\n",
       "                        <th id=\"T_b2d55f4d_5ab7_11eb_8cdd_803049142908level0_row0\" class=\"row_heading level0 row0\" >PassengerId</th>\n",
       "                        <td id=\"T_b2d55f4d_5ab7_11eb_8cdd_803049142908row0_col0\" class=\"data row0 col0\" >1.000000</td>\n",
       "                        <td id=\"T_b2d55f4d_5ab7_11eb_8cdd_803049142908row0_col1\" class=\"data row0 col1\" >-0.005007</td>\n",
       "                        <td id=\"T_b2d55f4d_5ab7_11eb_8cdd_803049142908row0_col2\" class=\"data row0 col2\" >-0.035144</td>\n",
       "                        <td id=\"T_b2d55f4d_5ab7_11eb_8cdd_803049142908row0_col3\" class=\"data row0 col3\" >0.036847</td>\n",
       "                        <td id=\"T_b2d55f4d_5ab7_11eb_8cdd_803049142908row0_col4\" class=\"data row0 col4\" >-0.057527</td>\n",
       "                        <td id=\"T_b2d55f4d_5ab7_11eb_8cdd_803049142908row0_col5\" class=\"data row0 col5\" >-0.001652</td>\n",
       "                        <td id=\"T_b2d55f4d_5ab7_11eb_8cdd_803049142908row0_col6\" class=\"data row0 col6\" >0.012658</td>\n",
       "            </tr>\n",
       "            <tr>\n",
       "                        <th id=\"T_b2d55f4d_5ab7_11eb_8cdd_803049142908level0_row1\" class=\"row_heading level0 row1\" >Survived</th>\n",
       "                        <td id=\"T_b2d55f4d_5ab7_11eb_8cdd_803049142908row1_col0\" class=\"data row1 col0\" >-0.005007</td>\n",
       "                        <td id=\"T_b2d55f4d_5ab7_11eb_8cdd_803049142908row1_col1\" class=\"data row1 col1\" >1.000000</td>\n",
       "                        <td id=\"T_b2d55f4d_5ab7_11eb_8cdd_803049142908row1_col2\" class=\"data row1 col2\" >-0.338481</td>\n",
       "                        <td id=\"T_b2d55f4d_5ab7_11eb_8cdd_803049142908row1_col3\" class=\"data row1 col3\" >-0.077221</td>\n",
       "                        <td id=\"T_b2d55f4d_5ab7_11eb_8cdd_803049142908row1_col4\" class=\"data row1 col4\" >-0.035322</td>\n",
       "                        <td id=\"T_b2d55f4d_5ab7_11eb_8cdd_803049142908row1_col5\" class=\"data row1 col5\" >0.081629</td>\n",
       "                        <td id=\"T_b2d55f4d_5ab7_11eb_8cdd_803049142908row1_col6\" class=\"data row1 col6\" >0.257307</td>\n",
       "            </tr>\n",
       "            <tr>\n",
       "                        <th id=\"T_b2d55f4d_5ab7_11eb_8cdd_803049142908level0_row2\" class=\"row_heading level0 row2\" >Pclass</th>\n",
       "                        <td id=\"T_b2d55f4d_5ab7_11eb_8cdd_803049142908row2_col0\" class=\"data row2 col0\" >-0.035144</td>\n",
       "                        <td id=\"T_b2d55f4d_5ab7_11eb_8cdd_803049142908row2_col1\" class=\"data row2 col1\" >-0.338481</td>\n",
       "                        <td id=\"T_b2d55f4d_5ab7_11eb_8cdd_803049142908row2_col2\" class=\"data row2 col2\" >1.000000</td>\n",
       "                        <td id=\"T_b2d55f4d_5ab7_11eb_8cdd_803049142908row2_col3\" class=\"data row2 col3\" >-0.369226</td>\n",
       "                        <td id=\"T_b2d55f4d_5ab7_11eb_8cdd_803049142908row2_col4\" class=\"data row2 col4\" >0.083081</td>\n",
       "                        <td id=\"T_b2d55f4d_5ab7_11eb_8cdd_803049142908row2_col5\" class=\"data row2 col5\" >0.018443</td>\n",
       "                        <td id=\"T_b2d55f4d_5ab7_11eb_8cdd_803049142908row2_col6\" class=\"data row2 col6\" >-0.549500</td>\n",
       "            </tr>\n",
       "            <tr>\n",
       "                        <th id=\"T_b2d55f4d_5ab7_11eb_8cdd_803049142908level0_row3\" class=\"row_heading level0 row3\" >Age</th>\n",
       "                        <td id=\"T_b2d55f4d_5ab7_11eb_8cdd_803049142908row3_col0\" class=\"data row3 col0\" >0.036847</td>\n",
       "                        <td id=\"T_b2d55f4d_5ab7_11eb_8cdd_803049142908row3_col1\" class=\"data row3 col1\" >-0.077221</td>\n",
       "                        <td id=\"T_b2d55f4d_5ab7_11eb_8cdd_803049142908row3_col2\" class=\"data row3 col2\" >-0.369226</td>\n",
       "                        <td id=\"T_b2d55f4d_5ab7_11eb_8cdd_803049142908row3_col3\" class=\"data row3 col3\" >1.000000</td>\n",
       "                        <td id=\"T_b2d55f4d_5ab7_11eb_8cdd_803049142908row3_col4\" class=\"data row3 col4\" >-0.308247</td>\n",
       "                        <td id=\"T_b2d55f4d_5ab7_11eb_8cdd_803049142908row3_col5\" class=\"data row3 col5\" >-0.189119</td>\n",
       "                        <td id=\"T_b2d55f4d_5ab7_11eb_8cdd_803049142908row3_col6\" class=\"data row3 col6\" >0.096067</td>\n",
       "            </tr>\n",
       "            <tr>\n",
       "                        <th id=\"T_b2d55f4d_5ab7_11eb_8cdd_803049142908level0_row4\" class=\"row_heading level0 row4\" >SibSp</th>\n",
       "                        <td id=\"T_b2d55f4d_5ab7_11eb_8cdd_803049142908row4_col0\" class=\"data row4 col0\" >-0.057527</td>\n",
       "                        <td id=\"T_b2d55f4d_5ab7_11eb_8cdd_803049142908row4_col1\" class=\"data row4 col1\" >-0.035322</td>\n",
       "                        <td id=\"T_b2d55f4d_5ab7_11eb_8cdd_803049142908row4_col2\" class=\"data row4 col2\" >0.083081</td>\n",
       "                        <td id=\"T_b2d55f4d_5ab7_11eb_8cdd_803049142908row4_col3\" class=\"data row4 col3\" >-0.308247</td>\n",
       "                        <td id=\"T_b2d55f4d_5ab7_11eb_8cdd_803049142908row4_col4\" class=\"data row4 col4\" >1.000000</td>\n",
       "                        <td id=\"T_b2d55f4d_5ab7_11eb_8cdd_803049142908row4_col5\" class=\"data row4 col5\" >0.414838</td>\n",
       "                        <td id=\"T_b2d55f4d_5ab7_11eb_8cdd_803049142908row4_col6\" class=\"data row4 col6\" >0.159651</td>\n",
       "            </tr>\n",
       "            <tr>\n",
       "                        <th id=\"T_b2d55f4d_5ab7_11eb_8cdd_803049142908level0_row5\" class=\"row_heading level0 row5\" >Parch</th>\n",
       "                        <td id=\"T_b2d55f4d_5ab7_11eb_8cdd_803049142908row5_col0\" class=\"data row5 col0\" >-0.001652</td>\n",
       "                        <td id=\"T_b2d55f4d_5ab7_11eb_8cdd_803049142908row5_col1\" class=\"data row5 col1\" >0.081629</td>\n",
       "                        <td id=\"T_b2d55f4d_5ab7_11eb_8cdd_803049142908row5_col2\" class=\"data row5 col2\" >0.018443</td>\n",
       "                        <td id=\"T_b2d55f4d_5ab7_11eb_8cdd_803049142908row5_col3\" class=\"data row5 col3\" >-0.189119</td>\n",
       "                        <td id=\"T_b2d55f4d_5ab7_11eb_8cdd_803049142908row5_col4\" class=\"data row5 col4\" >0.414838</td>\n",
       "                        <td id=\"T_b2d55f4d_5ab7_11eb_8cdd_803049142908row5_col5\" class=\"data row5 col5\" >1.000000</td>\n",
       "                        <td id=\"T_b2d55f4d_5ab7_11eb_8cdd_803049142908row5_col6\" class=\"data row5 col6\" >0.216225</td>\n",
       "            </tr>\n",
       "            <tr>\n",
       "                        <th id=\"T_b2d55f4d_5ab7_11eb_8cdd_803049142908level0_row6\" class=\"row_heading level0 row6\" >Fare</th>\n",
       "                        <td id=\"T_b2d55f4d_5ab7_11eb_8cdd_803049142908row6_col0\" class=\"data row6 col0\" >0.012658</td>\n",
       "                        <td id=\"T_b2d55f4d_5ab7_11eb_8cdd_803049142908row6_col1\" class=\"data row6 col1\" >0.257307</td>\n",
       "                        <td id=\"T_b2d55f4d_5ab7_11eb_8cdd_803049142908row6_col2\" class=\"data row6 col2\" >-0.549500</td>\n",
       "                        <td id=\"T_b2d55f4d_5ab7_11eb_8cdd_803049142908row6_col3\" class=\"data row6 col3\" >0.096067</td>\n",
       "                        <td id=\"T_b2d55f4d_5ab7_11eb_8cdd_803049142908row6_col4\" class=\"data row6 col4\" >0.159651</td>\n",
       "                        <td id=\"T_b2d55f4d_5ab7_11eb_8cdd_803049142908row6_col5\" class=\"data row6 col5\" >0.216225</td>\n",
       "                        <td id=\"T_b2d55f4d_5ab7_11eb_8cdd_803049142908row6_col6\" class=\"data row6 col6\" >1.000000</td>\n",
       "            </tr>\n",
       "    </tbody></table>"
      ],
      "text/plain": [
       "<pandas.io.formats.style.Styler at 0x28c7e532ee0>"
      ]
     },
     "execution_count": 5,
     "metadata": {},
     "output_type": "execute_result"
    }
   ],
   "source": [
    "import matplotlib.pyplot as plt\n",
    "import seaborn as sns\n",
    "\n",
    "numerical_data = data.select_dtypes(include=['int64', 'float64'])\n",
    "numerical_data.corr().style.background_gradient(cmap='coolwarm')"
   ]
  },
  {
   "cell_type": "markdown",
   "metadata": {},
   "source": [
    "Not really. The strongest correlations are with Pclass and Fare, which makes sense since upper class tickets will be more money. Age is also correlated with Pclass and SibSp since many families were travelling together and larger families tended to be poorer"
   ]
  },
  {
   "cell_type": "markdown",
   "metadata": {},
   "source": [
    "\n",
    "- Are the distributions of numerical variables the same or different among survived and not survived? Is the survival rate different for different values? For example, were people more likely to survive if they were younger?"
   ]
  },
  {
   "cell_type": "code",
   "execution_count": 6,
   "metadata": {},
   "outputs": [
    {
     "data": {
      "image/png": "[encoded data removed]",
      "text/plain": [
       "<Figure size 432x288 with 1 Axes>"
      ]
     },
     "metadata": {
      "needs_background": "light"
     },
     "output_type": "display_data"
    }
   ],
   "source": [
    "survived_df = data[data['Survived'] == 1]\n",
    "died_df = data[data['Survived'] == 0]\n",
    "\n",
    "plt.hist(survived_df['Age'], bins = np.arange(0,100,5), color = \"green\", histtype = \"step\")\n",
    "plt.hist(died_df['Age'], bins = np.arange(0,100,5), color = \"red\", histtype = \"step\")\n",
    "plt.title('Age: Survived vs Perished')\n",
    "plt.xlabel(\"Age (in years)\")\n",
    "plt.ylabel(\"Count\")\n",
    "plt.show()"
   ]
  },
  {
   "cell_type": "markdown",
   "metadata": {},
   "source": [
    "It's hard to draw conclusions based on the graphs alone, but age doesn't seem to be a large factor whether someone were to survive or not. Class on the other hand is a strong factor. If someone was in 3rd Class, they were much more likely to perish"
   ]
  },
  {
   "cell_type": "markdown",
   "metadata": {},
   "source": [
    "- Are there different survival rates in different categories? For example, did more women survived than man?"
   ]
  },
  {
   "cell_type": "code",
   "execution_count": 7,
   "metadata": {},
   "outputs": [
    {
     "data": {
      "image/png": "[encoded data removed]",
      "text/plain": [
       "<Figure size 656.675x288 with 3 Axes>"
      ]
     },
     "metadata": {
      "needs_background": "light"
     },
     "output_type": "display_data"
    }
   ],
   "source": [
    "sns.catplot(x=\"Sex\", hue=\"Survived\", col=\"Pclass\",\n",
    "                data=data, kind=\"count\",\n",
    "                height=4, aspect=.7);"
   ]
  },
  {
   "cell_type": "markdown",
   "metadata": {},
   "source": [
    "We have a strong visual correlation between survivability vs sex as well as surivivability and class. Men were much more likely to perish compared to women and men in third class were very likely to perish"
   ]
  },
  {
   "cell_type": "markdown",
   "metadata": {},
   "source": [
    "### Step 5: Look at summary information about your data (total, mean, min, max, freq, unique, etc.)  Does this present any more questions for you?  Does it lead you to a conclusion yet?  "
   ]
  },
  {
   "cell_type": "code",
   "execution_count": 8,
   "metadata": {},
   "outputs": [
    {
     "data": {
      "text/html": [
       "<div>\n",
       "<style scoped>\n",
       "    .dataframe tbody tr th:only-of-type {\n",
       "        vertical-align: middle;\n",
       "    }\n",
       "\n",
       "    .dataframe tbody tr th {\n",
       "        vertical-align: top;\n",
       "    }\n",
       "\n",
       "    .dataframe thead th {\n",
       "        text-align: right;\n",
       "    }\n",
       "</style>\n",
       "<table border=\"1\" class=\"dataframe\">\n",
       "  <thead>\n",
       "    <tr style=\"text-align: right;\">\n",
       "      <th></th>\n",
       "      <th>PassengerId</th>\n",
       "      <th>Survived</th>\n",
       "      <th>Pclass</th>\n",
       "      <th>Age</th>\n",
       "      <th>SibSp</th>\n",
       "      <th>Parch</th>\n",
       "      <th>Fare</th>\n",
       "    </tr>\n",
       "  </thead>\n",
       "  <tbody>\n",
       "    <tr>\n",
       "      <th>count</th>\n",
       "      <td>891.000000</td>\n",
       "      <td>891.000000</td>\n",
       "      <td>891.000000</td>\n",
       "      <td>714.000000</td>\n",
       "      <td>891.000000</td>\n",
       "      <td>891.000000</td>\n",
       "      <td>891.000000</td>\n",
       "    </tr>\n",
       "    <tr>\n",
       "      <th>mean</th>\n",
       "      <td>446.000000</td>\n",
       "      <td>0.383838</td>\n",
       "      <td>2.308642</td>\n",
       "      <td>29.699118</td>\n",
       "      <td>0.523008</td>\n",
       "      <td>0.381594</td>\n",
       "      <td>32.204208</td>\n",
       "    </tr>\n",
       "    <tr>\n",
       "      <th>std</th>\n",
       "      <td>257.353842</td>\n",
       "      <td>0.486592</td>\n",
       "      <td>0.836071</td>\n",
       "      <td>14.526497</td>\n",
       "      <td>1.102743</td>\n",
       "      <td>0.806057</td>\n",
       "      <td>49.693429</td>\n",
       "    </tr>\n",
       "    <tr>\n",
       "      <th>min</th>\n",
       "      <td>1.000000</td>\n",
       "      <td>0.000000</td>\n",
       "      <td>1.000000</td>\n",
       "      <td>0.420000</td>\n",
       "      <td>0.000000</td>\n",
       "      <td>0.000000</td>\n",
       "      <td>0.000000</td>\n",
       "    </tr>\n",
       "    <tr>\n",
       "      <th>25%</th>\n",
       "      <td>223.500000</td>\n",
       "      <td>0.000000</td>\n",
       "      <td>2.000000</td>\n",
       "      <td>20.125000</td>\n",
       "      <td>0.000000</td>\n",
       "      <td>0.000000</td>\n",
       "      <td>7.910400</td>\n",
       "    </tr>\n",
       "    <tr>\n",
       "      <th>50%</th>\n",
       "      <td>446.000000</td>\n",
       "      <td>0.000000</td>\n",
       "      <td>3.000000</td>\n",
       "      <td>28.000000</td>\n",
       "      <td>0.000000</td>\n",
       "      <td>0.000000</td>\n",
       "      <td>14.454200</td>\n",
       "    </tr>\n",
       "    <tr>\n",
       "      <th>75%</th>\n",
       "      <td>668.500000</td>\n",
       "      <td>1.000000</td>\n",
       "      <td>3.000000</td>\n",
       "      <td>38.000000</td>\n",
       "      <td>1.000000</td>\n",
       "      <td>0.000000</td>\n",
       "      <td>31.000000</td>\n",
       "    </tr>\n",
       "    <tr>\n",
       "      <th>max</th>\n",
       "      <td>891.000000</td>\n",
       "      <td>1.000000</td>\n",
       "      <td>3.000000</td>\n",
       "      <td>80.000000</td>\n",
       "      <td>8.000000</td>\n",
       "      <td>6.000000</td>\n",
       "      <td>512.329200</td>\n",
       "    </tr>\n",
       "  </tbody>\n",
       "</table>\n",
       "</div>"
      ],
      "text/plain": [
       "       PassengerId    Survived      Pclass         Age       SibSp  \\\n",
       "count   891.000000  891.000000  891.000000  714.000000  891.000000   \n",
       "mean    446.000000    0.383838    2.308642   29.699118    0.523008   \n",
       "std     257.353842    0.486592    0.836071   14.526497    1.102743   \n",
       "min       1.000000    0.000000    1.000000    0.420000    0.000000   \n",
       "25%     223.500000    0.000000    2.000000   20.125000    0.000000   \n",
       "50%     446.000000    0.000000    3.000000   28.000000    0.000000   \n",
       "75%     668.500000    1.000000    3.000000   38.000000    1.000000   \n",
       "max     891.000000    1.000000    3.000000   80.000000    8.000000   \n",
       "\n",
       "            Parch        Fare  \n",
       "count  891.000000  891.000000  \n",
       "mean     0.381594   32.204208  \n",
       "std      0.806057   49.693429  \n",
       "min      0.000000    0.000000  \n",
       "25%      0.000000    7.910400  \n",
       "50%      0.000000   14.454200  \n",
       "75%      0.000000   31.000000  \n",
       "max      6.000000  512.329200  "
      ]
     },
     "execution_count": 8,
     "metadata": {},
     "output_type": "execute_result"
    }
   ],
   "source": [
    "data.describe()"
   ]
  },
  {
   "cell_type": "code",
   "execution_count": 9,
   "metadata": {},
   "outputs": [
    {
     "data": {
      "text/html": [
       "<div>\n",
       "<style scoped>\n",
       "    .dataframe tbody tr th:only-of-type {\n",
       "        vertical-align: middle;\n",
       "    }\n",
       "\n",
       "    .dataframe tbody tr th {\n",
       "        vertical-align: top;\n",
       "    }\n",
       "\n",
       "    .dataframe thead th {\n",
       "        text-align: right;\n",
       "    }\n",
       "</style>\n",
       "<table border=\"1\" class=\"dataframe\">\n",
       "  <thead>\n",
       "    <tr style=\"text-align: right;\">\n",
       "      <th></th>\n",
       "      <th>Name</th>\n",
       "      <th>Sex</th>\n",
       "      <th>Ticket</th>\n",
       "      <th>Cabin</th>\n",
       "      <th>Embarked</th>\n",
       "    </tr>\n",
       "  </thead>\n",
       "  <tbody>\n",
       "    <tr>\n",
       "      <th>count</th>\n",
       "      <td>891</td>\n",
       "      <td>891</td>\n",
       "      <td>891</td>\n",
       "      <td>204</td>\n",
       "      <td>889</td>\n",
       "    </tr>\n",
       "    <tr>\n",
       "      <th>unique</th>\n",
       "      <td>891</td>\n",
       "      <td>2</td>\n",
       "      <td>681</td>\n",
       "      <td>147</td>\n",
       "      <td>3</td>\n",
       "    </tr>\n",
       "    <tr>\n",
       "      <th>top</th>\n",
       "      <td>West, Mr. Edwy Arthur</td>\n",
       "      <td>male</td>\n",
       "      <td>347082</td>\n",
       "      <td>C23 C25 C27</td>\n",
       "      <td>S</td>\n",
       "    </tr>\n",
       "    <tr>\n",
       "      <th>freq</th>\n",
       "      <td>1</td>\n",
       "      <td>577</td>\n",
       "      <td>7</td>\n",
       "      <td>4</td>\n",
       "      <td>644</td>\n",
       "    </tr>\n",
       "  </tbody>\n",
       "</table>\n",
       "</div>"
      ],
      "text/plain": [
       "                         Name   Sex  Ticket        Cabin Embarked\n",
       "count                     891   891     891          204      889\n",
       "unique                    891     2     681          147        3\n",
       "top     West, Mr. Edwy Arthur  male  347082  C23 C25 C27        S\n",
       "freq                        1   577       7            4      644"
      ]
     },
     "execution_count": 9,
     "metadata": {},
     "output_type": "execute_result"
    }
   ],
   "source": [
    "data.describe(include=['O'])"
   ]
  },
  {
   "cell_type": "markdown",
   "metadata": {},
   "source": [
    "No conclusions yet. We can see that most of our tickets were purchased for under \\\\$30, but we have a strange outlier at \\\\$512. We also have 3 unique embarking locations in our data. "
   ]
  },
  {
   "cell_type": "markdown",
   "metadata": {},
   "source": [
    "### Step 6: Make some histograms of your data (“A picture is worth a thousand words!”)\n",
    "-\tMost of the passengers are around 20 to 30 years old and don't have siblings or relatives with them. A large amount of the tickets sold were less than \\\\$50. There are very few tickets sold where the fare was over \\\\$500.\n"
   ]
  },
  {
   "cell_type": "code",
   "execution_count": 10,
   "metadata": {},
   "outputs": [
    {
     "data": {
      "image/png": "[encoded data removed]",
      "text/plain": [
       "<Figure size 1152x720 with 4 Axes>"
      ]
     },
     "metadata": {
      "needs_background": "light"
     },
     "output_type": "display_data"
    }
   ],
   "source": [
    "import matplotlib.pyplot as plt\n",
    "\n",
    "fig, ((ax1,ax2),(ax3, ax4)) = plt.subplots(2, 2, figsize=(16,10))\n",
    "ax1.hist(data['Age'], bins = 25)\n",
    "ax1.title.set_text('Histogram of Age')\n",
    "\n",
    "ax2.hist(data['Fare'], bins = 50)\n",
    "ax2.title.set_text('Histogram of Fare')\n",
    "\n",
    "ax3.hist(data['SibSp'], bins = max(data['Parch']))\n",
    "ax3.title.set_text('Histogram of SibSp')\n",
    "\n",
    "ax4.hist(data['Parch'], bins = max(data['Parch']))\n",
    "ax4.title.set_text('Histogram of Parch')"
   ]
  },
  {
   "cell_type": "markdown",
   "metadata": {},
   "source": [
    "### Step 7: Make some bar charts for variables with only a few options.\n",
    "- Ticket and Cabin have more than 100 variables so don’t do those!\n"
   ]
  },
  {
   "cell_type": "code",
   "execution_count": 11,
   "metadata": {},
   "outputs": [
    {
     "data": {
      "image/png": "[encoded data removed]",
      "text/plain": [
       "<Figure size 1152x720 with 4 Axes>"
      ]
     },
     "metadata": {
      "needs_background": "light"
     },
     "output_type": "display_data"
    }
   ],
   "source": [
    "import matplotlib.pyplot as plt\n",
    "\n",
    "fig, ((ax1,ax2),(ax3, ax4)) = plt.subplots(2, 2, figsize=(16,10))\n",
    "\n",
    "data['Survived'].value_counts().sort_index().plot(kind='bar', ax=ax1)\n",
    "ax1.title.set_text('Count of Passengers by Survival')\n",
    "\n",
    "data['Sex'].value_counts().sort_index().plot(kind='bar', ax=ax2)\n",
    "ax2.title.set_text('Count of Passengers by Sex')\n",
    "\n",
    "data['Pclass'].value_counts().sort_index().plot(kind='bar', ax=ax3)\n",
    "ax3.title.set_text('Count of Passenger Class')\n",
    "\n",
    "data['Embarked'].value_counts().sort_index().plot(kind='bar', ax=ax4)\n",
    "ax4.title.set_text('Count of Embarking Locations')"
   ]
  },
  {
   "cell_type": "markdown",
   "metadata": {},
   "source": [
    "### Step 8: To see if the data is correlated, make some Pearson Ranking charts\n",
    "- Notice that in my sample code, I have saved this png file.\n",
    "- The correlation between the variables is low (1 or -1 is high positive or high negative, 0 is low or no correlation)  These results show there is “some” positive correlation but it’s not a high correlation.\n"
   ]
  },
  {
   "cell_type": "code",
   "execution_count": 12,
   "metadata": {},
   "outputs": [
    {
     "data": {
      "text/html": [
       "<style  type=\"text/css\" >\n",
       "#T_b4c9ceb0_5ab7_11eb_b557_803049142908row0_col0,#T_b4c9ceb0_5ab7_11eb_b557_803049142908row1_col1,#T_b4c9ceb0_5ab7_11eb_b557_803049142908row2_col2,#T_b4c9ceb0_5ab7_11eb_b557_803049142908row3_col3,#T_b4c9ceb0_5ab7_11eb_b557_803049142908row4_col4,#T_b4c9ceb0_5ab7_11eb_b557_803049142908row5_col5,#T_b4c9ceb0_5ab7_11eb_b557_803049142908row6_col6{\n",
       "            background-color:  #b40426;\n",
       "            color:  #f1f1f1;\n",
       "        }#T_b4c9ceb0_5ab7_11eb_b557_803049142908row0_col1{\n",
       "            background-color:  #8caffe;\n",
       "            color:  #000000;\n",
       "        }#T_b4c9ceb0_5ab7_11eb_b557_803049142908row0_col2{\n",
       "            background-color:  #a9c6fd;\n",
       "            color:  #000000;\n",
       "        }#T_b4c9ceb0_5ab7_11eb_b557_803049142908row0_col3{\n",
       "            background-color:  #9dbdff;\n",
       "            color:  #000000;\n",
       "        }#T_b4c9ceb0_5ab7_11eb_b557_803049142908row0_col4,#T_b4c9ceb0_5ab7_11eb_b557_803049142908row3_col1{\n",
       "            background-color:  #799cf8;\n",
       "            color:  #000000;\n",
       "        }#T_b4c9ceb0_5ab7_11eb_b557_803049142908row0_col5{\n",
       "            background-color:  #6c8ff1;\n",
       "            color:  #000000;\n",
       "        }#T_b4c9ceb0_5ab7_11eb_b557_803049142908row0_col6{\n",
       "            background-color:  #b3cdfb;\n",
       "            color:  #000000;\n",
       "        }#T_b4c9ceb0_5ab7_11eb_b557_803049142908row1_col0{\n",
       "            background-color:  #4961d2;\n",
       "            color:  #f1f1f1;\n",
       "        }#T_b4c9ceb0_5ab7_11eb_b557_803049142908row1_col2{\n",
       "            background-color:  #6485ec;\n",
       "            color:  #000000;\n",
       "        }#T_b4c9ceb0_5ab7_11eb_b557_803049142908row1_col3{\n",
       "            background-color:  #80a3fa;\n",
       "            color:  #000000;\n",
       "        }#T_b4c9ceb0_5ab7_11eb_b557_803049142908row1_col4{\n",
       "            background-color:  #7ea1fa;\n",
       "            color:  #000000;\n",
       "        }#T_b4c9ceb0_5ab7_11eb_b557_803049142908row1_col5{\n",
       "            background-color:  #85a8fc;\n",
       "            color:  #000000;\n",
       "        }#T_b4c9ceb0_5ab7_11eb_b557_803049142908row1_col6{\n",
       "            background-color:  #e2dad5;\n",
       "            color:  #000000;\n",
       "        }#T_b4c9ceb0_5ab7_11eb_b557_803049142908row2_col0{\n",
       "            background-color:  #4055c8;\n",
       "            color:  #f1f1f1;\n",
       "        }#T_b4c9ceb0_5ab7_11eb_b557_803049142908row2_col1,#T_b4c9ceb0_5ab7_11eb_b557_803049142908row2_col3,#T_b4c9ceb0_5ab7_11eb_b557_803049142908row2_col6,#T_b4c9ceb0_5ab7_11eb_b557_803049142908row3_col4,#T_b4c9ceb0_5ab7_11eb_b557_803049142908row3_col5,#T_b4c9ceb0_5ab7_11eb_b557_803049142908row4_col0,#T_b4c9ceb0_5ab7_11eb_b557_803049142908row6_col2{\n",
       "            background-color:  #3b4cc0;\n",
       "            color:  #f1f1f1;\n",
       "        }#T_b4c9ceb0_5ab7_11eb_b557_803049142908row2_col4{\n",
       "            background-color:  #9ebeff;\n",
       "            color:  #000000;\n",
       "        }#T_b4c9ceb0_5ab7_11eb_b557_803049142908row2_col5{\n",
       "            background-color:  #7295f4;\n",
       "            color:  #000000;\n",
       "        }#T_b4c9ceb0_5ab7_11eb_b557_803049142908row3_col0{\n",
       "            background-color:  #5572df;\n",
       "            color:  #000000;\n",
       "        }#T_b4c9ceb0_5ab7_11eb_b557_803049142908row3_col2{\n",
       "            background-color:  #5e7de7;\n",
       "            color:  #000000;\n",
       "        }#T_b4c9ceb0_5ab7_11eb_b557_803049142908row3_col6{\n",
       "            background-color:  #c5d6f2;\n",
       "            color:  #000000;\n",
       "        }#T_b4c9ceb0_5ab7_11eb_b557_803049142908row4_col1{\n",
       "            background-color:  #84a7fc;\n",
       "            color:  #000000;\n",
       "        }#T_b4c9ceb0_5ab7_11eb_b557_803049142908row4_col2{\n",
       "            background-color:  #c3d5f4;\n",
       "            color:  #000000;\n",
       "        }#T_b4c9ceb0_5ab7_11eb_b557_803049142908row4_col3{\n",
       "            background-color:  #485fd1;\n",
       "            color:  #f1f1f1;\n",
       "        }#T_b4c9ceb0_5ab7_11eb_b557_803049142908row4_col5{\n",
       "            background-color:  #dfdbd9;\n",
       "            color:  #000000;\n",
       "        }#T_b4c9ceb0_5ab7_11eb_b557_803049142908row4_col6{\n",
       "            background-color:  #d2dbe8;\n",
       "            color:  #000000;\n",
       "        }#T_b4c9ceb0_5ab7_11eb_b557_803049142908row5_col0{\n",
       "            background-color:  #4a63d3;\n",
       "            color:  #f1f1f1;\n",
       "        }#T_b4c9ceb0_5ab7_11eb_b557_803049142908row5_col1{\n",
       "            background-color:  #a3c2fe;\n",
       "            color:  #000000;\n",
       "        }#T_b4c9ceb0_5ab7_11eb_b557_803049142908row5_col2{\n",
       "            background-color:  #b5cdfa;\n",
       "            color:  #000000;\n",
       "        }#T_b4c9ceb0_5ab7_11eb_b557_803049142908row5_col3{\n",
       "            background-color:  #6384eb;\n",
       "            color:  #000000;\n",
       "        }#T_b4c9ceb0_5ab7_11eb_b557_803049142908row5_col4{\n",
       "            background-color:  #ead5c9;\n",
       "            color:  #000000;\n",
       "        }#T_b4c9ceb0_5ab7_11eb_b557_803049142908row5_col6{\n",
       "            background-color:  #dbdcde;\n",
       "            color:  #000000;\n",
       "        }#T_b4c9ceb0_5ab7_11eb_b557_803049142908row6_col0{\n",
       "            background-color:  #4e68d8;\n",
       "            color:  #000000;\n",
       "        }#T_b4c9ceb0_5ab7_11eb_b557_803049142908row6_col1{\n",
       "            background-color:  #cdd9ec;\n",
       "            color:  #000000;\n",
       "        }#T_b4c9ceb0_5ab7_11eb_b557_803049142908row6_col3{\n",
       "            background-color:  #abc8fd;\n",
       "            color:  #000000;\n",
       "        }#T_b4c9ceb0_5ab7_11eb_b557_803049142908row6_col4{\n",
       "            background-color:  #b2ccfb;\n",
       "            color:  #000000;\n",
       "        }#T_b4c9ceb0_5ab7_11eb_b557_803049142908row6_col5{\n",
       "            background-color:  #adc9fd;\n",
       "            color:  #000000;\n",
       "        }</style><table id=\"T_b4c9ceb0_5ab7_11eb_b557_803049142908\" ><thead>    <tr>        <th class=\"blank level0\" ></th>        <th class=\"col_heading level0 col0\" >PassengerId</th>        <th class=\"col_heading level0 col1\" >Survived</th>        <th class=\"col_heading level0 col2\" >Pclass</th>        <th class=\"col_heading level0 col3\" >Age</th>        <th class=\"col_heading level0 col4\" >SibSp</th>        <th class=\"col_heading level0 col5\" >Parch</th>        <th class=\"col_heading level0 col6\" >Fare</th>    </tr></thead><tbody>\n",
       "                <tr>\n",
       "                        <th id=\"T_b4c9ceb0_5ab7_11eb_b557_803049142908level0_row0\" class=\"row_heading level0 row0\" >PassengerId</th>\n",
       "                        <td id=\"T_b4c9ceb0_5ab7_11eb_b557_803049142908row0_col0\" class=\"data row0 col0\" >1.000000</td>\n",
       "                        <td id=\"T_b4c9ceb0_5ab7_11eb_b557_803049142908row0_col1\" class=\"data row0 col1\" >-0.005007</td>\n",
       "                        <td id=\"T_b4c9ceb0_5ab7_11eb_b557_803049142908row0_col2\" class=\"data row0 col2\" >-0.035144</td>\n",
       "                        <td id=\"T_b4c9ceb0_5ab7_11eb_b557_803049142908row0_col3\" class=\"data row0 col3\" >0.036847</td>\n",
       "                        <td id=\"T_b4c9ceb0_5ab7_11eb_b557_803049142908row0_col4\" class=\"data row0 col4\" >-0.057527</td>\n",
       "                        <td id=\"T_b4c9ceb0_5ab7_11eb_b557_803049142908row0_col5\" class=\"data row0 col5\" >-0.001652</td>\n",
       "                        <td id=\"T_b4c9ceb0_5ab7_11eb_b557_803049142908row0_col6\" class=\"data row0 col6\" >0.012658</td>\n",
       "            </tr>\n",
       "            <tr>\n",
       "                        <th id=\"T_b4c9ceb0_5ab7_11eb_b557_803049142908level0_row1\" class=\"row_heading level0 row1\" >Survived</th>\n",
       "                        <td id=\"T_b4c9ceb0_5ab7_11eb_b557_803049142908row1_col0\" class=\"data row1 col0\" >-0.005007</td>\n",
       "                        <td id=\"T_b4c9ceb0_5ab7_11eb_b557_803049142908row1_col1\" class=\"data row1 col1\" >1.000000</td>\n",
       "                        <td id=\"T_b4c9ceb0_5ab7_11eb_b557_803049142908row1_col2\" class=\"data row1 col2\" >-0.338481</td>\n",
       "                        <td id=\"T_b4c9ceb0_5ab7_11eb_b557_803049142908row1_col3\" class=\"data row1 col3\" >-0.077221</td>\n",
       "                        <td id=\"T_b4c9ceb0_5ab7_11eb_b557_803049142908row1_col4\" class=\"data row1 col4\" >-0.035322</td>\n",
       "                        <td id=\"T_b4c9ceb0_5ab7_11eb_b557_803049142908row1_col5\" class=\"data row1 col5\" >0.081629</td>\n",
       "                        <td id=\"T_b4c9ceb0_5ab7_11eb_b557_803049142908row1_col6\" class=\"data row1 col6\" >0.257307</td>\n",
       "            </tr>\n",
       "            <tr>\n",
       "                        <th id=\"T_b4c9ceb0_5ab7_11eb_b557_803049142908level0_row2\" class=\"row_heading level0 row2\" >Pclass</th>\n",
       "                        <td id=\"T_b4c9ceb0_5ab7_11eb_b557_803049142908row2_col0\" class=\"data row2 col0\" >-0.035144</td>\n",
       "                        <td id=\"T_b4c9ceb0_5ab7_11eb_b557_803049142908row2_col1\" class=\"data row2 col1\" >-0.338481</td>\n",
       "                        <td id=\"T_b4c9ceb0_5ab7_11eb_b557_803049142908row2_col2\" class=\"data row2 col2\" >1.000000</td>\n",
       "                        <td id=\"T_b4c9ceb0_5ab7_11eb_b557_803049142908row2_col3\" class=\"data row2 col3\" >-0.369226</td>\n",
       "                        <td id=\"T_b4c9ceb0_5ab7_11eb_b557_803049142908row2_col4\" class=\"data row2 col4\" >0.083081</td>\n",
       "                        <td id=\"T_b4c9ceb0_5ab7_11eb_b557_803049142908row2_col5\" class=\"data row2 col5\" >0.018443</td>\n",
       "                        <td id=\"T_b4c9ceb0_5ab7_11eb_b557_803049142908row2_col6\" class=\"data row2 col6\" >-0.549500</td>\n",
       "            </tr>\n",
       "            <tr>\n",
       "                        <th id=\"T_b4c9ceb0_5ab7_11eb_b557_803049142908level0_row3\" class=\"row_heading level0 row3\" >Age</th>\n",
       "                        <td id=\"T_b4c9ceb0_5ab7_11eb_b557_803049142908row3_col0\" class=\"data row3 col0\" >0.036847</td>\n",
       "                        <td id=\"T_b4c9ceb0_5ab7_11eb_b557_803049142908row3_col1\" class=\"data row3 col1\" >-0.077221</td>\n",
       "                        <td id=\"T_b4c9ceb0_5ab7_11eb_b557_803049142908row3_col2\" class=\"data row3 col2\" >-0.369226</td>\n",
       "                        <td id=\"T_b4c9ceb0_5ab7_11eb_b557_803049142908row3_col3\" class=\"data row3 col3\" >1.000000</td>\n",
       "                        <td id=\"T_b4c9ceb0_5ab7_11eb_b557_803049142908row3_col4\" class=\"data row3 col4\" >-0.308247</td>\n",
       "                        <td id=\"T_b4c9ceb0_5ab7_11eb_b557_803049142908row3_col5\" class=\"data row3 col5\" >-0.189119</td>\n",
       "                        <td id=\"T_b4c9ceb0_5ab7_11eb_b557_803049142908row3_col6\" class=\"data row3 col6\" >0.096067</td>\n",
       "            </tr>\n",
       "            <tr>\n",
       "                        <th id=\"T_b4c9ceb0_5ab7_11eb_b557_803049142908level0_row4\" class=\"row_heading level0 row4\" >SibSp</th>\n",
       "                        <td id=\"T_b4c9ceb0_5ab7_11eb_b557_803049142908row4_col0\" class=\"data row4 col0\" >-0.057527</td>\n",
       "                        <td id=\"T_b4c9ceb0_5ab7_11eb_b557_803049142908row4_col1\" class=\"data row4 col1\" >-0.035322</td>\n",
       "                        <td id=\"T_b4c9ceb0_5ab7_11eb_b557_803049142908row4_col2\" class=\"data row4 col2\" >0.083081</td>\n",
       "                        <td id=\"T_b4c9ceb0_5ab7_11eb_b557_803049142908row4_col3\" class=\"data row4 col3\" >-0.308247</td>\n",
       "                        <td id=\"T_b4c9ceb0_5ab7_11eb_b557_803049142908row4_col4\" class=\"data row4 col4\" >1.000000</td>\n",
       "                        <td id=\"T_b4c9ceb0_5ab7_11eb_b557_803049142908row4_col5\" class=\"data row4 col5\" >0.414838</td>\n",
       "                        <td id=\"T_b4c9ceb0_5ab7_11eb_b557_803049142908row4_col6\" class=\"data row4 col6\" >0.159651</td>\n",
       "            </tr>\n",
       "            <tr>\n",
       "                        <th id=\"T_b4c9ceb0_5ab7_11eb_b557_803049142908level0_row5\" class=\"row_heading level0 row5\" >Parch</th>\n",
       "                        <td id=\"T_b4c9ceb0_5ab7_11eb_b557_803049142908row5_col0\" class=\"data row5 col0\" >-0.001652</td>\n",
       "                        <td id=\"T_b4c9ceb0_5ab7_11eb_b557_803049142908row5_col1\" class=\"data row5 col1\" >0.081629</td>\n",
       "                        <td id=\"T_b4c9ceb0_5ab7_11eb_b557_803049142908row5_col2\" class=\"data row5 col2\" >0.018443</td>\n",
       "                        <td id=\"T_b4c9ceb0_5ab7_11eb_b557_803049142908row5_col3\" class=\"data row5 col3\" >-0.189119</td>\n",
       "                        <td id=\"T_b4c9ceb0_5ab7_11eb_b557_803049142908row5_col4\" class=\"data row5 col4\" >0.414838</td>\n",
       "                        <td id=\"T_b4c9ceb0_5ab7_11eb_b557_803049142908row5_col5\" class=\"data row5 col5\" >1.000000</td>\n",
       "                        <td id=\"T_b4c9ceb0_5ab7_11eb_b557_803049142908row5_col6\" class=\"data row5 col6\" >0.216225</td>\n",
       "            </tr>\n",
       "            <tr>\n",
       "                        <th id=\"T_b4c9ceb0_5ab7_11eb_b557_803049142908level0_row6\" class=\"row_heading level0 row6\" >Fare</th>\n",
       "                        <td id=\"T_b4c9ceb0_5ab7_11eb_b557_803049142908row6_col0\" class=\"data row6 col0\" >0.012658</td>\n",
       "                        <td id=\"T_b4c9ceb0_5ab7_11eb_b557_803049142908row6_col1\" class=\"data row6 col1\" >0.257307</td>\n",
       "                        <td id=\"T_b4c9ceb0_5ab7_11eb_b557_803049142908row6_col2\" class=\"data row6 col2\" >-0.549500</td>\n",
       "                        <td id=\"T_b4c9ceb0_5ab7_11eb_b557_803049142908row6_col3\" class=\"data row6 col3\" >0.096067</td>\n",
       "                        <td id=\"T_b4c9ceb0_5ab7_11eb_b557_803049142908row6_col4\" class=\"data row6 col4\" >0.159651</td>\n",
       "                        <td id=\"T_b4c9ceb0_5ab7_11eb_b557_803049142908row6_col5\" class=\"data row6 col5\" >0.216225</td>\n",
       "                        <td id=\"T_b4c9ceb0_5ab7_11eb_b557_803049142908row6_col6\" class=\"data row6 col6\" >1.000000</td>\n",
       "            </tr>\n",
       "    </tbody></table>"
      ],
      "text/plain": [
       "<pandas.io.formats.style.Styler at 0x28c7bb19160>"
      ]
     },
     "execution_count": 12,
     "metadata": {},
     "output_type": "execute_result"
    }
   ],
   "source": [
    "numerical_data = data.select_dtypes(include=['int64', 'float64'])\n",
    "numerical_data.corr().style.background_gradient(cmap='coolwarm')"
   ]
  },
  {
   "cell_type": "markdown",
   "metadata": {},
   "source": [
    "### Step 9: Use Parallel Coordinates visualization to compare the distributions of numerical variables between passengers that survived and those that did not survive.\n",
    "- That’s a cool chart, isn’t it?!  Passengers traveling with siblings on the boat have a higher death rate and passengers who paid a higher fare had a higher survival rate\n"
   ]
  },
  {
   "cell_type": "code",
   "execution_count": 13,
   "metadata": {},
   "outputs": [
    {
     "data": {
      "image/png": "[encoded data removed]",
      "text/plain": [
       "<Figure size 432x288 with 1 Axes>"
      ]
     },
     "metadata": {
      "needs_background": "light"
     },
     "output_type": "display_data"
    }
   ],
   "source": [
    "pd.plotting.parallel_coordinates(numerical_data, 'Survived', color = [\"red\",\"blue\"]);"
   ]
  },
  {
   "cell_type": "code",
   "execution_count": 14,
   "metadata": {},
   "outputs": [],
   "source": [
    "numerical_data = numerical_data.drop(['PassengerId'], axis = 1)"
   ]
  },
  {
   "cell_type": "code",
   "execution_count": 15,
   "metadata": {},
   "outputs": [
    {
     "data": {
      "image/png": "[encoded data removed]",
      "text/plain": [
       "<Figure size 432x288 with 1 Axes>"
      ]
     },
     "metadata": {
      "needs_background": "light"
     },
     "output_type": "display_data"
    }
   ],
   "source": [
    "pd.plotting.parallel_coordinates(numerical_data, 'Survived', color = [\"red\",\"blue\"]);"
   ]
  },
  {
   "cell_type": "markdown",
   "metadata": {},
   "source": [
    "### Step 10) Use Stack Bar Charts to compare passengers who survived to passengers who didn’t survive based on the other variables.\n",
    "\n",
    "- More females survived than men.  3rd Class Tickets had a lower survival rate.  \n",
    "- Embarkation from Southampton port had a lower survival rate.\n"
   ]
  },
  {
   "cell_type": "code",
   "execution_count": 16,
   "metadata": {},
   "outputs": [
    {
     "data": {
      "image/png": "[encoded data removed]",
      "text/plain": [
       "<Figure size 656.675x288 with 3 Axes>"
      ]
     },
     "metadata": {
      "needs_background": "light"
     },
     "output_type": "display_data"
    }
   ],
   "source": [
    "sns.catplot(x=\"Sex\", hue=\"Survived\", col=\"Pclass\",\n",
    "                data=data, kind=\"count\",\n",
    "                height=4, aspect=.7, );"
   ]
  },
  {
   "cell_type": "code",
   "execution_count": 17,
   "metadata": {},
   "outputs": [
    {
     "data": {
      "image/png": "[encoded data removed]",
      "text/plain": [
       "<Figure size 656.675x288 with 3 Axes>"
      ]
     },
     "metadata": {
      "needs_background": "light"
     },
     "output_type": "display_data"
    }
   ],
   "source": [
    "sns.catplot(x=\"Sex\", hue=\"Survived\", col=\"Embarked\",\n",
    "                data=data, kind=\"count\",\n",
    "                height=4, aspect=.7, );"
   ]
  },
  {
   "cell_type": "code",
   "execution_count": 18,
   "metadata": {},
   "outputs": [
    {
     "data": {
      "image/png": "[encoded data removed]",
      "text/plain": [
       "<Figure size 656.675x288 with 3 Axes>"
      ]
     },
     "metadata": {
      "needs_background": "light"
     },
     "output_type": "display_data"
    }
   ],
   "source": [
    "sns.catplot(x=\"Pclass\", hue=\"Survived\", col=\"Embarked\",\n",
    "                data=data, kind=\"count\",\n",
    "                height=4, aspect=.7, );"
   ]
  },
  {
   "cell_type": "code",
   "execution_count": 19,
   "metadata": {},
   "outputs": [
    {
     "data": {
      "image/png": "[encoded data removed]",
      "text/plain": [
       "<Figure size 411.875x360 with 1 Axes>"
      ]
     },
     "metadata": {
      "needs_background": "light"
     },
     "output_type": "display_data"
    }
   ],
   "source": [
    "sns.displot(data, x='Sex', hue='Survived', multiple='stack');"
   ]
  }
 ],
 "metadata": {
  "kernelspec": {
   "display_name": "Python 3",
   "language": "python",
   "name": "python3"
  },
  "language_info": {
   "codemirror_mode": {
    "name": "ipython",
    "version": 3
   },
   "file_extension": ".py",
   "mimetype": "text/x-python",
   "name": "python",
   "nbconvert_exporter": "python",
   "pygments_lexer": "ipython3",
   "version": "3.8.5"
  }
 },
 "nbformat": 4,
 "nbformat_minor": 4
}
