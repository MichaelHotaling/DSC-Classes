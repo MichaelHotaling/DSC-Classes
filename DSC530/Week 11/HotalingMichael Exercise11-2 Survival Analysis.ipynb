{
 "cells": [
  {
   "cell_type": "markdown",
   "metadata": {},
   "source": [
    "### 11.2 Exercise: Survival Analysis <br> Michael Hotaling <br> 2020-11-13\n",
    "\n",
    "\n",
    "### Exercise 13-1    \n",
    "In NSFG Cycles 6 and 7, the variable `cmdivorcx` contains the date of divorce for the respondent’s first marriage, if applicable, encoded in century-months.\n",
    "\n",
    "Compute the duration of marriages that have ended in divorce, and the duration, so far, of marriages that are ongoing. Estimate the hazard and survival curve for the duration of marriage.\n",
    "\n",
    "Use resampling to take into account sampling weights, and plot data from several resamples to visualize sampling error.\n",
    "\n",
    "Consider dividing the respondents into groups by decade of birth, and possibly by age at first marriage."
   ]
  },
  {
   "cell_type": "code",
   "execution_count": 1,
   "metadata": {},
   "outputs": [],
   "source": [
    "import nsfg\n",
    "import survival\n",
    "import numpy as np\n",
    "import matplotlib.pyplot as plt\n",
    "import lifelines\n",
    "import pandas as pd"
   ]
  },
  {
   "cell_type": "code",
   "execution_count": 2,
   "metadata": {},
   "outputs": [],
   "source": [
    "resp6 = survival.ReadFemResp2002()\n",
    "resp7 = survival.ReadFemResp2010()\n",
    "\n",
    "resp6 = resp6[resp6['evrmarry'] == True]\n",
    "resp7 = resp7[resp7['evrmarry'] == True]"
   ]
  },
  {
   "cell_type": "code",
   "execution_count": 3,
   "metadata": {},
   "outputs": [
    {
     "name": "stdout",
     "output_type": "stream",
     "text": [
      "    caseid  cmbirth  evrmarry  cmmarrhx  cmdivorcx  parity     finalwgt  \\\n",
      "1     5012      718      True     974.0     1077.0       1  4744.191350   \n",
      "2    11586      708      True     910.0      938.0       1  4744.191350   \n",
      "5      845      727      True     937.0        NaN       6  4705.681352   \n",
      "8     8656      780      True    1003.0        NaN       3  6520.021223   \n",
      "10    5917      714      True     953.0        NaN       2  3488.586646   \n",
      "\n",
      "    cmintvw   agemarry        age  year  decade  fives  \n",
      "1      1233  21.333333  42.916667    59       5     11  \n",
      "2      1234  16.833333  43.833333    58       5     11  \n",
      "5      1234  17.500000  42.250000    60       6     12  \n",
      "8      1237  18.583333  38.083333    64       6     12  \n",
      "10     1233  19.916667  43.250000    59       5     11  \n",
      "    caseid  cmbirth  evrmarry  cmmarrhx  cmdivorcx  parity      wgtq1q16  \\\n",
      "1    40081      925      True    1314.0        NaN       0  11716.317848   \n",
      "18   33303      773      True    1076.0        NaN       3   6603.626644   \n",
      "19   38594      796      True    1089.0        NaN       4  14915.930053   \n",
      "22   28488      810      True    1126.0        NaN       2   6114.806526   \n",
      "23   37022      866      True    1257.0        NaN       3   7831.375643   \n",
      "\n",
      "    cmintvw      finalwgt   agemarry        age  year  decade  fives  \n",
      "1      1323  11716.317848  32.416667  33.166667    77       7     15  \n",
      "18     1289   6603.626644  25.250000  43.000000    64       6     12  \n",
      "19     1325  14915.930053  24.416667  44.083333    66       6     13  \n",
      "22     1289   6114.806526  26.333333  39.916667    67       6     13  \n",
      "23     1326   7831.375643  32.583333  38.333333    72       7     14  \n"
     ]
    }
   ],
   "source": [
    "print(resp6.head())\n",
    "print(resp7.head())"
   ]
  },
  {
   "cell_type": "markdown",
   "metadata": {},
   "source": [
    "The data needs to be cleaned up quite a bit since we have a lot of NA values. We will also need to engineer some attributes like whether or not the data points are divorced, the duration of the marriage, and the duration of the marriage so far.\n",
    "\n",
    "First, we can remove some of these large values. Not sure what they are, but they need to go"
   ]
  },
  {
   "cell_type": "code",
   "execution_count": 4,
   "metadata": {},
   "outputs": [
    {
     "data": {
      "text/plain": [
       "909.0        1\n",
       "913.0        1\n",
       "915.0        1\n",
       "916.0        1\n",
       "918.0        2\n",
       "          ... \n",
       "1236.0       1\n",
       "1237.0       1\n",
       "9998.0       2\n",
       "9999.0      20\n",
       "NaN       3122\n",
       "Name: cmdivorcx, Length: 280, dtype: int64"
      ]
     },
     "execution_count": 4,
     "metadata": {},
     "output_type": "execute_result"
    }
   ],
   "source": [
    "resp6['cmdivorcx'].value_counts(dropna=False).sort_index()"
   ]
  },
  {
   "cell_type": "code",
   "execution_count": 5,
   "metadata": {},
   "outputs": [
    {
     "data": {
      "text/plain": [
       "960.0        1\n",
       "966.0        1\n",
       "982.0        1\n",
       "984.0        1\n",
       "990.0        3\n",
       "          ... \n",
       "1324.0       1\n",
       "1325.0       1\n",
       "9998.0       1\n",
       "9999.0      19\n",
       "NaN       3960\n",
       "Name: cmdivorcx, Length: 305, dtype: int64"
      ]
     },
     "execution_count": 5,
     "metadata": {},
     "output_type": "execute_result"
    }
   ],
   "source": [
    "resp7['cmdivorcx'].value_counts(dropna=False).sort_index()"
   ]
  },
  {
   "cell_type": "code",
   "execution_count": 6,
   "metadata": {},
   "outputs": [],
   "source": [
    "resp6['cmdivorcx'].replace([9999,9998], np.nan, inplace=True)\n",
    "resp7['cmdivorcx'].replace([9999,9998], np.nan, inplace=True)"
   ]
  },
  {
   "cell_type": "code",
   "execution_count": 7,
   "metadata": {},
   "outputs": [
    {
     "data": {
      "text/plain": [
       "909.0        1\n",
       "913.0        1\n",
       "915.0        1\n",
       "916.0        1\n",
       "918.0        2\n",
       "          ... \n",
       "1234.0       4\n",
       "1235.0       3\n",
       "1236.0       1\n",
       "1237.0       1\n",
       "NaN       3144\n",
       "Name: cmdivorcx, Length: 278, dtype: int64"
      ]
     },
     "execution_count": 7,
     "metadata": {},
     "output_type": "execute_result"
    }
   ],
   "source": [
    "resp6['cmdivorcx'].value_counts(dropna=False).sort_index()"
   ]
  },
  {
   "cell_type": "code",
   "execution_count": 8,
   "metadata": {},
   "outputs": [
    {
     "data": {
      "text/plain": [
       "960.0        1\n",
       "966.0        1\n",
       "982.0        1\n",
       "984.0        1\n",
       "990.0        3\n",
       "          ... \n",
       "1321.0       1\n",
       "1322.0       1\n",
       "1324.0       1\n",
       "1325.0       1\n",
       "NaN       3980\n",
       "Name: cmdivorcx, Length: 303, dtype: int64"
      ]
     },
     "execution_count": 8,
     "metadata": {},
     "output_type": "execute_result"
    }
   ],
   "source": [
    "resp7['cmdivorcx'].value_counts(dropna=False).sort_index()"
   ]
  },
  {
   "cell_type": "markdown",
   "metadata": {},
   "source": [
    "Next, we will engineer some attributes for our calculations"
   ]
  },
  {
   "cell_type": "code",
   "execution_count": 39,
   "metadata": {},
   "outputs": [
    {
     "data": {
      "text/html": [
       "<div>\n",
       "<style scoped>\n",
       "    .dataframe tbody tr th:only-of-type {\n",
       "        vertical-align: middle;\n",
       "    }\n",
       "\n",
       "    .dataframe tbody tr th {\n",
       "        vertical-align: top;\n",
       "    }\n",
       "\n",
       "    .dataframe thead th {\n",
       "        text-align: right;\n",
       "    }\n",
       "</style>\n",
       "<table border=\"1\" class=\"dataframe\">\n",
       "  <thead>\n",
       "    <tr style=\"text-align: right;\">\n",
       "      <th></th>\n",
       "      <th>caseid</th>\n",
       "      <th>cmbirth</th>\n",
       "      <th>evrmarry</th>\n",
       "      <th>cmmarrhx</th>\n",
       "      <th>cmdivorcx</th>\n",
       "      <th>parity</th>\n",
       "      <th>finalwgt</th>\n",
       "      <th>cmintvw</th>\n",
       "      <th>agemarry</th>\n",
       "      <th>age</th>\n",
       "      <th>year</th>\n",
       "      <th>decade</th>\n",
       "      <th>fives</th>\n",
       "      <th>notdivorced</th>\n",
       "      <th>duration</th>\n",
       "      <th>durationsofar</th>\n",
       "    </tr>\n",
       "  </thead>\n",
       "  <tbody>\n",
       "    <tr>\n",
       "      <th>1</th>\n",
       "      <td>5012</td>\n",
       "      <td>718</td>\n",
       "      <td>True</td>\n",
       "      <td>974.0</td>\n",
       "      <td>1077.0</td>\n",
       "      <td>1</td>\n",
       "      <td>4744.191350</td>\n",
       "      <td>1233</td>\n",
       "      <td>21.333333</td>\n",
       "      <td>42.916667</td>\n",
       "      <td>59</td>\n",
       "      <td>5</td>\n",
       "      <td>11</td>\n",
       "      <td>0</td>\n",
       "      <td>8.583333</td>\n",
       "      <td>21.583333</td>\n",
       "    </tr>\n",
       "    <tr>\n",
       "      <th>2</th>\n",
       "      <td>11586</td>\n",
       "      <td>708</td>\n",
       "      <td>True</td>\n",
       "      <td>910.0</td>\n",
       "      <td>938.0</td>\n",
       "      <td>1</td>\n",
       "      <td>4744.191350</td>\n",
       "      <td>1234</td>\n",
       "      <td>16.833333</td>\n",
       "      <td>43.833333</td>\n",
       "      <td>58</td>\n",
       "      <td>5</td>\n",
       "      <td>11</td>\n",
       "      <td>0</td>\n",
       "      <td>2.333333</td>\n",
       "      <td>27.000000</td>\n",
       "    </tr>\n",
       "    <tr>\n",
       "      <th>5</th>\n",
       "      <td>845</td>\n",
       "      <td>727</td>\n",
       "      <td>True</td>\n",
       "      <td>937.0</td>\n",
       "      <td>NaN</td>\n",
       "      <td>6</td>\n",
       "      <td>4705.681352</td>\n",
       "      <td>1234</td>\n",
       "      <td>17.500000</td>\n",
       "      <td>42.250000</td>\n",
       "      <td>60</td>\n",
       "      <td>6</td>\n",
       "      <td>12</td>\n",
       "      <td>1</td>\n",
       "      <td>NaN</td>\n",
       "      <td>24.750000</td>\n",
       "    </tr>\n",
       "    <tr>\n",
       "      <th>8</th>\n",
       "      <td>8656</td>\n",
       "      <td>780</td>\n",
       "      <td>True</td>\n",
       "      <td>1003.0</td>\n",
       "      <td>NaN</td>\n",
       "      <td>3</td>\n",
       "      <td>6520.021223</td>\n",
       "      <td>1237</td>\n",
       "      <td>18.583333</td>\n",
       "      <td>38.083333</td>\n",
       "      <td>64</td>\n",
       "      <td>6</td>\n",
       "      <td>12</td>\n",
       "      <td>1</td>\n",
       "      <td>NaN</td>\n",
       "      <td>19.500000</td>\n",
       "    </tr>\n",
       "    <tr>\n",
       "      <th>10</th>\n",
       "      <td>5917</td>\n",
       "      <td>714</td>\n",
       "      <td>True</td>\n",
       "      <td>953.0</td>\n",
       "      <td>NaN</td>\n",
       "      <td>2</td>\n",
       "      <td>3488.586646</td>\n",
       "      <td>1233</td>\n",
       "      <td>19.916667</td>\n",
       "      <td>43.250000</td>\n",
       "      <td>59</td>\n",
       "      <td>5</td>\n",
       "      <td>11</td>\n",
       "      <td>1</td>\n",
       "      <td>NaN</td>\n",
       "      <td>23.333333</td>\n",
       "    </tr>\n",
       "  </tbody>\n",
       "</table>\n",
       "</div>"
      ],
      "text/plain": [
       "    caseid  cmbirth  evrmarry  cmmarrhx  cmdivorcx  parity     finalwgt  \\\n",
       "1     5012      718      True     974.0     1077.0       1  4744.191350   \n",
       "2    11586      708      True     910.0      938.0       1  4744.191350   \n",
       "5      845      727      True     937.0        NaN       6  4705.681352   \n",
       "8     8656      780      True    1003.0        NaN       3  6520.021223   \n",
       "10    5917      714      True     953.0        NaN       2  3488.586646   \n",
       "\n",
       "    cmintvw   agemarry        age  year  decade  fives  notdivorced  duration  \\\n",
       "1      1233  21.333333  42.916667    59       5     11            0  8.583333   \n",
       "2      1234  16.833333  43.833333    58       5     11            0  2.333333   \n",
       "5      1234  17.500000  42.250000    60       6     12            1       NaN   \n",
       "8      1237  18.583333  38.083333    64       6     12            1       NaN   \n",
       "10     1233  19.916667  43.250000    59       5     11            1       NaN   \n",
       "\n",
       "    durationsofar  \n",
       "1       21.583333  \n",
       "2       27.000000  \n",
       "5       24.750000  \n",
       "8       19.500000  \n",
       "10      23.333333  "
      ]
     },
     "execution_count": 39,
     "metadata": {},
     "output_type": "execute_result"
    }
   ],
   "source": [
    "resp6['notdivorced'] = resp6['cmdivorcx'].isnull().astype(int)\n",
    "resp6['duration'] = (resp6['cmdivorcx'] - resp6['cmmarrhx']) / 12.0\n",
    "resp6['durationsofar'] = (resp6['cmintvw'] - resp6['cmmarrhx']) / 12.0\n",
    "  \n",
    "resp6.head()"
   ]
  },
  {
   "cell_type": "code",
   "execution_count": 40,
   "metadata": {},
   "outputs": [
    {
     "data": {
      "text/html": [
       "<div>\n",
       "<style scoped>\n",
       "    .dataframe tbody tr th:only-of-type {\n",
       "        vertical-align: middle;\n",
       "    }\n",
       "\n",
       "    .dataframe tbody tr th {\n",
       "        vertical-align: top;\n",
       "    }\n",
       "\n",
       "    .dataframe thead th {\n",
       "        text-align: right;\n",
       "    }\n",
       "</style>\n",
       "<table border=\"1\" class=\"dataframe\">\n",
       "  <thead>\n",
       "    <tr style=\"text-align: right;\">\n",
       "      <th></th>\n",
       "      <th>caseid</th>\n",
       "      <th>cmbirth</th>\n",
       "      <th>evrmarry</th>\n",
       "      <th>cmmarrhx</th>\n",
       "      <th>cmdivorcx</th>\n",
       "      <th>parity</th>\n",
       "      <th>wgtq1q16</th>\n",
       "      <th>cmintvw</th>\n",
       "      <th>finalwgt</th>\n",
       "      <th>agemarry</th>\n",
       "      <th>age</th>\n",
       "      <th>year</th>\n",
       "      <th>decade</th>\n",
       "      <th>fives</th>\n",
       "      <th>notdivorced</th>\n",
       "      <th>duration</th>\n",
       "      <th>durationsofar</th>\n",
       "    </tr>\n",
       "  </thead>\n",
       "  <tbody>\n",
       "    <tr>\n",
       "      <th>1</th>\n",
       "      <td>40081</td>\n",
       "      <td>925</td>\n",
       "      <td>True</td>\n",
       "      <td>1314.0</td>\n",
       "      <td>NaN</td>\n",
       "      <td>0</td>\n",
       "      <td>11716.317848</td>\n",
       "      <td>1323</td>\n",
       "      <td>11716.317848</td>\n",
       "      <td>32.416667</td>\n",
       "      <td>33.166667</td>\n",
       "      <td>77</td>\n",
       "      <td>7</td>\n",
       "      <td>15</td>\n",
       "      <td>1</td>\n",
       "      <td>NaN</td>\n",
       "      <td>0.750000</td>\n",
       "    </tr>\n",
       "    <tr>\n",
       "      <th>18</th>\n",
       "      <td>33303</td>\n",
       "      <td>773</td>\n",
       "      <td>True</td>\n",
       "      <td>1076.0</td>\n",
       "      <td>NaN</td>\n",
       "      <td>3</td>\n",
       "      <td>6603.626644</td>\n",
       "      <td>1289</td>\n",
       "      <td>6603.626644</td>\n",
       "      <td>25.250000</td>\n",
       "      <td>43.000000</td>\n",
       "      <td>64</td>\n",
       "      <td>6</td>\n",
       "      <td>12</td>\n",
       "      <td>1</td>\n",
       "      <td>NaN</td>\n",
       "      <td>17.750000</td>\n",
       "    </tr>\n",
       "    <tr>\n",
       "      <th>19</th>\n",
       "      <td>38594</td>\n",
       "      <td>796</td>\n",
       "      <td>True</td>\n",
       "      <td>1089.0</td>\n",
       "      <td>NaN</td>\n",
       "      <td>4</td>\n",
       "      <td>14915.930053</td>\n",
       "      <td>1325</td>\n",
       "      <td>14915.930053</td>\n",
       "      <td>24.416667</td>\n",
       "      <td>44.083333</td>\n",
       "      <td>66</td>\n",
       "      <td>6</td>\n",
       "      <td>13</td>\n",
       "      <td>1</td>\n",
       "      <td>NaN</td>\n",
       "      <td>19.666667</td>\n",
       "    </tr>\n",
       "    <tr>\n",
       "      <th>22</th>\n",
       "      <td>28488</td>\n",
       "      <td>810</td>\n",
       "      <td>True</td>\n",
       "      <td>1126.0</td>\n",
       "      <td>NaN</td>\n",
       "      <td>2</td>\n",
       "      <td>6114.806526</td>\n",
       "      <td>1289</td>\n",
       "      <td>6114.806526</td>\n",
       "      <td>26.333333</td>\n",
       "      <td>39.916667</td>\n",
       "      <td>67</td>\n",
       "      <td>6</td>\n",
       "      <td>13</td>\n",
       "      <td>1</td>\n",
       "      <td>NaN</td>\n",
       "      <td>13.583333</td>\n",
       "    </tr>\n",
       "    <tr>\n",
       "      <th>23</th>\n",
       "      <td>37022</td>\n",
       "      <td>866</td>\n",
       "      <td>True</td>\n",
       "      <td>1257.0</td>\n",
       "      <td>NaN</td>\n",
       "      <td>3</td>\n",
       "      <td>7831.375643</td>\n",
       "      <td>1326</td>\n",
       "      <td>7831.375643</td>\n",
       "      <td>32.583333</td>\n",
       "      <td>38.333333</td>\n",
       "      <td>72</td>\n",
       "      <td>7</td>\n",
       "      <td>14</td>\n",
       "      <td>1</td>\n",
       "      <td>NaN</td>\n",
       "      <td>5.750000</td>\n",
       "    </tr>\n",
       "  </tbody>\n",
       "</table>\n",
       "</div>"
      ],
      "text/plain": [
       "    caseid  cmbirth  evrmarry  cmmarrhx  cmdivorcx  parity      wgtq1q16  \\\n",
       "1    40081      925      True    1314.0        NaN       0  11716.317848   \n",
       "18   33303      773      True    1076.0        NaN       3   6603.626644   \n",
       "19   38594      796      True    1089.0        NaN       4  14915.930053   \n",
       "22   28488      810      True    1126.0        NaN       2   6114.806526   \n",
       "23   37022      866      True    1257.0        NaN       3   7831.375643   \n",
       "\n",
       "    cmintvw      finalwgt   agemarry        age  year  decade  fives  \\\n",
       "1      1323  11716.317848  32.416667  33.166667    77       7     15   \n",
       "18     1289   6603.626644  25.250000  43.000000    64       6     12   \n",
       "19     1325  14915.930053  24.416667  44.083333    66       6     13   \n",
       "22     1289   6114.806526  26.333333  39.916667    67       6     13   \n",
       "23     1326   7831.375643  32.583333  38.333333    72       7     14   \n",
       "\n",
       "    notdivorced  duration  durationsofar  \n",
       "1             1       NaN       0.750000  \n",
       "18            1       NaN      17.750000  \n",
       "19            1       NaN      19.666667  \n",
       "22            1       NaN      13.583333  \n",
       "23            1       NaN       5.750000  "
      ]
     },
     "execution_count": 40,
     "metadata": {},
     "output_type": "execute_result"
    }
   ],
   "source": [
    "resp7['notdivorced'] = resp7['cmdivorcx'].isnull().astype(int)\n",
    "resp7['duration'] = (resp7['cmdivorcx'] - resp7['cmmarrhx']) / 12.0\n",
    "resp7['durationsofar'] = (resp7['cmintvw'] - resp7['cmmarrhx']) / 12.0\n",
    "\n",
    "resp7.head()"
   ]
  },
  {
   "cell_type": "markdown",
   "metadata": {},
   "source": [
    "We will have to drop some more NA values here."
   ]
  },
  {
   "cell_type": "code",
   "execution_count": 41,
   "metadata": {},
   "outputs": [
    {
     "data": {
      "text/plain": [
       "0.000000      7\n",
       "0.083333     20\n",
       "0.166667      7\n",
       "0.250000     18\n",
       "0.333333     12\n",
       "             ..\n",
       "28.666667     3\n",
       "28.916667     1\n",
       "29.083333     1\n",
       "29.750000     1\n",
       "30.083333     1\n",
       "Name: durationsofar, Length: 345, dtype: int64"
      ]
     },
     "execution_count": 41,
     "metadata": {},
     "output_type": "execute_result"
    }
   ],
   "source": [
    "resp6['durationsofar'].value_counts(dropna=False).sort_index()"
   ]
  },
  {
   "cell_type": "code",
   "execution_count": 12,
   "metadata": {},
   "outputs": [
    {
     "data": {
      "text/plain": [
       "0.000000      8\n",
       "0.083333     15\n",
       "0.166667     28\n",
       "0.250000     34\n",
       "0.333333     23\n",
       "             ..\n",
       "29.083333     1\n",
       "29.250000     2\n",
       "29.666667     1\n",
       "30.916667     1\n",
       "NaN          16\n",
       "Name: durationsofar, Length: 341, dtype: int64"
      ]
     },
     "execution_count": 12,
     "metadata": {},
     "output_type": "execute_result"
    }
   ],
   "source": [
    "resp7['durationsofar'].value_counts(dropna=False).sort_index()"
   ]
  },
  {
   "cell_type": "code",
   "execution_count": 13,
   "metadata": {},
   "outputs": [],
   "source": [
    "resp6 = resp6.dropna(subset=['durationsofar'])\n",
    "resp7 = resp7.dropna(subset=['durationsofar'])"
   ]
  },
  {
   "cell_type": "code",
   "execution_count": 14,
   "metadata": {},
   "outputs": [
    {
     "data": {
      "text/plain": [
       "0.000000      7\n",
       "0.083333     20\n",
       "0.166667      7\n",
       "0.250000     18\n",
       "0.333333     12\n",
       "             ..\n",
       "28.666667     3\n",
       "28.916667     1\n",
       "29.083333     1\n",
       "29.750000     1\n",
       "30.083333     1\n",
       "Name: durationsofar, Length: 345, dtype: int64"
      ]
     },
     "execution_count": 14,
     "metadata": {},
     "output_type": "execute_result"
    }
   ],
   "source": [
    "resp6['durationsofar'].value_counts(dropna=False).sort_index()"
   ]
  },
  {
   "cell_type": "code",
   "execution_count": 15,
   "metadata": {},
   "outputs": [
    {
     "data": {
      "text/plain": [
       "0.000000      8\n",
       "0.083333     15\n",
       "0.166667     28\n",
       "0.250000     34\n",
       "0.333333     23\n",
       "             ..\n",
       "29.000000     1\n",
       "29.083333     1\n",
       "29.250000     2\n",
       "29.666667     1\n",
       "30.916667     1\n",
       "Name: durationsofar, Length: 340, dtype: int64"
      ]
     },
     "execution_count": 15,
     "metadata": {},
     "output_type": "execute_result"
    }
   ],
   "source": [
    "resp7['durationsofar'].value_counts(dropna=False).sort_index()"
   ]
  },
  {
   "cell_type": "markdown",
   "metadata": {},
   "source": [
    "Now we can start the survival curve. I'll be using the KaplanMeierFitter from lifelines"
   ]
  },
  {
   "cell_type": "code",
   "execution_count": 30,
   "metadata": {},
   "outputs": [],
   "source": [
    "kmf1 = lifelines.KaplanMeierFitter()\n",
    "kmf2 = lifelines.KaplanMeierFitter()"
   ]
  },
  {
   "cell_type": "code",
   "execution_count": 31,
   "metadata": {},
   "outputs": [],
   "source": [
    "T1 = resp6['durationsofar']\n",
    "C1 = resp6['notdivorced']\n",
    "T2 = resp7['durationsofar']\n",
    "C2 = resp7['notdivorced']"
   ]
  },
  {
   "cell_type": "code",
   "execution_count": 32,
   "metadata": {},
   "outputs": [],
   "source": [
    "kmf1.fit(T1,C1);"
   ]
  },
  {
   "cell_type": "code",
   "execution_count": 33,
   "metadata": {},
   "outputs": [],
   "source": [
    "figsize = (12,8)"
   ]
  },
  {
   "cell_type": "code",
   "execution_count": 34,
   "metadata": {},
   "outputs": [
    {
     "data": {
      "image/png": "[encoded data removed]",
      "text/plain": [
       "<Figure size 432x288 with 1 Axes>"
      ]
     },
     "metadata": {
      "needs_background": "light"
     },
     "output_type": "display_data"
    }
   ],
   "source": [
    "kmf1.plot();"
   ]
  },
  {
   "cell_type": "code",
   "execution_count": 35,
   "metadata": {},
   "outputs": [
    {
     "data": {
      "image/png": "[encoded data removed]",
      "text/plain": [
       "<Figure size 432x288 with 1 Axes>"
      ]
     },
     "metadata": {
      "needs_background": "light"
     },
     "output_type": "display_data"
    }
   ],
   "source": [
    "for i in resp6['decade'].unique():\n",
    "    ix = resp6['decade'] == i\n",
    "    kmf1.fit(T1[ix], C1[ix], label = str(i * 10))\n",
    "    kmf1.plot();"
   ]
  },
  {
   "cell_type": "code",
   "execution_count": 36,
   "metadata": {},
   "outputs": [],
   "source": [
    "kmf2.fit(T2,C2);"
   ]
  },
  {
   "cell_type": "code",
   "execution_count": 37,
   "metadata": {},
   "outputs": [
    {
     "data": {
      "image/png": "[encoded data removed]",
      "text/plain": [
       "<Figure size 432x288 with 1 Axes>"
      ]
     },
     "metadata": {
      "needs_background": "light"
     },
     "output_type": "display_data"
    }
   ],
   "source": [
    "kmf2.plot();"
   ]
  },
  {
   "cell_type": "code",
   "execution_count": 47,
   "metadata": {},
   "outputs": [
    {
     "data": {
      "image/png": "[encoded data removed]",
      "text/plain": [
       "<Figure size 432x288 with 1 Axes>"
      ]
     },
     "metadata": {
      "needs_background": "light"
     },
     "output_type": "display_data"
    }
   ],
   "source": [
    "for i in np.sort(resp7['decade'].unique()):\n",
    "    ix = resp7['decade'] == i\n",
    "    kmf1.fit(T2[ix], C2[ix], label = str(i * 10))\n",
    "    kmf1.plot();"
   ]
  },
  {
   "cell_type": "code",
   "execution_count": null,
   "metadata": {},
   "outputs": [],
   "source": []
  }
 ],
 "metadata": {
  "kernelspec": {
   "display_name": "Python 3",
   "language": "python",
   "name": "python3"
  },
  "language_info": {
   "codemirror_mode": {
    "name": "ipython",
    "version": 3
   },
   "file_extension": ".py",
   "mimetype": "text/x-python",
   "name": "python",
   "nbconvert_exporter": "python",
   "pygments_lexer": "ipython3",
   "version": "3.8.3"
  }
 },
 "nbformat": 4,
 "nbformat_minor": 4
}
