{
 "cells": [
  {
   "cell_type": "markdown",
   "metadata": {},
   "source": [
    "Assignment 3.2: Preparing for Exploratory Data Analysis Using Python \n",
    "<br> Name: Michael Hotaling\n",
    "<br> Date: 2020-09-15\n"
   ]
  },
  {
   "cell_type": "markdown",
   "metadata": {},
   "source": [
    "## Exercise 2-1\n",
    "### Based on the results in this chapter, suppose you were asked to summarize what you learned about whether first babies arrive late. <br> <br>Which summary statistic would you use if you wanted to get a story on the evening news? WHihc ones would you use if you wanted to reassure an anxious patient?\n",
    "\n",
    "It's fairly obvious after analyzing the data that first babies are not typically born late. A Cohen Efficient of 0.2 typically shows a weak correlation and the ration we achieved was 10 times less than that. (McLeod 2019)\n",
    "\n",
    "Like the book mentions, the average different between first babies and other babies works out to be around 13 hours, which is most likely due to statistical noise. \n",
    "\n",
    "If we wanted to get our story on the evening news (regardless of scientific integrity) we could argue that, since there is a slight increase in pregnancy time for first children, there is a hogher chance of that child being born late. \n",
    "\n",
    "From a professional point of view, if an expecting mother is concerned about a pregnancy lasting too long, it would be wise of the doctor assure the patient that there is really no significance between first babies and other babies. \n",
    "\n",
    "\n",
    "\n",
    "McLeod, S. A. (2019, July 10). *What does effect size tell you?* Simply psychology: https://www.simplypsychology.org/effect-size.html\n",
    "\n",
    "\n",
    "### Finally, imagine that you are Cecil Adams, author of [*The Straight Dope*](http://straightdope.com/) and your job is to answer the question, \"Do first babies arrive late?\" Write a paragraph that uses the results in this chapter to answer the question clearly, precisely, and honestly.\n",
    "\n",
    "Dear Mike:\n",
    "\n",
    "I've heard a lot of rumors about first pregnancies lasting a lot longer than subsequent pregnancies. As a mother-to-be, I was wondering of this old wives tail holds any water. What do you think? Is there any evidence for this?\n",
    "\n",
    "Regards,\n",
    "An Expecting Mother \n",
    "\n",
    "Mike replies:\n",
    "\n",
    "No need to worry, EM. Using data from the National Survey of Family Growth, we can analyze the pregnancy durations of over 13,000 pregnancies to get that answer. First, we will import our data."
   ]
  },
  {
   "cell_type": "code",
   "execution_count": 1,
   "metadata": {},
   "outputs": [],
   "source": [
    "import numpy as np\n",
    "import pandas as pd\n",
    "import matplotlib.pyplot as plt\n",
    "import nsfg"
   ]
  },
  {
   "cell_type": "code",
   "execution_count": 2,
   "metadata": {},
   "outputs": [],
   "source": [
    "preg = nsfg.ReadFemPreg()\n",
    "preg = preg[preg['outcome'] == 1]"
   ]
  },
  {
   "cell_type": "markdown",
   "metadata": {},
   "source": [
    "This data set comes with lots of different information, and one of our data attributes is PRGLNGTH, or pregnancy length. We can check out the average duration for each pregnancy using that attribute"
   ]
  },
  {
   "cell_type": "code",
   "execution_count": 3,
   "metadata": {},
   "outputs": [
    {
     "name": "stdout",
     "output_type": "stream",
     "text": [
      "(32, 33]      49\n",
      "(33, 34]      60\n",
      "(34, 35]     311\n",
      "(35, 36]     321\n",
      "(36, 37]     455\n",
      "(37, 38]     607\n",
      "(38, 39]    4693\n",
      "(39, 40]    1116\n",
      "(40, 41]     587\n",
      "(41, 42]     328\n",
      "(42, 43]     148\n",
      "(43, 44]      46\n",
      "(44, 45]      10\n",
      "(45, 46]       1\n",
      "Name: prglngth, dtype: int64\n"
     ]
    },
    {
     "data": {
      "image/png": "[encoded data removed]",
      "text/plain": [
       "<Figure size 432x288 with 1 Axes>"
      ]
     },
     "metadata": {
      "needs_background": "light"
     },
     "output_type": "display_data"
    }
   ],
   "source": [
    "bins = [32,33,34,35,36,37,38,39,40,41,42,43,44,45,46]\n",
    "\n",
    "preglngth = pd.cut(preg['prglngth'], bins).value_counts().sort_index()\n",
    "\n",
    "print(preglngth)\n",
    "\n",
    "pregs = preg[preg['prglngth'] > 32]\n",
    "pregs = pregs[pregs['prglngth'] < 46]\n",
    "\n",
    "\n",
    "plt.hist(pregs['prglngth'], bins = 13,);\n",
    "plt.xlabel(\"Pregnancy Duration (in Weeks)\")\n",
    "plt.ylabel(\"Count\");\n",
    "plt.title(\"Duration of All Pregnancies\");\n"
   ]
  },
  {
   "cell_type": "markdown",
   "metadata": {},
   "source": [
    "From this data, we can see that most pregnancies last between 38 and 40 weeks. Let's see if there is any difference between first born children vs other children"
   ]
  },
  {
   "cell_type": "code",
   "execution_count": 4,
   "metadata": {},
   "outputs": [],
   "source": [
    "first_born = pregs[pregs['birthord'] == 1]\n",
    "others = pregs[pregs['birthord'] != 1]"
   ]
  },
  {
   "cell_type": "code",
   "execution_count": 5,
   "metadata": {},
   "outputs": [
    {
     "name": "stdout",
     "output_type": "stream",
     "text": [
      "(32, 33]      28\n",
      "(33, 34]      29\n",
      "(34, 35]     159\n",
      "(35, 36]     172\n",
      "(36, 37]     208\n",
      "(37, 38]     272\n",
      "(38, 39]    2114\n",
      "(39, 40]     536\n",
      "(40, 41]     360\n",
      "(41, 42]     205\n",
      "(42, 43]      87\n",
      "(43, 44]      23\n",
      "(44, 45]       6\n",
      "(45, 46]       0\n",
      "Name: prglngth, dtype: int64\n"
     ]
    },
    {
     "data": {
      "image/png": "[encoded data removed]",
      "text/plain": [
       "<Figure size 432x288 with 1 Axes>"
      ]
     },
     "metadata": {
      "needs_background": "light"
     },
     "output_type": "display_data"
    }
   ],
   "source": [
    "preglngth = pd.cut(first_born['prglngth'], bins).value_counts().sort_index()\n",
    "\n",
    "print(preglngth)\n",
    "\n",
    "plt.hist(first_born['prglngth'], bins = 13);\n",
    "plt.xlabel(\"Pregnancy Duration (in Weeks)\")\n",
    "plt.ylabel(\"Count\");\n",
    "plt.title(\"Duration of First Pregnancies\");"
   ]
  },
  {
   "cell_type": "code",
   "execution_count": 6,
   "metadata": {},
   "outputs": [
    {
     "name": "stdout",
     "output_type": "stream",
     "text": [
      "(32, 33]      21\n",
      "(33, 34]      31\n",
      "(34, 35]     152\n",
      "(35, 36]     149\n",
      "(36, 37]     247\n",
      "(37, 38]     335\n",
      "(38, 39]    2579\n",
      "(39, 40]     580\n",
      "(40, 41]     227\n",
      "(41, 42]     123\n",
      "(42, 43]      61\n",
      "(43, 44]      23\n",
      "(44, 45]       4\n",
      "(45, 46]       0\n",
      "Name: prglngth, dtype: int64\n"
     ]
    },
    {
     "data": {
      "image/png": "[encoded data removed]",
      "text/plain": [
       "<Figure size 432x288 with 1 Axes>"
      ]
     },
     "metadata": {
      "needs_background": "light"
     },
     "output_type": "display_data"
    }
   ],
   "source": [
    "preglngth = pd.cut(others['prglngth'], bins).value_counts().sort_index()\n",
    "\n",
    "print(preglngth)\n",
    "\n",
    "plt.hist(others['prglngth'], bins = 13);\n",
    "plt.xlabel(\"Pregnancy Duration (in Weeks)\")\n",
    "plt.ylabel(\"Count\");\n",
    "plt.title(\"Duration of Other Pregnancies\");"
   ]
  },
  {
   "cell_type": "markdown",
   "metadata": {},
   "source": [
    "`We can see that the data is almost identical from the graphics. But graphics can sometimes be misleading. Let's see what the averages look like. "
   ]
  },
  {
   "cell_type": "code",
   "execution_count": 7,
   "metadata": {},
   "outputs": [
    {
     "name": "stdout",
     "output_type": "stream",
     "text": [
      "First-born children average: 39.052\n",
      "Other children  average: 38.916\n",
      "Difference: 0.135\n",
      "Difference (in hours): 22.731\n"
     ]
    }
   ],
   "source": [
    "first_born_average = first_born['prglngth'].mean()\n",
    "other_average = others['prglngth'].mean()\n",
    "print(\"First-born children average: {:.3f}\".format(first_born_average))\n",
    "print(\"Other children  average: {:.3f}\".format(other_average))\n",
    "print(\"Difference: {:.3f}\".format(first_born_average-other_average))\n",
    "print(\"Difference (in hours): {:.3f}\".format((first_born_average-other_average) * 168))"
   ]
  },
  {
   "cell_type": "markdown",
   "metadata": {},
   "source": [
    "We can see from our data that there really isn't much of a difference between pregnancy durations between first children and other children based on these statistics. If you're still not satisfied, we can perform Cohen's d statistic, which is an even better way to analyze whether or not there is a statistical difference between two groups."
   ]
  },
  {
   "cell_type": "code",
   "execution_count": 8,
   "metadata": {},
   "outputs": [],
   "source": [
    "def CohenEffectSize(group1, group2):\n",
    "    \"\"\"Computes Cohen's effect size for two groups.\n",
    "    \n",
    "    group1: Series or DataFrame\n",
    "    group2: Series or DataFrame\n",
    "    \n",
    "    returns: float if the arguments are Series;\n",
    "             Series if the arguments are DataFrames\n",
    "    \"\"\"\n",
    "    diff = group1.mean() - group2.mean()\n",
    "\n",
    "    var1 = group1.var()\n",
    "    var2 = group2.var()\n",
    "    n1, n2 = len(group1), len(group2)\n",
    "\n",
    "    pooled_var = (n1 * var1 + n2 * var2) / (n1 + n2)\n",
    "    d = diff / np.sqrt(pooled_var)\n",
    "    return d"
   ]
  },
  {
   "cell_type": "code",
   "execution_count": 9,
   "metadata": {},
   "outputs": [
    {
     "data": {
      "text/plain": [
       "0.08193086412590274"
      ]
     },
     "execution_count": 9,
     "metadata": {},
     "output_type": "execute_result"
    }
   ],
   "source": [
    "CohenEffectSize(first_born['prglngth'], others['prglngth'])"
   ]
  },
  {
   "cell_type": "markdown",
   "metadata": {},
   "source": [
    "The Cohen efficient we got is very small. To put it in perspective, a value of 0.2 would show a small significance, so there is almost no differences between the two groups.\n",
    "\n",
    "We can say with reasonable confidence that there is no significant difference in pregnancy durations between first and non-first children. Hope that was enlightening!\n",
    "\n",
    "Mike H."
   ]
  },
  {
   "cell_type": "markdown",
   "metadata": {},
   "source": [
    "## Exercise 2-4"
   ]
  },
  {
   "cell_type": "markdown",
   "metadata": {},
   "source": [
    "#### Using the variable `totalwgt_lb`, investigate whether first babies are lighter or heavier that others. Compute Cohen's d to quantify the difference between the groups. How does it compare to the difference in pregnancy length?"
   ]
  },
  {
   "cell_type": "code",
   "execution_count": 10,
   "metadata": {},
   "outputs": [
    {
     "name": "stdout",
     "output_type": "stream",
     "text": [
      "7.341619489279692\n",
      "1.2294052393683446\n",
      "1.5114372425863367\n"
     ]
    }
   ],
   "source": [
    "print(first_born[\"totalwgt_lb\"].mean())\n",
    "print(first_born[\"totalwgt_lb\"].std())\n",
    "print(first_born[\"totalwgt_lb\"].var())"
   ]
  },
  {
   "cell_type": "code",
   "execution_count": 11,
   "metadata": {},
   "outputs": [
    {
     "name": "stdout",
     "output_type": "stream",
     "text": [
      "7.449589568907751\n",
      "1.2314362751842967\n",
      "1.5164352998397745\n"
     ]
    }
   ],
   "source": [
    "print(others[\"totalwgt_lb\"].mean())\n",
    "print(others[\"totalwgt_lb\"].std())\n",
    "print(others[\"totalwgt_lb\"].var())"
   ]
  },
  {
   "cell_type": "code",
   "execution_count": 12,
   "metadata": {},
   "outputs": [
    {
     "data": {
      "text/plain": [
       "-0.08774774291002119"
      ]
     },
     "execution_count": 12,
     "metadata": {},
     "output_type": "execute_result"
    }
   ],
   "source": [
    "CohenEffectSize(first_born[\"totalwgt_lb\"],others[\"totalwgt_lb\"])"
   ]
  },
  {
   "cell_type": "markdown",
   "metadata": {},
   "source": [
    "From this data, there is no strong proof that first born children weight more than subsequent children. The Cohen's d value for this statistic is almost identical to the statistic that compared pregnancy lengths, indicating that any data that may show some correlation is just caused by statistical noise."
   ]
  }
 ],
 "metadata": {
  "kernelspec": {
   "display_name": "Python 3",
   "language": "python",
   "name": "python3"
  },
  "language_info": {
   "codemirror_mode": {
    "name": "ipython",
    "version": 3
   },
   "file_extension": ".py",
   "mimetype": "text/x-python",
   "name": "python",
   "nbconvert_exporter": "python",
   "pygments_lexer": "ipython3",
   "version": "3.7.4"
  }
 },
 "nbformat": 4,
 "nbformat_minor": 1
}
