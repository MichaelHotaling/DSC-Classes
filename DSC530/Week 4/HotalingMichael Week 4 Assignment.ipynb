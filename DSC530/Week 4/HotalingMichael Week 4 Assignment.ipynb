{
 "cells": [
  {
   "cell_type": "markdown",
   "metadata": {},
   "source": [
    "# Week 4 Homework <br> Hotaling, Michael <br> 2020-09-22"
   ]
  },
  {
   "cell_type": "code",
   "execution_count": 1,
   "metadata": {},
   "outputs": [],
   "source": [
    "from __future__ import print_function, division\n",
    "\n",
    "%matplotlib inline\n",
    "\n",
    "import numpy as np\n",
    "\n",
    "import nsfg\n",
    "import first\n",
    "import thinkstats2\n",
    "import thinkplot\n",
    "import numpy as np\n",
    "import pandas as pd\n",
    "import matplotlib.pyplot as plt"
   ]
  },
  {
   "cell_type": "markdown",
   "metadata": {
    "collapsed": true
   },
   "source": [
    "## Exercises 3-1"
   ]
  },
  {
   "cell_type": "markdown",
   "metadata": {},
   "source": [
    "Something like the class size paradox appears if you survey children and ask how many children are in their family. Families with many children are more likely to appear in your sample, and families with no children have no chance to be in the sample.\n",
    "\n",
    "Use the NSFG respondent variable `numkdhh` to construct the actual distribution for the number of children under 18 in the respondents' households.\n",
    "\n",
    "Now compute the biased distribution we would see if we surveyed the children and asked them how many children under 18 (including themselves) are in their household.\n",
    "\n",
    "Plot the actual and biased distributions, and compute their means."
   ]
  },
  {
   "cell_type": "code",
   "execution_count": 2,
   "metadata": {},
   "outputs": [],
   "source": [
    "resp = nsfg.ReadFemResp()"
   ]
  },
  {
   "cell_type": "code",
   "execution_count": 3,
   "metadata": {
    "scrolled": true
   },
   "outputs": [
    {
     "name": "stdout",
     "output_type": "stream",
     "text": [
      "numkdhh | count |   pmf | kids per bin | bias  \n",
      "------------------------------------------------\n",
      "0       |  3563 | 0.455 |            0 | 0.00000 \n",
      "1       |  1636 | 0.209 |         1636 | 0.20897 \n",
      "2       |  1500 | 0.192 |         3000 | 0.38319 \n",
      "3       |   666 | 0.085 |         1998 | 0.25521 \n",
      "4       |   196 | 0.025 |          784 | 0.10014 \n",
      "5       |    82 | 0.010 |          410 | 0.05237 \n",
      "------------------------------------------------\n"
     ]
    }
   ],
   "source": [
    "n = resp['numkdhh'].value_counts(dropna = False).sort_index()\n",
    "total = sum(resp['numkdhh'])\n",
    "summer = 0 \n",
    "averager = 1\n",
    "kids_per_bin_dict = dict()\n",
    "pmf_dict = dict()\n",
    "bias_dict = dict()\n",
    "\n",
    "print(\"{:<7} | {:>5} | {:>5} | {:>12} | {:<5} \".format(\"numkdhh\",\"count\",\"pmf\", \"kids per bin\", \"bias\"))\n",
    "print(\"------------------------------------------------\")\n",
    "for key, value in n.items():\n",
    "    averager += value * key\n",
    "    pmf_dict[key] = value/total\n",
    "    kids_per_bin_dict[key] = key * value\n",
    "    \n",
    "for key, value in n.items():\n",
    "    bias = key * value / averager\n",
    "    bias_dict[key] = bias\n",
    "    print(\"{:<7} | {:>5} | {:>5.3f} | {:>12} | {:<5.5f} \".format(key,value, pmf_dict[key], key * value, bias))    \n",
    "print(\"------------------------------------------------\")"
   ]
  },
  {
   "cell_type": "code",
   "execution_count": 4,
   "metadata": {},
   "outputs": [
    {
     "data": {
      "image/png": "[encoded data removed]",
      "text/plain": [
       "<Figure size 432x288 with 1 Axes>"
      ]
     },
     "metadata": {
      "needs_background": "light"
     },
     "output_type": "display_data"
    }
   ],
   "source": [
    "plt.bar(x = pmf_dict.keys(), color = \"blue\", fill = \"black\", height = pmf_dict.values(), width = 0.9);\n",
    "plt.xlabel(\"Number of Children Per Household\")\n",
    "plt.ylabel(\"PMF\");"
   ]
  },
  {
   "cell_type": "code",
   "execution_count": 5,
   "metadata": {},
   "outputs": [
    {
     "data": {
      "image/png": "[encoded data removed]",
      "text/plain": [
       "<Figure size 432x288 with 1 Axes>"
      ]
     },
     "metadata": {
      "needs_background": "light"
     },
     "output_type": "display_data"
    }
   ],
   "source": [
    "plt.bar(x = bias_dict.keys(), color = \"cyan\", height = bias_dict.values(), width = 0.9)\n",
    "plt.xlabel(\"Number of Children Per Household\")\n",
    "plt.ylabel(\"Bias PMF\");"
   ]
  },
  {
   "cell_type": "code",
   "execution_count": 6,
   "metadata": {},
   "outputs": [
    {
     "data": {
      "text/plain": [
       "2.403679100664282"
      ]
     },
     "execution_count": 6,
     "metadata": {},
     "output_type": "execute_result"
    }
   ],
   "source": [
    "#biased mean\n",
    "\n",
    "summer = 0\n",
    "for key, value in n.items():\n",
    "    summer += (key * value) * key\n",
    "summer / sum(resp['numkdhh'])"
   ]
  },
  {
   "cell_type": "code",
   "execution_count": 7,
   "metadata": {},
   "outputs": [
    {
     "data": {
      "text/plain": [
       "1.024205155043831"
      ]
     },
     "execution_count": 7,
     "metadata": {},
     "output_type": "execute_result"
    }
   ],
   "source": [
    "# pmf mean\n",
    "\n",
    "summer = 0\n",
    "for i in resp['numkdhh']:\n",
    "    summer += i\n",
    "summer / len(resp['numkdhh'])"
   ]
  },
  {
   "cell_type": "markdown",
   "metadata": {},
   "source": [
    "## Exercise 3-2"
   ]
  },
  {
   "cell_type": "code",
   "execution_count": 8,
   "metadata": {},
   "outputs": [],
   "source": [
    "def pmf_mean(dictionary):\n",
    "    \n",
    "    summer = 0\n",
    "    total = 0\n",
    "    for key, value in dictionary.items():\n",
    "        summer += value\n",
    "        total += 1\n",
    "    avg = summer/total\n",
    "    return avg\n",
    "\n",
    "def pmf_var(dictionary):\n",
    "    mean = pmf_mean(dictionary)\n",
    "    summer = 0\n",
    "    total = 0\n",
    "    for key, value in dictionary.items():\n",
    "        summer += (value - mean) ** 2\n",
    "        total += 1\n",
    "    avg = summer/total\n",
    "    return avg\n"
   ]
  },
  {
   "cell_type": "code",
   "execution_count": 9,
   "metadata": {
    "scrolled": false
   },
   "outputs": [
    {
     "data": {
      "text/plain": [
       "1.024205155043831"
      ]
     },
     "execution_count": 9,
     "metadata": {},
     "output_type": "execute_result"
    }
   ],
   "source": [
    "pmf_mean(resp['numkdhh'])"
   ]
  },
  {
   "cell_type": "code",
   "execution_count": 10,
   "metadata": {},
   "outputs": [
    {
     "data": {
      "text/plain": [
       "1.024205155043831"
      ]
     },
     "execution_count": 10,
     "metadata": {},
     "output_type": "execute_result"
    }
   ],
   "source": [
    "thinkstats2.Pmf(resp['numkdhh'], label='numkdhh').Mean()"
   ]
  },
  {
   "cell_type": "code",
   "execution_count": 11,
   "metadata": {
    "scrolled": true
   },
   "outputs": [
    {
     "data": {
      "text/plain": [
       "1.412864326353"
      ]
     },
     "execution_count": 11,
     "metadata": {},
     "output_type": "execute_result"
    }
   ],
   "source": [
    "round(pmf_var(resp['numkdhh']),12) # I need to round to match the thinkstats variance calculation"
   ]
  },
  {
   "cell_type": "code",
   "execution_count": 12,
   "metadata": {},
   "outputs": [
    {
     "data": {
      "text/plain": [
       "1.412864326353"
      ]
     },
     "execution_count": 12,
     "metadata": {},
     "output_type": "execute_result"
    }
   ],
   "source": [
    "round(thinkstats2.Pmf(resp['numkdhh'], label='numkdhh').Var(),12)"
   ]
  },
  {
   "cell_type": "markdown",
   "metadata": {},
   "source": [
    "## Exercise 4-1"
   ]
  },
  {
   "cell_type": "markdown",
   "metadata": {},
   "source": [
    "How much did you weigh at birth? If you don’t know, call your mother or someone else who knows. Using the NSFG data (all live births), compute the distribution of birth weights and use it to find your percentile rank. If you were a first baby, find your percentile rank in the distribution for first babies. Otherwise use the distribution for others. If you are in the 90th percentile or higher, call your mother back and apologize."
   ]
  },
  {
   "cell_type": "markdown",
   "metadata": {},
   "source": [
    "I weighted **8 pounds, 8.5 ounces** and I was the first born"
   ]
  },
  {
   "cell_type": "code",
   "execution_count": 13,
   "metadata": {},
   "outputs": [],
   "source": [
    "preg = nsfg.ReadFemPreg()\n",
    "preg = preg[preg['birthord'] == 1]"
   ]
  },
  {
   "cell_type": "code",
   "execution_count": 14,
   "metadata": {},
   "outputs": [
    {
     "data": {
      "image/png": "[encoded data removed]",
      "text/plain": [
       "<Figure size 432x288 with 1 Axes>"
      ]
     },
     "metadata": {
      "needs_background": "light"
     },
     "output_type": "display_data"
    }
   ],
   "source": [
    "bins = np.linspace(preg['totalwgt_lb'].min(), preg['totalwgt_lb'].max(),50)\n",
    "\n",
    "data = pd.cut(preg['totalwgt_lb'], bins = bins).value_counts().sort_index()\n",
    "\n",
    "key_data = []\n",
    "value_data = []\n",
    "for key, value in data.items():\n",
    "    key_data.append(str(key))\n",
    "    value_data.append(value)\n",
    "\n",
    "plt.hist(x = preg['totalwgt_lb'], color = \"red\", bins = bins, cumulative = False, density = True);"
   ]
  },
  {
   "cell_type": "code",
   "execution_count": 15,
   "metadata": {},
   "outputs": [
    {
     "data": {
      "image/png": "[encoded data removed]",
      "text/plain": [
       "<Figure size 432x288 with 1 Axes>"
      ]
     },
     "metadata": {
      "needs_background": "light"
     },
     "output_type": "display_data"
    }
   ],
   "source": [
    "plt.hist(x = preg['totalwgt_lb'], color = \"red\", bins = bins, cumulative = True, density = True );"
   ]
  },
  {
   "cell_type": "code",
   "execution_count": 16,
   "metadata": {
    "scrolled": false
   },
   "outputs": [],
   "source": [
    "\n",
    "def percentile_weight(input, dict, percent_return = False):\n",
    "    \n",
    "    # In order for us filter out the NaN values, we can do this. It's a little over complicated\n",
    "    entries = 0\n",
    "    for key, values in dict.items():\n",
    "        try:\n",
    "            int(values)\n",
    "            entries += 1\n",
    "        except:\n",
    "            pass\n",
    "    number_of_values_lower = 0\n",
    "    for key, values in dict.items():\n",
    "        if values < input:\n",
    "            number_of_values_lower += 1\n",
    "    if percent_return == False:\n",
    "        return number_of_values_lower/entries\n",
    "    else: \n",
    "        return 100 * number_of_values_lower/entries \n"
   ]
  },
  {
   "cell_type": "code",
   "execution_count": 17,
   "metadata": {},
   "outputs": [
    {
     "data": {
      "text/plain": [
       "85.90419436167774"
      ]
     },
     "execution_count": 17,
     "metadata": {},
     "output_type": "execute_result"
    }
   ],
   "source": [
    "percentile_weight(8.53125, preg['totalwgt_lb'], percent_return=True)"
   ]
  },
  {
   "cell_type": "code",
   "execution_count": 18,
   "metadata": {},
   "outputs": [
    {
     "data": {
      "text/plain": [
       "37.034434293745605"
      ]
     },
     "execution_count": 18,
     "metadata": {},
     "output_type": "execute_result"
    }
   ],
   "source": [
    "# My younger brother\n",
    "preg = nsfg.ReadFemPreg()\n",
    "preg = preg[preg['birthord'] == 2]\n",
    "percentile_weight(7.0625, preg['totalwgt_lb'], percent_return=True)"
   ]
  },
  {
   "cell_type": "markdown",
   "metadata": {},
   "source": [
    "## Exercise 4-2"
   ]
  },
  {
   "cell_type": "markdown",
   "metadata": {},
   "source": [
    "The numbers generated by `numpy.random.random` are supposed to be uniform between 0 and 1; that is, every value in the range should have the same probability.\n",
    "\n",
    "Generate 1000 numbers from `numpy.random.random` and plot their PMF.  What goes wrong?\n",
    "\n",
    "Now plot the CDF. Is the distribution uniform?"
   ]
  },
  {
   "cell_type": "code",
   "execution_count": 19,
   "metadata": {},
   "outputs": [
    {
     "name": "stdout",
     "output_type": "stream",
     "text": [
      "(0.0, 0.1]    104\n",
      "(0.1, 0.2]     96\n",
      "(0.2, 0.3]    101\n",
      "(0.3, 0.4]    123\n",
      "(0.4, 0.5]     98\n",
      "(0.5, 0.6]     82\n",
      "(0.6, 0.7]    106\n",
      "(0.7, 0.8]     97\n",
      "(0.8, 0.9]     81\n",
      "(0.9, 1.0]    112\n",
      "dtype: int64\n"
     ]
    },
    {
     "data": {
      "image/png": "[encoded data removed]",
      "text/plain": [
       "<Figure size 432x288 with 1 Axes>"
      ]
     },
     "metadata": {
      "needs_background": "light"
     },
     "output_type": "display_data"
    }
   ],
   "source": [
    "my_random_numbers = np.random.random(1000)\n",
    "my_bins = np.linspace(0,1,11)\n",
    "\n",
    "binned_data = pd.cut(my_random_numbers, bins = my_bins).value_counts().sort_index()\n",
    "print(binned_data)\n",
    "\n",
    "plt.hist(x = my_random_numbers, width = 0.09);"
   ]
  },
  {
   "cell_type": "code",
   "execution_count": 20,
   "metadata": {},
   "outputs": [],
   "source": [
    "rand_pmf = {}\n",
    "start = 0\n",
    "for key, value in binned_data.items():\n",
    "    rand_pmf[round(start,2)] = round(value/len(my_random_numbers),3)\n",
    "    start += 0.1"
   ]
  },
  {
   "cell_type": "code",
   "execution_count": 21,
   "metadata": {},
   "outputs": [
    {
     "data": {
      "image/png": "[encoded data removed]",
      "text/plain": [
       "<Figure size 432x288 with 1 Axes>"
      ]
     },
     "metadata": {
      "needs_background": "light"
     },
     "output_type": "display_data"
    }
   ],
   "source": [
    "plt.bar(x = rand_pmf.keys(),height = rand_pmf.values(), width = 0.09);"
   ]
  },
  {
   "cell_type": "code",
   "execution_count": 22,
   "metadata": {},
   "outputs": [
    {
     "name": "stdout",
     "output_type": "stream",
     "text": [
      "0 - 0.1\n",
      "0.1 - 0.2\n",
      "0.2 - 0.3\n",
      "0.3 - 0.42\n",
      "0.4 - 0.52\n",
      "0.5 - 0.6\n",
      "0.6 - 0.71\n",
      "0.7 - 0.81\n",
      "0.8 - 0.89\n",
      "0.9 - 1.0\n"
     ]
    }
   ],
   "source": [
    "rand_cmf = {}\n",
    "start = 0\n",
    "cmf_adder = 0\n",
    "for key, value in rand_pmf.items():\n",
    "    cmf_adder += value\n",
    "    rand_cmf[round(start,3)] = round(cmf_adder,2)\n",
    "    print(key,\"-\", rand_cmf[key])\n",
    "    start += 0.1"
   ]
  },
  {
   "cell_type": "code",
   "execution_count": 23,
   "metadata": {},
   "outputs": [
    {
     "data": {
      "image/png": "[encoded data removed]",
      "text/plain": [
       "<Figure size 432x288 with 1 Axes>"
      ]
     },
     "metadata": {
      "needs_background": "light"
     },
     "output_type": "display_data"
    }
   ],
   "source": [
    "plt.bar(x = rand_cmf.keys(), height = rand_cmf.values(), width = 0.09);"
   ]
  },
  {
   "cell_type": "markdown",
   "metadata": {},
   "source": [
    "Increasing bin size helps smooth the line"
   ]
  },
  {
   "cell_type": "code",
   "execution_count": 24,
   "metadata": {
    "scrolled": false
   },
   "outputs": [
    {
     "data": {
      "image/png": "[encoded data removed]",
      "text/plain": [
       "<Figure size 432x288 with 1 Axes>"
      ]
     },
     "metadata": {
      "needs_background": "light"
     },
     "output_type": "display_data"
    }
   ],
   "source": [
    "plt.hist(x = my_random_numbers, cumulative=True, density=True, bins = 1000);"
   ]
  },
  {
   "cell_type": "markdown",
   "metadata": {},
   "source": [
    "The CDF for the random number generation is a straight line, indicating the data is uniform"
   ]
  }
 ],
 "metadata": {
  "kernelspec": {
   "display_name": "Python 3",
   "language": "python",
   "name": "python3"
  },
  "language_info": {
   "codemirror_mode": {
    "name": "ipython",
    "version": 3
   },
   "file_extension": ".py",
   "mimetype": "text/x-python",
   "name": "python",
   "nbconvert_exporter": "python",
   "pygments_lexer": "ipython3",
   "version": "3.7.1"
  }
 },
 "nbformat": 4,
 "nbformat_minor": 1
}
