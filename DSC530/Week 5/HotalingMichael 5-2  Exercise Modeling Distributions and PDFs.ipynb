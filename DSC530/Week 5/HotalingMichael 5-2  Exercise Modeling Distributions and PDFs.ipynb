{
 "cells": [
  {
   "cell_type": "markdown",
   "metadata": {},
   "source": [
    "### Week 5 <br> Hotaling, Michael <br> 2020-09-28"
   ]
  },
  {
   "cell_type": "markdown",
   "metadata": {},
   "source": [
    "### Exercise 5-1\n",
    "In the BRFSS (seee \"The lognormal Distribution\" on page 56), the distribution of heights is roughly normal with parameters $\\mu$ = 178cm and $\\sigma$ = 7.7cm for men and  $\\mu$ = 163cm and $\\sigma$ = 7.3cm for women <br> In order to join [*Blue Man Group*](http://bluemancasting.com), you have to be male and between 5'10\" and 6'1\" tall. What percentage of the US male population is in this range?\n"
   ]
  },
  {
   "cell_type": "code",
   "execution_count": 1,
   "metadata": {},
   "outputs": [],
   "source": [
    "import matplotlib.pyplot as plt\n",
    "import numpy as np\n",
    "import pandas as pd\n",
    "import scipy.stats as ss\n",
    "import math"
   ]
  },
  {
   "cell_type": "markdown",
   "metadata": {},
   "source": [
    "### Analytical Approach"
   ]
  },
  {
   "cell_type": "code",
   "execution_count": 2,
   "metadata": {},
   "outputs": [
    {
     "name": "stdout",
     "output_type": "stream",
     "text": [
      "Min height is 177.8 cm\n",
      "Max height is 185.42 cm\n"
     ]
    }
   ],
   "source": [
    "def feet_to_cm(measurement):\n",
    "    lst = measurement.split(\"'\")\n",
    "    length = 0\n",
    "    try:\n",
    "        length += (int(lst[0]) * 30.48)\n",
    "\n",
    "        length += int(lst[1]) * 2.54\n",
    "    except:\n",
    "        pass\n",
    "    return length\n",
    "\n",
    "min_height = \"5'10\"\n",
    "max_height = \"6'1\"\n",
    "\n",
    "min_height = feet_to_cm(min_height)\n",
    "max_height = feet_to_cm(max_height)\n",
    "print(\"Min height is\",min_height,\"cm\")\n",
    "print(\"Max height is\",max_height, \"cm\")"
   ]
  },
  {
   "cell_type": "code",
   "execution_count": 3,
   "metadata": {},
   "outputs": [],
   "source": [
    "avg_height = 178\n",
    "std_height = 7.7\n",
    "distribution = ss.norm(loc=avg_height, scale=std_height)"
   ]
  },
  {
   "cell_type": "code",
   "execution_count": 4,
   "metadata": {},
   "outputs": [
    {
     "name": "stdout",
     "output_type": "stream",
     "text": [
      "The percentage of the US male population between 177.8 cm and 185.42 cm is 34.2747 %\n"
     ]
    }
   ],
   "source": [
    "up_to_min = distribution.cdf(min_height)\n",
    "up_to_max = distribution.cdf(max_height)\n",
    "\n",
    "pop_in_range = (up_to_max - up_to_min) * 100\n",
    "print(\"The percentage of the US male population between\",min_height,\"cm and\",max_height,\"cm is\",round(pop_in_range,4),\"%\")"
   ]
  },
  {
   "cell_type": "markdown",
   "metadata": {},
   "source": [
    "### Simulated Approach"
   ]
  },
  {
   "cell_type": "code",
   "execution_count": 5,
   "metadata": {},
   "outputs": [
    {
     "name": "stdout",
     "output_type": "stream",
     "text": [
      "\n",
      "The percentage of the US male population between 177.8 cm and 185.42 cm is 34.2788 %\n"
     ]
    }
   ],
   "source": [
    "heights = np.random.normal(loc = avg_height, scale = std_height, size = 1 * (10 ** 7))\n",
    "\n",
    "'''\n",
    "I've always been told arrays are much faster, so maybe I'm using them incorrectly. This can barely run \n",
    "\n",
    "in_range = np.array([])\n",
    "in_range_bins = np.array([])\n",
    "\n",
    "for i in heights:\n",
    "    if min_height < i < max_height:\n",
    "        in_range = np.append(in_range,1)\n",
    "        in_range_bins = np.append(in_range_bins,i)\n",
    "    else:\n",
    "        in_range = np.append(in_range,0)\n",
    "\n",
    "'''\n",
    "\n",
    "in_range = []\n",
    "in_range_bins = []\n",
    "\n",
    "for i in heights:\n",
    "    if min_height < i < max_height:\n",
    "        in_range.append(1)\n",
    "        in_range_bins.append(i)\n",
    "    else:\n",
    "        in_range.append(0)\n",
    "        \n",
    "        \n",
    "num_of_bins = 500\n",
    "\n",
    "bins = np.linspace(140,220, num_of_bins + 1 )\n",
    "\n",
    "heights_binned = pd.cut(heights,bins).value_counts()\n",
    "in_range_binned =pd.cut(in_range_bins, bins).value_counts()\n",
    "\n",
    "heights_prob = heights_binned/heights_binned.sum()\n",
    "in_range_prob = in_range_binned/heights_binned.sum()\n",
    "\n",
    "percent_in_range = (sum(in_range)/len(heights)) * 100\n",
    "\n",
    "print(\"\\nThe percentage of the US male population between\",min_height,\"cm and\",max_height,\"cm is\",round(percent_in_range,4),\"%\")"
   ]
  },
  {
   "cell_type": "code",
   "execution_count": 6,
   "metadata": {},
   "outputs": [
    {
     "data": {
      "image/png": "[encoded data removed]",
      "text/plain": [
       "<Figure size 432x288 with 1 Axes>"
      ]
     },
     "metadata": {
      "needs_background": "light"
     },
     "output_type": "display_data"
    }
   ],
   "source": [
    "plt.bar(x = np.linspace(140,220, num_of_bins), height = heights_binned, width = 2, color = 'orange');\n",
    "plt.bar(x = np.linspace(140,220, num_of_bins), height = in_range_binned, width = 2, color = 'blue');"
   ]
  },
  {
   "cell_type": "code",
   "execution_count": 7,
   "metadata": {},
   "outputs": [
    {
     "data": {
      "image/png": "[encoded data removed]",
      "text/plain": [
       "<Figure size 432x288 with 1 Axes>"
      ]
     },
     "metadata": {
      "needs_background": "light"
     },
     "output_type": "display_data"
    }
   ],
   "source": [
    "plt.bar(x = np.linspace(140,220, num_of_bins), height = heights_prob, width = 2, color = 'orange')\n",
    "plt.bar(x = np.linspace(140,220, num_of_bins), height = in_range_prob, width = 2, color = 'blue');"
   ]
  },
  {
   "cell_type": "markdown",
   "metadata": {},
   "source": [
    "### Exercise 5-2\n",
    "To get a feel for the Pareto distribution, let's see how different the world would be if the distribution of heights were Pareto. With the parameters $x_m$ = 1 m and $\\alpha$ = 1.7, we get a distribution with a reasonable minimum, 1 m and median 1.5 m. <br>\n",
    "<br>\n",
    "**Plot this distribution**.    "
   ]
  },
  {
   "cell_type": "markdown",
   "metadata": {},
   "source": [
    "### Mathematical Approach"
   ]
  },
  {
   "cell_type": "code",
   "execution_count": 8,
   "metadata": {},
   "outputs": [
    {
     "data": {
      "image/png": "[encoded data removed]",
      "text/plain": [
       "<Figure size 432x288 with 1 Axes>"
      ]
     },
     "metadata": {
      "needs_background": "light"
     },
     "output_type": "display_data"
    }
   ],
   "source": [
    "x_min = 1\n",
    "alpha = 1.7\n",
    "\n",
    "pareto_dist = ss.pareto(b=alpha, scale=x_min)\n",
    "\n",
    "samples = np.linspace(1,5,1000)\n",
    "output = pareto_dist.pdf(samples)\n",
    "plt.bar(x = samples, height = output, width = 0.03);"
   ]
  },
  {
   "cell_type": "code",
   "execution_count": 9,
   "metadata": {},
   "outputs": [
    {
     "data": {
      "image/png": "[encoded data removed]",
      "text/plain": [
       "<Figure size 432x288 with 1 Axes>"
      ]
     },
     "metadata": {
      "needs_background": "light"
     },
     "output_type": "display_data"
    }
   ],
   "source": [
    "output = pareto_dist.cdf(samples)\n",
    "plt.bar(x = samples, height = output, width = 0.03);"
   ]
  },
  {
   "cell_type": "markdown",
   "metadata": {},
   "source": [
    "What is the mean human height in Pareto world?"
   ]
  },
  {
   "cell_type": "code",
   "execution_count": 10,
   "metadata": {},
   "outputs": [
    {
     "data": {
      "text/plain": [
       "2.428571428571429"
      ]
     },
     "execution_count": 10,
     "metadata": {},
     "output_type": "execute_result"
    }
   ],
   "source": [
    "pareto_dist.mean()"
   ]
  },
  {
   "cell_type": "markdown",
   "metadata": {},
   "source": [
    "What fraction of the population is shorter than the mean?"
   ]
  },
  {
   "cell_type": "code",
   "execution_count": 11,
   "metadata": {},
   "outputs": [
    {
     "data": {
      "text/plain": [
       "0.778739697565288"
      ]
     },
     "execution_count": 11,
     "metadata": {},
     "output_type": "execute_result"
    }
   ],
   "source": [
    "pareto_dist.cdf(pareto_dist.mean())"
   ]
  },
  {
   "cell_type": "markdown",
   "metadata": {},
   "source": [
    "If there are 7 billion people in Pareto world, how many people do we expect to be taller than 1 km."
   ]
  },
  {
   "cell_type": "code",
   "execution_count": 12,
   "metadata": {},
   "outputs": [
    {
     "data": {
      "text/plain": [
       "55603"
      ]
     },
     "execution_count": 12,
     "metadata": {},
     "output_type": "execute_result"
    }
   ],
   "source": [
    "round((1 - pareto_dist.cdf(1000)) * (7 * (10 ** 9)))"
   ]
  },
  {
   "cell_type": "markdown",
   "metadata": {},
   "source": [
    "How tall do we expect the tallest person to be?"
   ]
  },
  {
   "cell_type": "code",
   "execution_count": 13,
   "metadata": {},
   "outputs": [
    {
     "data": {
      "text/plain": [
       "618349.6106759505"
      ]
     },
     "execution_count": 13,
     "metadata": {},
     "output_type": "execute_result"
    }
   ],
   "source": [
    "pareto_dist.ppf(1 - 1/(7 * (10 ** 9)))"
   ]
  },
  {
   "cell_type": "markdown",
   "metadata": {},
   "source": [
    "### Simulation Approach"
   ]
  },
  {
   "cell_type": "code",
   "execution_count": 14,
   "metadata": {},
   "outputs": [],
   "source": [
    "max_height = 0\n",
    "avg_height = 0\n",
    "\n",
    "# Due to memory constraints, I need to run the code below 70 times to simulate 7B people\n",
    "\n",
    "for i in range(1,71):\n",
    "    par = np.random.pareto(a = alpha, size = 1 * (10 ** 8))  + x_min\n",
    "    local_mean = np.mean(par)\n",
    "    avg_height += local_mean\n",
    "    local_max = np.max(par)\n",
    "    if local_max > max_height:\n",
    "        max_height = local_max\n",
    "avg_height /= 70"
   ]
  },
  {
   "cell_type": "code",
   "execution_count": 15,
   "metadata": {},
   "outputs": [
    {
     "name": "stdout",
     "output_type": "stream",
     "text": [
      "Average height in Pareto World is 2.4284692598121302\n",
      "Median height in Pareto World is 1.5033126482075698\n",
      "Minimum height in Pareto World is 1.000000000252944\n",
      "The tallest person in Pareto World is  409057.1108080779 meters tall\n"
     ]
    }
   ],
   "source": [
    "print(\"Average height in Pareto World is\",avg_height)\n",
    "print(\"Median height in Pareto World is\",np.median(par))\n",
    "print(\"Minimum height in Pareto World is\",np.min(par))\n",
    "print(\"The tallest person in Pareto World is \",max_height,\"meters tall\")"
   ]
  },
  {
   "cell_type": "markdown",
   "metadata": {},
   "source": [
    "### Exercise 6-1\n",
    "The distribution of income is famously skewed to the right. In this exercise, we’ll measure how strong that skew is.\n",
    "The Current Population Survey (CPS) is a joint effort of the Bureau of Labor Statistics and the Census Bureau to study income and related variables. Data collected in 2013 is available from http://www.census.gov/hhes/www/cpstables/032013/hhinc/toc.htm. I downloaded `hinc06.xls`, which is an Excel spreadsheet with information about household income, and converted it to `hinc06.csv`, a CSV file you will find in the repository for this book. You will also find `hinc2.py`, which reads this file and transforms the data.\n",
    "\n",
    "The dataset is in the form of a series of income ranges and the number of respondents who fell in each range. The lowest range includes respondents who reported annual household income 'Under \\\\$5000.'The highest range includes respondents who made '\\\\$250,000 or more'.\n",
    "\n",
    "To estimate mean and other statistics from these data, we have to make some assumptions about the lower and upper bounds, and how the values are distributed in each range. `hinc2.py` provides `InterpolateSample`, which shows one way to model this data. It takes a `DataFrame` with a column, `income`, that contains the upper bound of each range, and `freq`, which contains the number of respondents in each frame.\n",
    "\n",
    "It also takes `log_upper`, which is an assumed upper bound on the highest range, expressed in `log10` dollars. The default value, `log_upper=6.0` represents the assumption that the largest income among the respondents is $10^6$, or one million dollars.\n",
    "\n",
    "`InterpolateSample` generates a pseudo-sample; that is, a sample of household incomes that yields the same number of respondents in each range as the actual data. It assumes that incomes in each range are equally spaced on a `log10` scale."
   ]
  },
  {
   "cell_type": "code",
   "execution_count": 16,
   "metadata": {},
   "outputs": [],
   "source": [
    "import hinc\n",
    "import hinc2"
   ]
  },
  {
   "cell_type": "markdown",
   "metadata": {},
   "source": [
    "We will first import the data using the ThinkStats function ReadData in hinc."
   ]
  },
  {
   "cell_type": "code",
   "execution_count": 17,
   "metadata": {
    "scrolled": false
   },
   "outputs": [],
   "source": [
    "income_df = hinc.ReadData(filename='hinc06.csv')"
   ]
  },
  {
   "cell_type": "markdown",
   "metadata": {},
   "source": [
    "We can check the data structure using head and tail"
   ]
  },
  {
   "cell_type": "code",
   "execution_count": 18,
   "metadata": {},
   "outputs": [
    {
     "name": "stdout",
     "output_type": "stream",
     "text": [
      "    income  freq  cumsum        ps\n",
      "0   4999.0  4204    4204  0.034330\n",
      "1   9999.0  4729    8933  0.072947\n",
      "2  14999.0  6982   15915  0.129963\n",
      "3  19999.0  7157   23072  0.188407\n",
      "4  24999.0  7131   30203  0.246640\n",
      "      income  freq  cumsum        ps\n",
      "37  189999.0   364  116188  0.948799\n",
      "38  194999.0   432  116620  0.952327\n",
      "39  199999.0   378  116998  0.955413\n",
      "40  249999.0  2549  119547  0.976229\n",
      "41       inf  2911  122458  1.000000\n",
      "<class 'pandas.core.frame.DataFrame'>\n",
      "RangeIndex: 42 entries, 0 to 41\n",
      "Data columns (total 4 columns):\n",
      " #   Column  Non-Null Count  Dtype  \n",
      "---  ------  --------------  -----  \n",
      " 0   income  42 non-null     float64\n",
      " 1   freq    42 non-null     int64  \n",
      " 2   cumsum  42 non-null     int64  \n",
      " 3   ps      42 non-null     float64\n",
      "dtypes: float64(2), int64(2)\n",
      "memory usage: 1.4 KB\n"
     ]
    }
   ],
   "source": [
    "print(income_df.head(5))\n",
    "print(income_df.tail(5))\n",
    "income_df.info()"
   ]
  },
  {
   "cell_type": "markdown",
   "metadata": {},
   "source": [
    "We can experiment with the data a little before analyzing it. Let's create an array of values based on the income and frequency. Since there is an \"inf\" value on the last row, we will exclude it for this experiment"
   ]
  },
  {
   "cell_type": "code",
   "execution_count": 19,
   "metadata": {},
   "outputs": [],
   "source": [
    "split_data = []\n",
    "for i, j in zip(income_df['income'].iloc[0:41], income_df['freq']):\n",
    "    for k in range (1, j + 1):\n",
    "        split_data.append(i)\n",
    "        \n",
    "incomes = np.array(split_data)"
   ]
  },
  {
   "cell_type": "code",
   "execution_count": 20,
   "metadata": {},
   "outputs": [
    {
     "data": {
      "image/png": "[encoded data removed]",
      "text/plain": [
       "<Figure size 432x288 with 1 Axes>"
      ]
     },
     "metadata": {
      "needs_background": "light"
     },
     "output_type": "display_data"
    }
   ],
   "source": [
    "plt.hist(incomes, bins = 50);"
   ]
  },
  {
   "cell_type": "code",
   "execution_count": 21,
   "metadata": {},
   "outputs": [],
   "source": [
    "def InterpolateSample(df, log_lower = 3.0, log_upper=6.0):\n",
    "    df['log_upper'] = np.log10(df['income']) # This will take the log value of each income bracket.\n",
    "    df['log_lower'] = df['log_upper'].shift(1) # This takes the log value from the previous calculation \n",
    "    df.loc[0, 'log_lower'] = log_lower # We need to establish a lower limit for the first bracket. 3 should be fine\n",
    "    df.loc[41, 'log_upper'] = log_upper # Since inf is in the last column, we will need to set an arbitraty limit. We can start with 6\n",
    "\n",
    "    # We can then take the upper and lower limit and the frequencies inside that range to create synthetic incomes. \n",
    "    arrays = []\n",
    "    for _, row in df.iterrows():\n",
    "        vals = np.linspace(row['log_lower'], row['log_upper'], int(row['freq']))\n",
    "        arrays.append(vals)\n",
    "\n",
    "    log_sample = np.concatenate(arrays)\n",
    "    return log_sample"
   ]
  },
  {
   "cell_type": "markdown",
   "metadata": {},
   "source": [
    "This returns an array of log based incomes. We can check the min and max incomes by putting them in our power function. In this simulated universe, the largest income is $1M. This is easily seen when plotting the data in a histogram"
   ]
  },
  {
   "cell_type": "code",
   "execution_count": 22,
   "metadata": {},
   "outputs": [],
   "source": [
    "def log_to_income(log_income):\n",
    "    return 10 ** log_income"
   ]
  },
  {
   "cell_type": "code",
   "execution_count": 23,
   "metadata": {},
   "outputs": [
    {
     "data": {
      "text/plain": [
       "array([3.        , 3.00016628, 3.00033256, ..., 5.99958621, 5.99979311,\n",
       "       6.        ])"
      ]
     },
     "execution_count": 23,
     "metadata": {},
     "output_type": "execute_result"
    }
   ],
   "source": [
    "log_sample = InterpolateSample(income_df, log_upper=6.0)\n",
    "log_sample"
   ]
  },
  {
   "cell_type": "code",
   "execution_count": 24,
   "metadata": {},
   "outputs": [
    {
     "name": "stdout",
     "output_type": "stream",
     "text": [
      "1000.0\n",
      "1000000.0\n"
     ]
    }
   ],
   "source": [
    "print(log_to_income(log_sample).min())\n",
    "print(log_to_income(log_sample).max())"
   ]
  },
  {
   "cell_type": "code",
   "execution_count": 25,
   "metadata": {},
   "outputs": [
    {
     "data": {
      "image/png": "[encoded data removed]",
      "text/plain": [
       "<Figure size 432x288 with 1 Axes>"
      ]
     },
     "metadata": {
      "needs_background": "light"
     },
     "output_type": "display_data"
    }
   ],
   "source": [
    "plt.hist(log_to_income(log_sample), bins = 100);"
   ]
  },
  {
   "cell_type": "code",
   "execution_count": 26,
   "metadata": {},
   "outputs": [
    {
     "data": {
      "image/png": "[encoded data removed]",
      "text/plain": [
       "<Figure size 432x288 with 1 Axes>"
      ]
     },
     "metadata": {
      "needs_background": "light"
     },
     "output_type": "display_data"
    }
   ],
   "source": [
    "plt.hist(log_sample, bins = 100, cumulative=True, density = True);\n",
    "plt.title(\"CDF Plot of Log Sample with log_max set to 6\");"
   ]
  },
  {
   "cell_type": "markdown",
   "metadata": {},
   "source": [
    "**Compute the median**"
   ]
  },
  {
   "cell_type": "code",
   "execution_count": 27,
   "metadata": {},
   "outputs": [],
   "source": [
    "normalized_incomes = log_to_income(log_sample)"
   ]
  },
  {
   "cell_type": "code",
   "execution_count": 28,
   "metadata": {},
   "outputs": [
    {
     "name": "stdout",
     "output_type": "stream",
     "text": [
      "Income Median: $51,226.93\n"
     ]
    }
   ],
   "source": [
    "print(\"Income Median: ${:,.2f}\".format(np.median(normalized_incomes)))"
   ]
  },
  {
   "cell_type": "markdown",
   "metadata": {},
   "source": [
    "**Compute the mean**"
   ]
  },
  {
   "cell_type": "code",
   "execution_count": 29,
   "metadata": {},
   "outputs": [
    {
     "name": "stdout",
     "output_type": "stream",
     "text": [
      "Income Mean: $74,278.71\n"
     ]
    }
   ],
   "source": [
    "print(\"Income Mean: ${:,.2f}\".format(np.mean(normalized_incomes)))"
   ]
  },
  {
   "cell_type": "markdown",
   "metadata": {},
   "source": [
    "**Compute the skewness**"
   ]
  },
  {
   "cell_type": "code",
   "execution_count": 30,
   "metadata": {},
   "outputs": [
    {
     "name": "stdout",
     "output_type": "stream",
     "text": [
      "Calculated Skew: 4.9499\n"
     ]
    }
   ],
   "source": [
    "print(\"Calculated Skew: {:.4f}\".format(ss.skew(normalized_incomes)))"
   ]
  },
  {
   "cell_type": "markdown",
   "metadata": {},
   "source": [
    "**Compute the Pearson's skewness** "
   ]
  },
  {
   "cell_type": "code",
   "execution_count": 31,
   "metadata": {},
   "outputs": [],
   "source": [
    "def pearson_median_skew(array):\n",
    "    median = np.median(array)\n",
    "    mean = np.mean(array)\n",
    "    std = np.std(array)\n",
    "    pms = 3 * (mean - median) / std\n",
    "    return pms"
   ]
  },
  {
   "cell_type": "code",
   "execution_count": 32,
   "metadata": {},
   "outputs": [
    {
     "name": "stdout",
     "output_type": "stream",
     "text": [
      "Pearson Median Skewness: 0.7361\n"
     ]
    }
   ],
   "source": [
    "print(\"Pearson Median Skewness: {:.4f}\".format(pearson_median_skew(normalized_incomes)))"
   ]
  },
  {
   "cell_type": "markdown",
   "metadata": {},
   "source": [
    "**What fraction of households reports a taxable income below the mean?**"
   ]
  },
  {
   "cell_type": "code",
   "execution_count": 33,
   "metadata": {},
   "outputs": [
    {
     "name": "stdout",
     "output_type": "stream",
     "text": [
      "Percentage of Households under National Average: 66.00%\n"
     ]
    }
   ],
   "source": [
    "income_mean = np.mean(normalized_incomes)\n",
    "\n",
    "lower_than_mean = []\n",
    "for i in normalized_incomes:\n",
    "    if i < income_mean:\n",
    "        lower_than_mean.append(i)\n",
    "        \n",
    "print(\"Percentage of Households under National Average: {:.2f}%\".format(100 * (len(lower_than_mean) / len(normalized_incomes))))"
   ]
  },
  {
   "cell_type": "markdown",
   "metadata": {},
   "source": [
    "**How do the results depend on the assumed upper bound?**"
   ]
  },
  {
   "cell_type": "code",
   "execution_count": 34,
   "metadata": {},
   "outputs": [],
   "source": [
    "mean_measurements = []\n",
    "median_measurements = []\n",
    "skew_measurements = []\n",
    "pearson_measurements = []\n",
    "\n",
    "upper_range = 11\n",
    "range_list = np.linspace(5,upper_range,50)\n",
    "\n",
    "for i in range_list:\n",
    "    log_sample = InterpolateSample(income_df, log_upper=i)\n",
    "    sample = log_to_income(log_sample)\n",
    "    mean_measurements.append(sample.mean())\n",
    "    median_measurements.append(np.median(sample))\n",
    "    skew_measurements.append(ss.skew(sample))\n",
    "    pearson_measurements.append(pearson_median_skew(sample))"
   ]
  },
  {
   "cell_type": "markdown",
   "metadata": {},
   "source": [
    "As our upper bound increases, our mean household income raises exponentially. When the upper bound reaches 11, that means that our richest person has an income of $100B"
   ]
  },
  {
   "cell_type": "code",
   "execution_count": 35,
   "metadata": {},
   "outputs": [
    {
     "data": {
      "image/png": "[encoded data removed]",
      "text/plain": [
       "<Figure size 432x288 with 1 Axes>"
      ]
     },
     "metadata": {
      "needs_background": "light"
     },
     "output_type": "display_data"
    }
   ],
   "source": [
    "plt.plot(range_list,mean_measurements);\n",
    "plt.scatter(range_list,mean_measurements);\n",
    "plt.title(\"Average Household Income as Upper Bound of Income Increases\");"
   ]
  },
  {
   "cell_type": "markdown",
   "metadata": {},
   "source": [
    "As the upper bound increases, the median income of each household remains the same. This is expected because we aren't changing the number of households sampled, so the middle value will always remain constant"
   ]
  },
  {
   "cell_type": "code",
   "execution_count": 36,
   "metadata": {},
   "outputs": [
    {
     "data": {
      "image/png": "[encoded data removed]",
      "text/plain": [
       "<Figure size 432x288 with 1 Axes>"
      ]
     },
     "metadata": {
      "needs_background": "light"
     },
     "output_type": "display_data"
    }
   ],
   "source": [
    "plt.plot(range_list,median_measurements);\n",
    "plt.scatter(range_list,median_measurements);\n",
    "plt.title(\"Median Household Income as Upper Bound of Income Increases\");"
   ]
  },
  {
   "cell_type": "markdown",
   "metadata": {},
   "source": [
    "As we increase the value of the top earners, the skewness increases, since the tail of our histogram gets longer and longer."
   ]
  },
  {
   "cell_type": "code",
   "execution_count": 37,
   "metadata": {},
   "outputs": [
    {
     "data": {
      "image/png": "[encoded data removed]",
      "text/plain": [
       "<Figure size 432x288 with 1 Axes>"
      ]
     },
     "metadata": {
      "needs_background": "light"
     },
     "output_type": "display_data"
    }
   ],
   "source": [
    "plt.plot(range_list,skew_measurements);\n",
    "plt.scatter(range_list,skew_measurements);\n",
    "plt.title(\"Household Income Skew vs Upper Bound of Income\");"
   ]
  },
  {
   "cell_type": "markdown",
   "metadata": {},
   "source": [
    "**Pearson Median Skew** <br>As the upper bound of the top income earners increases, the Pearson Median Skew somewhat unintuitively decreases. This is due to the fact that the standard deviation increases much more quickly than the household average. I plotted out what the equation looks like below to give a better understanding of what's going on inside the equation"
   ]
  },
  {
   "cell_type": "code",
   "execution_count": 38,
   "metadata": {},
   "outputs": [
    {
     "data": {
      "image/png": "[encoded data removed]",
      "text/plain": [
       "<Figure size 432x288 with 1 Axes>"
      ]
     },
     "metadata": {
      "needs_background": "light"
     },
     "output_type": "display_data"
    }
   ],
   "source": [
    "plt.plot(range_list,pearson_measurements);\n",
    "plt.scatter(range_list,pearson_measurements);\n",
    "plt.title(\"Pearson Median Skew as Upper Bound of Income Increases\");"
   ]
  },
  {
   "cell_type": "code",
   "execution_count": 39,
   "metadata": {
    "scrolled": true
   },
   "outputs": [
    {
     "name": "stdout",
     "output_type": "stream",
     "text": [
      "For log_max == 5:\n",
      " 3 * (65309.00 - 51226.93) / 52150.98 = 0.81\n",
      "\n",
      "For log_max == 6:\n",
      " 3 * (74278.71 - 51226.93) / 93946.93 = 0.74\n",
      "\n",
      "For log_max == 7:\n",
      " 3 * (124267.40 - 51226.93) / 559608.50 = 0.39\n",
      "\n",
      "For log_max == 8:\n",
      " 3 * (457453.49 - 51226.93) / 4434938.61 = 0.27\n",
      "\n",
      "For log_max == 9:\n",
      " 3 * (2929881.91 - 51226.93) / 37789632.01 = 0.23\n",
      "\n",
      "For log_max == 10:\n",
      " 3 * (22526983.87 - 51226.93) / 334705384.90 = 0.20\n",
      "\n"
     ]
    }
   ],
   "source": [
    "for i in np.arange(5,11):\n",
    "    log_sample = InterpolateSample(income_df, log_upper=i)\n",
    "    sample = log_to_income(log_sample)\n",
    "    print(\"For log_max == {}:\\n 3 * ({:.2f} - {:.2f}) / {:.2f} = {:.2f}\\n\"\n",
    "          .format(i,np.mean(sample), \n",
    "                  np.median(sample), \n",
    "                  np.std(sample), \n",
    "                  pearson_median_skew(sample)))"
   ]
  }
 ],
 "metadata": {
  "kernelspec": {
   "display_name": "Python 3",
   "language": "python",
   "name": "python3"
  },
  "language_info": {
   "codemirror_mode": {
    "name": "ipython",
    "version": 3
   },
   "file_extension": ".py",
   "mimetype": "text/x-python",
   "name": "python",
   "nbconvert_exporter": "python",
   "pygments_lexer": "ipython3",
   "version": "3.7.4"
  }
 },
 "nbformat": 4,
 "nbformat_minor": 4
}
