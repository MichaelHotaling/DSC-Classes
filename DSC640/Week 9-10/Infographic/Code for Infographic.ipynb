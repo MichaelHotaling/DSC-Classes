{
 "cells": [
  {
   "cell_type": "code",
   "execution_count": 31,
   "metadata": {},
   "outputs": [],
   "source": [
    "library(ggplot2)\n",
    "library(readxl)\n",
    "library(dplyr)\n",
    "library(tidyr)\n",
    "library(patchwork)\n",
    "library(reshape2)\n",
    "library(ggplot2)\n",
    "library(dplyr)\n",
    "library(ggrepel)\n",
    "library(scales)\n",
    "library(plotly)\n",
    "library(htmlwidgets)\n",
    "library(ggwordcloud)\n",
    "library(webshot)"
   ]
  },
  {
   "cell_type": "code",
   "execution_count": 2,
   "metadata": {},
   "outputs": [],
   "source": [
    "flights <- read_excel(\"number_of_flights_per_year.xlsx\")\n",
    "incidents <- read_excel(\"number_of_incidents_and_deaths.xlsx\")\n",
    "passengers <- read.csv(\"flights_csv.csv\")"
   ]
  },
  {
   "cell_type": "code",
   "execution_count": 3,
   "metadata": {},
   "outputs": [
    {
     "data": {
      "text/html": [
       "<table>\n",
       "<thead><tr><th scope=col>Year</th><th scope=col>Vehicles</th></tr></thead>\n",
       "<tbody>\n",
       "\t<tr><td>2000    </td><td>1.162544</td></tr>\n",
       "\t<tr><td>2001    </td><td>1.179505</td></tr>\n",
       "\t<tr><td>2002    </td><td>1.209187</td></tr>\n",
       "\t<tr><td>2003    </td><td>1.221908</td></tr>\n",
       "\t<tr><td>2004    </td><td>1.234629</td></tr>\n",
       "\t<tr><td>2005    </td><td>1.264311</td></tr>\n",
       "\t<tr><td>2006    </td><td>1.272792</td></tr>\n",
       "\t<tr><td>2007    </td><td>1.277032</td></tr>\n",
       "\t<tr><td>2008    </td><td>1.289753</td></tr>\n",
       "\t<tr><td>2009    </td><td>1.298233</td></tr>\n",
       "\t<tr><td>2010    </td><td>1.310954</td></tr>\n",
       "\t<tr><td>2011    </td><td>1.323675</td></tr>\n",
       "\t<tr><td>2012    </td><td>1.323675</td></tr>\n",
       "\t<tr><td>2013    </td><td>1.323675</td></tr>\n",
       "\t<tr><td>2014    </td><td>1.332155</td></tr>\n",
       "\t<tr><td>2015    </td><td>1.344876</td></tr>\n",
       "\t<tr><td>2016    </td><td>1.370318</td></tr>\n",
       "</tbody>\n",
       "</table>\n"
      ],
      "text/latex": [
       "\\begin{tabular}{r|ll}\n",
       " Year & Vehicles\\\\\n",
       "\\hline\n",
       "\t 2000     & 1.162544\\\\\n",
       "\t 2001     & 1.179505\\\\\n",
       "\t 2002     & 1.209187\\\\\n",
       "\t 2003     & 1.221908\\\\\n",
       "\t 2004     & 1.234629\\\\\n",
       "\t 2005     & 1.264311\\\\\n",
       "\t 2006     & 1.272792\\\\\n",
       "\t 2007     & 1.277032\\\\\n",
       "\t 2008     & 1.289753\\\\\n",
       "\t 2009     & 1.298233\\\\\n",
       "\t 2010     & 1.310954\\\\\n",
       "\t 2011     & 1.323675\\\\\n",
       "\t 2012     & 1.323675\\\\\n",
       "\t 2013     & 1.323675\\\\\n",
       "\t 2014     & 1.332155\\\\\n",
       "\t 2015     & 1.344876\\\\\n",
       "\t 2016     & 1.370318\\\\\n",
       "\\end{tabular}\n"
      ],
      "text/markdown": [
       "\n",
       "| Year | Vehicles |\n",
       "|---|---|\n",
       "| 2000     | 1.162544 |\n",
       "| 2001     | 1.179505 |\n",
       "| 2002     | 1.209187 |\n",
       "| 2003     | 1.221908 |\n",
       "| 2004     | 1.234629 |\n",
       "| 2005     | 1.264311 |\n",
       "| 2006     | 1.272792 |\n",
       "| 2007     | 1.277032 |\n",
       "| 2008     | 1.289753 |\n",
       "| 2009     | 1.298233 |\n",
       "| 2010     | 1.310954 |\n",
       "| 2011     | 1.323675 |\n",
       "| 2012     | 1.323675 |\n",
       "| 2013     | 1.323675 |\n",
       "| 2014     | 1.332155 |\n",
       "| 2015     | 1.344876 |\n",
       "| 2016     | 1.370318 |\n",
       "\n"
      ],
      "text/plain": [
       "   Year Vehicles\n",
       "1  2000 1.162544\n",
       "2  2001 1.179505\n",
       "3  2002 1.209187\n",
       "4  2003 1.221908\n",
       "5  2004 1.234629\n",
       "6  2005 1.264311\n",
       "7  2006 1.272792\n",
       "8  2007 1.277032\n",
       "9  2008 1.289753\n",
       "10 2009 1.298233\n",
       "11 2010 1.310954\n",
       "12 2011 1.323675\n",
       "13 2012 1.323675\n",
       "14 2013 1.323675\n",
       "15 2014 1.332155\n",
       "16 2015 1.344876\n",
       "17 2016 1.370318"
      ]
     },
     "metadata": {},
     "output_type": "display_data"
    }
   ],
   "source": [
    "cars <- read_excel(\"vehicle fatalities.xlsx\")\n",
    "names(cars) <- c('Year','Vehicles')\n",
    "cars"
   ]
  },
  {
   "cell_type": "code",
   "execution_count": 4,
   "metadata": {},
   "outputs": [],
   "source": [
    "df <- merge(flights,incidents, on ='Year')\n",
    "df <- merge(df, passengers, on = 'Year')\n",
    "\n",
    "df <- merge(df, cars, on = 'Year', all.x = TRUE)\n",
    "names(df) <- c(\"Year\",'Flights','Deaths','Incidents', 'Passengers','Year2','Vehicles')\n",
    "df <- select(df, -Year2)\n",
    "df$Passengers <-round(df$Passengers,2)"
   ]
  },
  {
   "cell_type": "code",
   "execution_count": 5,
   "metadata": {},
   "outputs": [
    {
     "data": {
      "text/html": [
       "<table>\n",
       "<thead><tr><th></th><th scope=col>Year</th><th scope=col>Flights</th><th scope=col>Deaths</th><th scope=col>Incidents</th><th scope=col>Passengers</th><th scope=col>Vehicles</th></tr></thead>\n",
       "<tbody>\n",
       "\t<tr><th scope=row>7</th><td>2010    </td><td>27.8    </td><td>1130    </td><td>162     </td><td>2.11    </td><td>1.310954</td></tr>\n",
       "\t<tr><th scope=row>8</th><td>2011    </td><td>30.1    </td><td> 828    </td><td>154     </td><td>2.27    </td><td>1.323675</td></tr>\n",
       "\t<tr><th scope=row>9</th><td>2012    </td><td>31.2    </td><td> 800    </td><td>156     </td><td>2.38    </td><td>1.323675</td></tr>\n",
       "\t<tr><th scope=row>10</th><td>2013    </td><td>32.0    </td><td> 459    </td><td>138     </td><td>2.52    </td><td>1.323675</td></tr>\n",
       "\t<tr><th scope=row>11</th><td>2014    </td><td>33.0    </td><td>1328    </td><td>122     </td><td>2.68    </td><td>1.332155</td></tr>\n",
       "\t<tr><th scope=row>12</th><td>2015    </td><td>34.0    </td><td> 898    </td><td>123     </td><td>2.90    </td><td>1.344876</td></tr>\n",
       "\t<tr><th scope=row>13</th><td>2016    </td><td>35.2    </td><td> 629    </td><td>102     </td><td>3.11    </td><td>1.370318</td></tr>\n",
       "\t<tr><th scope=row>14</th><td>2017    </td><td>36.4    </td><td> 399    </td><td>101     </td><td>3.35    </td><td>      NA</td></tr>\n",
       "\t<tr><th scope=row>15</th><td>2018    </td><td>38.1    </td><td>1040    </td><td>113     </td><td>3.61    </td><td>      NA</td></tr>\n",
       "\t<tr><th scope=row>16</th><td>2019    </td><td>38.9    </td><td> 578    </td><td>125     </td><td>3.74    </td><td>      NA</td></tr>\n",
       "</tbody>\n",
       "</table>\n"
      ],
      "text/latex": [
       "\\begin{tabular}{r|llllll}\n",
       "  & Year & Flights & Deaths & Incidents & Passengers & Vehicles\\\\\n",
       "\\hline\n",
       "\t7 & 2010     & 27.8     & 1130     & 162      & 2.11     & 1.310954\\\\\n",
       "\t8 & 2011     & 30.1     &  828     & 154      & 2.27     & 1.323675\\\\\n",
       "\t9 & 2012     & 31.2     &  800     & 156      & 2.38     & 1.323675\\\\\n",
       "\t10 & 2013     & 32.0     &  459     & 138      & 2.52     & 1.323675\\\\\n",
       "\t11 & 2014     & 33.0     & 1328     & 122      & 2.68     & 1.332155\\\\\n",
       "\t12 & 2015     & 34.0     &  898     & 123      & 2.90     & 1.344876\\\\\n",
       "\t13 & 2016     & 35.2     &  629     & 102      & 3.11     & 1.370318\\\\\n",
       "\t14 & 2017     & 36.4     &  399     & 101      & 3.35     &       NA\\\\\n",
       "\t15 & 2018     & 38.1     & 1040     & 113      & 3.61     &       NA\\\\\n",
       "\t16 & 2019     & 38.9     &  578     & 125      & 3.74     &       NA\\\\\n",
       "\\end{tabular}\n"
      ],
      "text/markdown": [
       "\n",
       "| <!--/--> | Year | Flights | Deaths | Incidents | Passengers | Vehicles |\n",
       "|---|---|---|---|---|---|---|\n",
       "| 7 | 2010     | 27.8     | 1130     | 162      | 2.11     | 1.310954 |\n",
       "| 8 | 2011     | 30.1     |  828     | 154      | 2.27     | 1.323675 |\n",
       "| 9 | 2012     | 31.2     |  800     | 156      | 2.38     | 1.323675 |\n",
       "| 10 | 2013     | 32.0     |  459     | 138      | 2.52     | 1.323675 |\n",
       "| 11 | 2014     | 33.0     | 1328     | 122      | 2.68     | 1.332155 |\n",
       "| 12 | 2015     | 34.0     |  898     | 123      | 2.90     | 1.344876 |\n",
       "| 13 | 2016     | 35.2     |  629     | 102      | 3.11     | 1.370318 |\n",
       "| 14 | 2017     | 36.4     |  399     | 101      | 3.35     |       NA |\n",
       "| 15 | 2018     | 38.1     | 1040     | 113      | 3.61     |       NA |\n",
       "| 16 | 2019     | 38.9     |  578     | 125      | 3.74     |       NA |\n",
       "\n"
      ],
      "text/plain": [
       "   Year Flights Deaths Incidents Passengers Vehicles\n",
       "7  2010 27.8    1130   162       2.11       1.310954\n",
       "8  2011 30.1     828   154       2.27       1.323675\n",
       "9  2012 31.2     800   156       2.38       1.323675\n",
       "10 2013 32.0     459   138       2.52       1.323675\n",
       "11 2014 33.0    1328   122       2.68       1.332155\n",
       "12 2015 34.0     898   123       2.90       1.344876\n",
       "13 2016 35.2     629   102       3.11       1.370318\n",
       "14 2017 36.4     399   101       3.35             NA\n",
       "15 2018 38.1    1040   113       3.61             NA\n",
       "16 2019 38.9     578   125       3.74             NA"
      ]
     },
     "metadata": {},
     "output_type": "display_data"
    }
   ],
   "source": [
    "df <- tail(df,10)\n",
    "df"
   ]
  },
  {
   "cell_type": "code",
   "execution_count": 6,
   "metadata": {},
   "outputs": [],
   "source": [
    "f_plot <- ggplot(data = df) + geom_line(aes(x = Year, y = Flights)) +\n",
    "geom_line(aes(x = Year, y = Flights), color = 'cornflowerblue') + \n",
    "geom_text(aes(x = Year, y = Flights, label=Flights), size = 3,color = \"#eeeeee\", vjust = -1) +\n",
    "ylim(20,50) +\n",
    "xlab(\"\")+theme_void() \n",
    "\n",
    "\n",
    "p_plot <- ggplot(data = df) + geom_line(aes(x = Year, y = Passengers)) + \n",
    "geom_line(aes(x = Year, y = Passengers), color = 'cornflowerblue') + \n",
    "geom_text(aes(x = Year, y = Passengers, label=Passengers),size = 3,color = \"#eeeeee\", vjust = -1) +\n",
    "ylim(0,5) +\n",
    "ylab(\"\")+\n",
    "xlab(\"\")+\n",
    "theme_void() \n",
    "\n",
    "d_plot <- ggplot(data = df) + geom_line(aes(x = Year, y = Deaths)) + \n",
    "geom_line(aes(x = Year, y = Deaths), color = 'cornflowerblue') + \n",
    "geom_text(aes(x = Year, y = Deaths, label=Deaths),size = 3,color = \"#eeeeee\", vjust = -1) +\n",
    "ylim(200,2000) +\n",
    "xlab(\"\")+\n",
    "ylab(\"\")+theme_void() \n",
    "\n",
    "\n",
    "i_plot <- ggplot(data = df) + \n",
    "geom_line(aes(x = Year, y = Incidents), color = 'cornflowerblue') + \n",
    "geom_text(aes(x = Year, y = Incidents, label=Incidents),size = 3, color = \"#eeeeee\", vjust = -1) + \n",
    "ylim(90,250) + \n",
    "xlab(\"\")+\n",
    "ylab(\"\")+theme_void() \n"
   ]
  },
  {
   "cell_type": "code",
   "execution_count": 7,
   "metadata": {},
   "outputs": [
    {
     "name": "stderr",
     "output_type": "stream",
     "text": [
      "Saving 6.67 x 6.67 in image\n"
     ]
    },
    {
     "data": {
      "image/png": "[encoded data removed]",
      "text/plain": [
       "plot without title"
      ]
     },
     "metadata": {},
     "output_type": "display_data"
    }
   ],
   "source": [
    "X <- f_plot /p_plot/ i_plot/ d_plot\n",
    "X + ggsave(\"infographic1.png\")"
   ]
  },
  {
   "cell_type": "code",
   "execution_count": 8,
   "metadata": {},
   "outputs": [
    {
     "data": {
      "text/html": [
       "<table>\n",
       "<thead><tr><th></th><th scope=col>Year</th><th scope=col>Flights</th><th scope=col>Deaths</th><th scope=col>Incidents</th><th scope=col>Passengers</th><th scope=col>Vehicles</th></tr></thead>\n",
       "<tbody>\n",
       "\t<tr><th scope=row>7</th><td>2010    </td><td>27.8    </td><td>1130    </td><td>162     </td><td>2.11    </td><td>1.310954</td></tr>\n",
       "\t<tr><th scope=row>8</th><td>2011    </td><td>30.1    </td><td> 828    </td><td>154     </td><td>2.27    </td><td>1.323675</td></tr>\n",
       "\t<tr><th scope=row>9</th><td>2012    </td><td>31.2    </td><td> 800    </td><td>156     </td><td>2.38    </td><td>1.323675</td></tr>\n",
       "\t<tr><th scope=row>10</th><td>2013    </td><td>32.0    </td><td> 459    </td><td>138     </td><td>2.52    </td><td>1.323675</td></tr>\n",
       "\t<tr><th scope=row>11</th><td>2014    </td><td>33.0    </td><td>1328    </td><td>122     </td><td>2.68    </td><td>1.332155</td></tr>\n",
       "\t<tr><th scope=row>12</th><td>2015    </td><td>34.0    </td><td> 898    </td><td>123     </td><td>2.90    </td><td>1.344876</td></tr>\n",
       "\t<tr><th scope=row>13</th><td>2016    </td><td>35.2    </td><td> 629    </td><td>102     </td><td>3.11    </td><td>1.370318</td></tr>\n",
       "\t<tr><th scope=row>14</th><td>2017    </td><td>36.4    </td><td> 399    </td><td>101     </td><td>3.35    </td><td>      NA</td></tr>\n",
       "\t<tr><th scope=row>15</th><td>2018    </td><td>38.1    </td><td>1040    </td><td>113     </td><td>3.61    </td><td>      NA</td></tr>\n",
       "\t<tr><th scope=row>16</th><td>2019    </td><td>38.9    </td><td> 578    </td><td>125     </td><td>3.74    </td><td>      NA</td></tr>\n",
       "</tbody>\n",
       "</table>\n"
      ],
      "text/latex": [
       "\\begin{tabular}{r|llllll}\n",
       "  & Year & Flights & Deaths & Incidents & Passengers & Vehicles\\\\\n",
       "\\hline\n",
       "\t7 & 2010     & 27.8     & 1130     & 162      & 2.11     & 1.310954\\\\\n",
       "\t8 & 2011     & 30.1     &  828     & 154      & 2.27     & 1.323675\\\\\n",
       "\t9 & 2012     & 31.2     &  800     & 156      & 2.38     & 1.323675\\\\\n",
       "\t10 & 2013     & 32.0     &  459     & 138      & 2.52     & 1.323675\\\\\n",
       "\t11 & 2014     & 33.0     & 1328     & 122      & 2.68     & 1.332155\\\\\n",
       "\t12 & 2015     & 34.0     &  898     & 123      & 2.90     & 1.344876\\\\\n",
       "\t13 & 2016     & 35.2     &  629     & 102      & 3.11     & 1.370318\\\\\n",
       "\t14 & 2017     & 36.4     &  399     & 101      & 3.35     &       NA\\\\\n",
       "\t15 & 2018     & 38.1     & 1040     & 113      & 3.61     &       NA\\\\\n",
       "\t16 & 2019     & 38.9     &  578     & 125      & 3.74     &       NA\\\\\n",
       "\\end{tabular}\n"
      ],
      "text/markdown": [
       "\n",
       "| <!--/--> | Year | Flights | Deaths | Incidents | Passengers | Vehicles |\n",
       "|---|---|---|---|---|---|---|\n",
       "| 7 | 2010     | 27.8     | 1130     | 162      | 2.11     | 1.310954 |\n",
       "| 8 | 2011     | 30.1     |  828     | 154      | 2.27     | 1.323675 |\n",
       "| 9 | 2012     | 31.2     |  800     | 156      | 2.38     | 1.323675 |\n",
       "| 10 | 2013     | 32.0     |  459     | 138      | 2.52     | 1.323675 |\n",
       "| 11 | 2014     | 33.0     | 1328     | 122      | 2.68     | 1.332155 |\n",
       "| 12 | 2015     | 34.0     |  898     | 123      | 2.90     | 1.344876 |\n",
       "| 13 | 2016     | 35.2     |  629     | 102      | 3.11     | 1.370318 |\n",
       "| 14 | 2017     | 36.4     |  399     | 101      | 3.35     |       NA |\n",
       "| 15 | 2018     | 38.1     | 1040     | 113      | 3.61     |       NA |\n",
       "| 16 | 2019     | 38.9     |  578     | 125      | 3.74     |       NA |\n",
       "\n"
      ],
      "text/plain": [
       "   Year Flights Deaths Incidents Passengers Vehicles\n",
       "7  2010 27.8    1130   162       2.11       1.310954\n",
       "8  2011 30.1     828   154       2.27       1.323675\n",
       "9  2012 31.2     800   156       2.38       1.323675\n",
       "10 2013 32.0     459   138       2.52       1.323675\n",
       "11 2014 33.0    1328   122       2.68       1.332155\n",
       "12 2015 34.0     898   123       2.90       1.344876\n",
       "13 2016 35.2     629   102       3.11       1.370318\n",
       "14 2017 36.4     399   101       3.35             NA\n",
       "15 2018 38.1    1040   113       3.61             NA\n",
       "16 2019 38.9     578   125       3.74             NA"
      ]
     },
     "metadata": {},
     "output_type": "display_data"
    }
   ],
   "source": [
    "df"
   ]
  },
  {
   "cell_type": "code",
   "execution_count": 9,
   "metadata": {},
   "outputs": [
    {
     "data": {
      "text/html": [
       "<table>\n",
       "<thead><tr><th></th><th scope=col>Year</th><th scope=col>Flights</th><th scope=col>Deaths</th><th scope=col>Incidents</th><th scope=col>Passengers</th><th scope=col>Vehicles</th></tr></thead>\n",
       "<tbody>\n",
       "\t<tr><th scope=row>7</th><td>2010    </td><td>27.8    </td><td>1130    </td><td>162     </td><td>2.11    </td><td>1.310954</td></tr>\n",
       "\t<tr><th scope=row>8</th><td>2011    </td><td>30.1    </td><td> 828    </td><td>154     </td><td>2.27    </td><td>1.323675</td></tr>\n",
       "\t<tr><th scope=row>9</th><td>2012    </td><td>31.2    </td><td> 800    </td><td>156     </td><td>2.38    </td><td>1.323675</td></tr>\n",
       "\t<tr><th scope=row>10</th><td>2013    </td><td>32.0    </td><td> 459    </td><td>138     </td><td>2.52    </td><td>1.323675</td></tr>\n",
       "\t<tr><th scope=row>11</th><td>2014    </td><td>33.0    </td><td>1328    </td><td>122     </td><td>2.68    </td><td>1.332155</td></tr>\n",
       "\t<tr><th scope=row>12</th><td>2015    </td><td>34.0    </td><td> 898    </td><td>123     </td><td>2.90    </td><td>1.344876</td></tr>\n",
       "\t<tr><th scope=row>13</th><td>2016    </td><td>35.2    </td><td> 629    </td><td>102     </td><td>3.11    </td><td>1.370318</td></tr>\n",
       "\t<tr><th scope=row>14</th><td>2017    </td><td>36.4    </td><td> 399    </td><td>101     </td><td>3.35    </td><td>      NA</td></tr>\n",
       "\t<tr><th scope=row>15</th><td>2018    </td><td>38.1    </td><td>1040    </td><td>113     </td><td>3.61    </td><td>      NA</td></tr>\n",
       "\t<tr><th scope=row>16</th><td>2019    </td><td>38.9    </td><td> 578    </td><td>125     </td><td>3.74    </td><td>      NA</td></tr>\n",
       "</tbody>\n",
       "</table>\n"
      ],
      "text/latex": [
       "\\begin{tabular}{r|llllll}\n",
       "  & Year & Flights & Deaths & Incidents & Passengers & Vehicles\\\\\n",
       "\\hline\n",
       "\t7 & 2010     & 27.8     & 1130     & 162      & 2.11     & 1.310954\\\\\n",
       "\t8 & 2011     & 30.1     &  828     & 154      & 2.27     & 1.323675\\\\\n",
       "\t9 & 2012     & 31.2     &  800     & 156      & 2.38     & 1.323675\\\\\n",
       "\t10 & 2013     & 32.0     &  459     & 138      & 2.52     & 1.323675\\\\\n",
       "\t11 & 2014     & 33.0     & 1328     & 122      & 2.68     & 1.332155\\\\\n",
       "\t12 & 2015     & 34.0     &  898     & 123      & 2.90     & 1.344876\\\\\n",
       "\t13 & 2016     & 35.2     &  629     & 102      & 3.11     & 1.370318\\\\\n",
       "\t14 & 2017     & 36.4     &  399     & 101      & 3.35     &       NA\\\\\n",
       "\t15 & 2018     & 38.1     & 1040     & 113      & 3.61     &       NA\\\\\n",
       "\t16 & 2019     & 38.9     &  578     & 125      & 3.74     &       NA\\\\\n",
       "\\end{tabular}\n"
      ],
      "text/markdown": [
       "\n",
       "| <!--/--> | Year | Flights | Deaths | Incidents | Passengers | Vehicles |\n",
       "|---|---|---|---|---|---|---|\n",
       "| 7 | 2010     | 27.8     | 1130     | 162      | 2.11     | 1.310954 |\n",
       "| 8 | 2011     | 30.1     |  828     | 154      | 2.27     | 1.323675 |\n",
       "| 9 | 2012     | 31.2     |  800     | 156      | 2.38     | 1.323675 |\n",
       "| 10 | 2013     | 32.0     |  459     | 138      | 2.52     | 1.323675 |\n",
       "| 11 | 2014     | 33.0     | 1328     | 122      | 2.68     | 1.332155 |\n",
       "| 12 | 2015     | 34.0     |  898     | 123      | 2.90     | 1.344876 |\n",
       "| 13 | 2016     | 35.2     |  629     | 102      | 3.11     | 1.370318 |\n",
       "| 14 | 2017     | 36.4     |  399     | 101      | 3.35     |       NA |\n",
       "| 15 | 2018     | 38.1     | 1040     | 113      | 3.61     |       NA |\n",
       "| 16 | 2019     | 38.9     |  578     | 125      | 3.74     |       NA |\n",
       "\n"
      ],
      "text/plain": [
       "   Year Flights Deaths Incidents Passengers Vehicles\n",
       "7  2010 27.8    1130   162       2.11       1.310954\n",
       "8  2011 30.1     828   154       2.27       1.323675\n",
       "9  2012 31.2     800   156       2.38       1.323675\n",
       "10 2013 32.0     459   138       2.52       1.323675\n",
       "11 2014 33.0    1328   122       2.68       1.332155\n",
       "12 2015 34.0     898   123       2.90       1.344876\n",
       "13 2016 35.2     629   102       3.11       1.370318\n",
       "14 2017 36.4     399   101       3.35             NA\n",
       "15 2018 38.1    1040   113       3.61             NA\n",
       "16 2019 38.9     578   125       3.74             NA"
      ]
     },
     "metadata": {},
     "output_type": "display_data"
    }
   ],
   "source": [
    "#df$Vehicles[is.na(df$Vehicles)]<-mean(df$Vehicles,na.rm=TRUE)\n",
    "df"
   ]
  },
  {
   "cell_type": "code",
   "execution_count": 10,
   "metadata": {},
   "outputs": [],
   "source": [
    "df2 <- df %>% filter(!is.na(Vehicles))\n",
    "\n",
    "fit <- lm(Vehicles ~ Year, data = df2)"
   ]
  },
  {
   "cell_type": "code",
   "execution_count": 11,
   "metadata": {},
   "outputs": [
    {
     "data": {
      "text/html": [
       "<table>\n",
       "<thead><tr><th scope=col>Year</th><th scope=col>Flights</th><th scope=col>Deaths</th><th scope=col>Incidents</th><th scope=col>Passengers</th><th scope=col>Vehicles</th></tr></thead>\n",
       "<tbody>\n",
       "\t<tr><td>2010    </td><td>27.8    </td><td>1130    </td><td>162     </td><td>2.11    </td><td>1.310954</td></tr>\n",
       "\t<tr><td>2011    </td><td>30.1    </td><td> 828    </td><td>154     </td><td>2.27    </td><td>1.323675</td></tr>\n",
       "\t<tr><td>2012    </td><td>31.2    </td><td> 800    </td><td>156     </td><td>2.38    </td><td>1.323675</td></tr>\n",
       "\t<tr><td>2013    </td><td>32.0    </td><td> 459    </td><td>138     </td><td>2.52    </td><td>1.323675</td></tr>\n",
       "\t<tr><td>2014    </td><td>33.0    </td><td>1328    </td><td>122     </td><td>2.68    </td><td>1.332155</td></tr>\n",
       "\t<tr><td>2015    </td><td>34.0    </td><td> 898    </td><td>123     </td><td>2.90    </td><td>1.344876</td></tr>\n",
       "\t<tr><td>2016    </td><td>35.2    </td><td> 629    </td><td>102     </td><td>3.11    </td><td>1.370318</td></tr>\n",
       "</tbody>\n",
       "</table>\n"
      ],
      "text/latex": [
       "\\begin{tabular}{r|llllll}\n",
       " Year & Flights & Deaths & Incidents & Passengers & Vehicles\\\\\n",
       "\\hline\n",
       "\t 2010     & 27.8     & 1130     & 162      & 2.11     & 1.310954\\\\\n",
       "\t 2011     & 30.1     &  828     & 154      & 2.27     & 1.323675\\\\\n",
       "\t 2012     & 31.2     &  800     & 156      & 2.38     & 1.323675\\\\\n",
       "\t 2013     & 32.0     &  459     & 138      & 2.52     & 1.323675\\\\\n",
       "\t 2014     & 33.0     & 1328     & 122      & 2.68     & 1.332155\\\\\n",
       "\t 2015     & 34.0     &  898     & 123      & 2.90     & 1.344876\\\\\n",
       "\t 2016     & 35.2     &  629     & 102      & 3.11     & 1.370318\\\\\n",
       "\\end{tabular}\n"
      ],
      "text/markdown": [
       "\n",
       "| Year | Flights | Deaths | Incidents | Passengers | Vehicles |\n",
       "|---|---|---|---|---|---|\n",
       "| 2010     | 27.8     | 1130     | 162      | 2.11     | 1.310954 |\n",
       "| 2011     | 30.1     |  828     | 154      | 2.27     | 1.323675 |\n",
       "| 2012     | 31.2     |  800     | 156      | 2.38     | 1.323675 |\n",
       "| 2013     | 32.0     |  459     | 138      | 2.52     | 1.323675 |\n",
       "| 2014     | 33.0     | 1328     | 122      | 2.68     | 1.332155 |\n",
       "| 2015     | 34.0     |  898     | 123      | 2.90     | 1.344876 |\n",
       "| 2016     | 35.2     |  629     | 102      | 3.11     | 1.370318 |\n",
       "\n"
      ],
      "text/plain": [
       "  Year Flights Deaths Incidents Passengers Vehicles\n",
       "1 2010 27.8    1130   162       2.11       1.310954\n",
       "2 2011 30.1     828   154       2.27       1.323675\n",
       "3 2012 31.2     800   156       2.38       1.323675\n",
       "4 2013 32.0     459   138       2.52       1.323675\n",
       "5 2014 33.0    1328   122       2.68       1.332155\n",
       "6 2015 34.0     898   123       2.90       1.344876\n",
       "7 2016 35.2     629   102       3.11       1.370318"
      ]
     },
     "metadata": {},
     "output_type": "display_data"
    }
   ],
   "source": [
    "df2"
   ]
  },
  {
   "cell_type": "code",
   "execution_count": 12,
   "metadata": {},
   "outputs": [
    {
     "data": {
      "text/html": [
       "<table>\n",
       "<thead><tr><th></th><th scope=col>Year</th><th scope=col>Flights</th><th scope=col>Deaths</th><th scope=col>Incidents</th><th scope=col>Passengers</th><th scope=col>Vehicles</th><th scope=col>var1</th></tr></thead>\n",
       "<tbody>\n",
       "\t<tr><th scope=row>7</th><td>2010    </td><td>27.8    </td><td>1130    </td><td>162     </td><td>2.11    </td><td>1.308228</td><td>1.308228</td></tr>\n",
       "\t<tr><th scope=row>8</th><td>2011    </td><td>30.1    </td><td> 828    </td><td>154     </td><td>2.27    </td><td>1.316406</td><td>1.316406</td></tr>\n",
       "\t<tr><th scope=row>9</th><td>2012    </td><td>31.2    </td><td> 800    </td><td>156     </td><td>2.38    </td><td>1.324584</td><td>1.324584</td></tr>\n",
       "\t<tr><th scope=row>10</th><td>2013    </td><td>32.0    </td><td> 459    </td><td>138     </td><td>2.52    </td><td>1.332761</td><td>1.332761</td></tr>\n",
       "\t<tr><th scope=row>11</th><td>2014    </td><td>33.0    </td><td>1328    </td><td>122     </td><td>2.68    </td><td>1.340939</td><td>1.340939</td></tr>\n",
       "\t<tr><th scope=row>12</th><td>2015    </td><td>34.0    </td><td> 898    </td><td>123     </td><td>2.90    </td><td>1.349117</td><td>1.349117</td></tr>\n",
       "\t<tr><th scope=row>13</th><td>2016    </td><td>35.2    </td><td> 629    </td><td>102     </td><td>3.11    </td><td>1.357294</td><td>1.357294</td></tr>\n",
       "\t<tr><th scope=row>14</th><td>2017    </td><td>36.4    </td><td> 399    </td><td>101     </td><td>3.35    </td><td>1.365472</td><td>1.365472</td></tr>\n",
       "\t<tr><th scope=row>15</th><td>2018    </td><td>38.1    </td><td>1040    </td><td>113     </td><td>3.61    </td><td>1.373650</td><td>1.373650</td></tr>\n",
       "\t<tr><th scope=row>16</th><td>2019    </td><td>38.9    </td><td> 578    </td><td>125     </td><td>3.74    </td><td>1.381827</td><td>1.381827</td></tr>\n",
       "</tbody>\n",
       "</table>\n"
      ],
      "text/latex": [
       "\\begin{tabular}{r|lllllll}\n",
       "  & Year & Flights & Deaths & Incidents & Passengers & Vehicles & var1\\\\\n",
       "\\hline\n",
       "\t7 & 2010     & 27.8     & 1130     & 162      & 2.11     & 1.308228 & 1.308228\\\\\n",
       "\t8 & 2011     & 30.1     &  828     & 154      & 2.27     & 1.316406 & 1.316406\\\\\n",
       "\t9 & 2012     & 31.2     &  800     & 156      & 2.38     & 1.324584 & 1.324584\\\\\n",
       "\t10 & 2013     & 32.0     &  459     & 138      & 2.52     & 1.332761 & 1.332761\\\\\n",
       "\t11 & 2014     & 33.0     & 1328     & 122      & 2.68     & 1.340939 & 1.340939\\\\\n",
       "\t12 & 2015     & 34.0     &  898     & 123      & 2.90     & 1.349117 & 1.349117\\\\\n",
       "\t13 & 2016     & 35.2     &  629     & 102      & 3.11     & 1.357294 & 1.357294\\\\\n",
       "\t14 & 2017     & 36.4     &  399     & 101      & 3.35     & 1.365472 & 1.365472\\\\\n",
       "\t15 & 2018     & 38.1     & 1040     & 113      & 3.61     & 1.373650 & 1.373650\\\\\n",
       "\t16 & 2019     & 38.9     &  578     & 125      & 3.74     & 1.381827 & 1.381827\\\\\n",
       "\\end{tabular}\n"
      ],
      "text/markdown": [
       "\n",
       "| <!--/--> | Year | Flights | Deaths | Incidents | Passengers | Vehicles | var1 |\n",
       "|---|---|---|---|---|---|---|---|\n",
       "| 7 | 2010     | 27.8     | 1130     | 162      | 2.11     | 1.308228 | 1.308228 |\n",
       "| 8 | 2011     | 30.1     |  828     | 154      | 2.27     | 1.316406 | 1.316406 |\n",
       "| 9 | 2012     | 31.2     |  800     | 156      | 2.38     | 1.324584 | 1.324584 |\n",
       "| 10 | 2013     | 32.0     |  459     | 138      | 2.52     | 1.332761 | 1.332761 |\n",
       "| 11 | 2014     | 33.0     | 1328     | 122      | 2.68     | 1.340939 | 1.340939 |\n",
       "| 12 | 2015     | 34.0     |  898     | 123      | 2.90     | 1.349117 | 1.349117 |\n",
       "| 13 | 2016     | 35.2     |  629     | 102      | 3.11     | 1.357294 | 1.357294 |\n",
       "| 14 | 2017     | 36.4     |  399     | 101      | 3.35     | 1.365472 | 1.365472 |\n",
       "| 15 | 2018     | 38.1     | 1040     | 113      | 3.61     | 1.373650 | 1.373650 |\n",
       "| 16 | 2019     | 38.9     |  578     | 125      | 3.74     | 1.381827 | 1.381827 |\n",
       "\n"
      ],
      "text/plain": [
       "   Year Flights Deaths Incidents Passengers Vehicles var1    \n",
       "7  2010 27.8    1130   162       2.11       1.308228 1.308228\n",
       "8  2011 30.1     828   154       2.27       1.316406 1.316406\n",
       "9  2012 31.2     800   156       2.38       1.324584 1.324584\n",
       "10 2013 32.0     459   138       2.52       1.332761 1.332761\n",
       "11 2014 33.0    1328   122       2.68       1.340939 1.340939\n",
       "12 2015 34.0     898   123       2.90       1.349117 1.349117\n",
       "13 2016 35.2     629   102       3.11       1.357294 1.357294\n",
       "14 2017 36.4     399   101       3.35       1.365472 1.365472\n",
       "15 2018 38.1    1040   113       3.61       1.373650 1.373650\n",
       "16 2019 38.9     578   125       3.74       1.381827 1.381827"
      ]
     },
     "metadata": {},
     "output_type": "display_data"
    }
   ],
   "source": [
    "df3 <- df %>% \n",
    "  mutate(Vehicles = predict(fit, .)) %>%\n",
    "  # Replace NA with pred in var1\n",
    "  mutate(var1 = ifelse(is.na(Vehicles), pred, Vehicles))\n",
    "\n",
    "# See the result\n",
    "df3 %>% as.data.frame()"
   ]
  },
  {
   "cell_type": "code",
   "execution_count": 13,
   "metadata": {},
   "outputs": [
    {
     "data": {
      "text/html": [
       "<table>\n",
       "<thead><tr><th></th><th scope=col>Year</th><th scope=col>Flights</th><th scope=col>Deaths</th><th scope=col>Incidents</th><th scope=col>Passengers</th><th scope=col>Vehicles</th></tr></thead>\n",
       "<tbody>\n",
       "\t<tr><th scope=row>7</th><td>2010    </td><td>27.8    </td><td>1130    </td><td>162     </td><td>2.11    </td><td>1.310954</td></tr>\n",
       "\t<tr><th scope=row>8</th><td>2011    </td><td>30.1    </td><td> 828    </td><td>154     </td><td>2.27    </td><td>1.323675</td></tr>\n",
       "\t<tr><th scope=row>9</th><td>2012    </td><td>31.2    </td><td> 800    </td><td>156     </td><td>2.38    </td><td>1.323675</td></tr>\n",
       "\t<tr><th scope=row>10</th><td>2013    </td><td>32.0    </td><td> 459    </td><td>138     </td><td>2.52    </td><td>1.323675</td></tr>\n",
       "\t<tr><th scope=row>11</th><td>2014    </td><td>33.0    </td><td>1328    </td><td>122     </td><td>2.68    </td><td>1.332155</td></tr>\n",
       "\t<tr><th scope=row>12</th><td>2015    </td><td>34.0    </td><td> 898    </td><td>123     </td><td>2.90    </td><td>1.344876</td></tr>\n",
       "\t<tr><th scope=row>13</th><td>2016    </td><td>35.2    </td><td> 629    </td><td>102     </td><td>3.11    </td><td>1.370318</td></tr>\n",
       "\t<tr><th scope=row>14</th><td>2017    </td><td>36.4    </td><td> 399    </td><td>101     </td><td>3.35    </td><td>      NA</td></tr>\n",
       "\t<tr><th scope=row>15</th><td>2018    </td><td>38.1    </td><td>1040    </td><td>113     </td><td>3.61    </td><td>      NA</td></tr>\n",
       "\t<tr><th scope=row>16</th><td>2019    </td><td>38.9    </td><td> 578    </td><td>125     </td><td>3.74    </td><td>      NA</td></tr>\n",
       "</tbody>\n",
       "</table>\n"
      ],
      "text/latex": [
       "\\begin{tabular}{r|llllll}\n",
       "  & Year & Flights & Deaths & Incidents & Passengers & Vehicles\\\\\n",
       "\\hline\n",
       "\t7 & 2010     & 27.8     & 1130     & 162      & 2.11     & 1.310954\\\\\n",
       "\t8 & 2011     & 30.1     &  828     & 154      & 2.27     & 1.323675\\\\\n",
       "\t9 & 2012     & 31.2     &  800     & 156      & 2.38     & 1.323675\\\\\n",
       "\t10 & 2013     & 32.0     &  459     & 138      & 2.52     & 1.323675\\\\\n",
       "\t11 & 2014     & 33.0     & 1328     & 122      & 2.68     & 1.332155\\\\\n",
       "\t12 & 2015     & 34.0     &  898     & 123      & 2.90     & 1.344876\\\\\n",
       "\t13 & 2016     & 35.2     &  629     & 102      & 3.11     & 1.370318\\\\\n",
       "\t14 & 2017     & 36.4     &  399     & 101      & 3.35     &       NA\\\\\n",
       "\t15 & 2018     & 38.1     & 1040     & 113      & 3.61     &       NA\\\\\n",
       "\t16 & 2019     & 38.9     &  578     & 125      & 3.74     &       NA\\\\\n",
       "\\end{tabular}\n"
      ],
      "text/markdown": [
       "\n",
       "| <!--/--> | Year | Flights | Deaths | Incidents | Passengers | Vehicles |\n",
       "|---|---|---|---|---|---|---|\n",
       "| 7 | 2010     | 27.8     | 1130     | 162      | 2.11     | 1.310954 |\n",
       "| 8 | 2011     | 30.1     |  828     | 154      | 2.27     | 1.323675 |\n",
       "| 9 | 2012     | 31.2     |  800     | 156      | 2.38     | 1.323675 |\n",
       "| 10 | 2013     | 32.0     |  459     | 138      | 2.52     | 1.323675 |\n",
       "| 11 | 2014     | 33.0     | 1328     | 122      | 2.68     | 1.332155 |\n",
       "| 12 | 2015     | 34.0     |  898     | 123      | 2.90     | 1.344876 |\n",
       "| 13 | 2016     | 35.2     |  629     | 102      | 3.11     | 1.370318 |\n",
       "| 14 | 2017     | 36.4     |  399     | 101      | 3.35     |       NA |\n",
       "| 15 | 2018     | 38.1     | 1040     | 113      | 3.61     |       NA |\n",
       "| 16 | 2019     | 38.9     |  578     | 125      | 3.74     |       NA |\n",
       "\n"
      ],
      "text/plain": [
       "   Year Flights Deaths Incidents Passengers Vehicles\n",
       "7  2010 27.8    1130   162       2.11       1.310954\n",
       "8  2011 30.1     828   154       2.27       1.323675\n",
       "9  2012 31.2     800   156       2.38       1.323675\n",
       "10 2013 32.0     459   138       2.52       1.323675\n",
       "11 2014 33.0    1328   122       2.68       1.332155\n",
       "12 2015 34.0     898   123       2.90       1.344876\n",
       "13 2016 35.2     629   102       3.11       1.370318\n",
       "14 2017 36.4     399   101       3.35             NA\n",
       "15 2018 38.1    1040   113       3.61             NA\n",
       "16 2019 38.9     578   125       3.74             NA"
      ]
     },
     "metadata": {},
     "output_type": "display_data"
    }
   ],
   "source": [
    "df"
   ]
  },
  {
   "cell_type": "code",
   "execution_count": 14,
   "metadata": {},
   "outputs": [
    {
     "name": "stderr",
     "output_type": "stream",
     "text": [
      "Warning message in regularize.values(x, y, ties, missing(ties)):\n",
      "\"collapsing to unique 'x' values\""
     ]
    }
   ],
   "source": [
    "newvar1<-approx(df$Vehicles, df$Year, xout=df$Year)"
   ]
  },
  {
   "cell_type": "code",
   "execution_count": 15,
   "metadata": {},
   "outputs": [
    {
     "data": {
      "text/plain": [
       "\n",
       "Call:\n",
       "lm(formula = Vehicles ~ Year, data = df2)\n",
       "\n",
       "Residuals:\n",
       "         1          2          3          4          5          6          7 \n",
       " 0.0027259  0.0072691 -0.0009086 -0.0090863 -0.0087834 -0.0042403  0.0130237 \n",
       "\n",
       "Coefficients:\n",
       "              Estimate Std. Error t value Pr(>|t|)   \n",
       "(Intercept) -15.128925   3.438146  -4.400  0.00702 **\n",
       "Year          0.008178   0.001708   4.788  0.00494 **\n",
       "---\n",
       "Signif. codes:  0 '***' 0.001 '**' 0.01 '*' 0.05 '.' 0.1 ' ' 1\n",
       "\n",
       "Residual standard error: 0.009038 on 5 degrees of freedom\n",
       "Multiple R-squared:  0.8209,\tAdjusted R-squared:  0.7851 \n",
       "F-statistic: 22.92 on 1 and 5 DF,  p-value: 0.004936\n"
      ]
     },
     "metadata": {},
     "output_type": "display_data"
    }
   ],
   "source": [
    "df2 <- df %>% filter(!is.na(Vehicles))\n",
    "\n",
    "fit <- lm(Vehicles ~ Year, data = df2)\n",
    "\n",
    "# See the result\n",
    "summary(fit)"
   ]
  },
  {
   "cell_type": "code",
   "execution_count": 27,
   "metadata": {},
   "outputs": [
    {
     "data": {
      "text/html": [
       "<table>\n",
       "<thead><tr><th></th><th scope=col>Year</th><th scope=col>Flights</th><th scope=col>Airline.Casualties</th><th scope=col>Incidents</th><th scope=col>Passengers</th><th scope=col>Vehicle.Casualties</th><th scope=col>x</th><th scope=col>y</th></tr></thead>\n",
       "<tbody>\n",
       "\t<tr><th scope=row>7</th><td>2010    </td><td>27.8    </td><td>1130    </td><td>162     </td><td>2.11    </td><td>1310954 </td><td>1.308228</td><td>1.310954</td></tr>\n",
       "\t<tr><th scope=row>8</th><td>2011    </td><td>30.1    </td><td> 828    </td><td>154     </td><td>2.27    </td><td>1323675 </td><td>1.316406</td><td>1.323675</td></tr>\n",
       "\t<tr><th scope=row>9</th><td>2012    </td><td>31.2    </td><td> 800    </td><td>156     </td><td>2.38    </td><td>1323675 </td><td>1.324584</td><td>1.323675</td></tr>\n",
       "\t<tr><th scope=row>10</th><td>2013    </td><td>32.0    </td><td> 459    </td><td>138     </td><td>2.52    </td><td>1323675 </td><td>1.332761</td><td>1.323675</td></tr>\n",
       "\t<tr><th scope=row>11</th><td>2014    </td><td>33.0    </td><td>1328    </td><td>122     </td><td>2.68    </td><td>1332155 </td><td>1.340939</td><td>1.332155</td></tr>\n",
       "\t<tr><th scope=row>12</th><td>2015    </td><td>34.0    </td><td> 898    </td><td>123     </td><td>2.90    </td><td>1344876 </td><td>1.349117</td><td>1.344876</td></tr>\n",
       "\t<tr><th scope=row>13</th><td>2016    </td><td>35.2    </td><td> 629    </td><td>102     </td><td>3.11    </td><td>1370318 </td><td>1.357294</td><td>1.370318</td></tr>\n",
       "\t<tr><th scope=row>14</th><td>2017    </td><td>36.4    </td><td> 399    </td><td>101     </td><td>3.35    </td><td>1365472 </td><td>1.365472</td><td>1.365472</td></tr>\n",
       "\t<tr><th scope=row>15</th><td>2018    </td><td>38.1    </td><td>1040    </td><td>113     </td><td>3.61    </td><td>1373650 </td><td>1.373650</td><td>1.373650</td></tr>\n",
       "\t<tr><th scope=row>16</th><td>2019    </td><td>38.9    </td><td> 578    </td><td>125     </td><td>3.74    </td><td>1381827 </td><td>1.381827</td><td>1.381827</td></tr>\n",
       "</tbody>\n",
       "</table>\n"
      ],
      "text/latex": [
       "\\begin{tabular}{r|llllllll}\n",
       "  & Year & Flights & Airline.Casualties & Incidents & Passengers & Vehicle.Casualties & x & y\\\\\n",
       "\\hline\n",
       "\t7 & 2010     & 27.8     & 1130     & 162      & 2.11     & 1310954  & 1.308228 & 1.310954\\\\\n",
       "\t8 & 2011     & 30.1     &  828     & 154      & 2.27     & 1323675  & 1.316406 & 1.323675\\\\\n",
       "\t9 & 2012     & 31.2     &  800     & 156      & 2.38     & 1323675  & 1.324584 & 1.323675\\\\\n",
       "\t10 & 2013     & 32.0     &  459     & 138      & 2.52     & 1323675  & 1.332761 & 1.323675\\\\\n",
       "\t11 & 2014     & 33.0     & 1328     & 122      & 2.68     & 1332155  & 1.340939 & 1.332155\\\\\n",
       "\t12 & 2015     & 34.0     &  898     & 123      & 2.90     & 1344876  & 1.349117 & 1.344876\\\\\n",
       "\t13 & 2016     & 35.2     &  629     & 102      & 3.11     & 1370318  & 1.357294 & 1.370318\\\\\n",
       "\t14 & 2017     & 36.4     &  399     & 101      & 3.35     & 1365472  & 1.365472 & 1.365472\\\\\n",
       "\t15 & 2018     & 38.1     & 1040     & 113      & 3.61     & 1373650  & 1.373650 & 1.373650\\\\\n",
       "\t16 & 2019     & 38.9     &  578     & 125      & 3.74     & 1381827  & 1.381827 & 1.381827\\\\\n",
       "\\end{tabular}\n"
      ],
      "text/markdown": [
       "\n",
       "| <!--/--> | Year | Flights | Airline.Casualties | Incidents | Passengers | Vehicle.Casualties | x | y |\n",
       "|---|---|---|---|---|---|---|---|---|\n",
       "| 7 | 2010     | 27.8     | 1130     | 162      | 2.11     | 1310954  | 1.308228 | 1.310954 |\n",
       "| 8 | 2011     | 30.1     |  828     | 154      | 2.27     | 1323675  | 1.316406 | 1.323675 |\n",
       "| 9 | 2012     | 31.2     |  800     | 156      | 2.38     | 1323675  | 1.324584 | 1.323675 |\n",
       "| 10 | 2013     | 32.0     |  459     | 138      | 2.52     | 1323675  | 1.332761 | 1.323675 |\n",
       "| 11 | 2014     | 33.0     | 1328     | 122      | 2.68     | 1332155  | 1.340939 | 1.332155 |\n",
       "| 12 | 2015     | 34.0     |  898     | 123      | 2.90     | 1344876  | 1.349117 | 1.344876 |\n",
       "| 13 | 2016     | 35.2     |  629     | 102      | 3.11     | 1370318  | 1.357294 | 1.370318 |\n",
       "| 14 | 2017     | 36.4     |  399     | 101      | 3.35     | 1365472  | 1.365472 | 1.365472 |\n",
       "| 15 | 2018     | 38.1     | 1040     | 113      | 3.61     | 1373650  | 1.373650 | 1.373650 |\n",
       "| 16 | 2019     | 38.9     |  578     | 125      | 3.74     | 1381827  | 1.381827 | 1.381827 |\n",
       "\n"
      ],
      "text/plain": [
       "   Year Flights Airline.Casualties Incidents Passengers Vehicle.Casualties\n",
       "7  2010 27.8    1130               162       2.11       1310954           \n",
       "8  2011 30.1     828               154       2.27       1323675           \n",
       "9  2012 31.2     800               156       2.38       1323675           \n",
       "10 2013 32.0     459               138       2.52       1323675           \n",
       "11 2014 33.0    1328               122       2.68       1332155           \n",
       "12 2015 34.0     898               123       2.90       1344876           \n",
       "13 2016 35.2     629               102       3.11       1370318           \n",
       "14 2017 36.4     399               101       3.35       1365472           \n",
       "15 2018 38.1    1040               113       3.61       1373650           \n",
       "16 2019 38.9     578               125       3.74       1381827           \n",
       "   x        y       \n",
       "7  1.308228 1.310954\n",
       "8  1.316406 1.323675\n",
       "9  1.324584 1.323675\n",
       "10 1.332761 1.323675\n",
       "11 1.340939 1.332155\n",
       "12 1.349117 1.344876\n",
       "13 1.357294 1.370318\n",
       "14 1.365472 1.365472\n",
       "15 1.373650 1.373650\n",
       "16 1.381827 1.381827"
      ]
     },
     "metadata": {},
     "output_type": "display_data"
    }
   ],
   "source": [
    "df3 <- df %>% \n",
    "  mutate(pred = predict(fit, .)) %>%\n",
    "  # Replace NA with pred in var1\n",
    "  mutate(var1 = ifelse(is.na(Vehicles), pred, Vehicles))\n",
    "\n",
    "df3$Vehicles <- df3$var1*1000000\n",
    "names(df3) <- c('Year','Flights','Airline.Casualties','Incidents','Passengers','Vehicle.Casualties','x','y')\n",
    "df3"
   ]
  },
  {
   "cell_type": "code",
   "execution_count": 28,
   "metadata": {},
   "outputs": [
    {
     "data": {
      "text/html": [
       "<table>\n",
       "<thead><tr><th></th><th scope=col>Year</th><th scope=col>Flights</th><th scope=col>Airline.Casualties</th><th scope=col>Incidents</th><th scope=col>Passengers</th><th scope=col>Vehicle.Casualties</th><th scope=col>x</th><th scope=col>y</th></tr></thead>\n",
       "<tbody>\n",
       "\t<tr><th scope=row>7</th><td>2010    </td><td>27.8    </td><td>1130    </td><td>162     </td><td>2.11    </td><td>1310954 </td><td>1.31    </td><td>1.310954</td></tr>\n",
       "\t<tr><th scope=row>8</th><td>2011    </td><td>30.1    </td><td> 828    </td><td>154     </td><td>2.27    </td><td>1323675 </td><td>1.32    </td><td>1.323675</td></tr>\n",
       "\t<tr><th scope=row>9</th><td>2012    </td><td>31.2    </td><td> 800    </td><td>156     </td><td>2.38    </td><td>1323675 </td><td>1.32    </td><td>1.323675</td></tr>\n",
       "\t<tr><th scope=row>10</th><td>2013    </td><td>32.0    </td><td> 459    </td><td>138     </td><td>2.52    </td><td>1323675 </td><td>1.33    </td><td>1.323675</td></tr>\n",
       "\t<tr><th scope=row>11</th><td>2014    </td><td>33.0    </td><td>1328    </td><td>122     </td><td>2.68    </td><td>1332155 </td><td>1.34    </td><td>1.332155</td></tr>\n",
       "\t<tr><th scope=row>12</th><td>2015    </td><td>34.0    </td><td> 898    </td><td>123     </td><td>2.90    </td><td>1344876 </td><td>1.35    </td><td>1.344876</td></tr>\n",
       "\t<tr><th scope=row>13</th><td>2016    </td><td>35.2    </td><td> 629    </td><td>102     </td><td>3.11    </td><td>1370318 </td><td>1.36    </td><td>1.370318</td></tr>\n",
       "\t<tr><th scope=row>14</th><td>2017    </td><td>36.4    </td><td> 399    </td><td>101     </td><td>3.35    </td><td>1365472 </td><td>1.37    </td><td>1.365472</td></tr>\n",
       "\t<tr><th scope=row>15</th><td>2018    </td><td>38.1    </td><td>1040    </td><td>113     </td><td>3.61    </td><td>1373650 </td><td>1.37    </td><td>1.373650</td></tr>\n",
       "\t<tr><th scope=row>16</th><td>2019    </td><td>38.9    </td><td> 578    </td><td>125     </td><td>3.74    </td><td>1381827 </td><td>1.38    </td><td>1.381827</td></tr>\n",
       "</tbody>\n",
       "</table>\n"
      ],
      "text/latex": [
       "\\begin{tabular}{r|llllllll}\n",
       "  & Year & Flights & Airline.Casualties & Incidents & Passengers & Vehicle.Casualties & x & y\\\\\n",
       "\\hline\n",
       "\t7 & 2010     & 27.8     & 1130     & 162      & 2.11     & 1310954  & 1.31     & 1.310954\\\\\n",
       "\t8 & 2011     & 30.1     &  828     & 154      & 2.27     & 1323675  & 1.32     & 1.323675\\\\\n",
       "\t9 & 2012     & 31.2     &  800     & 156      & 2.38     & 1323675  & 1.32     & 1.323675\\\\\n",
       "\t10 & 2013     & 32.0     &  459     & 138      & 2.52     & 1323675  & 1.33     & 1.323675\\\\\n",
       "\t11 & 2014     & 33.0     & 1328     & 122      & 2.68     & 1332155  & 1.34     & 1.332155\\\\\n",
       "\t12 & 2015     & 34.0     &  898     & 123      & 2.90     & 1344876  & 1.35     & 1.344876\\\\\n",
       "\t13 & 2016     & 35.2     &  629     & 102      & 3.11     & 1370318  & 1.36     & 1.370318\\\\\n",
       "\t14 & 2017     & 36.4     &  399     & 101      & 3.35     & 1365472  & 1.37     & 1.365472\\\\\n",
       "\t15 & 2018     & 38.1     & 1040     & 113      & 3.61     & 1373650  & 1.37     & 1.373650\\\\\n",
       "\t16 & 2019     & 38.9     &  578     & 125      & 3.74     & 1381827  & 1.38     & 1.381827\\\\\n",
       "\\end{tabular}\n"
      ],
      "text/markdown": [
       "\n",
       "| <!--/--> | Year | Flights | Airline.Casualties | Incidents | Passengers | Vehicle.Casualties | x | y |\n",
       "|---|---|---|---|---|---|---|---|---|\n",
       "| 7 | 2010     | 27.8     | 1130     | 162      | 2.11     | 1310954  | 1.31     | 1.310954 |\n",
       "| 8 | 2011     | 30.1     |  828     | 154      | 2.27     | 1323675  | 1.32     | 1.323675 |\n",
       "| 9 | 2012     | 31.2     |  800     | 156      | 2.38     | 1323675  | 1.32     | 1.323675 |\n",
       "| 10 | 2013     | 32.0     |  459     | 138      | 2.52     | 1323675  | 1.33     | 1.323675 |\n",
       "| 11 | 2014     | 33.0     | 1328     | 122      | 2.68     | 1332155  | 1.34     | 1.332155 |\n",
       "| 12 | 2015     | 34.0     |  898     | 123      | 2.90     | 1344876  | 1.35     | 1.344876 |\n",
       "| 13 | 2016     | 35.2     |  629     | 102      | 3.11     | 1370318  | 1.36     | 1.370318 |\n",
       "| 14 | 2017     | 36.4     |  399     | 101      | 3.35     | 1365472  | 1.37     | 1.365472 |\n",
       "| 15 | 2018     | 38.1     | 1040     | 113      | 3.61     | 1373650  | 1.37     | 1.373650 |\n",
       "| 16 | 2019     | 38.9     |  578     | 125      | 3.74     | 1381827  | 1.38     | 1.381827 |\n",
       "\n"
      ],
      "text/plain": [
       "   Year Flights Airline.Casualties Incidents Passengers Vehicle.Casualties x   \n",
       "7  2010 27.8    1130               162       2.11       1310954            1.31\n",
       "8  2011 30.1     828               154       2.27       1323675            1.32\n",
       "9  2012 31.2     800               156       2.38       1323675            1.32\n",
       "10 2013 32.0     459               138       2.52       1323675            1.33\n",
       "11 2014 33.0    1328               122       2.68       1332155            1.34\n",
       "12 2015 34.0     898               123       2.90       1344876            1.35\n",
       "13 2016 35.2     629               102       3.11       1370318            1.36\n",
       "14 2017 36.4     399               101       3.35       1365472            1.37\n",
       "15 2018 38.1    1040               113       3.61       1373650            1.37\n",
       "16 2019 38.9     578               125       3.74       1381827            1.38\n",
       "   y       \n",
       "7  1.310954\n",
       "8  1.323675\n",
       "9  1.323675\n",
       "10 1.323675\n",
       "11 1.332155\n",
       "12 1.344876\n",
       "13 1.370318\n",
       "14 1.365472\n",
       "15 1.373650\n",
       "16 1.381827"
      ]
     },
     "metadata": {},
     "output_type": "display_data"
    }
   ],
   "source": [
    "df3$x <- round(df3$x, 2)\n",
    "df3"
   ]
  },
  {
   "cell_type": "code",
   "execution_count": 29,
   "metadata": {},
   "outputs": [],
   "source": [
    "bs = seq(2010, 2019, by=2)"
   ]
  },
  {
   "cell_type": "code",
   "execution_count": 30,
   "metadata": {},
   "outputs": [
    {
     "data": {
      "image/png": "[encoded data removed]",
      "text/plain": [
       "plot without title"
      ]
     },
     "metadata": {},
     "output_type": "display_data"
    }
   ],
   "source": [
    "ggplot(data = df3) + \n",
    "geom_line(aes(x = Year, y =Vehicle.Casualties), color = 'gray', size = 1) +\n",
    "geom_line(aes(x = Year, y =Airline.Casualties), color = 'red', size = 1)  + \n",
    "geom_text(aes(x = Year, y = Vehicle.Casualties, label=x),size = 2, color = \"#eeeeee\", vjust = -1, parse=TRUE) + \n",
    "geom_text(aes(x = Year, y = Airline.Casualties, label=Airline.Casualties),size = 2, color = \"#eeeeee\", vjust = -1, parse=TRUE) + \n",
    "theme_minimal() +  \n",
    "scale_y_log10(labels = comma, limits = c(1,10000000)) + \n",
    "scale_x_continuous(name=\"\", breaks = bs) +\n",
    "theme(panel.grid.major = element_blank(), panel.grid.minor = element_blank(),\n",
    "panel.background = element_blank(), axis.line = element_line(colour = \"black\"))\n",
    "ggsave(width = 4, height = 4, dpi = 300, filename = \"squished axis.png\") "
   ]
  },
  {
   "cell_type": "code",
   "execution_count": 20,
   "metadata": {},
   "outputs": [
    {
     "data": {
      "text/html": [
       "<table>\n",
       "<thead><tr><th scope=col>colSums(df3, dims = 1)</th><th scope=col>names</th></tr></thead>\n",
       "<tbody>\n",
       "\t<tr><td>2.014500e+04      </td><td>Year              </td></tr>\n",
       "\t<tr><td>3.367000e+02      </td><td>Flights           </td></tr>\n",
       "\t<tr><td>8.089000e+03      </td><td>Airline.Casualties</td></tr>\n",
       "\t<tr><td>1.296000e+03      </td><td>Incidents         </td></tr>\n",
       "\t<tr><td>2.867000e+01      </td><td>Passengers        </td></tr>\n",
       "\t<tr><td>1.345028e+07      </td><td>Vehicle.Casualties</td></tr>\n",
       "\t<tr><td>1.340000e+01      </td><td>x                 </td></tr>\n",
       "\t<tr><td>1.345028e+01      </td><td>y                 </td></tr>\n",
       "</tbody>\n",
       "</table>\n"
      ],
      "text/latex": [
       "\\begin{tabular}{r|ll}\n",
       " colSums(df3, dims = 1) & names\\\\\n",
       "\\hline\n",
       "\t 2.014500e+04       & Year              \\\\\n",
       "\t 3.367000e+02       & Flights           \\\\\n",
       "\t 8.089000e+03       & Airline.Casualties\\\\\n",
       "\t 1.296000e+03       & Incidents         \\\\\n",
       "\t 2.867000e+01       & Passengers        \\\\\n",
       "\t 1.345028e+07       & Vehicle.Casualties\\\\\n",
       "\t 1.340000e+01       & x                 \\\\\n",
       "\t 1.345028e+01       & y                 \\\\\n",
       "\\end{tabular}\n"
      ],
      "text/markdown": [
       "\n",
       "| colSums(df3, dims = 1) | names |\n",
       "|---|---|\n",
       "| 2.014500e+04       | Year               |\n",
       "| 3.367000e+02       | Flights            |\n",
       "| 8.089000e+03       | Airline.Casualties |\n",
       "| 1.296000e+03       | Incidents          |\n",
       "| 2.867000e+01       | Passengers         |\n",
       "| 1.345028e+07       | Vehicle.Casualties |\n",
       "| 1.340000e+01       | x                  |\n",
       "| 1.345028e+01       | y                  |\n",
       "\n"
      ],
      "text/plain": [
       "  colSums(df3, dims = 1) names             \n",
       "1 2.014500e+04           Year              \n",
       "2 3.367000e+02           Flights           \n",
       "3 8.089000e+03           Airline.Casualties\n",
       "4 1.296000e+03           Incidents         \n",
       "5 2.867000e+01           Passengers        \n",
       "6 1.345028e+07           Vehicle.Casualties\n",
       "7 1.340000e+01           x                 \n",
       "8 1.345028e+01           y                 "
      ]
     },
     "metadata": {},
     "output_type": "display_data"
    }
   ],
   "source": [
    "df4 <- as.data.frame(colSums(df3, dims = 1))\n",
    "df4$names <- row.names(df4) \n",
    "row.names(df4) <- NULL\n",
    "df4"
   ]
  },
  {
   "cell_type": "code",
   "execution_count": 21,
   "metadata": {},
   "outputs": [
    {
     "data": {
      "text/html": [
       "<table>\n",
       "<thead><tr><th></th><th scope=col>Count</th><th scope=col>Type</th></tr></thead>\n",
       "<tbody>\n",
       "\t<tr><th scope=row>3</th><td>    8089          </td><td>Airline.Casualties</td></tr>\n",
       "\t<tr><th scope=row>6</th><td>13450278          </td><td>Vehicle.Casualties</td></tr>\n",
       "</tbody>\n",
       "</table>\n"
      ],
      "text/latex": [
       "\\begin{tabular}{r|ll}\n",
       "  & Count & Type\\\\\n",
       "\\hline\n",
       "\t3 &     8089           & Airline.Casualties\\\\\n",
       "\t6 & 13450278           & Vehicle.Casualties\\\\\n",
       "\\end{tabular}\n"
      ],
      "text/markdown": [
       "\n",
       "| <!--/--> | Count | Type |\n",
       "|---|---|---|\n",
       "| 3 |     8089           | Airline.Casualties |\n",
       "| 6 | 13450278           | Vehicle.Casualties |\n",
       "\n"
      ],
      "text/plain": [
       "  Count    Type              \n",
       "3     8089 Airline.Casualties\n",
       "6 13450278 Vehicle.Casualties"
      ]
     },
     "metadata": {},
     "output_type": "display_data"
    }
   ],
   "source": [
    "df4 = subset(df4, names %in% c('Vehicle.Casualties','Airline.Casualties'))\n",
    "names(df4) <- c('Count','Type')\n",
    "df4"
   ]
  },
  {
   "cell_type": "code",
   "execution_count": 22,
   "metadata": {},
   "outputs": [
    {
     "name": "stderr",
     "output_type": "stream",
     "text": [
      "Saving 6.67 x 6.67 in image\n"
     ]
    },
    {
     "data": {
      "image/png": "[encoded data removed]",
      "text/plain": [
       "plot without title"
      ]
     },
     "metadata": {},
     "output_type": "display_data"
    }
   ],
   "source": [
    "# Basic piechart\n",
    "ggplot(df4, aes(x=\"\", y=Count, fill=Type)) +\n",
    "  geom_bar(stat=\"identity\", width=1, fill = c('red','gray')) +\n",
    "  coord_polar(\"y\", start=1.5708) + \n",
    "theme(legend.position = \"bottom\") + ggsave(\"infograph2.png\")"
   ]
  },
  {
   "cell_type": "code",
   "execution_count": 23,
   "metadata": {},
   "outputs": [
    {
     "name": "stderr",
     "output_type": "stream",
     "text": [
      "Saving 6.67 x 6.67 in image\n"
     ]
    },
    {
     "data": {
      "image/png": "[encoded data removed]",
      "text/plain": [
       "plot without title"
      ]
     },
     "metadata": {},
     "output_type": "display_data"
    }
   ],
   "source": [
    "barPlot <- ggplot(data = df4, mapping = aes(x = 1, y = Count, fill = Type), fill = c('red','gray')) +\n",
    "geom_bar(position = 'fill', stat = 'identity', width = 100, fill = c('red','gray'))\n",
    "\n",
    "#change to coordinates to polar\n",
    "piePlot <- barPlot + \n",
    "  coord_polar(\"y\", start = 1.5) +\n",
    "  theme_void()+\n",
    "  theme(legend.position = 'top')\n",
    "piePlot + ggsave('infograph2.png')"
   ]
  },
  {
   "cell_type": "code",
   "execution_count": 24,
   "metadata": {},
   "outputs": [
    {
     "data": {
      "text/html": [
       "<table>\n",
       "<thead><tr><th></th><th scope=col>Count</th><th scope=col>Type</th></tr></thead>\n",
       "<tbody>\n",
       "\t<tr><th scope=row>3</th><td>    8089          </td><td>Airline.Casualties</td></tr>\n",
       "\t<tr><th scope=row>6</th><td>13450278          </td><td>Vehicle.Casualties</td></tr>\n",
       "</tbody>\n",
       "</table>\n"
      ],
      "text/latex": [
       "\\begin{tabular}{r|ll}\n",
       "  & Count & Type\\\\\n",
       "\\hline\n",
       "\t3 &     8089           & Airline.Casualties\\\\\n",
       "\t6 & 13450278           & Vehicle.Casualties\\\\\n",
       "\\end{tabular}\n"
      ],
      "text/markdown": [
       "\n",
       "| <!--/--> | Count | Type |\n",
       "|---|---|---|\n",
       "| 3 |     8089           | Airline.Casualties |\n",
       "| 6 | 13450278           | Vehicle.Casualties |\n",
       "\n"
      ],
      "text/plain": [
       "  Count    Type              \n",
       "3     8089 Airline.Casualties\n",
       "6 13450278 Vehicle.Casualties"
      ]
     },
     "metadata": {},
     "output_type": "display_data"
    }
   ],
   "source": [
    "df4"
   ]
  },
  {
   "cell_type": "code",
   "execution_count": 25,
   "metadata": {},
   "outputs": [
    {
     "data": {
      "image/png": "[encoded data removed]",
      "text/plain": [
       "plot without title"
      ]
     },
     "metadata": {},
     "output_type": "display_data"
    }
   ],
   "source": [
    "ggplot(df4, aes(x = 1, y = Count, fill = Type)) + \n",
    "  geom_col(position = \"stack\", orientation = \"x\") + \n",
    "  geom_text(aes(x = 1, y = Count, label = Count), col = \"white\") +\n",
    "  scale_fill_discrete(breaks = df4$Type) +\n",
    "  coord_polar(\"y\", start=1.5708, direction = -1) +  \n",
    "  theme_void()"
   ]
  },
  {
   "cell_type": "code",
   "execution_count": null,
   "metadata": {},
   "outputs": [],
   "source": []
  }
 ],
 "metadata": {
  "kernelspec": {
   "display_name": "R",
   "language": "R",
   "name": "ir"
  },
  "language_info": {
   "codemirror_mode": "r",
   "file_extension": ".r",
   "mimetype": "text/x-r-source",
   "name": "R",
   "pygments_lexer": "r",
   "version": "3.6.1"
  }
 },
 "nbformat": 4,
 "nbformat_minor": 4
}
