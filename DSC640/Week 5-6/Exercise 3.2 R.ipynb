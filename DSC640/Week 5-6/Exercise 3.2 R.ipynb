{
 "cells": [
  {
   "cell_type": "markdown",
   "metadata": {},
   "source": [
    "# Exercise 3.2: Tree Maps, Area Charts, and Stacked Area Charts: R\n",
    "Michael Hotaling"
   ]
  },
  {
   "cell_type": "code",
   "execution_count": 1,
   "metadata": {},
   "outputs": [
    {
     "name": "stderr",
     "output_type": "stream",
     "text": [
      "Warning message:\n",
      "\"package 'ggplot2' was built under R version 3.6.3\"Warning message:\n",
      "\"package 'treemapify' was built under R version 3.6.3\"Warning message:\n",
      "\"package 'formattable' was built under R version 3.6.3\""
     ]
    }
   ],
   "source": [
    "library(ggplot2)\n",
    "library(treemapify)\n",
    "library(formattable)"
   ]
  },
  {
   "cell_type": "markdown",
   "metadata": {},
   "source": [
    "# Tree map"
   ]
  },
  {
   "cell_type": "code",
   "execution_count": 2,
   "metadata": {},
   "outputs": [
    {
     "data": {
      "text/html": [
       "<table>\n",
       "<thead><tr><th scope=col>year</th><th scope=col>category</th><th scope=col>expenditure</th><th scope=col>sex</th></tr></thead>\n",
       "<tbody>\n",
       "\t<tr><td>2008               </td><td>Food               </td><td> 6443              </td><td>1                  </td></tr>\n",
       "\t<tr><td>2008               </td><td>Alcoholic Beverages</td><td>  444              </td><td>1                  </td></tr>\n",
       "\t<tr><td>2008               </td><td>Housing            </td><td>17109              </td><td>1                  </td></tr>\n",
       "\t<tr><td>2008               </td><td>Apparel            </td><td> 1801              </td><td>1                  </td></tr>\n",
       "\t<tr><td>2008               </td><td>Transportation     </td><td> 8604              </td><td>1                  </td></tr>\n",
       "\t<tr><td>2008               </td><td>Healthcare         </td><td> 2976              </td><td>1                  </td></tr>\n",
       "</tbody>\n",
       "</table>\n"
      ],
      "text/latex": [
       "\\begin{tabular}{r|llll}\n",
       " year & category & expenditure & sex\\\\\n",
       "\\hline\n",
       "\t 2008                & Food                &  6443               & 1                  \\\\\n",
       "\t 2008                & Alcoholic Beverages &   444               & 1                  \\\\\n",
       "\t 2008                & Housing             & 17109               & 1                  \\\\\n",
       "\t 2008                & Apparel             &  1801               & 1                  \\\\\n",
       "\t 2008                & Transportation      &  8604               & 1                  \\\\\n",
       "\t 2008                & Healthcare          &  2976               & 1                  \\\\\n",
       "\\end{tabular}\n"
      ],
      "text/markdown": [
       "\n",
       "| year | category | expenditure | sex |\n",
       "|---|---|---|---|\n",
       "| 2008                | Food                |  6443               | 1                   |\n",
       "| 2008                | Alcoholic Beverages |   444               | 1                   |\n",
       "| 2008                | Housing             | 17109               | 1                   |\n",
       "| 2008                | Apparel             |  1801               | 1                   |\n",
       "| 2008                | Transportation      |  8604               | 1                   |\n",
       "| 2008                | Healthcare          |  2976               | 1                   |\n",
       "\n"
      ],
      "text/plain": [
       "  year category            expenditure sex\n",
       "1 2008 Food                 6443       1  \n",
       "2 2008 Alcoholic Beverages   444       1  \n",
       "3 2008 Housing             17109       1  \n",
       "4 2008 Apparel              1801       1  \n",
       "5 2008 Transportation       8604       1  \n",
       "6 2008 Healthcare           2976       1  "
      ]
     },
     "metadata": {},
     "output_type": "display_data"
    }
   ],
   "source": [
    "df <- read.delim(\"expenditures.txt\")\n",
    "head(df)"
   ]
  },
  {
   "cell_type": "code",
   "execution_count": 3,
   "metadata": {},
   "outputs": [],
   "source": [
    "df$money <- currency(df$expenditure, digits = 0)\n",
    "\n",
    "df$labels <- paste0(df$category,\":\\n\",df$money, sep = \"\")"
   ]
  },
  {
   "cell_type": "code",
   "execution_count": 4,
   "metadata": {},
   "outputs": [
    {
     "data": {
      "image/png": "[encoded data removed]",
      "text/plain": [
       "plot without title"
      ]
     },
     "metadata": {},
     "output_type": "display_data"
    }
   ],
   "source": [
    "df <- subset(df, year == 2008)\n",
    "\n",
    "ggplot(data = df, aes(area = expenditure, \n",
    "                      label = labels, \n",
    "                      fill = category,\n",
    "                subgroup = labels)) +\n",
    "geom_treemap() +  \n",
    "geom_treemap_subgroup_text(place = \"topleft\", alpha = 1, colour = \"black\", size = 12) + \n",
    "ggtitle(\"Treemap for Annual Expendatures for 2008\") + \n",
    "theme(legend.position = \"none\")"
   ]
  },
  {
   "cell_type": "markdown",
   "metadata": {},
   "source": [
    "# Area Chart"
   ]
  },
  {
   "cell_type": "code",
   "execution_count": 5,
   "metadata": {},
   "outputs": [
    {
     "data": {
      "text/html": [
       "<table>\n",
       "<thead><tr><th scope=col>Series.id</th><th scope=col>Year</th><th scope=col>Period</th><th scope=col>Value</th></tr></thead>\n",
       "<tbody>\n",
       "\t<tr><td>LNS14000000</td><td>1948       </td><td>M01        </td><td>3.4        </td></tr>\n",
       "\t<tr><td>LNS14000000</td><td>1948       </td><td>M02        </td><td>3.8        </td></tr>\n",
       "\t<tr><td>LNS14000000</td><td>1948       </td><td>M03        </td><td>4.0        </td></tr>\n",
       "\t<tr><td>LNS14000000</td><td>1948       </td><td>M04        </td><td>3.9        </td></tr>\n",
       "\t<tr><td>LNS14000000</td><td>1948       </td><td>M05        </td><td>3.5        </td></tr>\n",
       "\t<tr><td>LNS14000000</td><td>1948       </td><td>M06        </td><td>3.6        </td></tr>\n",
       "</tbody>\n",
       "</table>\n"
      ],
      "text/latex": [
       "\\begin{tabular}{r|llll}\n",
       " Series.id & Year & Period & Value\\\\\n",
       "\\hline\n",
       "\t LNS14000000 & 1948        & M01         & 3.4        \\\\\n",
       "\t LNS14000000 & 1948        & M02         & 3.8        \\\\\n",
       "\t LNS14000000 & 1948        & M03         & 4.0        \\\\\n",
       "\t LNS14000000 & 1948        & M04         & 3.9        \\\\\n",
       "\t LNS14000000 & 1948        & M05         & 3.5        \\\\\n",
       "\t LNS14000000 & 1948        & M06         & 3.6        \\\\\n",
       "\\end{tabular}\n"
      ],
      "text/markdown": [
       "\n",
       "| Series.id | Year | Period | Value |\n",
       "|---|---|---|---|\n",
       "| LNS14000000 | 1948        | M01         | 3.4         |\n",
       "| LNS14000000 | 1948        | M02         | 3.8         |\n",
       "| LNS14000000 | 1948        | M03         | 4.0         |\n",
       "| LNS14000000 | 1948        | M04         | 3.9         |\n",
       "| LNS14000000 | 1948        | M05         | 3.5         |\n",
       "| LNS14000000 | 1948        | M06         | 3.6         |\n",
       "\n"
      ],
      "text/plain": [
       "  Series.id   Year Period Value\n",
       "1 LNS14000000 1948 M01    3.4  \n",
       "2 LNS14000000 1948 M02    3.8  \n",
       "3 LNS14000000 1948 M03    4.0  \n",
       "4 LNS14000000 1948 M04    3.9  \n",
       "5 LNS14000000 1948 M05    3.5  \n",
       "6 LNS14000000 1948 M06    3.6  "
      ]
     },
     "metadata": {},
     "output_type": "display_data"
    }
   ],
   "source": [
    "df <- read.csv(\"unemployement-rate-1948-2010.csv\")\n",
    "head(df)"
   ]
  },
  {
   "cell_type": "code",
   "execution_count": 6,
   "metadata": {},
   "outputs": [],
   "source": [
    "df$Period <- as.numeric(sub(\"M\", \"\", df$Period))\n",
    "df$Date <- df$Year + df$Period / 12\n",
    "df$Percentage <- df$Value / 100"
   ]
  },
  {
   "cell_type": "code",
   "execution_count": 7,
   "metadata": {},
   "outputs": [
    {
     "data": {
      "image/png": "[encoded data removed]",
      "text/plain": [
       "plot without title"
      ]
     },
     "metadata": {},
     "output_type": "display_data"
    }
   ],
   "source": [
    "ggplot(data = df, aes(x = Date, y = Percentage)) + \n",
    "geom_area(fill = \"cornflowerblue\") + \n",
    "theme_bw() + \n",
    "ggtitle(\"Unemployment Rates Between 1950 and 2010\") + \n",
    "scale_y_continuous(labels = scales::percent) +\n",
    "ylab(\"Percentage of Unemployeed\")  "
   ]
  },
  {
   "cell_type": "markdown",
   "metadata": {},
   "source": [
    "# Stacked Area Chart"
   ]
  },
  {
   "cell_type": "code",
   "execution_count": 8,
   "metadata": {},
   "outputs": [
    {
     "data": {
      "text/html": [
       "<table>\n",
       "<thead><tr><th scope=col>year</th><th scope=col>category</th><th scope=col>expenditure</th><th scope=col>sex</th></tr></thead>\n",
       "<tbody>\n",
       "\t<tr><td>2008               </td><td>Food               </td><td> 6443              </td><td>1                  </td></tr>\n",
       "\t<tr><td>2008               </td><td>Alcoholic Beverages</td><td>  444              </td><td>1                  </td></tr>\n",
       "\t<tr><td>2008               </td><td>Housing            </td><td>17109              </td><td>1                  </td></tr>\n",
       "\t<tr><td>2008               </td><td>Apparel            </td><td> 1801              </td><td>1                  </td></tr>\n",
       "\t<tr><td>2008               </td><td>Transportation     </td><td> 8604              </td><td>1                  </td></tr>\n",
       "\t<tr><td>2008               </td><td>Healthcare         </td><td> 2976              </td><td>1                  </td></tr>\n",
       "</tbody>\n",
       "</table>\n"
      ],
      "text/latex": [
       "\\begin{tabular}{r|llll}\n",
       " year & category & expenditure & sex\\\\\n",
       "\\hline\n",
       "\t 2008                & Food                &  6443               & 1                  \\\\\n",
       "\t 2008                & Alcoholic Beverages &   444               & 1                  \\\\\n",
       "\t 2008                & Housing             & 17109               & 1                  \\\\\n",
       "\t 2008                & Apparel             &  1801               & 1                  \\\\\n",
       "\t 2008                & Transportation      &  8604               & 1                  \\\\\n",
       "\t 2008                & Healthcare          &  2976               & 1                  \\\\\n",
       "\\end{tabular}\n"
      ],
      "text/markdown": [
       "\n",
       "| year | category | expenditure | sex |\n",
       "|---|---|---|---|\n",
       "| 2008                | Food                |  6443               | 1                   |\n",
       "| 2008                | Alcoholic Beverages |   444               | 1                   |\n",
       "| 2008                | Housing             | 17109               | 1                   |\n",
       "| 2008                | Apparel             |  1801               | 1                   |\n",
       "| 2008                | Transportation      |  8604               | 1                   |\n",
       "| 2008                | Healthcare          |  2976               | 1                   |\n",
       "\n"
      ],
      "text/plain": [
       "  year category            expenditure sex\n",
       "1 2008 Food                 6443       1  \n",
       "2 2008 Alcoholic Beverages   444       1  \n",
       "3 2008 Housing             17109       1  \n",
       "4 2008 Apparel              1801       1  \n",
       "5 2008 Transportation       8604       1  \n",
       "6 2008 Healthcare           2976       1  "
      ]
     },
     "metadata": {},
     "output_type": "display_data"
    }
   ],
   "source": [
    "df <- read.delim(\"expenditures.txt\")\n",
    "head(df)"
   ]
  },
  {
   "cell_type": "code",
   "execution_count": 9,
   "metadata": {},
   "outputs": [
    {
     "data": {
      "image/png": "[encoded data removed]",
      "text/plain": [
       "plot without title"
      ]
     },
     "metadata": {},
     "output_type": "display_data"
    }
   ],
   "source": [
    "ggplot(data = df, aes(x=year, y=expenditure, fill=category)) + \n",
    "geom_area() + \n",
    "scale_y_continuous(labels=scales::dollar_format()) + \n",
    "ggtitle(\"Yearly Expendatures\") + \n",
    "theme_bw()"
   ]
  }
 ],
 "metadata": {
  "kernelspec": {
   "display_name": "R",
   "language": "R",
   "name": "ir"
  },
  "language_info": {
   "codemirror_mode": "r",
   "file_extension": ".r",
   "mimetype": "text/x-r-source",
   "name": "R",
   "pygments_lexer": "r",
   "version": "3.6.1"
  }
 },
 "nbformat": 4,
 "nbformat_minor": 4
}
